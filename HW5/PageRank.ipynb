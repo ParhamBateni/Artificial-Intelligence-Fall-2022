{
  "cells": [
    {
      "cell_type": "markdown",
      "metadata": {
        "id": "eMGfdvZRYg9f"
      },
      "source": [
        "# PageRank"
      ]
    },
    {
      "cell_type": "markdown",
      "metadata": {
        "id": "gz8FFeyE6IIz"
      },
      "source": [
        "In this problem, you have to implement PageRank algorithm to rank papers based on their references.\n",
        "\n",
        "PageRank is a link analysis algorithm and it assigns a numerical weighting to each element of a hyperlinked set of documents, such as the World Wide Web, with the purpose of \"measuring\" its relative importance within the set. The algorithm may be applied to any collection of entities with reciprocal quotations and references.\n",
        "\n",
        "It's recommended to have a look at the following sources to get more familiar with PageRank:\n",
        "\n",
        "[https://en.wikipedia.org/wiki/PageRank](https://en.wikipedia.org/wiki/PageRank)\n",
        "\n",
        "[https://towardsdatascience.com/pagerank-3c568a7d2332](https://towardsdatascience.com/pagerank-3c568a7d2332)"
      ]
    },
    {
      "cell_type": "markdown",
      "metadata": {
        "id": "-j32vnqGNDO5"
      },
      "source": [
        "## Dataset\n",
        "You are given a number of papers in Computer Science field, which are crawled from [Semantic Scholar](https://www.semanticscholar.org/). Each paper has Id, title, references, etc. You can download the dataset from here. For your convenience, we have considered only a limited number of references for each paper.\n",
        "\n",
        "\n",
        "## Hint\n",
        "Each paper is a node in the graph. Paper A links to paper B if and only if B is in A's references. (Similary, we have a directed edge from A to B.) Note that some papers may not have any input or output edge. Don't forget to consider such papers as well."
      ]
    },
    {
      "cell_type": "markdown",
      "metadata": {
        "id": "IEs9pGCHJQA6"
      },
      "source": [
        "### Using libraries such as networkx is not allowed (Except in the last part). You have to implement PageRank from scratch. Feel free to add cells when needed.   \n"
      ]
    },
    {
      "cell_type": "markdown",
      "metadata": {
        "id": "tf5SdqpAYziE"
      },
      "source": [
        "## Download data, import dependencies"
      ]
    },
    {
      "cell_type": "code",
      "execution_count": 1,
      "metadata": {
        "colab": {
          "base_uri": "https://localhost:8080/"
        },
        "id": "PZ4d-h2g-Gja",
        "outputId": "a2744e3e-8419-4efb-9477-db3377d745ee"
      },
      "outputs": [
        {
          "output_type": "stream",
          "name": "stdout",
          "text": [
            "/content/resources\n",
            "Downloading...\n",
            "From: https://drive.google.com/uc?id=1C9l4uWzABZomkZQdAMxETz-b12PcOzBv\n",
            "To: /content/resources/clean_data.json\n",
            "100% 23.3M/23.3M [00:00<00:00, 171MB/s]\n",
            "/content\n"
          ]
        }
      ],
      "source": [
        "# Download resources https://drive.google.com/drive/folders/1GvUc06eKX2Knf3JP5RCvIJjUkIjE2fTu?usp=share_link\n",
        "!mkdir -p resources\n",
        "%cd ./resources\n",
        "!gdown 1C9l4uWzABZomkZQdAMxETz-b12PcOzBv # clean_data.json\n",
        "%cd .."
      ]
    },
    {
      "cell_type": "code",
      "execution_count": 1,
      "metadata": {
        "id": "kGkDDycU_HKd"
      },
      "outputs": [],
      "source": [
        "import pandas as pd\n",
        "from tqdm import tqdm\n",
        "import numpy as np\n",
        "import json\n",
        "import networkx as nx\n",
        "import requests\n",
        "from time import sleep\n",
        "tqdm.pandas()"
      ]
    },
    {
      "cell_type": "code",
      "execution_count": 2,
      "metadata": {
        "id": "e4fpBFAg_K3j",
        "colab": {
          "base_uri": "https://localhost:8080/",
          "height": 652
        },
        "outputId": "7b477cca-a25d-43bf-bf81-fb53dcdc14c9"
      },
      "outputs": [
        {
          "output_type": "stream",
          "name": "stdout",
          "text": [
            "(7136, 8)\n"
          ]
        },
        {
          "output_type": "execute_result",
          "data": {
            "text/plain": [
              "                                    paperId  \\\n",
              "0  63d8426ba1f51a8525dd19fd8ec92934ec71aea5   \n",
              "1  33ec7eb2168e37e3007d1059aa96b9a63254b4da   \n",
              "2  642038c7a49caa9f0ac5b37b01fab5b2b8d981d5   \n",
              "3  58ed1fbaabe027345f7bb3a6312d41c5aac63e22   \n",
              "4  d47a682723f710395454687319bb55635e653105   \n",
              "\n",
              "                                               title  \\\n",
              "0   A Survey of Data Augmentation Approaches for NLP   \n",
              "1  Beyond Accuracy: Behavioral Testing of NLP Mod...   \n",
              "2  ERASER: A Benchmark to Evaluate Rationalized N...   \n",
              "3  Retrieval-Augmented Generation for Knowledge-I...   \n",
              "4  Language (Technology) is Power: A Critical Sur...   \n",
              "\n",
              "                                            abstract  year  referenceCount  \\\n",
              "0  Data augmentation has recently seen increased ...  2021             196   \n",
              "1  Although measuring held-out accuracy has been ...  2020              33   \n",
              "2  State-of-the-art models in NLP are now predomi...  2019              75   \n",
              "3  Large pre-trained language models have been sh...  2020              71   \n",
              "4  We survey 146 papers analyzing “bias” in NLP s...  2020             238   \n",
              "\n",
              "   citationCount                                            authors  \\\n",
              "0            117  [{'authorId': '152913678', 'name': 'Steven Y. ...   \n",
              "1            386  [{'authorId': '78846919', 'name': 'Marco Tulio...   \n",
              "2            217  [{'authorId': '48727916', 'name': 'Jay DeYoung...   \n",
              "3            339  [{'authorId': '145222654', 'name': 'Patrick Le...   \n",
              "4            324  [{'authorId': '3422038', 'name': 'Su Lin Blodg...   \n",
              "\n",
              "                                        k_references  \n",
              "0  [{'paperId': '00ea88920eca898909bd8dd455df25ec...  \n",
              "1  [{'paperId': '05dd7254b632376973f3a1b4d39485da...  \n",
              "2  [{'paperId': '0754982927fa07a6689fb0f2cbeb8e3d...  \n",
              "3  [{'paperId': '016368185723d0ec99aafa4b59273005...  \n",
              "4  [{'paperId': '00059087c954c1af6ece33115315e3e0...  "
            ],
            "text/html": [
              "\n",
              "  <div id=\"df-53924b2b-30a7-4f06-a080-f4b5d74a2668\">\n",
              "    <div class=\"colab-df-container\">\n",
              "      <div>\n",
              "<style scoped>\n",
              "    .dataframe tbody tr th:only-of-type {\n",
              "        vertical-align: middle;\n",
              "    }\n",
              "\n",
              "    .dataframe tbody tr th {\n",
              "        vertical-align: top;\n",
              "    }\n",
              "\n",
              "    .dataframe thead th {\n",
              "        text-align: right;\n",
              "    }\n",
              "</style>\n",
              "<table border=\"1\" class=\"dataframe\">\n",
              "  <thead>\n",
              "    <tr style=\"text-align: right;\">\n",
              "      <th></th>\n",
              "      <th>paperId</th>\n",
              "      <th>title</th>\n",
              "      <th>abstract</th>\n",
              "      <th>year</th>\n",
              "      <th>referenceCount</th>\n",
              "      <th>citationCount</th>\n",
              "      <th>authors</th>\n",
              "      <th>k_references</th>\n",
              "    </tr>\n",
              "  </thead>\n",
              "  <tbody>\n",
              "    <tr>\n",
              "      <th>0</th>\n",
              "      <td>63d8426ba1f51a8525dd19fd8ec92934ec71aea5</td>\n",
              "      <td>A Survey of Data Augmentation Approaches for NLP</td>\n",
              "      <td>Data augmentation has recently seen increased ...</td>\n",
              "      <td>2021</td>\n",
              "      <td>196</td>\n",
              "      <td>117</td>\n",
              "      <td>[{'authorId': '152913678', 'name': 'Steven Y. ...</td>\n",
              "      <td>[{'paperId': '00ea88920eca898909bd8dd455df25ec...</td>\n",
              "    </tr>\n",
              "    <tr>\n",
              "      <th>1</th>\n",
              "      <td>33ec7eb2168e37e3007d1059aa96b9a63254b4da</td>\n",
              "      <td>Beyond Accuracy: Behavioral Testing of NLP Mod...</td>\n",
              "      <td>Although measuring held-out accuracy has been ...</td>\n",
              "      <td>2020</td>\n",
              "      <td>33</td>\n",
              "      <td>386</td>\n",
              "      <td>[{'authorId': '78846919', 'name': 'Marco Tulio...</td>\n",
              "      <td>[{'paperId': '05dd7254b632376973f3a1b4d39485da...</td>\n",
              "    </tr>\n",
              "    <tr>\n",
              "      <th>2</th>\n",
              "      <td>642038c7a49caa9f0ac5b37b01fab5b2b8d981d5</td>\n",
              "      <td>ERASER: A Benchmark to Evaluate Rationalized N...</td>\n",
              "      <td>State-of-the-art models in NLP are now predomi...</td>\n",
              "      <td>2019</td>\n",
              "      <td>75</td>\n",
              "      <td>217</td>\n",
              "      <td>[{'authorId': '48727916', 'name': 'Jay DeYoung...</td>\n",
              "      <td>[{'paperId': '0754982927fa07a6689fb0f2cbeb8e3d...</td>\n",
              "    </tr>\n",
              "    <tr>\n",
              "      <th>3</th>\n",
              "      <td>58ed1fbaabe027345f7bb3a6312d41c5aac63e22</td>\n",
              "      <td>Retrieval-Augmented Generation for Knowledge-I...</td>\n",
              "      <td>Large pre-trained language models have been sh...</td>\n",
              "      <td>2020</td>\n",
              "      <td>71</td>\n",
              "      <td>339</td>\n",
              "      <td>[{'authorId': '145222654', 'name': 'Patrick Le...</td>\n",
              "      <td>[{'paperId': '016368185723d0ec99aafa4b59273005...</td>\n",
              "    </tr>\n",
              "    <tr>\n",
              "      <th>4</th>\n",
              "      <td>d47a682723f710395454687319bb55635e653105</td>\n",
              "      <td>Language (Technology) is Power: A Critical Sur...</td>\n",
              "      <td>We survey 146 papers analyzing “bias” in NLP s...</td>\n",
              "      <td>2020</td>\n",
              "      <td>238</td>\n",
              "      <td>324</td>\n",
              "      <td>[{'authorId': '3422038', 'name': 'Su Lin Blodg...</td>\n",
              "      <td>[{'paperId': '00059087c954c1af6ece33115315e3e0...</td>\n",
              "    </tr>\n",
              "  </tbody>\n",
              "</table>\n",
              "</div>\n",
              "      <button class=\"colab-df-convert\" onclick=\"convertToInteractive('df-53924b2b-30a7-4f06-a080-f4b5d74a2668')\"\n",
              "              title=\"Convert this dataframe to an interactive table.\"\n",
              "              style=\"display:none;\">\n",
              "        \n",
              "  <svg xmlns=\"http://www.w3.org/2000/svg\" height=\"24px\"viewBox=\"0 0 24 24\"\n",
              "       width=\"24px\">\n",
              "    <path d=\"M0 0h24v24H0V0z\" fill=\"none\"/>\n",
              "    <path d=\"M18.56 5.44l.94 2.06.94-2.06 2.06-.94-2.06-.94-.94-2.06-.94 2.06-2.06.94zm-11 1L8.5 8.5l.94-2.06 2.06-.94-2.06-.94L8.5 2.5l-.94 2.06-2.06.94zm10 10l.94 2.06.94-2.06 2.06-.94-2.06-.94-.94-2.06-.94 2.06-2.06.94z\"/><path d=\"M17.41 7.96l-1.37-1.37c-.4-.4-.92-.59-1.43-.59-.52 0-1.04.2-1.43.59L10.3 9.45l-7.72 7.72c-.78.78-.78 2.05 0 2.83L4 21.41c.39.39.9.59 1.41.59.51 0 1.02-.2 1.41-.59l7.78-7.78 2.81-2.81c.8-.78.8-2.07 0-2.86zM5.41 20L4 18.59l7.72-7.72 1.47 1.35L5.41 20z\"/>\n",
              "  </svg>\n",
              "      </button>\n",
              "      \n",
              "  <style>\n",
              "    .colab-df-container {\n",
              "      display:flex;\n",
              "      flex-wrap:wrap;\n",
              "      gap: 12px;\n",
              "    }\n",
              "\n",
              "    .colab-df-convert {\n",
              "      background-color: #E8F0FE;\n",
              "      border: none;\n",
              "      border-radius: 50%;\n",
              "      cursor: pointer;\n",
              "      display: none;\n",
              "      fill: #1967D2;\n",
              "      height: 32px;\n",
              "      padding: 0 0 0 0;\n",
              "      width: 32px;\n",
              "    }\n",
              "\n",
              "    .colab-df-convert:hover {\n",
              "      background-color: #E2EBFA;\n",
              "      box-shadow: 0px 1px 2px rgba(60, 64, 67, 0.3), 0px 1px 3px 1px rgba(60, 64, 67, 0.15);\n",
              "      fill: #174EA6;\n",
              "    }\n",
              "\n",
              "    [theme=dark] .colab-df-convert {\n",
              "      background-color: #3B4455;\n",
              "      fill: #D2E3FC;\n",
              "    }\n",
              "\n",
              "    [theme=dark] .colab-df-convert:hover {\n",
              "      background-color: #434B5C;\n",
              "      box-shadow: 0px 1px 3px 1px rgba(0, 0, 0, 0.15);\n",
              "      filter: drop-shadow(0px 1px 2px rgba(0, 0, 0, 0.3));\n",
              "      fill: #FFFFFF;\n",
              "    }\n",
              "  </style>\n",
              "\n",
              "      <script>\n",
              "        const buttonEl =\n",
              "          document.querySelector('#df-53924b2b-30a7-4f06-a080-f4b5d74a2668 button.colab-df-convert');\n",
              "        buttonEl.style.display =\n",
              "          google.colab.kernel.accessAllowed ? 'block' : 'none';\n",
              "\n",
              "        async function convertToInteractive(key) {\n",
              "          const element = document.querySelector('#df-53924b2b-30a7-4f06-a080-f4b5d74a2668');\n",
              "          const dataTable =\n",
              "            await google.colab.kernel.invokeFunction('convertToInteractive',\n",
              "                                                     [key], {});\n",
              "          if (!dataTable) return;\n",
              "\n",
              "          const docLinkHtml = 'Like what you see? Visit the ' +\n",
              "            '<a target=\"_blank\" href=https://colab.research.google.com/notebooks/data_table.ipynb>data table notebook</a>'\n",
              "            + ' to learn more about interactive tables.';\n",
              "          element.innerHTML = '';\n",
              "          dataTable['output_type'] = 'display_data';\n",
              "          await google.colab.output.renderOutput(dataTable, element);\n",
              "          const docLink = document.createElement('div');\n",
              "          docLink.innerHTML = docLinkHtml;\n",
              "          element.appendChild(docLink);\n",
              "        }\n",
              "      </script>\n",
              "    </div>\n",
              "  </div>\n",
              "  "
            ]
          },
          "metadata": {},
          "execution_count": 2
        }
      ],
      "source": [
        "df = pd.read_json('resources/clean_data.json')\n",
        "print(df.shape)\n",
        "df.head()"
      ]
    },
    {
      "cell_type": "markdown",
      "metadata": {
        "id": "mZlxfrUWbnpj"
      },
      "source": [
        "## PageRank\n",
        "Implement PageRank from scratch!\n",
        "\n",
        "\n",
        "*   Don't forget to consider the damping factor in your implementation.\n",
        "*   Report number of nodes and number of edges of the constructed graph.\n",
        "*   Identify the node with maximum number of input edges. Which paper corresponds to this node?\n",
        "*   Report 10 most importatnt papers with PageRank.\n",
        "\n",
        "See the most important paper according to PageRank. Recall that papers are in CS and NLP topics. What is your opinion about this paper? :)\n",
        "\n"
      ]
    },
    {
      "cell_type": "code",
      "execution_count": 3,
      "metadata": {
        "id": "3PUWwVyuKNy5"
      },
      "outputs": [],
      "source": [
        "class Node:\n",
        "  def __init__(self,paper_id,children=set(),parents=set()):\n",
        "    self.paper_id=paper_id\n",
        "    self.children=children\n",
        "    self.parents=parents\n",
        "    self.ranking=1\n",
        "  def __repr__(self):\n",
        "    return f'PaperId: {self.paper_id}/Ranking: {self.ranking}/Out degree: {len(self.children)}/In degree: {len(self.parents)}'\n",
        "  def __gt__(self,other):\n",
        "    return self.ranking>other.ranking\n",
        "\n",
        "  def add_children(self,children:list):\n",
        "    self.children=self.children.union(set(children))\n",
        "  def add_parent(self,parent):\n",
        "    self.parents=self.parents.union(set([parent]))\n",
        "\n",
        "class PageRank:\n",
        "  def __init__(self,graph:list,damping_factor=0.1,num_iterations=1000):\n",
        "    self.graph=graph\n",
        "    self.damping_factor=damping_factor\n",
        "    self.num_iterations=num_iterations\n",
        "  def process(self):\n",
        "    for _ in tqdm(range(self.num_iterations)):\n",
        "      for node in self.graph:\n",
        "        #update the node rank\n",
        "        random_walk=self.damping_factor/len(self.graph)\n",
        "        new_ranking=random_walk+(1-self.damping_factor)*sum(parent.ranking/len(parent.children) for parent in node.parents)\n",
        "        node.ranking=new_ranking\n",
        "    "
      ]
    },
    {
      "cell_type": "code",
      "source": [
        "def construct_graph(df:pd.DataFrame):\n",
        "  '''\n",
        "  Construct the graph which is a list of nodes each node having\n",
        "  a set of children and parents\n",
        "  '''\n",
        "  nodes_created=dict()\n",
        "  for i,row in df.iterrows():\n",
        "    paper_id=row['paperId']\n",
        "    reference_ids=[paper['paperId'] for paper in row['k_references']]\n",
        "    reference_nodes=[]\n",
        "    for reference_id in reference_ids:\n",
        "      if nodes_created.get(reference_id) is None:\n",
        "        reference_node=Node(reference_id)\n",
        "        nodes_created[reference_id]=reference_node\n",
        "      else:\n",
        "        reference_node=nodes_created[reference_id]\n",
        "      reference_nodes.append(reference_node)\n",
        "    if nodes_created.get(paper_id) is None:\n",
        "      paper_node=Node(paper_id,reference_nodes)\n",
        "      nodes_created[paper_id]=paper_node\n",
        "    else:\n",
        "      paper_node=nodes_created[paper_id]\n",
        "      paper_node.add_children(reference_nodes)\n",
        "    for reference_node in reference_nodes:\n",
        "      reference_node.add_parent(paper_node)\n",
        "  return list(nodes_created.values())\n",
        "\n",
        "\n",
        "graph=construct_graph(df)\n",
        "print(f'Number of nodes: {len(graph)}, Number of edges: {sum(len(node.parents)+len(node.children) for node in graph)//2}')\n",
        "print(f'Node with maximum number of input edges: {sorted(graph,key=lambda x:len(x.parents),reverse=True)[0].paper_id}')"
      ],
      "metadata": {
        "colab": {
          "base_uri": "https://localhost:8080/"
        },
        "id": "2yz65QrbpUH3",
        "outputId": "cfbb53ce-8ab1-4229-dbe3-f408cfc09aa6"
      },
      "execution_count": 4,
      "outputs": [
        {
          "output_type": "stream",
          "name": "stdout",
          "text": [
            "Number of nodes: 40203, Number of edges: 62513\n",
            "Node with maximum number of input edges: 204e3073870fae3d05bcbc2f6a8e263d9b72e776\n"
          ]
        }
      ]
    },
    {
      "cell_type": "code",
      "execution_count": 5,
      "metadata": {
        "id": "QglY6mhHUjG4",
        "colab": {
          "base_uri": "https://localhost:8080/"
        },
        "outputId": "93a5c68c-0d31-43ae-c0bb-27747107ffd7"
      },
      "outputs": [
        {
          "output_type": "stream",
          "name": "stderr",
          "text": [
            "100%|██████████| 600/600 [00:48<00:00, 12.47it/s]\n"
          ]
        },
        {
          "output_type": "stream",
          "name": "stdout",
          "text": [
            "Ten most important papers are: 204e3073870fae3d05bcbc2f6a8e263d9b72e776, 0b44fcbeea9415d400c5f5789d6b892b6f98daff, 05dd7254b632376973f3a1b4d39485da17814df5, 0b544dfe355a5070b60986319a3f51fb45d1348e, 077f8329a7b6fa3b7c877a57b81eb6c18b5f87de, 44d2abe2175df8153f465f6c39b68b76a0d40ab9, 1af68821518f03568f913ab03fc02080247a27ff, 330da625c15427c6e42ccfa3b747fb29e5835bf0, 2c03df8b48bf3fa39054345bafabfeff15bfd11d, 084c55d6432265785e3ff86a2e900a49d501c00a\n"
          ]
        }
      ],
      "source": [
        "page_rank=PageRank(graph=graph,damping_factor=0.13,num_iterations=600)\n",
        "page_rank.process()\n",
        "ten_best_nodes=sorted(graph,reverse=True)[:10]\n",
        "print('Ten most important papers are: '+', '.join([f'{n.paper_id}' for n in ten_best_nodes]))"
      ]
    },
    {
      "cell_type": "code",
      "source": [
        "best_paper=ten_best_nodes[0]\n",
        "print(best_paper)\n",
        "paper=request_papers_by_id([best_paper.paper_id])\n",
        "print(paper)"
      ],
      "metadata": {
        "colab": {
          "base_uri": "https://localhost:8080/"
        },
        "id": "elxNbzy0Aqlt",
        "outputId": "2263769a-d40c-4dc2-9d40-79ca3078156d"
      },
      "execution_count": 8,
      "outputs": [
        {
          "output_type": "stream",
          "name": "stdout",
          "text": [
            "PaperId: 204e3073870fae3d05bcbc2f6a8e263d9b72e776/Ranking: 0.00016839735169589895/Out degree: 0/In degree: 517\n"
          ]
        },
        {
          "output_type": "stream",
          "name": "stderr",
          "text": [
            "100%|██████████| 1/1 [00:00<00:00,  2.32it/s]"
          ]
        },
        {
          "output_type": "stream",
          "name": "stdout",
          "text": [
            "[{'paperId': '204e3073870fae3d05bcbc2f6a8e263d9b72e776', 'url': 'https://www.semanticscholar.org/paper/204e3073870fae3d05bcbc2f6a8e263d9b72e776', 'title': 'Attention is All you Need', 'year': 2017, 'referenceCount': 39, 'citationCount': 48352, 'fieldsOfStudy': ['Computer Science']}]\n"
          ]
        },
        {
          "output_type": "stream",
          "name": "stderr",
          "text": [
            "\n"
          ]
        }
      ]
    },
    {
      "cell_type": "markdown",
      "source": [
        "As you can see in the previous cell the most important paper title is 'Attention is All you Need', and according to the semantic scholar it is a paper about Attention in CNNs and RNNs and it has about 48000 citations and is considered as a highly influential paper."
      ],
      "metadata": {
        "id": "6jEzeYTqBrIQ"
      }
    },
    {
      "cell_type": "markdown",
      "metadata": {
        "id": "hOzjDmKwY9t_"
      },
      "source": [
        "## Networkx\n",
        "Implement PageRank with networkx. Report previous items and compare the results with your implementation. Explain if there is any differrence."
      ]
    },
    {
      "cell_type": "code",
      "execution_count": 20,
      "metadata": {
        "id": "guQRmmQq_YBs"
      },
      "outputs": [],
      "source": [
        "G=nx.DiGraph()\n",
        "G.add_nodes_from(graph)\n",
        "G.add_edges_from([(node,child) for node in graph for child in node.children])\n",
        "pr=nx.pagerank(G,alpha=0.9)\n",
        "networkx_ten_best_nodes=sorted(pr,reverse=True)[:10]"
      ]
    },
    {
      "cell_type": "code",
      "source": [
        "networkx_ten_best_nodes"
      ],
      "metadata": {
        "colab": {
          "base_uri": "https://localhost:8080/"
        },
        "id": "OzZKUvgNF_Yd",
        "outputId": "afb86370-bf31-4755-c81f-0e3d0354320a"
      },
      "execution_count": 22,
      "outputs": [
        {
          "output_type": "execute_result",
          "data": {
            "text/plain": [
              "[PaperId: 204e3073870fae3d05bcbc2f6a8e263d9b72e776/Ranking: 0.00016839735169589895/Out degree: 0/In degree: 517,\n",
              " PaperId: 0b44fcbeea9415d400c5f5789d6b892b6f98daff/Ranking: 0.00010580223044356603/Out degree: 0/In degree: 280,\n",
              " PaperId: 05dd7254b632376973f3a1b4d39485da17814df5/Ranking: 7.792638415085937e-05/Out degree: 0/In degree: 189,\n",
              " PaperId: 0b544dfe355a5070b60986319a3f51fb45d1348e/Ranking: 7.4846280250507e-05/Out degree: 0/In degree: 208,\n",
              " PaperId: 077f8329a7b6fa3b7c877a57b81eb6c18b5f87de/Ranking: 7.461711382053592e-05/Out degree: 10/In degree: 227,\n",
              " PaperId: 44d2abe2175df8153f465f6c39b68b76a0d40ab9/Ranking: 7.373847841100491e-05/Out degree: 0/In degree: 203,\n",
              " PaperId: 1af68821518f03568f913ab03fc02080247a27ff/Ranking: 6.321675778194444e-05/Out degree: 0/In degree: 170,\n",
              " PaperId: 330da625c15427c6e42ccfa3b747fb29e5835bf0/Ranking: 5.99324510764591e-05/Out degree: 0/In degree: 176,\n",
              " PaperId: 2c03df8b48bf3fa39054345bafabfeff15bfd11d/Ranking: 5.09040631406416e-05/Out degree: 0/In degree: 149,\n",
              " PaperId: 084c55d6432265785e3ff86a2e900a49d501c00a/Ranking: 4.88265659432433e-05/Out degree: 10/In degree: 132]"
            ]
          },
          "metadata": {},
          "execution_count": 22
        }
      ]
    },
    {
      "cell_type": "code",
      "source": [
        "ten_best_nodes"
      ],
      "metadata": {
        "colab": {
          "base_uri": "https://localhost:8080/"
        },
        "id": "nHZf4RWVGjeI",
        "outputId": "885fab00-82c6-496b-ff25-e3e838120e50"
      },
      "execution_count": 21,
      "outputs": [
        {
          "output_type": "execute_result",
          "data": {
            "text/plain": [
              "[PaperId: 204e3073870fae3d05bcbc2f6a8e263d9b72e776/Ranking: 0.00016839735169589895/Out degree: 0/In degree: 517,\n",
              " PaperId: 0b44fcbeea9415d400c5f5789d6b892b6f98daff/Ranking: 0.00010580223044356603/Out degree: 0/In degree: 280,\n",
              " PaperId: 05dd7254b632376973f3a1b4d39485da17814df5/Ranking: 7.792638415085937e-05/Out degree: 0/In degree: 189,\n",
              " PaperId: 0b544dfe355a5070b60986319a3f51fb45d1348e/Ranking: 7.4846280250507e-05/Out degree: 0/In degree: 208,\n",
              " PaperId: 077f8329a7b6fa3b7c877a57b81eb6c18b5f87de/Ranking: 7.461711382053592e-05/Out degree: 10/In degree: 227,\n",
              " PaperId: 44d2abe2175df8153f465f6c39b68b76a0d40ab9/Ranking: 7.373847841100491e-05/Out degree: 0/In degree: 203,\n",
              " PaperId: 1af68821518f03568f913ab03fc02080247a27ff/Ranking: 6.321675778194444e-05/Out degree: 0/In degree: 170,\n",
              " PaperId: 330da625c15427c6e42ccfa3b747fb29e5835bf0/Ranking: 5.99324510764591e-05/Out degree: 0/In degree: 176,\n",
              " PaperId: 2c03df8b48bf3fa39054345bafabfeff15bfd11d/Ranking: 5.09040631406416e-05/Out degree: 0/In degree: 149,\n",
              " PaperId: 084c55d6432265785e3ff86a2e900a49d501c00a/Ranking: 4.88265659432433e-05/Out degree: 10/In degree: 132]"
            ]
          },
          "metadata": {},
          "execution_count": 21
        }
      ]
    },
    {
      "cell_type": "markdown",
      "source": [
        "As you can see in the previous cells, our implementation of PageRank gives us the same results as the networkx ready pagerank function for the best 10 ranking pages."
      ],
      "metadata": {
        "id": "txbN8hL7G7U6"
      }
    },
    {
      "cell_type": "markdown",
      "metadata": {
        "id": "XznkSRSZKmKj"
      },
      "source": [
        "## Utils\n",
        "Below is the main function we used to get the papers, in case you were wondering. You may want to use it to get more information about the papers."
      ]
    },
    {
      "cell_type": "code",
      "execution_count": 7,
      "metadata": {
        "id": "qPqt6tyDKn1O"
      },
      "outputs": [],
      "source": [
        "# fields are separated by \",\". For more information see https://api.semanticscholar.org/api-docs/graph\n",
        "def request_papers_by_id(IDs, fields='title,url,year,fieldsOfStudy,citationCount,referenceCount'):\n",
        "    papers = []\n",
        "    for id in tqdm(IDs):\n",
        "        response = requests.get(f'https://api.semanticscholar.org/graph/v1/paper/{id}?fields={fields}')\n",
        "        js = response.json()\n",
        "        papers.append(js)\n",
        "        # sleep(3.1)\n",
        "    return papers"
      ]
    }
  ],
  "metadata": {
    "colab": {
      "provenance": []
    },
    "kernelspec": {
      "display_name": "Python 3 (ipykernel)",
      "language": "python",
      "name": "python3"
    },
    "language_info": {
      "codemirror_mode": {
        "name": "ipython",
        "version": 3
      },
      "file_extension": ".py",
      "mimetype": "text/x-python",
      "name": "python",
      "nbconvert_exporter": "python",
      "pygments_lexer": "ipython3",
      "version": "3.11.1"
    }
  },
  "nbformat": 4,
  "nbformat_minor": 0
}