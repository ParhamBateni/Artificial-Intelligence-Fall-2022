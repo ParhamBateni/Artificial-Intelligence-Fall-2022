{
 "cells": [
  {
   "cell_type": "markdown",
   "metadata": {
    "id": "eMGfdvZRYg9f"
   },
   "source": [
    "# PageRank"
   ]
  },
  {
   "cell_type": "markdown",
   "metadata": {
    "id": "gz8FFeyE6IIz"
   },
   "source": [
    "In this problem, you have to implement PageRank algorithm to rank papers based on their references.\n",
    "\n",
    "PageRank is a link analysis algorithm and it assigns a numerical weighting to each element of a hyperlinked set of documents, such as the World Wide Web, with the purpose of \"measuring\" its relative importance within the set. The algorithm may be applied to any collection of entities with reciprocal quotations and references.\n",
    "\n",
    "It's recommended to have a look at the following sources to get more familiar with PageRank:\n",
    "\n",
    "[https://en.wikipedia.org/wiki/PageRank](https://en.wikipedia.org/wiki/PageRank)\n",
    "\n",
    "[https://towardsdatascience.com/pagerank-3c568a7d2332](https://towardsdatascience.com/pagerank-3c568a7d2332)"
   ]
  },
  {
   "cell_type": "markdown",
   "metadata": {
    "id": "-j32vnqGNDO5"
   },
   "source": [
    "## Dataset\n",
    "You are given a number of papers in Computer Science field, which are crawled from [Semantic Scholar](https://www.semanticscholar.org/). Each paper has Id, title, references, etc. You can download the dataset from here. For your convenience, we have considered only a limited number of references for each paper.\n",
    "\n",
    "\n",
    "## Hint\n",
    "Each paper is a node in the graph. Paper A links to paper B if and only if B is in A's references. (Similary, we have a directed edge from A to B.) Note that some papers may not have any input or output edge. Don't forget to consider such papers as well."
   ]
  },
  {
   "cell_type": "markdown",
   "metadata": {
    "id": "IEs9pGCHJQA6"
   },
   "source": [
    "### Using libraries such as networkx is not allowed (Except in the last part). You have to implement PageRank from scratch. Feel free to add cells when needed.   \n"
   ]
  },
  {
   "cell_type": "markdown",
   "metadata": {
    "id": "tf5SdqpAYziE"
   },
   "source": [
    "## Download data, import dependencies"
   ]
  },
  {
   "cell_type": "code",
   "execution_count": null,
   "metadata": {
    "colab": {
     "base_uri": "https://localhost:8080/"
    },
    "id": "PZ4d-h2g-Gja",
    "outputId": "432b951c-f5fe-406b-bf93-4ce0e3df3f7c"
   },
   "outputs": [
    {
     "name": "stdout",
     "output_type": "stream",
     "text": [
      "/content/resources\n",
      "Downloading...\n",
      "From: https://drive.google.com/uc?id=1C9l4uWzABZomkZQdAMxETz-b12PcOzBv\n",
      "To: /content/resources/clean_data.json\n",
      "100% 23.3M/23.3M [00:00<00:00, 54.5MB/s]\n",
      "/content\n"
     ]
    }
   ],
   "source": [
    "# Download resources https://drive.google.com/drive/folders/1GvUc06eKX2Knf3JP5RCvIJjUkIjE2fTu?usp=share_link\n",
    "!mkdir -p resources\n",
    "%cd ./resources\n",
    "!gdown 1C9l4uWzABZomkZQdAMxETz-b12PcOzBv # clean_data.json\n",
    "%cd .."
   ]
  },
  {
   "cell_type": "code",
   "execution_count": null,
   "metadata": {
    "id": "kGkDDycU_HKd"
   },
   "outputs": [],
   "source": [
    "import pandas as pd\n",
    "from tqdm import tqdm\n",
    "import numpy as np\n",
    "import json\n",
    "import networkx as nx\n",
    "import requests\n",
    "from time import sleep\n",
    "tqdm.pandas()"
   ]
  },
  {
   "cell_type": "code",
   "execution_count": null,
   "metadata": {
    "id": "e4fpBFAg_K3j"
   },
   "outputs": [],
   "source": [
    "df = pd.read_json('resources/clean_data.json')\n",
    "print(df.shape)\n",
    "df.head()"
   ]
  },
  {
   "cell_type": "markdown",
   "metadata": {
    "id": "mZlxfrUWbnpj"
   },
   "source": [
    "## PageRank\n",
    "Implement PageRank from scratch!\n",
    "\n",
    "\n",
    "*   Don't forget to consider the damping factor in your implementation.\n",
    "*   Report number of nodes and number of edges of the constructed graph.\n",
    "*   Identify the node with maximum number of input edges. Which paper corresponds to this node?\n",
    "*   Report 10 most importatnt papers with PageRank.\n",
    "\n",
    "See the most important paper according to PageRank. Recall that papers are in CS and NLP topics. What is your opinion about this paper? :)\n",
    "\n"
   ]
  },
  {
   "cell_type": "code",
   "execution_count": null,
   "metadata": {
    "id": "3PUWwVyuKNy5"
   },
   "outputs": [],
   "source": []
  },
  {
   "cell_type": "code",
   "execution_count": null,
   "metadata": {
    "id": "QglY6mhHUjG4"
   },
   "outputs": [],
   "source": []
  },
  {
   "cell_type": "markdown",
   "metadata": {
    "id": "hOzjDmKwY9t_"
   },
   "source": [
    "## Networkx\n",
    "Implement PageRank with networkx. Report previous items and compare the results with your implementation. Explain if there is any differrence."
   ]
  },
  {
   "cell_type": "code",
   "execution_count": null,
   "metadata": {
    "id": "guQRmmQq_YBs"
   },
   "outputs": [],
   "source": []
  },
  {
   "cell_type": "markdown",
   "metadata": {
    "id": "XznkSRSZKmKj"
   },
   "source": [
    "## Utils\n",
    "Below is the main function we used to get the papers, in case you were wondering. You may want to use it to get more information about the papers."
   ]
  },
  {
   "cell_type": "code",
   "execution_count": null,
   "metadata": {
    "id": "qPqt6tyDKn1O"
   },
   "outputs": [],
   "source": [
    "# fields are separated by \",\". For more information see https://api.semanticscholar.org/api-docs/graph\n",
    "def request_papers_by_id(IDs, fields='title,url,year,fieldsOfStudy,citationCount,referenceCount'):\n",
    "    papers = []\n",
    "    for id in tqdm(IDs):\n",
    "        response = requests.get(f'https://api.semanticscholar.org/graph/v1/paper/{id}?fields={fields}')\n",
    "        js = response.json()\n",
    "        papers.append(js)\n",
    "        # sleep(3.1)\n",
    "    return papers"
   ]
  }
 ],
 "metadata": {
  "colab": {
   "provenance": []
  },
  "kernelspec": {
   "display_name": "Python 3 (ipykernel)",
   "language": "python",
   "name": "python3"
  },
  "language_info": {
   "codemirror_mode": {
    "name": "ipython",
    "version": 3
   },
   "file_extension": ".py",
   "mimetype": "text/x-python",
   "name": "python",
   "nbconvert_exporter": "python",
   "pygments_lexer": "ipython3",
   "version": "3.11.1"
  }
 },
 "nbformat": 4,
 "nbformat_minor": 1
}
