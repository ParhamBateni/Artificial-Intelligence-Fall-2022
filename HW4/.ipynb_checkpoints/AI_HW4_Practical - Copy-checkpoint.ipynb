{
 "cells": [
  {
   "cell_type": "markdown",
   "metadata": {
    "id": "0MJtQYNJx6Ex"
   },
   "source": [
    "<div align=center>\n",
    "\t\t\n",
    "<font size=5>\n",
    "In the Name of God\n",
    "<font/>\n",
    "<p></p>\n",
    "<br/>\n",
    "<br/>\n",
    "<font color=#FF7500>\n",
    "Sharif University of Technology - Departmenet of Computer Engineering\n",
    "</font>\n",
    "<p></p>\n",
    "<font color=blue>\n",
    "Artifical Intelligence - Dr. Mahdieh Soleimani\n",
    "</font>\n",
    "<br/>\n",
    "<br/>\n",
    "Fall 2022\n",
    "\n",
    "<hr/>\n",
    "<font color=red>\n",
    "Reinforcment Learning Practical Assignment (50 + 10 points)\n",
    "</font>\n",
    "</div>\n",
    "\n",
    "<ul>\n",
    "  <li>Some cell's outputs have not been deleted. you can use these to make sure your implementation is correct.</li>\n",
    "</ul>"
   ]
  },
  {
   "cell_type": "markdown",
   "metadata": {
    "id": "rgA9_usLx6Ey"
   },
   "source": [
    "In this notebook you will use the [openai gym](https://www.gymlibrary.dev/) library to train agents in two different reinforcment learning environments. the first environment is a very simple grid-world with discrete states. The second environment however, has continous states.  \n",
    "make sure to upload your model performance video alongside this notebook. We suggest running this notebook on google colab so that you wont face any package errors."
   ]
  },
  {
   "cell_type": "markdown",
   "metadata": {
    "id": "4uzpGHXRx6Ey"
   },
   "source": [
    "we will first install the necessary packages."
   ]
  },
  {
   "cell_type": "code",
   "execution_count": 1,
   "metadata": {
    "colab": {
     "base_uri": "https://localhost:8080/"
    },
    "id": "XO-JzYynx6Ez",
    "outputId": "dbaaa555-ea82-4082-c965-f65c179364ab"
   },
   "outputs": [
    {
     "name": "stdout",
     "output_type": "stream",
     "text": [
      "Collecting gym==0.26\n",
      "  Downloading gym-0.26.0.tar.gz (710 kB)\n",
      "     ------------------------------------ 710.3/710.3 kB 177.8 kB/s eta 0:00:00\n",
      "  Installing build dependencies: started\n",
      "  Installing build dependencies: finished with status 'done'\n",
      "  Getting requirements to build wheel: started\n",
      "  Getting requirements to build wheel: finished with status 'done'\n",
      "  Preparing metadata (pyproject.toml): started\n",
      "  Preparing metadata (pyproject.toml): finished with status 'done'\n",
      "Requirement already satisfied: numpy>=1.18.0 in c:\\users\\parham\\appdata\\local\\programs\\python\\python38-32\\lib\\site-packages (from gym==0.26) (1.22.2)\n",
      "Collecting importlib-metadata>=4.8.0\n",
      "  Downloading importlib_metadata-5.1.0-py3-none-any.whl (21 kB)\n",
      "Collecting gym-notices>=0.0.4\n",
      "  Downloading gym_notices-0.0.8-py3-none-any.whl (3.0 kB)\n",
      "Collecting cloudpickle>=1.2.0\n",
      "  Downloading cloudpickle-2.2.0-py3-none-any.whl (25 kB)\n",
      "Collecting zipp>=0.5\n",
      "  Downloading zipp-3.11.0-py3-none-any.whl (6.6 kB)\n",
      "Building wheels for collected packages: gym\n",
      "  Building wheel for gym (pyproject.toml): started\n",
      "  Building wheel for gym (pyproject.toml): finished with status 'done'\n",
      "  Created wheel for gym: filename=gym-0.26.0-py3-none-any.whl size=826292 sha256=cce516b913946e0551cfea2f51f0f49e738ec77a3b711aa9e08e409318cb14c3\n",
      "  Stored in directory: c:\\users\\parham\\appdata\\local\\pip\\cache\\wheels\\f1\\f2\\92\\63d51de23bd3ef89d87af5663ef0a1b04781ccb9757b6f98d4\n",
      "Successfully built gym\n",
      "Installing collected packages: gym-notices, zipp, cloudpickle, importlib-metadata, gym\n",
      "Successfully installed cloudpickle-2.2.0 gym-0.26.0 gym-notices-0.0.8 importlib-metadata-5.1.0 zipp-3.11.0\n"
     ]
    },
    {
     "name": "stderr",
     "output_type": "stream",
     "text": [
      "\n",
      "[notice] A new release of pip available: 22.2.2 -> 22.3.1\n",
      "[notice] To update, run: python.exe -m pip install --upgrade pip\n",
      "\n",
      "[notice] A new release of pip available: 22.2.2 -> 22.3.1\n",
      "[notice] To update, run: python.exe -m pip install --upgrade pip\n"
     ]
    },
    {
     "name": "stdout",
     "output_type": "stream",
     "text": [
      "Collecting imageio\n",
      "  Downloading imageio-2.22.4-py3-none-any.whl (3.4 MB)\n",
      "     ---------------------------------------- 3.4/3.4 MB 865.4 kB/s eta 0:00:00\n",
      "Collecting imageio_ffmpeg\n",
      "  Downloading imageio_ffmpeg-0.4.7-py3-none-win32.whl (19.7 MB)\n",
      "     ---------------------------------------- 19.7/19.7 MB 1.2 MB/s eta 0:00:00\n",
      "Requirement already satisfied: numpy in c:\\users\\parham\\appdata\\local\\programs\\python\\python38-32\\lib\\site-packages (from imageio) (1.22.2)\n",
      "Requirement already satisfied: pillow>=8.3.2 in c:\\users\\parham\\appdata\\local\\programs\\python\\python38-32\\lib\\site-packages (from imageio) (8.3.2)\n",
      "Installing collected packages: imageio_ffmpeg, imageio\n",
      "Successfully installed imageio-2.22.4 imageio_ffmpeg-0.4.7\n",
      "Requirement already satisfied: pygame in c:\\users\\parham\\appdata\\local\\programs\\python\\python38-32\\lib\\site-packages (2.1.2)"
     ]
    },
    {
     "name": "stderr",
     "output_type": "stream",
     "text": [
      "\n",
      "[notice] A new release of pip available: 22.2.2 -> 22.3.1\n",
      "[notice] To update, run: python.exe -m pip install --upgrade pip\n"
     ]
    },
    {
     "name": "stdout",
     "output_type": "stream",
     "text": [
      "\n",
      "Collecting pyglet==1.5.1\n",
      "  Downloading pyglet-1.5.1-py2.py3-none-any.whl (1.0 MB)\n",
      "     ---------------------------------------- 1.0/1.0 MB 387.2 kB/s eta 0:00:00\n",
      "Installing collected packages: pyglet\n",
      "Successfully installed pyglet-1.5.1\n"
     ]
    },
    {
     "name": "stderr",
     "output_type": "stream",
     "text": [
      "\n",
      "[notice] A new release of pip available: 22.2.2 -> 22.3.1\n",
      "[notice] To update, run: python.exe -m pip install --upgrade pip\n",
      "'apt' is not recognized as an internal or external command,\n",
      "operable program or batch file.\n",
      "'apt' is not recognized as an internal or external command,\n",
      "operable program or batch file.\n",
      "'apt' is not recognized as an internal or external command,\n",
      "operable program or batch file.\n"
     ]
    },
    {
     "name": "stdout",
     "output_type": "stream",
     "text": [
      "Collecting pyvirtualdisplay\n",
      "  Downloading PyVirtualDisplay-3.0-py3-none-any.whl (15 kB)\n",
      "Installing collected packages: pyvirtualdisplay\n",
      "Successfully installed pyvirtualdisplay-3.0\n"
     ]
    },
    {
     "name": "stderr",
     "output_type": "stream",
     "text": [
      "\n",
      "[notice] A new release of pip available: 22.2.2 -> 22.3.1\n",
      "[notice] To update, run: python.exe -m pip install --upgrade pip\n"
     ]
    }
   ],
   "source": [
    "!pip install gym==0.26\n",
    "!pip install imageio imageio_ffmpeg\n",
    "!pip install pygame\n",
    "!pip install pyglet==1.5.1 \n",
    "!apt install python-opengl\n",
    "!apt install ffmpeg\n",
    "!apt install xvfb\n",
    "!pip3 install pyvirtualdisplay"
   ]
  },
  {
   "cell_type": "markdown",
   "metadata": {
    "id": "vjYtp6cyyXi-"
   },
   "source": [
    "the functions below will be used to make a video of the model performance. It will start the environment and choose the best action based on the given Qtable."
   ]
  },
  {
   "cell_type": "code",
   "execution_count": 1,
   "metadata": {
    "id": "-uB9baAkykMs"
   },
   "outputs": [],
   "source": [
    "from IPython.display import HTML\n",
    "from base64 import b64encode\n",
    "import imageio\n",
    "\n",
    "## comment this part if your not using google colab\n",
    "# from pyvirtualdisplay import Display\n",
    "# virtual_display = Display(visible=0, size=(1400, 900))\n",
    "# virtual_display.start()\n",
    "######################\n",
    "\n",
    "def record_video_frozen_lake_env(env, Qtable, out_directory, fps=1, random_action=False):\n",
    "    images = []  \n",
    "    done = False\n",
    "    state, info = env.reset(seed=random.randint(0,500))\n",
    "    img = env.render()\n",
    "    images.append(img)\n",
    "    while not done:\n",
    "        # Take the action (index) that have the maximum expected future reward given that state\n",
    "        action = np.random.randint(4)  if random_action else np.argmax(Qtable[state][:])\n",
    "        state, reward, done, truncated, info = env.step(action)\n",
    "        img = env.render()\n",
    "        images.append(img)\n",
    "    imageio.mimsave(out_directory, [np.array(img) for i, img in enumerate(images)], fps=fps)\n",
    "\n",
    "def show_video(video_path, video_width = 600):\n",
    "    video_file = open(video_path, \"r+b\").read()\n",
    "    video_url = f\"data:video/mp4;base64,{b64encode(video_file).decode()}\"\n",
    "    return HTML(f\"\"\"<video width={video_width} controls><source src=\"{video_url}\"></video>\"\"\")"
   ]
  },
  {
   "cell_type": "markdown",
   "metadata": {
    "id": "281QULrBtRtK"
   },
   "source": [
    "## Part I: FrozenLake Environment (35 + 10 Points)"
   ]
  },
  {
   "cell_type": "code",
   "execution_count": 2,
   "metadata": {
    "id": "k2zC-9XIoYEL"
   },
   "outputs": [],
   "source": [
    "import numpy as np\n",
    "import gym\n",
    "import random\n",
    "from tqdm.notebook import tqdm"
   ]
  },
  {
   "cell_type": "markdown",
   "metadata": {
    "id": "clVAINP0xO17"
   },
   "source": [
    "In this exercise, we want to solve the FrozenLake environment. It is a simple grid-world environment where we have to reach a goal state while avoiding holes.  \n",
    "You can read more about this environment [here](https://www.gymlibrary.dev/environments/toy_text/frozen_lake/)"
   ]
  },
  {
   "cell_type": "markdown",
   "metadata": {
    "id": "YpWqhWmdy0rp"
   },
   "source": [
    "**[Question 1 (1 Points)]**  \n",
    "Create a <u>slippery</u> FrozenLake environment of size <u>4x4</u>"
   ]
  },
  {
   "cell_type": "code",
   "execution_count": 3,
   "metadata": {
    "id": "VcYInB5gzszF"
   },
   "outputs": [],
   "source": [
    "env = gym.make(\"FrozenLake-v1\", map_name='4x4', is_slippery=True, render_mode='rgb_array')"
   ]
  },
  {
   "cell_type": "markdown",
   "metadata": {
    "id": "EfnH3pYryxwf"
   },
   "source": [
    "Let's run a random policy in this environement to get a better understanding of it."
   ]
  },
  {
   "cell_type": "code",
   "execution_count": 11,
   "metadata": {
    "colab": {
     "base_uri": "https://localhost:8080/",
     "height": 621
    },
    "id": "dzYhV3GSyxGq",
    "outputId": "5f5e5dee-4010-4a77-e49f-b2047c7ff516"
   },
   "outputs": [
    {
     "data": {
      "text/html": [
       "<video width=600 controls><source src=\"data:video/mp4;base64,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\"></video>"
      ],
      "text/plain": [
       "<IPython.core.display.HTML object>"
      ]
     },
     "execution_count": 11,
     "metadata": {},
     "output_type": "execute_result"
    }
   ],
   "source": [
    "record_video_frozen_lake_env(env, None, 'frozenlake_random.mp4', fps=1, random_action=True)\n",
    "show_video('frozenlake_random.mp4', video_width = 600)"
   ]
  },
  {
   "cell_type": "markdown",
   "metadata": {
    "id": "wze5Ukspx1G0"
   },
   "source": [
    "**[Question 2 (1 Points)]**  \n",
    "Briefly describe the state space, action space, and reward function of this environment.\n",
    "\n",
    "**Answer:**  \n",
    "The state space is all the places this human could be so it has size of 16 and we encode it by just a number by using the following formula if the person is on (i,j) meaning in ith row and jth column:\n",
    "$$state=i\\times(number\\_of\\_rows)+j$$\n",
    "<br>\n",
    "Agent has 4 choices in each step (right, left, down, up) and this action is encoded by a single number (0: Left, 1:Down, 2:Right, 3:Up) and since the map is slippery the actions are not deterministic and the move in intended direction has probability of 1/3 or else it will move in either perpendicular direction with equal probability of 1/3 in both directions.\n",
    "<br>\n",
    "Reward function for getting to goal is +1 and for all other states is 0.\n"
   ]
  },
  {
   "cell_type": "markdown",
   "metadata": {
    "id": "JmelLdEG0Pjr"
   },
   "source": [
    "**[Question 3 (2 Points)]**  \n",
    "Complete the code for `initialize_q_table` function. It should create a Q-table of size (state_space, action_space) and initializes it. You are free to use whichever initialization you want (a good starting point is to initialize it with all zeros)"
   ]
  },
  {
   "cell_type": "code",
   "execution_count": 4,
   "metadata": {
    "id": "_BKgfgqI0XWW"
   },
   "outputs": [],
   "source": [
    "def initialize_q_table(state_space, action_space):\n",
    "    Qtable = np.zeros((state_space,action_space))\n",
    "    return Qtable"
   ]
  },
  {
   "cell_type": "code",
   "execution_count": 5,
   "metadata": {
    "id": "lWeutJTb0qUX"
   },
   "outputs": [
    {
     "data": {
      "text/plain": [
       "array([[0., 0., 0., 0.],\n",
       "       [0., 0., 0., 0.],\n",
       "       [0., 0., 0., 0.],\n",
       "       [0., 0., 0., 0.],\n",
       "       [0., 0., 0., 0.],\n",
       "       [0., 0., 0., 0.],\n",
       "       [0., 0., 0., 0.],\n",
       "       [0., 0., 0., 0.],\n",
       "       [0., 0., 0., 0.],\n",
       "       [0., 0., 0., 0.],\n",
       "       [0., 0., 0., 0.],\n",
       "       [0., 0., 0., 0.],\n",
       "       [0., 0., 0., 0.],\n",
       "       [0., 0., 0., 0.],\n",
       "       [0., 0., 0., 0.],\n",
       "       [0., 0., 0., 0.]])"
      ]
     },
     "execution_count": 5,
     "metadata": {},
     "output_type": "execute_result"
    }
   ],
   "source": [
    "Qtable = initialize_q_table(state_space=16,action_space=4)\n",
    "Qtable"
   ]
  },
  {
   "cell_type": "markdown",
   "metadata": {
    "id": "9NHYE1Q2rMSU"
   },
   "source": [
    "**[Question 4 (2 Points)]**  \n",
    "Complete the code for `epsilon_greedy_policy` function. It should select the best action according to the current Q-function with probability $1-\\varepsilon$ and select a random action with probability $\\varepsilon$."
   ]
  },
  {
   "cell_type": "code",
   "execution_count": 6,
   "metadata": {
    "id": "YbOjqoTRrAqw"
   },
   "outputs": [],
   "source": [
    "def epsilon_greedy_policy(Qtable, state, epsilon):\n",
    "    action = np.argmax(Qtable[state]) if np.random.random()>epsilon else np.random.randint(4)\n",
    "    return action"
   ]
  },
  {
   "cell_type": "markdown",
   "metadata": {
    "id": "Cgdt3n_ftE9E"
   },
   "source": [
    "**[Question 5 (4 Points)]**  \n",
    "You need to choose appropriate hyperparameters for the agent to learn.\n",
    "\n",
    "In particular, you must find a suitable learning rate and exploration parameters. To facilitate exploration, a common practice is to start with a high exploration rate ($\\varepsilon$) and gradually decrease it as the agent gets better. To implement this, you need to specify the starting exploration rate (`max_epsilon`), the final exploration rate (`min_epsilon`) and a decay rate which reduces the exploration rate after each update (see the `train` function below)."
   ]
  },
  {
   "cell_type": "code",
   "execution_count": 7,
   "metadata": {
    "id": "SrbwYgKZtFWc"
   },
   "outputs": [],
   "source": [
    "# Training parameters\n",
    "n_training_episodes = 50_000  # Total training episodes\n",
    "n_eval_episodes = 10_000\n",
    "learning_rate = 0.1          # Learning rate\n",
    "\n",
    "# Environment parameters\n",
    "max_steps = 99               # Max steps per episode\n",
    "gamma = 1                # Discounting rate\n",
    "\n",
    "# Exploration parameters\n",
    "max_epsilon = 1             # Exploration probability at start\n",
    "min_epsilon = 0.01            # Minimum exploration probability \n",
    "decay_rate = 0.01           # Exponential decay rate for exploration prob"
   ]
  },
  {
   "cell_type": "markdown",
   "metadata": {
    "id": "y2hySBMAvmPk"
   },
   "source": [
    "**[Question 6 (10 Points)]**  \n",
    "Complete the `train` function which updates `Qtable` using the Q-learning update rule."
   ]
  },
  {
   "cell_type": "code",
   "execution_count": 8,
   "metadata": {
    "id": "FCqTlP-7vnxs"
   },
   "outputs": [],
   "source": [
    "def train(n_training_episodes, min_epsilon, max_epsilon, decay_rate, env, max_steps, Qtable):\n",
    "    for episode in tqdm(range(n_training_episodes)):\n",
    "        # Adjust epsilon\n",
    "        epsilon = min_epsilon + (max_epsilon - min_epsilon)*np.exp(-decay_rate*episode)\n",
    "        # Reset the environment\n",
    "        state, info = env.reset()\n",
    "        step = 0\n",
    "        done = False\n",
    "        # repeat\n",
    "        for step in range(max_steps):\n",
    "            # You must:# Take action A_t and observe R_{t+1}, S_{t+1}\n",
    "            # Update the Qtable with (S_t, A_t, R_{t+1}, S_{t+1})\n",
    "            # Be careful about episode termination and truncation\n",
    "            action=epsilon_greedy_policy(Qtable,state,epsilon)\n",
    "            next_state,reward,done,truncated,info=env.step(action)\n",
    "            Qtable[state,action]=Qtable[state,action]+learning_rate*(reward+gamma*np.max(Qtable[next_state][:])-Qtable[state,action])\n",
    "            if done:break\n",
    "            state=next_state\n",
    "    return Qtable"
   ]
  },
  {
   "cell_type": "markdown",
   "metadata": {
    "id": "_sFV4Kn6zO8G"
   },
   "source": [
    "We are now ready to train our agent."
   ]
  },
  {
   "cell_type": "code",
   "execution_count": null,
   "metadata": {
    "colab": {
     "base_uri": "https://localhost:8080/",
     "height": 49,
     "referenced_widgets": [
      "a5eaf9ef6e764f5793d6ee51885d5094",
      "4eb63c62bdfc4a0187cb15fe735bf7a9",
      "630ccf49bc7045afbb6fd75aa773cc9c",
      "47f0b35c36bb498fb47f98f7609e7187",
      "c0183ca6bd2042f28e6460bb81ee56f3",
      "d27361677e1643d3b9b7713f9e8033a7",
      "0ac4ffa2eb644fc08b55b6c624aba10f",
      "d4f9b65743064b0c80e573523aaafb19",
      "2c1b137e0a7f45dbaf3e0e2fb4c9f065",
      "fa684dfe7f9d4e78b2f966a02ac64911",
      "0df16b501be443acb42de61e37070b75"
     ]
    },
    "id": "jduZzTMvzLBx",
    "outputId": "83da81ff-732e-4ea3-83bf-b3e61ac41d77"
   },
   "outputs": [
    {
     "data": {
      "application/vnd.jupyter.widget-view+json": {
       "model_id": "49bb1a194f63400f970f26b362ec4970",
       "version_major": 2,
       "version_minor": 0
      },
      "text/plain": [
       "  0%|          | 0/50000 [00:00<?, ?it/s]"
      ]
     },
     "metadata": {},
     "output_type": "display_data"
    }
   ],
   "source": [
    "Qtable_trained = train(n_training_episodes, min_epsilon, max_epsilon, decay_rate, env, max_steps, Qtable)"
   ]
  },
  {
   "cell_type": "markdown",
   "metadata": {
    "id": "OUlpdnRx75g9"
   },
   "source": [
    "Now, we will evaluate our agent. You don't need to write any code, just run the following cells as they are."
   ]
  },
  {
   "cell_type": "code",
   "execution_count": 144,
   "metadata": {
    "id": "BbQRzYEb8C3u"
   },
   "outputs": [],
   "source": [
    "def evaluate_agent(env, max_steps, n_eval_episodes, Q):\n",
    "    \"\"\"\n",
    "    Evaluate the agent for ``n_eval_episodes`` episodes and returns average reward and std of reward.\n",
    "    :param env: The evaluation environment\n",
    "    :param n_eval_episodes: Number of episode to evaluate the agent\n",
    "    :param Q: The Q-table\n",
    "    \"\"\"\n",
    "    episode_rewards = []\n",
    "    for episode in tqdm(range(n_eval_episodes)):\n",
    "        state, info = env.reset()\n",
    "        step = 0\n",
    "        terminated = False\n",
    "        total_rewards_ep = 0\n",
    "\n",
    "        for step in range(max_steps):\n",
    "            action = np.argmax(Q[state][:])\n",
    "            new_state, reward, terminated, truncated, info = env.step(action)\n",
    "            total_rewards_ep += reward\n",
    "            if terminated:\n",
    "                break\n",
    "            state = new_state\n",
    "        episode_rewards.append(total_rewards_ep)\n",
    "    mean_reward = np.mean(episode_rewards)\n",
    "    std_reward = np.std(episode_rewards)\n",
    "\n",
    "    return mean_reward, std_reward"
   ]
  },
  {
   "cell_type": "code",
   "execution_count": 181,
   "metadata": {
    "colab": {
     "base_uri": "https://localhost:8080/",
     "height": 67,
     "referenced_widgets": [
      "dcd218f9711b4e9890d75883d017e3e4",
      "102cecdfcc5d47ada76435d97ac573ed",
      "c00a5b8d82d54c30803e7f6a26ba0322",
      "99784348358c41e599f210f16b9fc648",
      "108c385f845c4b09a8486aac1d0a4589",
      "4a0b04007e204de287035d2e7fe67c95",
      "c9533715f3b645a2aedff135a9bdc733",
      "a76c5a69f9184c0bb0763101e7fcc0ae",
      "7f2a9c443f8941d0b18d6d7f42c76ede",
      "486a4927595a48debdc1ece1951e85c0",
      "be568628a84b4ad6a06c68de278d851e"
     ]
    },
    "id": "61-viEdx8vbC",
    "outputId": "9acea518-c5da-4253-de69-2d1f64545b4b"
   },
   "outputs": [
    {
     "data": {
      "application/vnd.jupyter.widget-view+json": {
       "model_id": "0abd2372c1394e288ac9a92d0b8babe7",
       "version_major": 2,
       "version_minor": 0
      },
      "text/plain": [
       "  0%|          | 0/10000 [00:00<?, ?it/s]"
      ]
     },
     "metadata": {},
     "output_type": "display_data"
    },
    {
     "name": "stdout",
     "output_type": "stream",
     "text": [
      "Mean_reward=0.73 +/- 0.45\n"
     ]
    }
   ],
   "source": [
    "mean_reward, std_reward = evaluate_agent(env, max_steps, n_eval_episodes, Qtable_trained)\n",
    "print(f\"Mean_reward={mean_reward:.2f} +/- {std_reward:.2f}\") # should be around 0.65"
   ]
  },
  {
   "cell_type": "markdown",
   "metadata": {
    "id": "8Oj-u9bi7Vct"
   },
   "source": [
    "Now let's see how well our model is doing."
   ]
  },
  {
   "cell_type": "code",
   "execution_count": 215,
   "metadata": {
    "colab": {
     "base_uri": "https://localhost:8080/",
     "height": 621
    },
    "id": "NqP2b15M7U6Y",
    "outputId": "4a3714fa-7a56-40ec-b99d-cef30a6edf00"
   },
   "outputs": [
    {
     "data": {
      "text/html": [
       "<video width=600 controls><source src=\"data:video/mp4;base64,AAAAIGZ0eXBpc29tAAACAGlzb21pc28yYXZjMW1wNDEAAAAIZnJlZQAAfDhtZGF0AAACnwYF//+b3EXpvebZSLeWLNgg2SPu73gyNjQgLSBjb3JlIDE1OSAtIEguMjY0L01QRUctNCBBVkMgY29kZWMgLSBDb3B5bGVmdCAyMDAzLTIwMTkgLSBodHRwOi8vd3d3LnZpZGVvbGFuLm9yZy94MjY0Lmh0bWwgLSBvcHRpb25zOiBjYWJhYz0xIHJlZj0zIGRlYmxvY2s9MTowOjAgYW5hbHlzZT0weDM6MHgxMTMgbWU9aGV4IHN1Ym1lPTcgcHN5PTEgcHN5X3JkPTEuMDA6MC4wMCBtaXhlZF9yZWY9MSBtZV9yYW5nZT0xNiBjaHJvbWFfbWU9MSB0cmVsbGlzPTEgOHg4ZGN0PTEgY3FtPTAgZGVhZHpvbmU9MjEsMTEgZmFzdF9wc2tpcD0xIGNocm9tYV9xcF9vZmZzZXQ9LTIgdGhyZWFkcz04IGxvb2thaGVhZF90aHJlYWRzPTEgc2xpY2VkX3RocmVhZHM9MCBucj0wIGRlY2ltYXRlPTEgaW50ZXJsYWNlZD0wIGJsdXJheV9jb21wYXQ9MCBjb25zdHJhaW5lZF9pbnRyYT0wIGJmcmFtZXM9MyBiX3B5cmFtaWQ9MiBiX2FkYXB0PTEgYl9iaWFzPTAgZGlyZWN0PTEgd2VpZ2h0Yj0xIG9wZW5fZ29wPTAgd2VpZ2h0cD0yIGtleWludD0yNTAga2V5aW50X21pbj0xIHNjZW5lY3V0PTQwIGludHJhX3JlZnJlc2g9MCByY19sb29rYWhlYWQ9NDAgcmM9Y3JmIG1idHJlZT0xIGNyZj0yMy4wIHFjb21wPTAuNjAgcXBtaW49MCBxcG1heD02OSBxcHN0ZXA9NCBpcF9yYXRpbz0xLjQwIGFxPTE6MS4wMACAAABonGWIhAAr/6N3kR/nJxptLpG+8DqTvFFrqG77qMBm1tPdT+5xJQ66A/ZPwNAPV4AASXxOXUwbmxWhe7RRwfuevG8eakmA4Ldn9dibbyZnLlgE2JVhRv0RZq55OSvHjpojxFlydLVJlHM7yDZSStSsHvykFfo6qTc/2CgP0u7PpVKbDE6a8CxoDCo5cwlMDtw5gYoedcHNVC5HT3hzO1Waya4/sqA7uH16ZU6UJAmMxSZjssIOQjZkwcRggd6e963oa1iKwI6nhZR4J+PhiILpNyhjySmIhN0qRZCLPohxo2fy7+XktXYKhtVE7r6xQs7EJQvEMZH0LaE5GYuDuDxyxnC3XTJn0d26hkdpWLYl5H7j8WXcgT/Pt0eEhVrLVBLqwk8lI68lZQzoglW3V64TmDJmsqkbTVazXrfNYKBPqzw1eYAR7dXMgujjM7jqKirwIT98bmXsHLAaab2nxGR9jCbFNIzKOz3LyhVs5sg0QhXkUL5jLJKqDTgrjlJ4etmnSCwC4gjHYyw/3qYgEOUxMMmbdvMwfKgFeTziSUGPlBX9H2dOylPH5VCxhzkSAseD2/6AlVITLEHUS0GrMjLFleOboI6Qzsjnmz2RseGY0xWUZthBZobzyqviD9pirRnQaqubF5hg4iUEhOPRunv+WzEivbyduS2s8SsWIz83vbKN14HkrdC8MG0U1xkEf7OYx9cx/Aa8SyhsuJMdw+OCPJAwBtG9Atp9uwqVxg9W8XCivQ2KTCjf1F4Oe5jalefTqMBIvD68l9Lhwmp8IRevk+GiySEdOPav2/2Ln1OJQ+PPGHPLn1Q176Z82b/NLLIRRH3dsZo+bqwWKhl4UEAzZY8eq8oONJ0MtsSO45vqK+SGpu9HoOnU5xrDnHj1sECDR0LUOGFXw79DcP8coZBG5EAKqo5ZA6l8IT5rn5QSdXYz02ZAn90bDn0G6/KyAbb7dnq0NOsZxQg14nW7HZIxEsEqHseGAuwxp0yhebXnqzDbG0bz8dt5wJX/xUG+yt4YHoSUVKRVkpqSjDBYll5B0//P9hxWUevtQK99MKWgBDfo/0mTyg0v6Uz26bAgN7HMREsR97CFFRe3zOwxOrSYDBWkb3mw2yAZWpWbGNaQjnBuwatCuSDq57ElAiZVITsI8rz754GzDJUPCWRAj6qqwOqd0p57FU7AUWWoBF4kH2bE0X1cCPkLYe/eMn9TlB4XChJqECH6H9oLnSFae+Ps3JmMQT4tLlsOP9ObEIEGYROdkWMYBPUZC0LqMcG8S+Wsmxhzy25Lwj75JJz5llPZCKWV/O/5XJrhBZurSTMIBmyx5O4XwT1+yy22uAjm+RCwgz4iI/xIJOca+hEE2tggaEhkLjJowPNT8smoBZGNtwQM+zJxtDeO9hUcs1Fur27MO6uFdl+bFhz6DdflYRLjQENn2PhpexFB1rSHTO6BdvIt+lFjwv9yGNOmULTa882dYMOWTMLOROBGUVT80yk5She3xZfVOyUEj0SDhHO3CU3TAI4bx3vcN7j9xG83Bwbf3EwDk/oNL+lM9DJVnazI7zI2I+9hC0xvGMwXvM4aNVHqc6zt42swZWpWdONZWQus1Me6x56Grtdv4TMDc1VCuADW4jZBFY1Q7MCQ8/VVWOxhBgPzxd6wFFlqANM+W8GxhEJkFma5gPgImT+pygnLhQlEiBD+T+0GvdjU5YS7ZdGg7NbgqYp/H5TbniyiptVpgjOOWctd0/56Ut6b6V1k2MOeWifdUsREhiT6kG8vyijiOo79G24SwR8iydaeqmTpKEtOKfaQJpRgKQkzBSl9N3x3RcxIpik4Lk7+1Qr0LTd3DPo4TYZzsmoEHCp9wPrJT2LmfG8iV1y5rYneM7xMCzacCNMm+cek6u4LT32MXSDgADep5frkARxoUMa7/FryC2WTbopFLMhTr3h6iA/syztbVCLLcViihwu7MyEn1/Csq2BtAuao0SQD/MYH1Xe3wzs7uoadCpIMvfEiqujthx65k1Su7aZ8sR78dYgjTrMZokMn+BlaXBv9dr3rK/wtrazGcQGgmsnuI5C/tbqO9jkvQjSHsvoKA4OwAgq5Yn7bVmWGvTdRFOqtwBnjO7Yg5lN9kjsKwTDfz0LBA26vXHINZ+lgBEL+usxxRReH2RSVC2e+HajQ6Pjdfi/RxGuNb/JofNCQink8ZYpC0NYArQib7voZjkzbaMv+vuoz3pJNM3zdlInCwehmz8qXeHKjl+NT9IQ1rUxlP0b1HeohKjlZLrzCnjxAGK3V2PJyfeEK8d9HX2OKgcPb/XiQvsMCe6J7RHWtOD8m8G9xlT76QwWzQhljFifFon+zrKHFrSXHo3GwYRWpnzvGmD2NQg9icSTyEIBXR0vOer3iuChOz88H0jCBLacn0yMa+ZGxvwAZPLSe5TmUjBeCqaEeMkplmMb6H/EJHyiPiqEljfVvo+62PBYASja++Ah1bBbEbp6p0+STB/ajyeMetLH1+T6sfGPDJU7qKmBD2N9RyxhlGrL73wdga+dQZ/LQenHp6ovyGIYGAzLcwCECRfqWoxB9AbQGeWFKN3yRhGbj4r8mfoJYsMFDaH4LZ8CrivnbIEkax53oik4MutnABFcW6HY+nJ7rQUtzVIx1JDBDMP0yRd75BkXz3vj9N3Kg/jSXFeBYc0eCRKrcqKLDHUcNO8vat1m2N1uwJR9N1LbbJ4znTiNwByF6EUuHuzCfB+63BOBKb93kJ1YqVQh5DX6noZKYk+yHA2V6ViUXxKYep9HcUR+HzfSyrCNltWAM6TtPzNbmxmiTG8ihOFGQUfIAQ8U6vSls7Q2WEBzczytfZN1/pgBDNx1mVoVYsuUPa9WA6EayNApWZExS8lM22zQsHOw20VaC+73FXrbQQlZp+4MuwRV/62YRPb3VNs0YMwduOh7UBZ2Nes+17wCbyiVgYQwCvVKynygvQKdQwbqjx0qdxwt5pKz9SmE27NZnvcs2CyPLIjkUdkzRhBsJ0R9vqmO0UYF9M8SbqOv2ZRHoDk/L/lBWOFwAcV78/kClfgp0WnpC0MNIyUVpp9I/omiCKzPTYu1+neAl2+cnEOmUOixIsfWMolRvxIsvv2CPfTP/qyqj2TBY3EkAQACk5W/xT/RC1Y5FhaUSVWpTs3WzoA5O48D+4MWc93a6AMS3NvE4p4+twib9dS7xbNWQY6llWCtFIpOpxZYAmgPCAD6M44FtlwCg5raS8UPklL7cvmLfoCUJz5WS+BvZLQyCGi58i2wb3HwlxkA1B4qqX4qBkBABuG/Xh8yBxh0X1BKf/J2bsspYQ+C6PFaAJidaDI/VP+LcwtrSLhfXYYjDCiJmni6kf9XQI9UB3orQPEQcQ06UVKCOatgR8VPvh94WQiRPVossNWqECv2CsZPqb+HEtRaAUqNYkya/UzU0AHcydHMyvvTKCiIw3MUIt3WjdBLSdOX57p8zJAd2AOFs92cTnIZxcG/E+Yr6pyRm9th92G5pkE2uMSKdm77BsQWc0TNo9bf8skS/g3gTnSUZmzSZwE3XDvH4O85aOkeWgZWK2Yha26YodCpuv5H7x7c38SeVrjkWnY6QYzNTlK2h7OFQj80r5Fg6nj+rt6XFEFtyeBAc+Gk8+81uzjydE+MxCri7TBE+gZzrw+enk6CRIe4PEiIaPs8xfP1F5FSxKV19emi8NXGiBqkIl96svzokM+Stuac8pecbxQesXGEOqwfUAx6GA3hsFBT9K0up9WJMqOYUFQ/WdCDSglBAIB1GXa8ruKe8U03gmU15xLQxWNFz4b7JxNsNwuDNQeKtW0VAyB60/jEO6dETxpWSseaadPnts2RYBNoybM9rJjZJhthBP+XJFAKZOQPEMGA9REzS9frIUF7pog/vzDU0AL7cGMRk3unrYIhLjDTfXjIMgIrMmeCQEBmI4EUQG51Q7iWosJVsGO/jYF1Zy2/+PmjmoNn0c8wAHl9mpXvTzDQwNt22EN2eD/YA38rnEBsOQcF3zkaqvivb6C9EkvbYfiC6aZBNQrB/E7XfohhSzmS2eYLNg66NP4N4SjEY6ZOwgSP4/5ZRZyK/I99msdNX/zMp4ha28D49N9av8f9diL0LHYzvjInuGm+lZlj2RSA7Lu1+/gaSvjoFGCpv4Yz6BOl+8zuvNeizrR7ZY9QRR7/IRpI0mLlL7BeEnMfWfaqaSVrKw7araRdtSq8a2mPIS2/7URqC3+2dM5l6I+sTzdND0H4F3MTJ33Byf6WKHpTgnMtRqYxRyOtB2+SwUFdCWzstZlACSDQezyMcTYJdx9LcCsEw03EUnGJ6u7TifwjMe4gLGmCASQZ21S9EhI8qkYk9JQj6v/072bgtR6T8IzfP77Incu6wg4cvPX83VJk+w4q02PCV5XRTX6BPFxQKF5twlTiBkoLeJNsqSLmYlqAkm6wk+Qq3Ig9gT+Owk9UCYieLIui2lW7+gkEFEqCgMIzTHLVWgn8Coa1uWnyH5GBr8cZB3rxoliJ3pVWoRKanirs6ZlRB7AWyz3NNhUrbguhrYB9eA87qFWIdup+mEZt5rD3HsbJVrV39GLHZt42j/msl8XoANPJ94+K6yedx7ptYNbXycny0xVdiOpbmFsR/StYh3dDfnbhkohLzt2Qw5oAtHfIPYqfKWwbb5MSwq/IG1S4q6QzDrWySUcEoiSiHkqgYuwtSZpG6SIdV0+beADnTZ6fefURjKHteQUMPl3yL2glAfu/2yx/ZhHcxp7cU56bOHUo/FOW+YwxTr6O6eKJIZzmxXU2P6wZO4OHt/Wko1te99dOtSPeCAp4qxxdJLzEzzNDXsWeZ+jGtoggFQnKHaWAakbkVTAUn1tluOrLtyL96uuinZbT/1ZW8tk67Qe/lD1bd4TYcoVB8mL3ySsGqXb6a3TJoqiMtPk0YEMjMBg2hfBL+1/hOaq1YKpOMth3jPkveLvCele/Qy2nvijRDk9hsONN+tRlxgxg6gBVIyjWtsQ3ms+PLRIJ+3IA2hYkzku6wuKyk+a5aJWtMasT05kQaS1pO1LtKKsg+efiGXhiitj+ar9O0STXifO6R9XMuX4V9EaG6yX15phRrYcFl7ivGUzWhIYblxSLEEyei3szB22ANubqy0a5RUUzG9fK7FJqrB5ZXuuvdVBudsDCJOSUezs/XXqytFjSgJarvAslQzrpnbGSVGx2aMt9seOogLCyQ84em2MMe9n5M17JGVUH8eNN7N4g+ZAmEYoS53CAfgEB2zqwWnygcD8x1d3xKTPx3MBT4T4O/Z2Tas5sUg2gNImw4RBDAdJTj60JfAR7PegJRomS+4cEJbzp6akS2bmBzMRUJiwGRUaCCIewbYO4cQ034DJ/Xo1s4HwgdRiqIHhk3opJeXUk0Y8+F50C83mI1Tg1I12veEXIReVb1MRxxfKZZPF95v5QMLjAHGcJWZGAY04NcHSxAFsgEdY635DteF/Ru4hf4ewcircPlN4l9ZXrb8AsTH/PCVs0ixIxcVk/i0hURFzNsmZ0LL9ZoJ+nzhevzX4jLqFS56ufutzSE84fnZAHbprV+VYgECESWG7EYpBGIRyxe99J+huEOHp/k76r00cErfdj1D0n5A2HvMRqPrBuNza8AjHVJqYmSIT/XXuqQ4v8Xrzh7APsuFhwO89P0sAtaiUmE+W4pYf5vJ9W5gnC2vTB8E+jLbb+mI3iKXCMXALVKOXkyGOPy1n/UHgNKqqdWiVcgP87UDQsK8vX9r4OoIU0PONHPjiH36uIJN8SnV3qs5TuN0gFkoZIYYXoGp3QmDWcxmqj/oC39pmZFzGNtpTvkDxp6MYHMwdiQbfRVhOE+hLykimsyJ9cynfbls5tC5yAY/c+O6sjkz+gRsyfCgUECRCLN4jTljUjbwDNfuM5qsvrhGpRQq0K/M8g/tGabh8V2I7MkRfCu64OliAKhYf56L13+TAzfvOu77q3m7idgvzGCE6yYaE7NIjdfpjIsho5mmXLDkYKv3MUmZbI2Z3QVoecDvvr/6r3NThJda4r8q+x16S4YbSTsgDxza+TOCvuP79ff5h+4faaXZIIur5ShYumMJ/j/xA+2BHhBsRK4JwG+srh4i46es6HLy6jNDZwk8Xo37hc7io/XV+HmUtGf99jOdNFCFpXYqDaWwKFFNAgOfeT7lxeBwv4t7qBYpXgj3+au72Tcy4ooGz2SYTmcA4qy9JRaZ8S1v6oBwtY3Jf/al3/qRaoHf4mzoKrELzxaIn2+M/YyYazX43KWCOe7gsyf6IuKToWUr8NyM/Va2WFof37XPejSKacQ6wfOQwkaK9n12sLB4xmBhTMYu5g7tqrP/CE+mYoa87kIHETIbBIvHMvat0KIzfR4vpBL7gly7RoKCG93UZiJ8ffys2EJnBgeeKObF9GsqmdPUw03NsVz/UGe3tvHqFnn4XmawBiX+1/3oZLj/E5H1Lwgtnw9F/z0ccoW2bkaxy9zgcol65JCO5XmK3hhbBp1aOo/2zb61+FzWNjIzzwUMHlzU61ip+/BM9MF4g2iOWQgw7pC2RJMEDMZySho/d5WO3VUkYr0J7gdIU7i1BfIF+i1vuCmh2v7QdTi4ZPt1xtQ9ZrHfefAqNqwjO6fd1vznCszKnpueUff7cYsb6ObbMBMG8jg63ySJrhrV72BAF9cHehHruwofIpU35M8suRfkx67z19i6DE6Zoe3OmRUaK3eKT68gKJ28+iPOsDfYzqFCCUU0wOpir9RXLxl+gu7iP+V6mNquhkUgzgESG9/LitqXJLbjraSvdSEN/0qkmlq+yfh9ENxqjAiWDgWCFdY59ZNZOTx/av94UTwIbihzNmNCrosDkV4neY7TBLKuadUUq64+PMlhucP4Uvmb0J8gSZErxI9T76HsWCaicXbcLVyO5JuP7UJZHSjhRnWWmOpjcTqmhRyzXe0QHG9s20rnm75aQwO6o1ViyG2qg0hCrc90Xae+eSGxS44rno+XA3O2wc3NFPISPo7fnBwtPSJ3Y25V2CLJkPVCk5ApdmLVQP8UANxJm8wOcpU2o9UkoR349PsUskecSou80piNbwsu1jaFWPpxQi7qw1566RbYL/48lv0KEcW2m6D0OD4YoCFb2SaGRJtn0fCycaJqlgydxRichpF8StFRkZC5rrZxTBVhTFv5+lzXVXB26CzkvQmWt30pfTUFJrVyS0PfxxQMtchfAWuhfmM6hQgk/wqaxsShWMGD8pMLM6i4yC+OXba2EOrH+r4nVADkb3sPPaiXzr7fpRR0oWwfFji22iDDKsyNioLeoGzMEJLbq3pC4sHj+zEBMqTPxec3jaRdJecjJRMpjep2tBjQM06ne1E4BAcXM6Lp6I7irtI+F1YubSsPhyhoQmefcVt5nXalGR3JNx/a2sHqwID866st4pWvtvSz2W40JaEqNt1GldFxveSK+5UGqsKw21HmkIVbnLH0F4rsRqO0i/Uc7AaDExGY2d5qAbkmOwW+v01nqSwPlwO2GpixN/SAbm3qYu+YcFMcWVcSaEKXXD7ARjo2OZDu2skecS4u80q1SDisvZ+7vNs5pjJIVWi8+aVprLefApy5X4ra6tWInr7zgHsWj0Li4uo2eCiPgkjQSj4MXasJZTjVDHQ3VPA1Fp4JO5GCrCmLgOdOnsB72zryk6zCZa3fIl8ZQUllXJLREfHNAw1yF8BGWCrYzqFCCT/Cpq+lKFYwYPyuo1Subgc+oE4+Wb/Ll1uwqmglaeoh1mADo87ok42Vdhs90f+nRaAJR+sJNirSBxEEuCCzr/nssmTezItVx4uS0rfOarIrCMzjcHOTkBc3+vYAUOadTkC4JVqLKuq7AMjoBzhmKqNDJggxgStMjacRwYWERtnfCPmQmJAKIiqyOmCAHOz/LeKVneutDzncmXnXpG3ijSui5IvJPfarDVV3wbajnSEKt0DSyV578RcT2GIaq/EY6OHUuhwfdUfYBdBGDWdBlBN5zf4Pi1Etqjf0gG5uWjUH+J63OLKyJNCFJ0mGqSUIZ8Mx2KWRoi8VHWKVupBxWX8/d3m2c0xkjmtS+fNK01lvPgU5YImcrM4IGRVvxvmDxkLERbDZaoj5MUB18uCX/+zoT0YMo/ulNdOyZrSfudZGQRc6ZGl/GOZxYR2RIftoNHSr1ftJQJWW4/sDDKuTzJRwG7ASHn827badbH/2WVF77mgjrrjy5s05Y9C69n/N7y+0bnIJySS384jGrC3AOHt1oaL/Ouu7RFBIKOyRBOndtyylvWFAl9uDvIg2a/5ptEGZZ4L2Dgim5hMAH6ssiec4u0PA3pn7NaH5N3VDP9vo0lEdomuKKh3OrhbrflH2gjE3B7g0wpaMfHLmAVhHsc/Wf/j3u2bDY7d4jhIKvHbJ8kMhHYusoG9P6TPKIvj5TzxmXRMon6u3iAnBEmfE9fMmS7WiNiP4enufjafRyaOBRk1nkDlbzuIlQHpLErhStAJhQbKTqAQFopvupXxWv2WMTtlSNNWJ0yVLjSqAzZdzW5r2/1oxGE5ifVggYo12wiyuAXo+runTP0WIGRT8tERXd//dgaGrW7FrCPG0FHIgvLwVzuDCdK+V1vLpPpcwP7UYqWmbIxEs2T9LDzGmzhGa6Mo+S2NSNwKWQsZjMYq+ZOUyhQV7Rb/2NLqswVnGesU8lEH6Dm7JQSOFx/KIdk3QGSZDG4wY3Xsg558mgAunw96sQomLpMBBA2d7QvEPc7xooLO5/TY6zcxoRWP2WnP+OEzQSifOljiPW5PUL54GYMc783kiYkTTGUJ4H1j07SNNz04PrGUVjs706X2gMAUPx2P2b+t2VHlSVS74X3lkxO0IhWOOHPpE9IIkroqlh7WB63r2X2QsOqhUP+Zcud6voO4M+t7PXFqEtSChIK98efGkhgn9UY/5mFyO+XWf5H59yDs1Lms6oVIUB02lBLnBeklgbilQJlSTVD3Vc0WlAIQy1nmJ2o3+X7lSKUVVmXes6HErA0O+1e/mC9ca+tNn8cWXgxUQW+LHpTM74JuaebHExj/ptBqacUBIsvKnfPwVI20BB1Ekp0mQjqchdWEytbssVNRlpNbfic5+2k255ZBEEe5NVYymGVlDbsiipJxPQUmt49mi+HPwtG568hO2HBP9ECIq8EfGeVvIP6+3tEHy7xhhyXJkFWK/9/x/TShksRoAVo+XL1J+tsqMi4TD7/CA7oVXkry5znrEfA+g5JelIbpIK+iwnXqoEAFQHmHDoCtCMFghEwIYbNxOXf64KV1YOpLt/pWkU/4bYbDp6/1/PogqyC2oNFeiXixaRgG+H5sdR5ms+kg4dr+Cenovbxg4TccuMWC20XDSrpqDTGsY4rcKD050HXQUZO62nU6mpBUCx2QhmPuiaar/0WXcfATE6CbAShiTysHJTE9dan4vctcxI5FvKpqeF65vUjfHf39oIT84W2Sp/ZdH6H+7ezWS1rK3xWe9F/m3AHi8sziycE64utSb05fjZrS78uCP9vaA/Gcok0y7rK+URM0lfDwba1AWVX03LRcTOZ36U/KpBqLa8uYB3yZwSk+qS9TYNZ6pswHiRLrgFlTd3eUt60TiKrkqmFxoMSWRfo/zoOtxwsyLFvANyjlM9J5u/2TJhM3DnE4RDgIeS2UiFjhJkm74RfkGPqzPTk4cTYg2zfGMsdnby6iS3Ers9cfSemjIcHqwPsZtIQYXKUEmBlzCpPiznwbLomCpgdTcTU58ZV6jNkeTRuUJ8jC+j3sO7qUn6x1/IBpS42vDxq6gVGspLh4y3aTlp1VeGGtkrmGPm1deleB3ZtfR+J1dL7bQe7DcCGOaesXryrTpOa56bDkaA9o9QLgg/zADclA6dYL1VcQ0363cAwcrOPdyVA2U2vY445Pvkt7i2Kl5jcmiYKzP/XjR9YrbLKASIbJwYxdeaJcjrkQtz+weHE6MkZVvUzrQOTibKdo/3btzOFfoq4B9Boixv0SmHUSZF1nTHupMgUaZ79LjQxefhhft2lEKC/I8bTVkpfD4Xab+VIx/wQ82sjTFJzp5BhIqIi6IaM8wxzZIYHiFWcfF2M11iK0Yb6CgF+oM5YOjbRqKQWIdzbnpyfF7thtv6+v1HDjwa3oK0NTxok2P63u+aijInZT4fzzLMy/g1Wzlx65gO0pUmvyViQEjSt45KMyxMxpOl+tuuE5AoGvaHHrSbahM2v+Ehf1DVQNMFcUVkmP8iX/FRyh5/+dP2Hgub/nGyVGSKO/wV8B+6SatD/X4tDg2gBcNlRgABLDwNzNJJFjEF/r9fyNfY0ccc9DAHr8mioN0ZwCsr+4qdtMayfXymdnZJ2ILoxs/mpQYBl8vSyGZOSyhHg1PM3DLYLLcvL2T8vCqTRFR11RXInEL3gwxV+5xb6ZguCONeVrWxMfYe9SsoAl6mf+ifn0eP3dX2x+c7QFoeMqUHbxrd7G2TUMjI8m/20RpPs6fc9s49UuRu3e/y/f7T27oiySomVuZb/rYYgWsFYiYSWkrXs1JsCJ5WgJF1hh9KPtbO5YmIzxJNQlNzbZURz08vz3a7Kb5NoeW1JDLvCEwLPST/y6TlSod2QMhvaGyUnenLBiais3gxDwN/KaEBgw+N2kZkKxu3BkSpqJChbFLPK2YGe2eQhV+nu+n4tfJUT/WujZrvKmRBNVdzmPUZxyFc/sW6GXZ0vszdkarKYTcbqvHL6dqWXGqGJjLCY4Nlpfc/jH+Wnse2VtDA7DZeAabc5Oz6fWQYJ1syc+AL/qRJbJR2J8d0/l6KhVaK4+BQAvQ21TEOkbowdfpd/8QnHV/EGToAAy+9X3iJcPeEq2IhPc0bEYSzIzfIPDUzT6l8OcyahzISdMiFCUv3ZAyaDx3obGLScQoBQRhAjRKcMPk5VNKJtSBczDsLQR5CBvinxsyhIMRF2kRCFOJ/kST1yvqNtLkzQNov8v4HoZBCk2KbdvuGmPCGXGm4gVh1fn8wCWzVjtXiGp+JW+f4glg444OpqUki2UNfqLJhT/NCidKcutRH0ZiH3+M/C8/H8DKf3IVs7oxTidGiJBFg9oUBo2dtwUDyhjzlfKMeT29qtrPaBAhKNCgzU9NmqRGoi19bNgPieYVlU3Tcjs9lr6Rm9jVcd5bI3ffplER4NR2412FIC4aCo49lnXs4wkmTZ/PY7WHRqcH9MMMh85Ze0lvXiISMktncyif7cIpMMdybgf1opP6/gmr9LQaQCca6qgXut0n9gcVhPO8KyIR1ryj0irq3Dit/BLtzwJU9c0msnn7UyAfJ7ZGnZG9qEsAtlf0Sgk/n5FgUFNOnCW9FlM+eqTykTOg0d0UthAMwgRWQ3LU1apNvlEYEMeTlRedVBCU0x+eGurovre++g/VgjpvrMMPWsPyBT+EM9+tYQoLYdXErBy/dpplvgGsQ3qVoid3qyxqfNoffrGlo6mSx1yYTT/sYeluQWElWDQs+aJpa/QXcmtwE7uNcSswDEuqGRcHeYXhTj/fSRpR0U6RoiKAlajYpETzgiLwa9qgP3ikvWMsxI6pyeZZDnC+LcoPZi+DZtRH3poSC/1DYO4j5FQN3c9jBMJBL8xxIfYrSGP1B7F+PgDoStWYE8+NVi5vxc8UK1jgkjricLPjO8qGvrMj0Jp/+Ru+Hb9xKf4FNpbOjDVoeExIEDjVO1p6wxtnyNUW5HfNFctXgfFBfAcgWKv+SHpfPYaoJzY0HZ2L8w4qb3tFmd0DX008muci3bYAF5MsQTCqmH+qv1OyXUoBR5r03uwWY1h/xsjG1wRAGuwccC6p4h/TwL/+GCjQnzXpUn2v92wrO/4o+UjdLUuwo6/tveONDTgxJniUzalK3BsxlGMxN96jXi3yR+JuH9NcPp3f6hzUAa7LagAPr3ZZfPlZGK4MwecUSz7AhBOuSQt3ikNNcYWPhFxG7ZiN2FdvVaYyCpGZCEiH4kexJJvLlwGZ5WzA/uvJNbun53N9G4dXi6fmw+3QMdEuUfjk+dGcu+kzQv9+73kC18Wq7f+yc78M4MtU4M/YunZpS3nzWEyS5ytWEYTjhKB8AO27jioOrldy3jJFOttylbHNo5rZ4LCy3GlzXtyeMOv4KnjNV8vkLRM1mV6QERzMv0vCpoXGws1Nv0k9K+R1hUrXQQI8qUUkoHjnEDc37al2dRAeTTvRH4njiMLzgZqYKAIu/NRg03/Hgs8aEQ06EbA724EEUGZv8RvU0Pbr3oX/4glDma0bsJLmMFNG0V7GmwJBoSJAXDgrg0c7wpARN0EW4uoXmkXa/UrihNf7FJJMPqiRi0qNkYS5iooRSI5gvqhkp9dkfaadJEcRujuqIZFDnKpNnVGCoFBmbozJFWs5L+ZX79lakemTS5tZsF9+zlrLk+/7lYmWff7tDmGw67+y5Ny6F7NiCouu/1qpEanB83gFIp5DsYxwTnaBCmo4cPVK6uO7R7GOnK9JlPzD7k9ZVffB0B8x7VROIimntmLdhRW4DemM91ze0Yafxa2PU4+Cgb8wW5lFR7ZZiOuXSGCBZ2YU9C8mk/KJysoFXUcHs6gVAK7T2bT1oYBZbwpYDqSAKoQmfO/8r+pbHjaYCEf02uAd+TyPd82jiTBrdm8SVfvtp83iDdOuPQqC1x0fhJrLxuOhjf70N9Dyg/rP6ZSXvBVXyML+0ee/1HKIDDT100P4a6ui+96LGy73q+M8xQ99fdbpx5+ENJGNphwNGdXErCa/dpoFvgGrg3qVoip2j1jU0U+E/WNLR3MEn/n7Co07CMgAA1k+bL84K2Cvqw8cQO7l3LDCdwK5yEy6IvuL/8dW+HQSQ3rBTQuWtxFAStRsW6abq7PfNu/PMe8rkGJL0YK5oiaPTH7GH5pK9zzQhtlwflc6Jn7DcOl/ZxG1kNtSKlxoUh+LCJETfhGLZf1m4uT9C1Uv61KMZiXG7eyFUIYw/mSMTsWCKXyq1XuFCpKtAJDqmu6IyPTfThlcrM0f8E1V7zgoQMEharOaVwqfyHXZuxTw5zviXKRG/PISUa2HHRRmfDKO/n7kKNfj0EjEZDxNRe/HVrDsl2/syoOOYQqouRSdaRqMc2//6sEpIa++vbn6U8TfGYtBEHX2j8G3nS3WxrcHG7SjsU5Mmb98ZBKQg2by8EqR9fYTHnl/IeSyvrjyA/N9k+GB2tz31/mOf8EhfH94JiOv5+Hs4MmIOPjLX+h7RS0fL54hIae4WuN1nlUCqnLaG9Lc4LttSUsgBOuReOgd4Y1huHzH66iv7WkijyvIAnxgYLTzbr6vDn0sn7l/MS6FDIKx5/KWLslvA0RlNy6YyZx9zRALddMllS5PAazbxiVrKy+9CgmJ94RRU/VfJHZM7YNFsRsOP3iXGEOIzBXQKahjsUtqre9eksxLPOUKSejYnnBN0iOzQiqu5atxglJ53ZpSc6ep2cHT9C8MPAlSk8BNUUeKlDYIbB7ym8/1a5oU5cRvT/wpm0XcJYvxqhmICmW8mwDdG8KWYh95lUSOnfSZsU/MAZraAGcCCd6Q4CuBr5/X7gdG4BPU9j/mWwhTws+6yJw2pvD+ltmFt1gdodoZfRWYdLG51XVTPZf7V0V3J++rfyEvFHa6UhzafBIs7GYSSzU8ZArCwhZb+WIwOlodzdRunk5/iIr1yGYPbrNAdKY+mtlcdPGG5H3RBl2AQPTfDTxkkJP3jzf181Th040yMdPd65A13nSjFbi5GBWFcEXfQwUluxbRHZidNJbmO+fRp5rj3yM/hJQaRyFmgSYN+85Iox20RLbQ+ITtvNo6BUzq6cgkmRGIFLuZVCcZsublo5BTGEg428+rfO7Ce4WVqc8dI+6dnwBC4gggVigRQMHBc+gepqoa/Oks9McXwUlyhrGFg5ZzRYxTno9dWAcGNMRRR8N+HrCi8RABdgzw0OmNZyvsURF70+j8PefP1ir/IvS1WmbKmH4q7Fcx8CS+CYO0uqbGgQgPe/ym+gGvW2amsFWD6XGvC2LtSn0LQTlvZLZlnmjUh9u9UiOzXqZDgogyxVomlHz5CxcMpQ3m6bUPac/ibiY4IIItTZQ4BfZD5cnFcgZ/x9S4KVBvYW0I8KqnqfeMFhirMCbMkBM3u3l1vIPuPrC0/pusBuep2UkYB9hlKROARrEoot15fxGOvwJ7JWoqz6Zdnmi9jTWshOkZvlFddS9+f12MN79isjYi0WwA9MpPOIqL07zR2AK/u541EScZpCNRlPUmz7gSwKwp00xv+bGgSodwMSi+XxyYIkBl3o7Pide7np5XT+aZrVR01hgJPgoLVJskVJnEwljMlxgcsd6scq2zmf+wHeSvft3PmYrB84h4MMkQ44IbHJxekUzg+Or1kqnVsKWww2bjt2vcEYQWBfhCgeBhKdp4msBY3vgmbWyoyCagehSw0KfkIjKQcefuFipR2+qwL4T/aq5qij/Pg4boECxMNfpyWmbXf/QwtLduVeyChOgqVJxXLagL1vU029ieJHThdLdH5pnuXwyQQzp8/FToqBybB7zi/JJV/dpATDoaTbH8sOOOA+Ut5emjgZVvrWSORzX6ZDp/ToRtCTrSM0Pxy8P3FneQ93qxC/UZwWg3Eg9wgNnXCbpYxLeTrDoq4wul7YALUVcDSGC5koT7cKkiY5LN6mnsqUIPt7PnH9XV5oRVXZ9aYwSjlGbQiatfays9FT/Db5oaiVGi2ks7Tnw+ylWL9DALwEa2tRYWItA5ARZ6ANg4Hq/mzkr6lowcuDrO9lvrnCC+5agQsUWR8XXzxOJUaqmpIU0GOIiT2rsGd6G5aXzzIW5GIY5M0xvAlC68U4XFGxA9af0fMvqodiKxuoMtuT2X+hTdFSon5gmhtEb3V1MQ5tFkkWgKeT/wk/98Vf2IFe/mkr77aGxTd3QBjrfPwAdyDv0gCIjWmHSqZcqyiKJX7ogZ1CvMqzhp4bM3hrHm/r5qsxKkuPaqN71yBVNfU7Fbi5GFF6mFnMcAP3gkHMjj0JcqUuxG1lhSxj21e4GBpvqvw0CTBysm3wSwfbEulHxAkEq5TQpr0A5ndCdpsCqHMcUl44DMJyogPn0QEw4CL2aNKaeeZCjbKSPunZ8BRmDLmKxU/m4DgufQOQjxZtxSWemB5nylgR2Ik6JE5osYp01Xor/BlWmNGiOjKVl3LYJt1+O+SvztzwjmbO6Re9R8fNUJN8pSSdh17r0P/dTJfy81zHvgXsJN/+HkFVeyA7T9J+G+ktOyoP2vqDpTI7+YvURXe1NmTJF6K44gwRLD7lSI7Nep08CiDLFWiaV79CGqOtp/8yqqkZLZP+jPYMEMmpso6r4krVdmrSnRm5dNDbNRcI+dLiBdvNF1EhcfoJblfWoilWEMXrUA9GIF/AvPUcoyjf4jBqS4gLxkPgi0dq7vDDJtM1NJriaaV5VUSZT9RwzCIseAieLsGnFtqmrjtXG/6CA8Q0CgwjJZk02HSAJpo848zDzLqgoxzOV1QW6/I99lAiKvV92bxpL9M5CIjxn4z5qW3ylicP6DfdawfwLA23K83fwt0e0BKFvM7/RltWfFJpbAnn+diW2YWLLVqd1tg6XVpOWmDRYD3ZRgwOkGGXMlDJ1xNzOUCtixoNjgyp4jAd/TU4Ds4P8NtoLNzQiQkKltCRJHxlgSV7AtWevJ7pA+dy8XuN2xMRqrIDDBa0SKVtyN/3wwF6+Uhc9Z/pb9AMin3J9Yr5hxWhyemRJ6A9p4h9LjHR+FZHp1lBAYzTaR8L+UpxFzzxZWtvGmbEI5EOtxqOVDcDvx5LjXj/di1ThNcex60Bw4MQSQ+JduC2MnZmcaNaBnPT0ewNKxf3I+5knq+4exdb5BZU3UnWkwk9PGcW/yzrmh+k/YvU4I2uVLBczi0ktkKdUcUSFaGs/BMUWYh7IZUj1nvVGCfEtZ0tFFeCgI5ifDAh8SDEgF8Ai7gIRRS+iTkIjyY4ra7xstqt2U5YN8Pm+JgamreLmxP+31skQje9tCvjGiuLK2EmmfyaR0Z2tS5CoAVy5WWmi2PQW2L5tLQtKlx+VzWTHNJjDRrEtbtsdNULfLjSbm/RQhoX23BZVXworKfqbXNU2aQx5mGLgVwmdzo1lBvKPKSSSez+CY4NSA2vkUMo0nQLXx4xw9ZnTvPrmGRihDFTuNfb16QJos9iwyA3rgpTdrVohzcOxuELngoDohYO0ZZVGS278UOw/tDvJWgHkm/r1VOWwb0f7ar0nnVEexephtY6hzrk+4JiFDlub1tAX1ZV1vCXsByyao4Vob6x2nobqlWnmCC3fQgf6kQLleaVmyasDuZ3UxmLCkbkF5qc8f3DQmDtsf5qR6xWYgMZGMESjft0CCFBwcFVGCTyh2nYOKcyNRH0OqYW6+TVeJb0HLvXmzyra0KAAKM+a803hVCh4bz64YD2ILdSSfA2USVzPXQ97tfkgdORsOxa6VrXZfDxHoSXyoROEiAtUFd8wXQCQu+f/EPZyZ22Uxb2piJDTJwRPY+mg3ert5+9bBtfbKoW1Yx8TAXQ2hUN7+OgbbY6nE0zq6NVwupYqnnK+tllNt0ID2/dgJDn9bLIPHPbojibZ+9xXMnBgNkCHrsmJ2EgJAzA4lUndNARdZgppiLfuK8E+zIB8Sq+GDIlXgVCk3cE3Hja+tw7LVoxrynFcyL0s33Rx17StpMrU8zqevoTbVzZ9U9fCzPQCP3mfgopZvvov/0lTc+bK6rO91/Qo9RUcbWmopmoqADTeLoynbgxK17Cc2VuOeuxnf/sXaV5CJEbLnw1hCR6Jq6pvG+pht+tVXD3oO/XO6k/rO9PdtVm8pUzNzoX3DDvhtNdKHwvWBMPjBiz4xCr1MlQfH31kt4Hmo6HV73JTwTSuqrhB99hi0JBoj73hmBYByQ28m3ANHc8RuEU4CwAh/B77y3nRmhLkwb4HmITTKOZMC/esXjeh6FFVuUf1ZQibnm7k72vk4qoP8TcocWYXgHNRbJTeqSUIGj7HFQ6XLkU0dYpYBp3hWM1QzKKshJ62sYJBVrgcBo0jDXY2/JltTFIwYNL7EMEmLSJF8zhGNbRVJ+2HeoOglAXuRcmgaPrlE4wGhzDa+aaCPOO4tHjPZM4o18nLXfTITgCa7TSZu0KsbqDKWXBXrPZHVG3pcnihQKcNmsNYrd1terJkv4jKOv5AvREMxHQmRLiYdpzW4CXF8ke3vOH459ErrGk4A6By+BXqnMCh9lf8PqeXAoNJLsxa7deL81nrWUg519SXie+5su+wYAEOma4ttyit4EwqsLTru3PBdn5WyuUB4eZxGtdmm9CKVpHNXpEZTiky9xvyqR1f0xuoly8qPY8YcSCg4pOWWzhhRGDGUDIjqA8jQyENH1DY3DYWbjp8OYfgbkZhxLhY87+as52ig94M1Z/GAZdnOIgRS8DfB4yuCSDn1wUpu1q8SoLwFwSnosmWBCwdoyxRpzKLooZvsbXHzmj+Ft/XrVs3iiowcOnfr6jUDa3r8qnRE1x1uxjEjqeEJPZt+/OX4ngoJLB9biYb0GJGl0ykbT1LFicAnk+7jnU8g214wyUOQ49ZVUxXACYHVpEqzOXxKeIEOnrGNhbNoalG/l9ECQDcTKqMEkHH8r6RvR/jFSqvYif3fdD55enCYwpf01FlG9Bb76zdghJ7IUtMHiI4+RHKfm2TpRQswve4Km6/Fbq/StzRU1HZgcsEjY4lChangmgakG3297yJ5sEvtQWV9pS8fccbH/cZjbXDzjhhl8lZ0xH3/MKSX7FoQ59HwWEjPhQtBICt00NA22x0jnKea6NVwurJwUVKgImnRRiwHt+7AQoFAuRWpsfSf/FqYazEug08AzZhk9p0BVMZD+9wy6lgHjrjUpkNvrq/wng8AbWBqtSTZxYTXDLXhdYG3pKNrp/F68tEatfc6143/M0EhwgeDDzLS5abvi1UIXb28/6pNrYJB5FlcUPKYQZryJ1v53wkiQXExlXALan52TmdNDVxMzewgrBB5YdfYzJdpHVY2JTmYAZdQo+JcmnmXYA1iTRUZtnJEFz+bRWZuMyDbj/ppPlBc2M0WEUnwktcgC7/JSJIB75JUMYjsPmkevJ6nG+Aen6aslP3B5Gj4nskCKlQO6lAOpy9qlxkSKvnG8bToomYKxqQ+SSWzrRYNnj4Bx3kF5gRW8EKPGCFTVqWzgWNaHdWOYOl5vOBK4UrPEqswKQ4YECe+mD7qYbhRvQpJwSfwU2QA4/xbsXBmy68SHyVPUOqds93uuN0bZ6lLdTaUXo+xTW7Hc3E7uJLqlZJNNrQSY6GR/F3ccA0Qw8TGYSH03evpkSIcjzAZvuu5C4RY4DMZqlGIlmyfqJ0QrtocHGWbucNZfbAnCVFDSlUiLwB6mUz5a2a7kk70cNDDcPnKn5rrMdyQB3suReJyFEUNjNRmxcLT6JmKLLr5Ps0MkPpIcrtDOEbAYxNwIXK6dDs9K5JQe4b4FtjGnQ0lzxPKEcRGO8kgALPKSj0k7WZXcVpc22lshKSw5WX8wY8KO1aUwjiaJixeI5zdNH3peMU9iMh2DrBAh1exw7Tx2eofInb/yULz+otlUxFPE4DR1J6y4NBr5hpzlE+iX1mgYJdqbemEh9xNqw4DYd+7u8horgRQkroloXfc3NAQpzG4WwHP2m3EPVPfNiR6C7UGBkR0B5+sVO6z6MvYrvlaQSBxsq4G9i33gnZ9ViU8bmFrBGl8yIGtA5U/IjFnhRG4hQxLvjzHlPVtm7a9hQUTNqz63wVl2XdqnOrOgQgNlLygdwA5uD8cffkCbB/knApFcmkOk6EECE+zNiM3JQiVxbdDWHAxJPI9KS2U/g6gkeiQS2tkcBKkMdqN63VadT863xYo0MnCFuzbqQcz5r28ss2yMHElG47EcUajXrUFN1MoK+9VwVjRIX+bjG1JIV1mkp97CHAVG07svW+RFk11Ge92NX/Al2ZxywdaiJnpIeS++4T6T4UTldUbqeqfp6zmom41MM6077v/L792ywGhxq1FWQrUjmD6h+onLJZMHsKyEIqSCObgE4HNIRJVepfCamwxDNsGE5YaByOmYVnHhmkEbmDC9YM+OKMTdYeEKPSjo1qPGjMi3WZuinJCVNY++bEjzp2oMDIpID0fQ3cdRKyKv32RcgT77Pjc6q637DOFIXCfJ6FAlLVh6kGg3Icc6GQxZAmGiwyk7F5lwITdRBjOQW8Hp1J5ghOtrdBe9U17AEWeNeQ2WUc9mmSggTnRsi9ph6Q2hHLqY8KEU5nGLb14Hz6KyqlKZ+fX6KUPrKn9yDjowoNSjaSylqTIwpDD2kZs5lhcnTB+QKR4ZRdk3jikEGPnNCEBzUUOr9UyiKMc3BhyWR9jgcfQrGLgl8CmCE8Fs3G11UHik9G4br89mfAJ4giQweHcmY0UkqMtGphpbAcupFXUkoV1Y6DJ6nEfy4d4qksDNhRrFUcqDZuhC9JQHmGco5pXtBTiTJjTXe8m0fm5eOjM0s9h4++A2U+xulDkjhiI9vKqBU/9egYNWnbJta+o1qQp9EZRPpNW3b99rK1uZGxzromL0f+Tp2RgacnEc47Of7mxXm31XwlTDVgHEi7YwjHsDVpbJKqbYbIIrIioKs3+paeNB9uzgBJwcawVrK9GaXyu+q1R/4A/u8FO3ovSUsKqRHI9HZmm+Lb5Bk11Iencu6VH/IeCRO19BbxgltuApq1BulWiz9/WNUQ7mxI5KiozHT/q/hX4nrC591y6p87hGUHCq8sXI8AHiQSUO3VubL1fj6dlDnFuPZ/4vDAz3NlvSWe+E/Zhyql+umLM6bCeOfvvhWFWJJk6NeQ0/2HaTfLbJQ7hiK2C4ogLWs/yYpMjQZdYsmK4z8cSDIEogJ3LjNch5qzKuxZxIZT6FuhJ00uLexrOCVTRcUeiQM3IxdIwihlbIgiDiySwohhASpgD3OPJBQ6ST6j+pu9lW232A7dBQxgCbtkCEPATHsPNjGaU/vn3Yv66YKOfWAgfBFDEAuUaEt1U++f5MMQbmYlMkN0jFX3+qcTycnS2AGSwdJnsvuc/sYhpFZWA5ngC5JMAqK3Fc0LMsThY7C7lwfvSkiO4Y3Nln2eUHy61CUCCsxx4TJSsr/2o5TI+G7LhPEiKGVoBr02yFfzZgUKLpOwbXvRE9j5Zyd+AJUQfjClO5GTz7eKX99zq2ZYpLgaA7bQDgSkQdjAwkYtTd7UG+qx8qYP+fzikq9gzyymIHx9gdCN06TLI9DEFwIkXl6SIO8NEWtLFpDYBKMvEonVJiyonmho7r79iasDsy1tARqyceHfMmUtNmtk9JhPhab06BKtnCJTnEayfjJroXXklzhh50GZjiIn3dOPvQ9OETfYHEhXm+Dw4fLjTgp+CMMCouthRYibs9vKCevdziMr/0+mJCeF2//iAtpDm+rfEFTI+tsS1aZJmUIl6sK3IhIRicQF0cefqeqjGD7qXy7bK4xZDqba7t2nrFBfAcgWKvVYkuF3nhVTdVQOze/VNhJy1qcDUlmS04akok2xBMDSv+J5Rd0bs5FoBd4wV0YhK7QJymxG0IRv6yvNca7++c4d5DC6gZJAuuXnBUF3+9LsIOlhUyjxtgaFNGaD1FE+KRwIEOGtHuL0+3AIh3kHYPlVh7Z1FrE33dQ8EWdIVb0aXZ86rFZEj6SnDAgOrmVd9uN1DYBkjcU5QR9UZ+ifkWzuAYbzdAfZYAeoeo2MNebL4xw3YXtQwZa+mGx0FkZmDAVLdzxuTl741TaPHotzN9ijspCLG33ZWuPsYpxr0BUGleR9KcCOOoD+iYLZfk6lmWOp7Jzl+An+OVtvNvzPK8uUIWrTmaB3w13rH0hgK9Q1g9m9YkX16JmYlthdpDz4JRPkQPycQslRYTGUD520/9JzaRocFebSjSY4CLUqqsAS+KZI/SV6Y+kxjDZyhm6bxmZrjFf2eKn4YZkmHSSgUjfv/yfoh2rB1FXW07pVG64lu5CmBaRyAIYCqZZeGRmSkSpeycUKU/hISoy5GlnU8B+SZj+FqMsG+VDtr+gHW4BjaDRLT3KoByE0UOejOYxwN9PWVcE5LR93rLY5g13UexjBhqXdfp3QsCSP2tPB2j6jpmCMf2ZWyp2uui5SvF8lNiQQRDwnw77hIk0kDrpBWp67/5Mxx2f2N7+BE82CHThEzqNElr4wXc0RWZF6sxKyCyUUsxfZyvyh66NqSQLBD4yjvQ9dRa2nX/UahFJ/90nenWQEb5hzjKKyY0AwYJiGGx0FjDWgdmW7mCa8Uc0A5Zytx5JsD2vO3m23CpcWKWmH2ki3QSbHtLFcmoKBuc+LEFMpM9b0TWqrXaLQser6ZZPOfeRJgACU0ie1LJbxFmes/5F0Bjo4rh0VlHLRNogb9sIOKenIJNWWPy6KwTMy9uSX6CHvFuwiQOuhaJmsyvR/+/Vyz/p+vhcbCxqRgHdYBZHVyyeLnfGXQy15QPHOIHdv21O0aKA8lswiPxPFtm+R8As2LXc/l5+6Pg/GD3aye7PUltMPEGhNKEp4kAfD23fATAuYqnDBdH3i/CKcN+woYUcJY29VK1Q5JLlJR9exWIlsUe3JHF2ZbW+L3bXXXVkyJJe5gGYrcFGyMJMBSUTWXgJBxtwp1y/T4yvdPx8GtrtLg+MT6mWIGEGpiV5c58VQ7rOS/GV+++3eSw48I5m/tKNWwdqy57oWxLMvLRLNZTQUe3tVwpFUoEJRoUXnvps1SI1GHh+zYD4qncYxxcHv2bYbP6MGO1XHd1XQsQRr3qGMQ+5PWVX3wdAfMeysTiIKh/p4/8ArbubHYD+maW0fruU6t0mffaokqZBKIodssxFnLpDA+/T2f5C/5vGLeHalyV1SkLolrUBObOfsG1ReR1U/5b63O1IUbBT8GuAKAMrFHcbqnf34LBr+G/YgR2okSBQebg4+dbogwAUqqj+efI2ClvjBdLxuOhjf70N9Dyg/rfphRUPXh/Dy3u0eeA9HKIDDCiamfhYLrenO33Fy73n+M8w6SVoSfkCn8IaUMbTDgbs6uJWFV+7TSrfANXxvUrRE7zNrGps2h9+saWjqcpP/O78gZQ8Z4iT8dtDYoSy0aryqRn+BwNIf049BuF9CFVREgucnek4qcquaiSmNWzQiKAlajYp8R/Ihz+bdtwz7yuQZcDoiVa0Zo9Mft679R/Kjl7v3PSvyeApDvrW2vjVEbWQ21NIjkefz4sIuBGJ9y6KkV17B3wGp1RONMbMGxtxCNucbohIHAl6yAZ97IWATmrHZLnmQdUlEZl46Js/a94fIMViDbnHqNmCaRlBKi/y8//Z+F7tQ770WgEuUrOJonXo1AZ2ijNigdHLioftbgrq2q8TRXhhSiS8Pi5GZ1SZEgjKExF71Rltu9ZHW8CdBZoMbM2UTEC8Sq2fuRmZEAIjDiT5bqI0QOIlL/bZNCX1Lh/+fzyxFwk66EzxqQgqC7HZQV0C4i5WGU4bfDTYa8ti4oMM1rsFKcMwr0PSHKiM+dgBocVvFdnuYcha88+jr8M4b3HXrYjStSLV0K+Xg/UIg2OMcDmK3a9XDJFE/lIDLydwR9bWeJ8YSoYNdWsLJKIS5sNO4+/A2eo4TcwLk/jzLIub1uZ/mylJGnzAprqxcaqP+2xD7GoarO1vxk+RhCDdL+HCW+2cvT3DFpbWwRrvqjsMU2VcR+rhBw+sCf2+9ROngJM8QCC6+fhBAqr+B6l23PTG7K38kK3FnpvU55sdY508GFg1XJh0fFMLvOnj2upe+YHM3ihscBrSo20Rjut88U1qgZ4fd71gePzMtKx1ivS6eOoiIprstz3+MBOrzC7hbItwn9J8RWhAQSAu/tvOJtyDJoXW/LNJPnqXAOAyUF4wm3s8ECrz5ocnBfglWQGObeBtXA1Qx1uVqAcyt4RJxqYZavzrQe5m2ECYE7yoj/H3h1emLrZwnXClT5ynABrCKQgEfJ3MAanX/xthK2d5PjC03mQ82L17whY0YVpIoDJTrC9SCviZ9xPu4u15ZIJdS3+Q6ivbpGlhuIBDYdLvtg2zJnmU2fDWcNM91kutR5UjWFEzkAk+MCuwryU2XL05S21XOC+BNpUxIY/TRai/N0OxUsAbgtycu1c49IMo328E3lyukJZJoNS389beGCncPZZvVfRMrVyJOaS6X0m6oDk4M/UuJ1HbiMXZReP/YKNAYCLlh7annWmfMXjN4FsV6NsdGsBiHZ9bSnfIIah3IwOZRwe9Lf91DktNrHh+IprUIDtQk89AGbQsOQdhNSU/Bc7wkcw7rCszXrJVhLGPIu38Buk7SmceI9K1CiKY0g1bP3a8nNtneKXVrwSxMVN1Zd+SeLWQoUV/CkRmWQfvbe4KoouUoXmat7rg7yET2bHqk81lA9tsXqLFgEBoRQTz4hKdpomr7k7A5qY0hPqb3w4v4a866Gbym5RolHrkFtDGBJmC+PRpdiN+Mwd1CteacOkvdqqZC25omSvS6asRbUcwghIv/CSFyW9QR1Ssgbsp+ntTw0tL4CWK/Vu6h3+j4L7FwvXTSRQ1OHTvSoRztqfbJi4p6AqgirR7AC9bwQcgZBA+lL5A8cIL1S/BBQ/bujt1TrH7EVCtYqvsxCi0G4igb36mA57KBnF4IHpUo/gExizSsbirgV0Cm2WbBltZaPE6ZYwuxK9Rw9tD6mytOlPDTEU9ilpjBKWsZtCJqhuqgQaCeSpZm8TJgLr8Yp27ML5xhMF2UX/aWDRvnX+0phVK0iy3mE+rCaGEYFdGgVz4XZjEEBM6G9Rq2PFM6WYEjdbIa2tRDPUc6vc+YNYO/01FUqjqXTmdbs8ixbzwYTbtdcXfPFOCjw2IHrT4Zj788g+IrG6if2Ggsl0j/D2Con41JEBOLgFdxoogqTItBU8n9jyezSdmj3Fe/lNo2FxBIOoGRmt/ur7sbUkO/R/6rWumTIIqgDFBYgJ4QN3PSvWPBLhJ6gsJ9NvU/1kKuobkD1qDe9gAQbfgs6W63IxHQEgOeJP4zrWN8iIeP0+2zLCXWsumF0E8vdklBhFlxhVBd+QZIwSwdf8s45a3w2H1m3vZ1vNYBEbdrJLcSQSZfV6xLeEryfrs400Tv/W317uFnInUrEuPOz38FJ0XMm9SeZz/IufQNcw63Wiks9MH0fGumhrGE5aQTLvsU7usyGE6jHQVuo3MdsUNFoLNuvhgGoqP61h1TZ3SL3pJ6NJoU3ylJY+HXuvQ/9RptaG/cx74Fg8Tf/hrlVXsgM7md2krdfp2VB+XmkbRTwCE89x68jSQp9j2vmdsO1efhpQRHZr0+htgsRkeomc0VGoTPHc+nBR77GJjsk3ExvUh19LqBwC+yH2rXBiKrv7U0vBLZyfP26HueJnvm2Zh8dFJba1EUpLYjyr3uKq2jEgaLA44rxmjdBUS3jRoZ60mS/K7vDDJNV1NI44x8EYQIWdEwq5o0RYxB/oCaC9q+rsgo7Th/7CA4c0mW+qr+asDHR/qMw1D4j62XU+yrXti6C2zZIyeK0KvV9xO6gS/pICYKR56dTdhROlixrqDfd/oSOabO+ZbjVo+CgqKhfY43nDqGftRmlsCcuhjR3iOjh8OxNTEdhMMjzAAQeLU3Zxy4hG2rOXjExI29knTp3yNy7Jf5yHxarKuF9AWexS82r2aJiJCpGWzyAkfGWBdZTkQUwBmRXlXTl3143a99Wj7RoJGCt0kuiEyIBoKeuMiGJQRHZslG9sjDHmxxfxPgnyelRJ5+6jOw6XGOkKTb/TrKCAxmm0j4XnHjiLnvXLaXMn3m+50yU9BvnGH5558CnPH0yjOE+vIPlckFnOh2uchZ9MKbu+Ql04WazwxFi61Qs0opo3P8koBW4MxaXltv2oUnZ+797EEf06CzkrbPVzn22DwRoYnhDDUk3JobwHA/Im52vzGdQoQSf5BKu9pQFjsCXKNcCIoY6tRoILkRnvNeyf8hmq6fhpdW/8mlvJZAjdYYSDVAsV2sjLz2BHoePV7g7AMMMEJs7q3nOjm9mR9chJnZu2mcxxF96HIVGSYrnG9TtFh5Lg4Np9gQOgzIQSehUgOzj0V6JGlsCI4NWy2S9aZ4sHpxr2ZiJ8Wm7OOuam7I6Tg6DUlTL6vGiTj8Yssfgr5A0qmevxuyhQbR/P/eLKr4lgr5PSEKtztVIU6QNAnSOEsA6+xbx6r4mPLXEqswaVzDUkZlDAfZWf0ODHy9FjDlv2JbIwqU+d2x4I04s0Dg0IFQXQ9UkoQz99bsUsjRF4yOsUqUNbwsvFTPNbeNBxDJHNaiz8J0kwX/x5LmrLuMZ6NkvOdZf3Vb/nXfT2kFP6sQGa8MP4or37Xv7rU5lgfPyoBZFHe4aJ2iVa9tclXbVqj2BkYX0FnJgldLwPTMJGyYlCfkhsDjmBLwxnjdA4XHmM6hQglFlq+xwuvQVzFYfE8l9N7cLzu1geKqyiOyltNrSYg05zl8sRF3PS1iM/V9PLZgMXP5B3fpnmOgI7jIQuF9edi5+FNW1x/krB1stSlwefkEIujPxRkuu+Bc3+NIL5xisi8ohMFZ7o740l5HAtMCuKBjy991/P0khgTkJtOUeYNm5ygis67qzEDd5z+jkgvyLV1ELQ4MMRU5Zc64KZb3e3esUfxg/hS+1PLUapNccN0Qfi3Qabybk7RMwL9vB62JaynPpB2YGpIksoA7v1wdqJIDiJ852EHjYlrZO9r+S/zu2PAprFmz0Gg0m2gxqklBys9hdOsnrKAXF1ilbeQcVYxMSWZt7qjD3NK2yDDpx+uNmY8VRokuEfNeAdoERCD+zkGoXRfyzuC3oA4mK/y3tManIYSJV7F4QkX1JCaLG2KUN34rFGKGuJbpnG/IJGhT3FUdbXQD1/wAdceGr5qO4MoeZzlYif6DETBhQ2bBzHrv18NKLC6gcxXaZOfE94eSJnN1LraWYgKlOHRViqvwqfw5EiiVyyE61c+B+8qekfSjwmyuRimreLmw1LjRfn+kuBrowjdcs0j8FTl1Px8AEOma5pNvXLRtqfRUi6e8mMUhaVLkO1NMnRIpPHEGgvsdjRkYuWODfeX/sKk90j9w5u74UVb9Z1/VpTRd5WZhi4FcJnsSNZQbyj2xdqBMtz4hvJm7x534nQwVLq7+xcVkyvAqqeqCu5oGXZziYX/DSRYPF1aEb+GuClN2tVYZNw7GmynhIAfsLB2jLVl0couig/fRoBpK0A8k39ekUJjBvSCzu2Foa83RACYbWOoc65PuCL3o2TlHqIV+wMGbQu0XN8mqOFTnAgSC072pVp72o7T2a7cGIIivNIFyG6UsrdqmuZ64Lic/qc6z/IWeSK4vgLph09YqVXxh00b9Mc2woODgqowSLXKnmhinMjRFjtQlRivk1hCTPHJAthTIy8BCgACjOqkyddiiHqPL3YvGOxS2aM6ErBA21FIq7g/q8L2wqgzyh9MNINSsssnx5T4hE4SIWIa37fUfdYHK83NWPpeaNWVO+S13Ir++eO8PEO2Cqguy5FF64N6KaUitYx8TAXQ3LP8/lTnNtsYU8nAPlDS7yif7wyI9Q/LptuhAe37sApLf1ssg8c9udkKNn73FcybzsUS47XZMQb2XuRuKxyn+o3wJdyqtV0k6++Hc4yu9JsupE7oSYUOJOrXN0EWpPsorBzs2L5RIa75plt8nC2MNG3/rxbKLMUqDrmefQTph8F+Ow5NGyJ+vO+mvkVI+KZzO9Idv/zJ1wTdI8rwC3qKQ549tkBoG9Mf+jfyQVvqoKX4SSTyLp2KS9W9XaqQMyrBcRuWiJO/WKT9XlkVVza/Gcpe7DOcY/7jnCiQyKrTHivwQOeLmDr/KlT2ZwSGX18EvpmjFDcOiUF58I6WaOY5gD9w++FhO8/095Wpcmb5/ED5vY0A+qlPYZivyhy6pfo66ORwUeiLvyZqSKOLSdAasnPRoewpYn3lhXpaQTIoLHxXHL76DXhAtmQlw6HgWJzOkIfc/IiVlvMA5byOp0INzE0O+rMk2/3s7ASIAdh5FxOMd+Tj7d7HEI3ag1EtKPnIpP895dVaygy/4HIJEqyRXAgHd/FRD3tZWjXhmQ+2IH8vAKYUdbZ1tcl6hzBdqnnfSlAZ95iY0B4TYGlFefkma5ZFnpod6z/0eWlx3c3Nflv/UYWFJWm6GLlA4BHP3LvRL5qEgLcXrrjk+Ack8MeyFVl1W0v/FkRR23XgJVq3KOgG1ABlHLHK0oI6i2+2NNpldBcNtkyNjPcK7Ho1QGz/HC8Ev7d1aPZO/e8Qz1X+73OuCWXv533BewEBrNV7uIMmWPjWNsITnSfyqhRlFqvGQNooTP5sJLZwU5ki6fNZlKjN5EJceSJE4JSvTTEwHrSnsy2YMuWW7N9Lp4GUJcA749sSfIuw2Wdhx7MCWGTFE0xG3iMsR5CbVcpwv+E7smTFwkxvleej6CtXPXLNLdl74nr32vApUqAC+/Ue1z5vIXSR2CimUf2QcLqwUU2JBR2Q5m6KeNVa4VyYXCS6yP+TNDiQ54HSQKlFen/VhcnkakCffZxeQt8wESUin7snzE5JWURD7bQQk7lXSGWcmFQDSGOHTs0AEKql/4VXN2aUBJM6a1+lQNjhhIJ5vrYZAzQDT7a4i8o/ofLYB9h9vuXnELY254QJTKHEBpzW/krLyY9ETJ+8fFiJIWmiEGATiaCqefXTzY7Xl4xlWS3qYAByUyTZghIotCB38NMCXgIkzuYv4CXdigRJMsufXcSBC5fHHbBHH6U/fvsGNbgQ1mR3odxdsl6JK2l0cDO9U2pauwg5WSASvnZl6mc2D3XXo/HKtA6IZgagQsd96uScrblWSgfmYd2lBGKKoUhKkmNunTfhgakSfZlI7DiVadnXZLFj1OyGcShwHZJHRYvFGmCJY/3klH/AUNQc10nJwqwlxV8j0bWsHyc8nVR4qNR0Rcrgg0YDkeDIb7v98nF3EcByS5bjIcaS+U/VjHYZSNo/oYkPvTOylJEJmZQ33WEhF3b2VldILFpW+48oeZa7wiXIxtYQI308hABioICILVJ8QZEHw0Z8kYjPaCnE/oJOFAEqFXy5mzLBs+8h2PWqO9RHlfuTQv3bsWbaDpBQmw8Sr+dYXa2zkOXUx4UIpzBXJnryCuqVlcQExOgfl0CjO6zuIolp3l4SittNZG/KtVXMGTr+8lFm53AAjVpDvWelfUQ9D/GOuzfBtWKnZ3pOodb5S6m7zziaHnxCP7oA0eTRwG9jmFbF14b4GsNePRTceQ3JtXX5LSzADYHsy1xIQEY5vBOhtfoNG4Rk7+lxKAp1xRGp3mnK8KXp5kwf7G3VSJyY5Y7UG/D2LqOhkjTKRMLXDSmivR+d7deLCBcMJNPbdK+FWPNBvbyn1p8vJnS7z7iJReRh8sK0TdLHtAfYHyRL8FbSiRn8H+bcPBlH76bcAEITiJFXGDBIT0Q7qbOOARUBIJF/PGgJzp4KEPMEFVULJ/BuWn7Ka9dn9M+dSseP0pdazqZr648LFFncGWL0eEIHBnx6PGRBJllGrpjDhxbS6Bc/nNXr41X3jQuq6SLKLIclVd5apxvJb4EeJHCQbjR2sYsViSqteD9wl+SB1I+8orNRjOB+UfJcpfbCdqA1Ecc8uJLTfOblR5jnhc40O+FHAckRV5GiLHNOJ/23v+GJ+lsv0EDu/d+TNYdzyi8ulDvA9orCGOXbCoi7xSmCO1mFiyAk9tyo7kdusGTVgvKaW9bmZ0GxClu3CzuEIFPMdFGFQ18r1q11iSIPn+JhjcbTEePvNyV/qiZlRK3EgbdBP5LqPc7JpRpOfSV8AuRBDLLBUqfBFx6CZm00FktPj+CjHiOzqknVnaUYONF0C4kMr9dc8RhXQ0GghpCfsoKE+Erfo9G3bxWWNGqVETGwtjumopH/WScrhmtGSQeCtK+tbouQXuY+olAjwkuEz0KJ0t1ufj0Z4/H5inpxef2l9r9/GMgJM9EfbLNQ7yh892vzhF4gdFYvigeoT0qFaPOkL7lAhmcly+WB5hs1SI2hN3INYpFMN94YIzS9OzbAv3Y68rq47zJ1LsJ1iK8wRxZznTtmaVAutIQtQriH4D14NLWRG+TnPOe6gu0Xr7xiyWo/jnYQZV/ozW2YxmI5pqOqoxm9hQjv9VUUXxSBONdT4usjzHUX9bV+Nqi7mQdXiX/eg4tgCeqY7sVWo7V3XrCJSFCmsCHDG80jz8kSlhWwKPtSHQ/emEziHafC/p04Vsf4SSS8bjoY3+9DfQ8oP8xm5a5HdSdYZ7faIrgai86qDBiaPxKy7Kc/jB7rK0PMavdmXemNDLdOPPwhtDrWEKDO4ymihMHx7a2zorJgZ3zSjzvhIWJFr0EYpF2qzALQn+PvNaguQlM8vs7sFTIpoUnjsO79lWzA1Qf9EGUfXJkfpJYecnek4GVNcRZT9eGRoiKAlajYoKyQP2e9re+JxXZx6jMyzVUZq+vOReSlcoPZi/a21LFkN35BgPg+3OP6BZ1Lrcf3xZCIXV5IsF1unX4D+/JMCa0mh8ZwEOBoHwPSWfp6s/2GplS7zCvs9/8/tyX04QYnMgG36vjqli6a1NEhNKa6Gkxv1OvAAu0tthXTeYPH5YO1g7mVajVdC413Er9+/1+gThqgnTsI13p4mmwPWoIg+Wpa61ZomucjH6roVf67W0vZhztlyyzuNzUyJOXq9inmWEy8AOPxgne81fbwQLZQQYrV+Gj7pRdKdE5B0sKnEL+2SZq0wMyAGnsS7OFLZz0hGiFFK4FjCUxEFYKtEnlGaJnUZ/yzjOThtLOSEGfFIFBtQpnOeVE11dBVK9wj+9hxJsp9GO1r/XpKXX2eyUHqsTbY3UtOjdxR/0aM/tsFkcw2OhALaG+SbJJ9EyvQ+XweYK+XkmtXT87iHwSvxCP1DhZIGD+i31q6Ax7oYQYIxoeCdCq8fWSJoa0//ie//Wbid1RVLH2FBUo31OypKrQJivq3hpSDoreiexkZ6nOupbYXaokJhheUKo8viRQEBNPGNb6nb4x5UYiYFqxHdItW21CymKJBLzuwpzVD3W9TxZMwYeCiRpSWRwpwShVygjykIQ5ocLexTnKZzkJv6xz2kqqF4Y7SbFKa2hEb1YHBcJUbxw+/cjXSKcVpbMx/gHRWWQGohrPuE+WqjTHJIvQu92zkNbiqRhmHKfmrWk0hOlsAM0vjI4NPg9/Tp5V5DwiN6Hj2dxfkguPLjXQOioWvVf+k8/U5TUD117wJx2aVBUuwg6WFTBSa2KIho+65tkyHLEOS+uJo859WklR495Cx+wVT+u8Pxww+itHM+KO4jZR0RboiWayu2tc0EvRn3yMg1aU+o1KdFbfWenD07GGvc2rl2WAHqHqNjDXmy+HuismDAMGCYBhsdBodeB8hqLePDLSB8vg8wEtxzD8iYsplPBKoLi0vgcG0le6DDNXI9OB9ontEsklBAPdfOZ+GNcR/veTDpU30R3UE9uX2GUSevnKKbO3CdbXEwjuHP9C5fd2yrtBdqvHvA40PFxNebqM3Z5c/aX14grfvxboX8vO5K+AFzbP5DwQvO/usUdzZ/Yg7hJsVqGdy7E+UPJZw3OC5Cmar15p3oLdyeJ188pmvEMCvbaR2KRoqqsoqOcQLjI//rnCyg3lf16DQMdyyVvSKClX3ujSqEVOLSxGX16drmYS3fsdFt2BoWgXJCwQ5ZEjzfhaM4Xr02kn7LEoVY+fXS/lMdk1gHQVhgOHVGSxRf1v3PTpNQDxHcOLWSAOT3NdiKgZrYaI0CJHoqaB+jF6OQjQ51IZ67yCMlaVjO/FzLNOh1Y0xe/9dtQe+8lRJOKIXifBQJD5kGPb4Zgoge6MmC16WM1VHbya4080OKi+tGqFxIa8WXAv5Z3sITA7BCJJQb0tztcLTNKBKPZMCUvNJg+h/CylHNhe2uXiTL7jAU82IoJqxnlTuM49/7CXl1+jKRRvQG/rhFhpHllvu+G+YEjNGte+QSIqKIpUCQE7C3MDRkfFuau4qZ/lcvzXrlj+pl9+E/D+jiy3rH9VY5JVlvM3nyS00fQE6ED0xGUszrT0dLpXMRmKxXEevDDxrP8W1Y9kE0JWKeQz2OIwUh4ydEulUoR5CEId0eeHQko9DCrm/hqjod48R6B/9vOEFuy6aoa/FiQoX9noPdhtWXVA7CUsUQS2DkpKYz6wIOITAlmas+aQpkJYeb9cuD8uVwJ3+EKQUUBExH734uusi4DtWU5RzvjCngvG95QizXVzGuwHZc4x6JzmG8LVwBOPAZYH2veCZuR+G9jC8IMvtcvC+LzbwMoQIuib47y7dxo/LL3et8zN/1vdofJ1t/MuRwIczwcaxF0HHeYSyN3ctachn1ylLaSpzaT8/s0iaoDGJars3/ZLxHGu9PiPwdcdhh9JsCm/1uixXfSswLPrT0GVnzpEHmncSNh/xVLH07psWEAU3AMf1Nrl8hcY8AoG86diey/y8Zjt3P0J1YjSpPRZLcPNKSvOVwPh+NPROSGxTobN/CsPce0R7OzKL1uYDNIX4b1MYE4SpuoDUeA0uxifTPUGYKeCAxWBQONwfP7KUP3duzLwf0RHOv9In0Dvkvqm01eLqL8cBPW7kxDHWN1Jl+h3Wfht3n0ZAlWPzo+j+Phx3EKnRTqsxZxJ9jQUiNxy10YKkdLwgi+98nXSiFLAUU5rlTL4fQBdHKxY7HDT1dc552o57hiOT/omu/7iYDCHS2b21N3oUcFz6ENrMjX50lnppmUeEuUNYw2dHlaOw20lyHZ4nBjTFxpwTxramnVdIHuBlxefKMYyHLa2FaVeJ7PEQnp78E6HzA9nPdS/bmZYL4+BJqKRUbezCqtbxSX+qpAn2HW2amsND30uZ+FsXrOXxEGIe6I07oK0fjUd9PjIsm4kMGngsRkeomzJaKhtgBOX9NfLY1I/4m4mLwgwt9zzbGdeJGEeTOnYuzeueHQmB/3hXGac3ybIScW+0dAa88hix8FDdbyL/46wtP9NFwdtqnls182K/+lgguzwlFHutLx8x1+BP5O1FWFJb+QbbidWTwurNm/plx0cyr23Yl02ZUo2dvdwvAil/LAN3kKc363I74vnR3GAtz960Jc4e1u+8sGR3PTOSjSDbqtiTnAxKI9KSGjsPHjdsY7+QmVqs9kw9fvdS2FhFAePgrctpdKd8/7uCwIAVd3T/V42CZAMb6h9e1YQakD3jHoH0qPnib3JtaFHHoZ3+Tu0MYWzHdop0oy7YftVpKXkuGANscSkTMgrtySBo8bGrOmC6BBEwCeLdecA+v/kSmPJe9BoODGyyPaACunld39AUX9/c1CdCApjGtEL6NyIuBNHI9c1U49woa43jiaWBWt2hSyuI2ABjcubiBq19Zuv8OJmbIjWXRQcdhRn5Ni9FjL0aK44Z2xC9h9A1dW1SdJaBbZK+rsY30m9YRPCEXmkVXnD+LZSigM6U5/vlHbMLK2+9b4VOcu4OtRXHXCt80jJZgt1Z79UQTLRBY9cSYZLSTQFLub9XAXbkG7XF+DB3e4t4A5+DO39bq2grBaU+jJlV9hJhwlBP4qaMz07liehzabB1pBrntog9/FjjOp0FEL83RK+/Z1iaqcra7vMEGftjrYci7nI0XTGs0hvcjWH0zWCQCYmg1G1qq8K8E3Y0uoRYCoodmQNEYw3UQiTmQ88OGPQk6/R6pCPHw3gFLCrGZNXjGiq+ReFZ0yAds3g7fJA8cBD12CyHGptqcbGPnChcEEN3b8/xy8XwJoBmXH4YfaYCihPse6V4/kvfC7NRRcWCbnTrC6FGC5FyE/KJdV1hx62GqtHIGSyNUuPNEAsknHsRr3zIO8XRw1Rxg3sdKc3wWvzEiFeizUn9kv7VLmoPLxCRZa+TDkNgn9iBQYETwfv6yeUpMtN+afB6UYnNyMtkiBMEb9iCJwPxkyqqfIIpoeYragTYxquDQDGiBkRHhwnbPOr59wVFEuuoLJsKO5bD1RYtlNckyRxfdLrCh9+vphWW4dT9bOjHeubNdiljVJurT14M6AGfbcDfXyttEECB7u3eBOl/R0DY1q6EBZY8pIxDKAY2kHD8u6j/sPWxMvW3yUVSfoCn4SM/OIM9l0jJf3TqwhZfExRYPBf7u+jrzYe3B7mjHvmLgOOWJc+DBiZQvGBaaMbbvJOE8cdzP952dN8IAwSwB4zmuVoOebI72VCQrC0Kt6Az+vYvG96Bw29UEnxwB7S+1Z9nS0u/cae1hRv0RJYIZvW6RG/QFTnFC99puChDWjbdXawruOR+CB4M4e/B1PqU5Yq4Gr3+OA09VrbK5ynuQa8q9u5xmFFgHVSfbAMAOkBLaNS/F5snCCBhEs/eAD6SYAuMI0igXhXVGLTAqrMWl1G3v8LqgPWAXbcfYisUNJFsTfheRx22/iXLxK4ff18mmp4GmNZa4APHFfcIhB7clIP5dr2h6R0U0LtsM5m5KQ0STSCmCQ3NGDNVVd0rsDspptb6KTHnOtW1tNb23XVjbsb1uqSmSjV36UbnLRcM2Fq226iDEzCppRV2ZyqNzqB2KqC6yaV6JaYNjG8eh/FgVtiBbouGlJ4d+XKxOTu4EQ5S28YOlBpG3lHbYjtJIwZCMPbRy3JADqAn0GzZTK3lafTNrR9kWqGKgKe7VioBuspFPbIP1MmqtUsG+LBZwRdcuHRNZwCOeFC65tCmSMSZckl5YKNuWF2G+T2XbnLF6uRaEGKNQK/odXxN3Xd1tndSqhsO/zJFbf1EJIcXWoHsVoSo7XPxihg1EOkMcu6PJC7VhBo6vrSztJgchMyuzubIMg9lMz973aSUZjeWA9eqgrwm6TgpUR+2UG8o+cQHQDt3nSOlhQ3bwpYvGhuRP2mfT7xEmSmgjZ+syjTwR++URjzcCHTGum+qUSbMqagpKwSuqRq676Qyns6XHJuGoqPyyvEZMupHNH8Lb+vRmpHQyw7LnnFloO8Gv35miHoKm4U6rpVvC21kPVEwKyuVmsY6Bf7hEYhTn5/q38u1SBhee3zx0Td8uoEw+RImksrdpy+Xv9Ql9JYibueMJvbIRIv3KJEz88eDf8FgdNWzgjwA+9TD1lPQ3vF4EaxH4q4D8HeI4x3Ya4GjBcGKk5bnscbFG0PvEDzY20FxmCksNMGos+R8S0t2mdX7UItp28/x0d9Nh2LXStau2JsyK9XenEInCRAulAlNAZ8yD93wvBYm8Os9tiMgxlo9QvdoWHiPcUkPjNHVEZ8e64Sp70qdf3FrJY+3PVUHYswq7eWAOXLsANESJ2lUBIbkNjLPZfuwFCUWtlkHjnt0UBELHWYl0GsrA1byQIgxG8ibVFpWJTwJuECBAs3gRgkWc7YcKdm+iVjBOQl+mJRgCEnC6LfwF+eE8N3SPuY8ow51rOQUk9LS7KwRRBOxaL1Bux9WOqbPjWEfbI96vrI6paonrFj3TQtdFpNNT+XJNrja01OEvPfkMBWCEdfVzEtIVHvN2tyvojzJTYu8ax96SHTiGo4ZxrjImgHG+phtt+xorpeb11vj3EGjKnxsSGmdIezIX/s8Ib2Fl8PE2M9Nbp3Hrqoq/iiJBx0bQ7f0JzeMh+wy5Kg6G8xVbrvbt/uW5hMMS8GxoAIKG3sDpX1bcWlnacBjFC9LuejNBkb4mw28sfo6n242eJyLJIW1WOhUWjos5pY8In/aeb2yMMrLKD/Ey0HFl6YBzgXeyHqklCampDp1k9ZQqKOsUpM7fTj80450vNtNcEhgO0+HT7AaNIw12Nv1qoostgQiceveZ1wThEbrKIE7jYb3vjcdRtSG4EBjc8BYW2Mrdz1VRjuX/Opzt+1ClEiqS/T/4GawSXQPOVsFpPzjGJMlY83xrXIUIrAFyK5JDUZ3tHgTNyaVl2hBAjQjys9iKf9ixJLY2jUIMNSOaTqbXLTBfnibXE0LaRFVvdBdrxsJmFO0Rotykeh49BIceQrkg1mhhG1S1hFwf9QpCJSjWT81muwHLCBEumTmE0sMLiBir5LqFJljdcMeASmDnaEAZ7EXj1NbQzFfskEOdyQApueuYdcbqj2ndnHU9072V3/CZbZ6DpP4uWe9scsvlT1vp3UuHWT9lVuSzfKCWPPm0Nuohl3bU0uM5j2KtyuzWReqV7yazez01UKCvq2FmFrpXzLbnd8qxGv9JcAf28zN5gSiB+vllQ/xOpHxZkZJoM9Oqka4sVdURWdilkaIqeR1ilSWreFYu+q2J5zaPwaxgkSmh35R3Wqz1+xJr3OwFMDRRUeyvR3BVsESbrFMLBrSSJZ3Im+DYT8PrzK0eVA1wef4URhWuNpOYkclXTrApO7isXZR1vEsytNZnoyiEDy7tqRQxbn6O09rCEHbYLeAurYIyUYc8bAuU0vKp+zY60yR2Yxz23su27e467Tpi7n+K81A/sonnSa0rScKm4G1xajejTCKO4gs2XJwfTo9zv1fTKO+hO7tsmGuP/g9Di9MWF4kf7rX6pHOMN5cvK/BTw4xNoTNk/QIpZ2iMZdDJzsB6yXs1UKkfPhx0jCOvs5ssUwJ1qFZ0431zsiGJjCNqhdZmqPNbw65/THh94fiarpXnL3o7C7qeMhdj6+m4j9/DCJjKZsX737Ajke5gc3G3dfdlLcHpnptwGqqN7GfLhtsCtRQlKYtWB5Q4Ns4kEUppY7uVwzoepWVMq4EfPjkQAUN1MqjCyqiMoBWmhqAnXfiqWb7BHDApXMr2tGBsoQt7o0iCriJw5+NQ+S2B33GPakwmr3H47aD/Dbk268EyGpZfwIP47YfrENY0cK7hd63xAAADz0GaJGxCf9jXrbaGaAv3ugn+bmNbjgAo/UUSWchA+/lRNpfeWxE8PODtTa/V15E7u0FVRuSG3OvIwb63531TPxwxVry/vQdiPYn0FAOa8aCz3mWR2vODluv6NZ/cZyPhOmlXO5QfAdHdj0/6GJbkEw4qtceYLA9gf1SC3uqk33oAVxOi+YnF0Kfj5vTzFNn0MVUfMYEmMrey2Vx6GEKO0F/ooee7uEkh5qCkb4NhMqHsRvXA8OqRanheQzDVMQanrmh9S9EkPk4ZYDNPxEeyUyKVB1uRGPVmRyrpx812sgOtBZmNFOQB53WURre8q/Jn+qEYzzOokCjV1k5IrBwMC8X3puUa/67Dd+y0bdAHDZgSzEeY/9zeNNs34bUQtwEi9FUSmoabdpcSt8jZbqKBc5aKEfs8i/ERctbvRLh4b9OzT3yZt85umpJQ3DcYjOHxAvRdLDUyhGQhv6O2PYnxQJTl2IhYAWAvfUHo/LYGsqvuENxej4FRfaH/Oc5Uosw8FWT6NWghbxE8PMA90aHIDPF9W3muMX0B8It7lOoobVGJCBwNNm7mC0SOjNnS4nS+SjcN+1EPYfN6K37uksyezLdkRVvO8RvguM+B7E6mSFKrwb2SwqpzAfAXDQaL6h3CD2eObZg+hBdT9Oz3F2Cjoc6JL4ybSbwrt8/zXEmCk/k2JC2p38/xJ7FU+x0YNzuRwh8Y7XvhvdlwfHko6J1ZIAXaUkRtyLlK2Uj06qRz9HJ+qR3xImSXX+CIjgFknEBJ6s6fxeLQa/UV6K2HZc6tKdqMbKitSlFxVGzRvOrapcvEMEwL5jDsg16h7DEa+2dlNyHowTdA6o2JPylzwi7E2rSkB7/yUzu3vE7I+ZoI7ex1Xz66JKSRMHkWflr2s2IaoaLaq7u8f8LB0e0Ah31s/BY2V80VomlTADOTCyZT5xjHwe8Obum+DzOcJFz4FtSQS/TYvZWZuUqaNi0IrXYCB4VAQaTBBhs/a32Zg/qQTRD1ExmSpPkqeblTaDBQgREo2p46j7I/0lfZA97AebsByc3rFW7+duAV/wSzWE0XINngvqh211nHOw8VXs46g9xUcaRuH0SVO112SIBHjMjz2Wuv4nzb8nmxxCyFIHD0P+chxPuJz3bPqxRoT7CR/tLekcVjHZIO/oG8jjntlEwQKmlOE/J/8P3uSw+s/q5Ja5fKDKt6wgutlHD1eiMf+UnFbvFbzBJE5iPa2VPR8tGSoDJswkNebZiEZlmRS7SrTKqmc2XurON6lIRml6d6bauOwqS8i3mWDWlKzh4i2Lj7qAAAAgxBnkJ4jf/M0pEhsCm8F1qXfVlr5Gnts///hQpEMpQCMD70F+wDHguKsZhl7o8CbIg2BLV4wB1crSYmBT65vIa6XjzCnzAU4oFJLDMC64IoyQg+fdRyk6hXtoT2FW4V1PKMXiFGuujbyKgwR5N9kPaq9bNToXEg+Y3D+kpOKVLB6/oEG3Ki1azfPpBpKHsWeILCuG1T/L1aJivMG+RYKygUCsN5MS0iCe2VKf7VPoLH/OHUMzeSyVSsScKNDPNavpLQREYFFoKv1NlW07KAmxDqugB+akWsQ1pRuupdaq6ZXSdoKkYWBN73G3bVTYNkIOl/s/v2jFKdBwUBvjperfZM3w0L95fCXiRIoFqmwBrDZcgruB4HqFmuQafSDzH6vtTaxePXoFQ1QfM5kT/Yr3BxBnvoTP4FU75dhYhGqxa99wf21CUED4xh7XOGasG2TnaMpQnu+/pm7zpsR+c6ur5UmwoW41x7qDXumLeoZACSHUKOfZhptx8w4hUfSYJFSMrbp0tfNz82mjTTfJNkAi1dJXyWZwEEHez3Is+pd/KDFtVRrhZFYAocLJFcV34Q2fr7bdLi5LuVv4syEyJ53u5HG5tFH6OzTQUWGWVVi+xvMGoeIoRXRzIHCKSE6tydpx2EtB4/iVsKfTm98/CYsWwzZCcbJEqUVggo21caKDeov9T+NqFE2PL8RiwEBQAAAA4BnmF0RP+rVKk4RLVBmQAAAgsBnmNqRP/NIAfTpflI6xAhyxQLyIxICKIoQYy81sOX/54wwudUiWdwWN6zwy7vRxu7OZmIpFZb+VvR7J4Lk7aCpTn97CcSCYRiaFNBIK1HumAGBo4P5zenY7yMvUvVkNGqxdOWsTiGybD0C4Z5LfxRDVq8p+cpB3it0yQcASaGQDG4JffwL6bHGsXz/8/qjd0byeZI6sCU3i4M/6FUdcj5pk7rQjibIG1CvsAeUWOQV0jdWBhpxRNpi1o7uYVypyNF7AGfg42qxBmvejbxW/rXk2i26EGBUFlG9HJLZuVfObqWLWXDz+v1XEl+6zE3NDXNj8PoA+gb9IrHER81Av7NPTYCokT7JCZ3+37aiXrp5j3rrXJZfEv0wRVLPOsT+s97NSiQT4wLsGPxMOkRU8XaSbQYKECIgOXP+tAY6N2A73e8uQzOVt9rCnOTotKjfLl4MkSY5YQGAN349OzoxVP2K/+akaZ2+bJpvLgDzfoDQpMm3trIqrFvPYEhEvu+HYVTvYtmuFChfDXPsFvaoA7ic920ZKln7fVcR7he9ZyrlUdaOpMgfp+FyUQreTQqmHCewAWzFityy+/zjktcvlBgAbc2NEmd4D9WoHUyqD23YROfK3Wes4nmKrWnnkchQjF6xq0dXxcrQ9chGBJigepCiHlW9ouKdFHyXkW8ywajMBklZSLxgtXHbG9BAAACcEGaaEmoQWiZTAif8yABLUzhHpvXV9uxmnUQ3JxGWL0G8m3MI83bHXPwScDM9McbBy+VNjP0TjbDDcJs2GBOFef7J3ezqi91ugEAYWNsN36cKjZrtK//ESl35EBNL/c6ZlHCoH4AoiSsdBSaiBGFbXrC6dO/EXAIrlw+woP+XVNKBpjP+0vCuvu5C/+Xpf/0IX6TyRLpWvP+mD2aXJorBHu9Peb099Bv3EAQNSsEfxdUOJcIEZeazaRy8fqJukm/NCs+ctHGH6dAZlzNwW4MO9mucBVL/FS/owIgc+o1Lyg+5b0cVeGGwfITPi1eJx59wFxSwg00+FX2putASD1YJk8qWiTUacGpQpO/h0h/m67VJ73m0t/i/hwfuXqkwo3EAWxPcKhMGB64hg4/NPJWkgOI2+Fptcn4y/SBXmOkNIdvEZfTJX1VcMxWWQpTnh+chaT9lpNjDjEALaamPQzI+mQV3FSHjL3xrTgdM2GZWJ60vrqei1pmyBdgy2dMdmgWEKYR+FPh+VqLtOGysq0FJbbMxtEY7NEeY6ygmfJlmooZDlJl3LE3SnuUqfq8VY1N72YGkUR7E2EAbrojMLzpsoqec/DbvBniP9wFQWaglSJ377fI4vOUZHb77siASfU4Jjt3YFb/3CSHlfBDLbvlm2dAgMf8ufq0Rwd87hRxvkme/SikXj8q7fhjymWTlCqW/hRvOQwcBuEouE8Mj5vG1Q+474x080JQf/yeWP03w+ZP7Femk5XoD9OsyS0tlNvxUhdZBxlJ+h05uarE3SU2n9iiVQoNimou5BzSytowK7uxGDoF9A96JaoJso3qSvdrgQAAAjZBnoZFESxvALEVhr26Uo18EZWNsLBYaBQRy4Fm8qH47jej9DDg2nG1qS/Y0ewQtYnobUL6kK9yVeWgg9xUCqXVgAhMD0pKYetbdAyvUfdQ1Ckjnq7Pnp3a3Bar7IESfWq3//0GMYPKBUlfG5zxQ7JmzP3llYRX2J/6uRhe0attCaEAzwK6O4AZPR4ABgMrl79nyN9FUxDcy/kRN6mFnc2WyRjl4QNQ93J7cHeh/qqMUTX1/K1TQX8h2A2IB66pl3Cv4EEg+o3pi+1/72QPUfhIQMlBwt0B8onMdayQCDbImU1FPVhJtUBivZWr3LNJkmFR0tPfj85pdn6++LKZJX55JRUgUtMe5oWR5FwlnMwyFYhJxyGynDaEEpJs81rkLCOKS84qdj/FaZkms/4p3EwvOxKHG6i/D0bMaj8I1QJ1kUi0RtRiHhT0tYHTYxI60/7fmPfWcCha0Wy8IafDzuCMuUtGgSZTC0rsF5U7O/zxNUYjhn3wgc9FB3IF91Q85n6cJEDeCybPcsS7zdLd1ukEvBSslWoxxaFuRImIgiRnSagLtmGAvXx0odfk7+qgVH6HxnxlKy19RkIbgP7mvUySW6c7/aHPJtdRQ7mqn+g8aVoJ6yH0ujxmrd2eEA2hKSeCiGsrDaLVPEQHsk7BSLaaFq0EfrWx8KhPAZ6IEGmmCfH6j1MZdlTPnZ8JlJI9/gGdz1lr0mv07gpQJO52FGaX6qcrH54Z9v8uh1ExSZKoQMTGtgs3OQAAAjoBnqV0RP8A8/VfExiTiMtligXkRiQEURQg07T6Tgjt9j7JBFPzsRcNo+XT5HLxg7Z7t6GMIVr7yMNXePr/lCENihL61fQMr1HsmSWUICJx0874osb4CJnuQaUL6//4MYweUj9rtW2kKghtxqeS7USqbyOEPzLXM3YiKjJZSMrCgS9XpXzH8F7+G5HFtdxmxSwSsvfz3UzdlmzUthg9QfD7EaLbRCl/qOZ4hUR5z5GXiqOed22PlN3jE41Fb3i+iiQr5ZCV+C5LJmtKWJ+FSfMM+b0higutHZgEj2/Uvy9kG3nLjX1R+i0oYeuP4hiGWPoKARIDoz+XO3sH25KFIwVqBQXW9K+dcLii79RPSmAcv1dcYEJyhe6CM3ABqiWPz4yvTTGETeqRLIwXk8cI96HUq5S//PlI4/ZMO79ACOLEP4DGx73Ppm3P9u6BjWufK5vfL6K/mDVr4Hcm6dcW4tiDZB8LOmQeeElkmPQnDPdmQwP04boma3bYp8sWRNi7MFKNSipwYaXmKD/lsrMy7hB0lXuqJI3Wwv0bKmnIMer+rDYQ/1ZfOrI6aUMwblw0kbsCEd7mDStNjJRr58cjHos3U4Qn2djfoqmQO3tgr61UQvWqAkj8cjxF7/VdJQ/xei3gZDwjV+zowWfATiunsMJma1oUCtX5dMw5X6zEzrvHtnVwCS2f2ygIRWX3M+NEAKCuUJQ3vWIK7bjFMTHX3UzW832qpdMWbYVYYWyaHW3FZ1nZACbDxfSXzj8AAAH5AZ6nakT/ACt/nZ67/2K3f/7/gT/SFtGjx8ay5R4Cv2fS6xm7xXCJ8pLOLz4o88Uy6EQ7FVm+3d5OZlJm1qUyqjY0hCq9UIW9dhScaDN7p2+rHUS8di5vh8Pt5ZD8iyLCI7HgfxXT9QbWJWDl08wAwO5qCKjkKjBfZ2kZOozUutT63INOW2beQsSRorH1qO56KWcvRk1AQgyYiWP+HlkIsFkFm3z7carNx4RGUc6gnviY7daS18dJJlGNY2NBVep7neSXPyxZwZgPIQpXSH2e87IFGcklnFjZqxATirTs3zwjOx/PbOd2T8fgZ4YlynWdHEF8pH9XDBKxB/WV7QXqKICiuzGleoL4UM7OSGbdgIAIsRtPUGnVqWDnrvxzBC5kDzxA2f8ITkCEeugf6jRYpZ/OVTrE4ee2AWvCbd2uU23+q2+8JFogvqkxn73/Wy4f8Ye+gvKu88ueyH10F7DPFrLl7eOwstJBC6rtnC9H5NZ5vYrumQHp7IITsPsljP23uw23+E0BL13XXxrFV/GPvf7avfEwxQb7jj7lW5ruLWyBI/qIjQYVs7ejVytVFANXt9+Uz3I1cy47XCzdu0lrmLyEVrzvocHckkQDFlP+pOTJF8sKAAFhbnRuAgEigOCHzD81VU4G5yF+bHwOZN+FYJKIUEyY28DJgAAAA35tb292AAAAbG12aGQAAAAAAAAAAAAAAAAAAAPoAAAjKAABAAABAAAAAAAAAAAAAAAAAQAAAAAAAAAAAAAAAAAAAAEAAAAAAAAAAAAAAAAAAEAAAAAAAAAAAAAAAAAAAAAAAAAAAAAAAAAAAAAAAAACAAACqHRyYWsAAABcdGtoZAAAAAMAAAAAAAAAAAAAAAEAAAAAAAAjKAAAAAAAAAAAAAAAAAAAAAAAAQAAAAAAAAAAAAAAAAAAAAEAAAAAAAAAAAAAAAAAAEAAAAABAAAAAQAAAAAAACRlZHRzAAAAHGVsc3QAAAAAAAAAAQAAIygAAIAAAAEAAAAAAiBtZGlhAAAAIG1kaGQAAAAAAAAAAAAAAAAAAEAAAAJAAFXEAAAAAAAtaGRscgAAAAAAAAAAdmlkZQAAAAAAAAAAAAAAAFZpZGVvSGFuZGxlcgAAAAHLbWluZgAAABR2bWhkAAAAAQAAAAAAAAAAAAAAJGRpbmYAAAAcZHJlZgAAAAAAAAABAAAADHVybCAAAAABAAABi3N0YmwAAACXc3RzZAAAAAAAAAABAAAAh2F2YzEAAAAAAAAAAQAAAAAAAAAAAAAAAAAAAAABAAEAAEgAAABIAAAAAAAAAAEAAAAAAAAAAAAAAAAAAAAAAAAAAAAAAAAAAAAAAAAAAAAY//8AAAAxYXZjQwFkAAz/4QAYZ2QADKzZQQCGhAAAAwAEAAADAAg8UKZYAQAGaOvjyyLAAAAAGHN0dHMAAAAAAAAAAQAAAAkAAEAAAAAAFHN0c3MAAAAAAAAAAQAAAAEAAABYY3R0cwAAAAAAAAAJAAAAAQAAgAAAAAABAAFAAAAAAAEAAIAAAAAAAQAAAAAAAAABAABAAAAAAAEAAUAAAAAAAQAAgAAAAAABAAAAAAAAAAEAAEAAAAAAHHN0c2MAAAAAAAAAAQAAAAEAAAAJAAAAAQAAADhzdHN6AAAAAAAAAAAAAAAJAABrQwAAA9MAAAIQAAAAEgAAAg8AAAJ0AAACOgAAAj4AAAH9AAAAFHN0Y28AAAAAAAAAAQAAADAAAABidWR0YQAAAFptZXRhAAAAAAAAACFoZGxyAAAAAAAAAABtZGlyYXBwbAAAAAAAAAAAAAAAAC1pbHN0AAAAJal0b28AAAAdZGF0YQAAAAEAAAAATGF2ZjU4LjI5LjEwMA==\"></video>"
      ],
      "text/plain": [
       "<IPython.core.display.HTML object>"
      ]
     },
     "execution_count": 215,
     "metadata": {},
     "output_type": "execute_result"
    }
   ],
   "source": [
    "record_video_frozen_lake_env(env, Qtable_trained, 'frozenlake_trained.mp4', fps=1)\n",
    "show_video('frozenlake_trained.mp4', video_width = 600)"
   ]
  },
  {
   "cell_type": "markdown",
   "metadata": {
    "id": "nWvKPz_0zlhR"
   },
   "source": [
    "Next, we will take a look at the Q-function that was learned."
   ]
  },
  {
   "cell_type": "code",
   "execution_count": 216,
   "metadata": {
    "colab": {
     "base_uri": "https://localhost:8080/"
    },
    "id": "X8yC8f4Mzc-h",
    "outputId": "f43f7e36-155d-42fe-ea4d-cae17797b208"
   },
   "outputs": [
    {
     "name": "stdout",
     "output_type": "stream",
     "text": [
      "[[0.18101031 0.14763338 0.13875621 0.14343349]\n",
      " [0.10107304 0.10201946 0.10758413 0.14775736]\n",
      " [0.13293129 0.0953878  0.09629555 0.09675655]\n",
      " [0.07452603 0.06471145 0.06482754 0.09001082]\n",
      " [0.22631659 0.12233627 0.17651754 0.12977487]\n",
      " [0.         0.         0.         0.        ]\n",
      " [0.08836105 0.06269871 0.18947341 0.04119957]\n",
      " [0.         0.         0.         0.        ]\n",
      " [0.13243902 0.19036881 0.1987681  0.32651039]\n",
      " [0.18172051 0.4541643  0.22881398 0.2142616 ]\n",
      " [0.47733098 0.19356385 0.21284947 0.15740667]\n",
      " [0.         0.         0.         0.        ]\n",
      " [0.         0.         0.         0.        ]\n",
      " [0.20363609 0.31652347 0.62092653 0.40898212]\n",
      " [0.46147076 0.80087053 0.47377443 0.52981351]\n",
      " [0.         0.         0.         0.        ]]\n"
     ]
    }
   ],
   "source": [
    "print(Qtable_trained)"
   ]
  },
  {
   "cell_type": "markdown",
   "metadata": {
    "id": "W_uLOGVo0mCv"
   },
   "source": [
    "**[Question 7 (5 Points)]**  \n",
    "Assume that `Qtable_trained` is the correct Q-function for the final epsilon-greedy policy that was used in training. What is the value function that corresponds to this policy? Write down the relation between $V_\\pi$ and $Q_\\pi$ and use it to complete the following code block."
   ]
  },
  {
   "cell_type": "markdown",
   "metadata": {
    "id": "QV1yNSlX4Xhn"
   },
   "source": [
    "**Answer:**\n",
    "$$V_\\pi (s) = \\max_a Q_\\pi (s,a)$$"
   ]
  },
  {
   "cell_type": "code",
   "execution_count": 217,
   "metadata": {
    "id": "tgvG3JPb4q4o"
   },
   "outputs": [],
   "source": [
    "Vtable_trained = np.max(Qtable,axis=1)"
   ]
  },
  {
   "cell_type": "markdown",
   "metadata": {
    "id": "hrBSciQw4wBD"
   },
   "source": [
    "Take a look at the value function (For a better visualization we reshape the Vtable into a 4x4 matrix just like the game map)"
   ]
  },
  {
   "cell_type": "code",
   "execution_count": 218,
   "metadata": {
    "id": "ZZ7aWMbOpAwZ"
   },
   "outputs": [
    {
     "name": "stdout",
     "output_type": "stream",
     "text": [
      "[[0.18101031 0.14775736 0.13293129 0.09001082]\n",
      " [0.22631659 0.         0.18947341 0.        ]\n",
      " [0.32651039 0.4541643  0.47733098 0.        ]\n",
      " [0.         0.62092653 0.80087053 0.        ]]\n"
     ]
    }
   ],
   "source": [
    "print(Vtable_trained.reshape(4,4))"
   ]
  },
  {
   "cell_type": "markdown",
   "metadata": {
    "id": "JI8bzC7azyAq"
   },
   "source": [
    "**[Question 8 (5 Points)]**  \n",
    "Write a function to generate a visualization for the value function using a heatmap. In a few words, explain what you see."
   ]
  },
  {
   "cell_type": "code",
   "execution_count": 219,
   "metadata": {
    "id": "LUnArCcV0VMp"
   },
   "outputs": [],
   "source": [
    "import matplotlib.pyplot as plt\n",
    "def visualize(Vtable):\n",
    "    plt.yticks(np.arange(0,4))\n",
    "    plt.xticks(np.arange(0,4))\n",
    "    plt.imshow(Vtable.reshape(4,4),cmap='cool',interpolation='nearest')"
   ]
  },
  {
   "cell_type": "code",
   "execution_count": 220,
   "metadata": {
    "id": "N51kKbFFpGFh"
   },
   "outputs": [
    {
     "data": {
      "image/png": "[encoded data removed]",
      "text/plain": [
       "<Figure size 432x288 with 1 Axes>"
      ]
     },
     "metadata": {
      "needs_background": "light"
     },
     "output_type": "display_data"
    }
   ],
   "source": [
    "visualize(Vtable_trained)"
   ]
  },
  {
   "cell_type": "markdown",
   "metadata": {
    "id": "HyNca-10ruQm"
   },
   "source": [
    "**[Question 9 (5 Points)]**  \n",
    "Can we use a pure greedy policy for Q-learning? Explain."
   ]
  },
  {
   "cell_type": "markdown",
   "metadata": {
    "id": "JqX18Ic-siGm"
   },
   "source": [
    "**Answer:**\n",
    "No there is always a tradeoff between explotation and exploration in the Reinforcement learning questions and we should note that while increasing explotation chooses next actions more wisely this could lead to a decrease in exploration and hence there could be forexample some far state that has the best reward value to get to there. So when tackling a Q-learning problem we can't just use a pure greedy policy and hence we should have some randomness in exploration too. "
   ]
  },
  {
   "cell_type": "markdown",
   "metadata": {
    "id": "EVUwDSzC_YP8"
   },
   "source": [
    "**[Bonus Question (10 Points)]**  \n",
    "Think about the role of the discount factor in this environment and experiment.  \n",
    "1. Explain why it is not the best idea to set $\\gamma = 1$ for a navigation task. You might find it easier to reason about a deterministic (i.e., non-slippery) environment. (5 Points)\n",
    "2. If we had used $\\gamma = 1$, the value of states could be interpreted in a meaningful way. Think about what $V^*(s)$ would be if we had set $\\gamma = 1$ and trained until we got the optimal value function. (5 Points)"
   ]
  },
  {
   "cell_type": "markdown",
   "metadata": {
    "id": "GttKYjfu_cvg"
   },
   "source": [
    "**Answer:**\n",
    "\n",
    "1.Setting $\\gamma=1$ is a terrible idea in this task specificly because $\\gamma \\le 1$ indicates the importance of seeing a reward as soon as possible. In this task the actions all have 0 rewards except the action which takes the person to the goal and hence if we set $\\gamma=1$ we are somehow giving the reward in a far future the same amount of value as the reward we might get in the next action, so the model could easily choose a terible policy forexample to just go from one state to another and then come back to the first and since there are a limited max_steps the model most probably won't learn the optimal policy.\n",
    "\n",
    "2. "
   ]
  },
  {
   "cell_type": "markdown",
   "metadata": {
    "id": "WLiFCIek6s8v"
   },
   "source": [
    "# Part II: Mountain Car Environment (15 point)"
   ]
  },
  {
   "cell_type": "markdown",
   "metadata": {
    "id": "7R36a4nH7MuZ"
   },
   "source": [
    "The [Mountain Car MDP](https://mgoulao.github.io/gym-docs/environments/classic_control/mountain_car/) is a deterministic MDP that consists of a car placed stochastically at the bottom of a sinusoidal valley, with the only possible actions being the accelerations that can be applied to the car in either direction. The goal of the MDP is to strategically accelerate the car to reach the goal state on top of the right hill."
   ]
  },
  {
   "cell_type": "markdown",
   "metadata": {
    "id": "VlyLlwIG8qjw"
   },
   "source": [
    "lets create the environment."
   ]
  },
  {
   "cell_type": "code",
   "execution_count": 224,
   "metadata": {
    "id": "eBMSm62o8qBs"
   },
   "outputs": [],
   "source": [
    "env = gym.make(\"MountainCar-v0\", render_mode='rgb_array')"
   ]
  },
  {
   "cell_type": "markdown",
   "metadata": {
    "id": "CUOtuKcv8_Qw"
   },
   "source": [
    "The state of the car is represented by its velocity and position along the x axis. the velocity is a number between -0.07, 0.07 and the position is a number between -1.3, 0.6. There are 3 discrete deterministic actions: (0:Accelerate to the left, 1:Don’t accelerate, 2:Accelerate to the right)\n",
    "The starting position of the car is different each time we run the environment."
   ]
  },
  {
   "cell_type": "markdown",
   "metadata": {
    "id": "3exMYOjN9oza"
   },
   "source": [
    "In order to use the same Q learning algorithm on this environment we need to somehow discretize the states. We can easily do this by dividing the range of the observation into smaller range.   \n",
    "its important how small we divide these range. if the step size is too big we might not achieve a good accuracy and if the step size is too small we will have a bigger observation space.  "
   ]
  },
  {
   "cell_type": "markdown",
   "metadata": {
    "id": "dK9XEjBb-jTB"
   },
   "source": [
    "**[Question 10 (5 Points)]**  \n",
    "implement the next  discretization function."
   ]
  },
  {
   "cell_type": "code",
   "execution_count": 348,
   "metadata": {
    "id": "VwdauAFa8-yi"
   },
   "outputs": [],
   "source": [
    "def discretize(x, min_value, step_size):\n",
    "#     print(f'x is {x} and min_value is {min_value} and step_size is {step_size}')\n",
    "    return int((x-min_value)//step_size)\n",
    "\n",
    "assert(discretize(0.222, 0.1, 0.1)==1)\n",
    "assert(discretize(0.134, 0.1, 0.1)==0) "
   ]
  },
  {
   "cell_type": "markdown",
   "metadata": {
    "id": "XeSrhR6t_b4-"
   },
   "source": [
    "we will use step size 0.1 for the position and the step size 0.01 for the velocity. the following function will discretize a state using the function you implemented above."
   ]
  },
  {
   "cell_type": "code",
   "execution_count": 330,
   "metadata": {
    "id": "KltzG8ay7QUO"
   },
   "outputs": [],
   "source": [
    "def discretize_state(state, step_velocity=0.01, step_position=0.1):\n",
    "    position , velocity = state\n",
    "    position = discretize(position, -1.3, step_position)\n",
    "    velocity = discretize(velocity, -0.07, step_velocity)\n",
    "    if position==19:\n",
    "        position = 18\n",
    "    if velocity==14:\n",
    "        velocity = 13\n",
    "    return (position, velocity)"
   ]
  },
  {
   "cell_type": "markdown",
   "metadata": {
    "id": "pyBvbk-iAgbj"
   },
   "source": [
    "the function below will run the mountain car experiment and output a video. We will use it to run an agent with a random policy."
   ]
  },
  {
   "cell_type": "code",
   "execution_count": 303,
   "metadata": {
    "colab": {
     "base_uri": "https://localhost:8080/",
     "height": 453
    },
    "id": "sjZNzcBrAf4t",
    "outputId": "e97d8edb-0179-4a9c-b675-c558886c475f"
   },
   "outputs": [
    {
     "name": "stderr",
     "output_type": "stream",
     "text": [
      "IMAGEIO FFMPEG_WRITER WARNING: input image is not divisible by macro_block_size=16, resizing from (600, 400) to (608, 400) to ensure video compatibility with most codecs and players. To prevent resizing, make your input image divisible by the macro_block_size or set the macro_block_size to 1 (risking incompatibility).\n"
     ]
    },
    {
     "data": {
      "text/html": [
       "<video width=600 controls><source src=\"data:video/mp4;base64,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\"></video>"
      ],
      "text/plain": [
       "<IPython.core.display.HTML object>"
      ]
     },
     "execution_count": 303,
     "metadata": {},
     "output_type": "execute_result"
    }
   ],
   "source": [
    "def record_video_mountain_car_env(env, Qtable, out_directory, fps=1, random_action=False, max_episode=500):\n",
    "    images = []  \n",
    "    truncated, done = False, False\n",
    "    state, info = env.reset(seed=random.randint(0,500))\n",
    "    state = discretize_state(state)\n",
    "    img = env.render()\n",
    "    images.append(img)\n",
    "    episode = 0\n",
    "    while episode < max_episode and not done:\n",
    "        # Take the action (index) that have the maximum expected future reward given that state\n",
    "        action = np.random.randint(3)  if random_action else np.argmax(Qtable[state[0]][state[1]][:])\n",
    "        state, reward, done, truncated, info = env.step(action)\n",
    "        state = discretize_state(state)\n",
    "        img = env.render()\n",
    "        images.append(img)\n",
    "        episode += 1\n",
    "    imageio.mimsave(out_directory, [np.array(img) for i, img in enumerate(images)], fps=fps)\n",
    "\n",
    "def show_video(video_path, video_width = 600):\n",
    "    video_file = open(video_path, \"r+b\").read()\n",
    "    video_url = f\"data:video/mp4;base64,{b64encode(video_file).decode()}\"\n",
    "    return HTML(f\"\"\"<video width={video_width} controls><source src=\"{video_url}\"></video>\"\"\")\n",
    "\n",
    "record_video_mountain_car_env(env, None, 'mountaincar_random.mp4', fps=15, random_action=True)\n",
    "show_video('mountaincar_random.mp4', video_width = 600)"
   ]
  },
  {
   "cell_type": "markdown",
   "metadata": {
    "id": "WIETFj_sDR5s"
   },
   "source": [
    "**[Question 11 (2 Points)]**  \n",
    "Implement the next functions like you did the previous part. "
   ]
  },
  {
   "cell_type": "code",
   "execution_count": 331,
   "metadata": {
    "id": "2w7fNw4NC2mj"
   },
   "outputs": [
    {
     "data": {
      "text/plain": [
       "(19, 15, 3)"
      ]
     },
     "execution_count": 331,
     "metadata": {},
     "output_type": "execute_result"
    }
   ],
   "source": [
    "from math import ceil\n",
    "def initialize_q_table(step_size_velocity, step_size_pos, action_space):\n",
    "    # Qtable should be of the shape (discrete position value, discrete velocity value, action_no)\n",
    "    return np.zeros((ceil(1.9/step_size_pos),ceil(0.14/step_size_velocity),action_space))\n",
    "\n",
    "def epsilon_greedy_policy(Qtable, state, epsilon):\n",
    "    return np.argmax(Qtable[state[0],state[1]][:]) if np.random.random()>epsilon else np.random.randint(3)\n",
    "\n",
    "Qtable = initialize_q_table(0.01, 0.1, 3)\n",
    "Qtable.shape"
   ]
  },
  {
   "cell_type": "markdown",
   "metadata": {
    "id": "RWSMO5cIE6NE"
   },
   "source": [
    "**[Question 12 (8 Points)]**  \n",
    "Change the previous train function so it works in this environment."
   ]
  },
  {
   "cell_type": "code",
   "execution_count": 349,
   "metadata": {
    "id": "zAHvbfxpC9XR"
   },
   "outputs": [],
   "source": [
    "def train(n_training_episodes, min_epsilon, max_epsilon, decay_rate, env, max_steps, Qtable):\n",
    "    for episode in tqdm(range(n_training_episodes)):\n",
    "        # Adjust epsilon\n",
    "        epsilon = min_epsilon + (max_epsilon - min_epsilon)*np.exp(-decay_rate*episode)\n",
    "        # Reset the environment\n",
    "        state, info = env.reset()\n",
    "        state = discretize_state(state)\n",
    "        step = 0\n",
    "        done = False\n",
    "\n",
    "        # repeat\n",
    "        for step in range(max_steps):\n",
    "            action=epsilon_greedy_policy(Qtable,state,epsilon)\n",
    "            next_state,reward,done,truncated,info=env.step(action)\n",
    "#             print(next_state)\n",
    "            next_state=discretize_state(next_state)\n",
    "#             print(state,next_state,action)\n",
    "            Qtable[state[0],state[1],action]=Qtable[state[0],state[1],action]+learning_rate\\\n",
    "            *(reward+gamma*np.max(Qtable[next_state[0],next_state[1]])-Qtable[state[0],state[1],action])\n",
    "            if done:break\n",
    "            state=next_state\n",
    "    return Qtable"
   ]
  },
  {
   "cell_type": "markdown",
   "metadata": {
    "id": "3CHmdB4BFYow"
   },
   "source": [
    "Now lets train our model. You can change the hyperparameters if you want."
   ]
  },
  {
   "cell_type": "code",
   "execution_count": 353,
   "metadata": {
    "id": "tBoHqoLhEnJt"
   },
   "outputs": [],
   "source": [
    "# Training parameters\n",
    "n_training_episodes = 20_000  # Total training episodes\n",
    "learning_rate = 0.1           # Learning rate\n",
    "\n",
    "# Environment parameters\n",
    "max_steps = 200               # Max steps per episode\n",
    "gamma = 0.95                 # Discounting rate\n",
    "\n",
    "# Exploration parameters\n",
    "max_epsilon = 1.0             # Exploration probability at start\n",
    "min_epsilon = 0.01            # Minimum exploration probability \n",
    "decay_rate = 2e-3            # Exponential decay rate for exploration prob"
   ]
  },
  {
   "cell_type": "code",
   "execution_count": 354,
   "metadata": {
    "colab": {
     "base_uri": "https://localhost:8080/",
     "height": 49,
     "referenced_widgets": [
      "d7ccda985a374d65a64f7c3ad8dc8feb",
      "ae0db86ec61e411a821fbf186123bb1c",
      "ba7d003efb8b4ba791043bf0e0af7df1",
      "365e1e153fd2492eb2a159722dfd4192",
      "634647540302493ba3ba760e7abe817c",
      "89d601dd731e4538b524baa03b67dd34",
      "ab04550a80ec4914937d16903ea5cc73",
      "126b68c9ed524c6d983398434fec7750",
      "de7fb2d7dd1b4edf8dc5df8711361ab1",
      "fd39de5b77054f8d8a2263f3519bc476",
      "d65d74349ea8401584fcfae30b785a1a"
     ]
    },
    "id": "6emQyg3JFg1n",
    "outputId": "8be668f9-6de1-4e99-afc5-272f009b00d4"
   },
   "outputs": [
    {
     "data": {
      "application/vnd.jupyter.widget-view+json": {
       "model_id": "e2ef5671901d4b26980ae52f4edc3382",
       "version_major": 2,
       "version_minor": 0
      },
      "text/plain": [
       "  0%|          | 0/20000 [00:00<?, ?it/s]"
      ]
     },
     "metadata": {},
     "output_type": "display_data"
    }
   ],
   "source": [
    "Qtable_trained = train(n_training_episodes, min_epsilon, max_epsilon, decay_rate, env, max_steps, Qtable)"
   ]
  },
  {
   "cell_type": "markdown",
   "metadata": {
    "id": "wlH7J3jQg5Ra"
   },
   "source": [
    "Now let us inspect how well our model is doing. In order to pass the assignment, the car must reach the goal."
   ]
  },
  {
   "cell_type": "code",
   "execution_count": 356,
   "metadata": {
    "colab": {
     "base_uri": "https://localhost:8080/",
     "height": 453
    },
    "id": "TKkzIikqHOXw",
    "outputId": "410c05c2-d384-45d7-f634-385772bca979"
   },
   "outputs": [
    {
     "name": "stderr",
     "output_type": "stream",
     "text": [
      "IMAGEIO FFMPEG_WRITER WARNING: input image is not divisible by macro_block_size=16, resizing from (600, 400) to (608, 400) to ensure video compatibility with most codecs and players. To prevent resizing, make your input image divisible by the macro_block_size or set the macro_block_size to 1 (risking incompatibility).\n"
     ]
    },
    {
     "data": {
      "text/html": [
       "<video width=600 controls><source src=\"data:video/mp4;base64,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\"></video>"
      ],
      "text/plain": [
       "<IPython.core.display.HTML object>"
      ]
     },
     "execution_count": 356,
     "metadata": {},
     "output_type": "execute_result"
    }
   ],
   "source": [
    "record_video_mountain_car_env(env, Qtable_trained, 'mountaincar_random.mp4', fps=15)\n",
    "show_video('mountaincar_random.mp4', video_width = 600)"
   ]
  },
  {
   "cell_type": "code",
   "execution_count": null,
   "metadata": {},
   "outputs": [],
   "source": []
  }
 ],
 "metadata": {
  "colab": {
   "collapsed_sections": [],
   "provenance": []
  },
  "kernelspec": {
   "display_name": "Python 3 (ipykernel)",
   "language": "python",
   "name": "python3"
  },
  "language_info": {
   "codemirror_mode": {
    "name": "ipython",
    "version": 3
   },
   "file_extension": ".py",
   "mimetype": "text/x-python",
   "name": "python",
   "nbconvert_exporter": "python",
   "pygments_lexer": "ipython3",
   "version": "3.8.5"
  },
  "widgets": {
   "application/vnd.jupyter.widget-state+json": {
    "0ac4ffa2eb644fc08b55b6c624aba10f": {
     "model_module": "@jupyter-widgets/controls",
     "model_module_version": "1.5.0",
     "model_name": "DescriptionStyleModel",
     "state": {
      "_model_module": "@jupyter-widgets/controls",
      "_model_module_version": "1.5.0",
      "_model_name": "DescriptionStyleModel",
      "_view_count": null,
      "_view_module": "@jupyter-widgets/base",
      "_view_module_version": "1.2.0",
      "_view_name": "StyleView",
      "description_width": ""
     }
    },
    "0df16b501be443acb42de61e37070b75": {
     "model_module": "@jupyter-widgets/controls",
     "model_module_version": "1.5.0",
     "model_name": "DescriptionStyleModel",
     "state": {
      "_model_module": "@jupyter-widgets/controls",
      "_model_module_version": "1.5.0",
      "_model_name": "DescriptionStyleModel",
      "_view_count": null,
      "_view_module": "@jupyter-widgets/base",
      "_view_module_version": "1.2.0",
      "_view_name": "StyleView",
      "description_width": ""
     }
    },
    "102cecdfcc5d47ada76435d97ac573ed": {
     "model_module": "@jupyter-widgets/controls",
     "model_module_version": "1.5.0",
     "model_name": "HTMLModel",
     "state": {
      "_dom_classes": [],
      "_model_module": "@jupyter-widgets/controls",
      "_model_module_version": "1.5.0",
      "_model_name": "HTMLModel",
      "_view_count": null,
      "_view_module": "@jupyter-widgets/controls",
      "_view_module_version": "1.5.0",
      "_view_name": "HTMLView",
      "description": "",
      "description_tooltip": null,
      "layout": "IPY_MODEL_4a0b04007e204de287035d2e7fe67c95",
      "placeholder": "​",
      "style": "IPY_MODEL_c9533715f3b645a2aedff135a9bdc733",
      "value": "100%"
     }
    },
    "108c385f845c4b09a8486aac1d0a4589": {
     "model_module": "@jupyter-widgets/base",
     "model_module_version": "1.2.0",
     "model_name": "LayoutModel",
     "state": {
      "_model_module": "@jupyter-widgets/base",
      "_model_module_version": "1.2.0",
      "_model_name": "LayoutModel",
      "_view_count": null,
      "_view_module": "@jupyter-widgets/base",
      "_view_module_version": "1.2.0",
      "_view_name": "LayoutView",
      "align_content": null,
      "align_items": null,
      "align_self": null,
      "border": null,
      "bottom": null,
      "display": null,
      "flex": null,
      "flex_flow": null,
      "grid_area": null,
      "grid_auto_columns": null,
      "grid_auto_flow": null,
      "grid_auto_rows": null,
      "grid_column": null,
      "grid_gap": null,
      "grid_row": null,
      "grid_template_areas": null,
      "grid_template_columns": null,
      "grid_template_rows": null,
      "height": null,
      "justify_content": null,
      "justify_items": null,
      "left": null,
      "margin": null,
      "max_height": null,
      "max_width": null,
      "min_height": null,
      "min_width": null,
      "object_fit": null,
      "object_position": null,
      "order": null,
      "overflow": null,
      "overflow_x": null,
      "overflow_y": null,
      "padding": null,
      "right": null,
      "top": null,
      "visibility": null,
      "width": null
     }
    },
    "126b68c9ed524c6d983398434fec7750": {
     "model_module": "@jupyter-widgets/base",
     "model_module_version": "1.2.0",
     "model_name": "LayoutModel",
     "state": {
      "_model_module": "@jupyter-widgets/base",
      "_model_module_version": "1.2.0",
      "_model_name": "LayoutModel",
      "_view_count": null,
      "_view_module": "@jupyter-widgets/base",
      "_view_module_version": "1.2.0",
      "_view_name": "LayoutView",
      "align_content": null,
      "align_items": null,
      "align_self": null,
      "border": null,
      "bottom": null,
      "display": null,
      "flex": null,
      "flex_flow": null,
      "grid_area": null,
      "grid_auto_columns": null,
      "grid_auto_flow": null,
      "grid_auto_rows": null,
      "grid_column": null,
      "grid_gap": null,
      "grid_row": null,
      "grid_template_areas": null,
      "grid_template_columns": null,
      "grid_template_rows": null,
      "height": null,
      "justify_content": null,
      "justify_items": null,
      "left": null,
      "margin": null,
      "max_height": null,
      "max_width": null,
      "min_height": null,
      "min_width": null,
      "object_fit": null,
      "object_position": null,
      "order": null,
      "overflow": null,
      "overflow_x": null,
      "overflow_y": null,
      "padding": null,
      "right": null,
      "top": null,
      "visibility": null,
      "width": null
     }
    },
    "2c1b137e0a7f45dbaf3e0e2fb4c9f065": {
     "model_module": "@jupyter-widgets/controls",
     "model_module_version": "1.5.0",
     "model_name": "ProgressStyleModel",
     "state": {
      "_model_module": "@jupyter-widgets/controls",
      "_model_module_version": "1.5.0",
      "_model_name": "ProgressStyleModel",
      "_view_count": null,
      "_view_module": "@jupyter-widgets/base",
      "_view_module_version": "1.2.0",
      "_view_name": "StyleView",
      "bar_color": null,
      "description_width": ""
     }
    },
    "365e1e153fd2492eb2a159722dfd4192": {
     "model_module": "@jupyter-widgets/controls",
     "model_module_version": "1.5.0",
     "model_name": "HTMLModel",
     "state": {
      "_dom_classes": [],
      "_model_module": "@jupyter-widgets/controls",
      "_model_module_version": "1.5.0",
      "_model_name": "HTMLModel",
      "_view_count": null,
      "_view_module": "@jupyter-widgets/controls",
      "_view_module_version": "1.5.0",
      "_view_name": "HTMLView",
      "description": "",
      "description_tooltip": null,
      "layout": "IPY_MODEL_fd39de5b77054f8d8a2263f3519bc476",
      "placeholder": "​",
      "style": "IPY_MODEL_d65d74349ea8401584fcfae30b785a1a",
      "value": " 20000/20000 [07:36&lt;00:00, 41.86it/s]"
     }
    },
    "47f0b35c36bb498fb47f98f7609e7187": {
     "model_module": "@jupyter-widgets/controls",
     "model_module_version": "1.5.0",
     "model_name": "HTMLModel",
     "state": {
      "_dom_classes": [],
      "_model_module": "@jupyter-widgets/controls",
      "_model_module_version": "1.5.0",
      "_model_name": "HTMLModel",
      "_view_count": null,
      "_view_module": "@jupyter-widgets/controls",
      "_view_module_version": "1.5.0",
      "_view_name": "HTMLView",
      "description": "",
      "description_tooltip": null,
      "layout": "IPY_MODEL_fa684dfe7f9d4e78b2f966a02ac64911",
      "placeholder": "​",
      "style": "IPY_MODEL_0df16b501be443acb42de61e37070b75",
      "value": " 50000/50000 [01:05&lt;00:00, 842.63it/s]"
     }
    },
    "486a4927595a48debdc1ece1951e85c0": {
     "model_module": "@jupyter-widgets/base",
     "model_module_version": "1.2.0",
     "model_name": "LayoutModel",
     "state": {
      "_model_module": "@jupyter-widgets/base",
      "_model_module_version": "1.2.0",
      "_model_name": "LayoutModel",
      "_view_count": null,
      "_view_module": "@jupyter-widgets/base",
      "_view_module_version": "1.2.0",
      "_view_name": "LayoutView",
      "align_content": null,
      "align_items": null,
      "align_self": null,
      "border": null,
      "bottom": null,
      "display": null,
      "flex": null,
      "flex_flow": null,
      "grid_area": null,
      "grid_auto_columns": null,
      "grid_auto_flow": null,
      "grid_auto_rows": null,
      "grid_column": null,
      "grid_gap": null,
      "grid_row": null,
      "grid_template_areas": null,
      "grid_template_columns": null,
      "grid_template_rows": null,
      "height": null,
      "justify_content": null,
      "justify_items": null,
      "left": null,
      "margin": null,
      "max_height": null,
      "max_width": null,
      "min_height": null,
      "min_width": null,
      "object_fit": null,
      "object_position": null,
      "order": null,
      "overflow": null,
      "overflow_x": null,
      "overflow_y": null,
      "padding": null,
      "right": null,
      "top": null,
      "visibility": null,
      "width": null
     }
    },
    "4a0b04007e204de287035d2e7fe67c95": {
     "model_module": "@jupyter-widgets/base",
     "model_module_version": "1.2.0",
     "model_name": "LayoutModel",
     "state": {
      "_model_module": "@jupyter-widgets/base",
      "_model_module_version": "1.2.0",
      "_model_name": "LayoutModel",
      "_view_count": null,
      "_view_module": "@jupyter-widgets/base",
      "_view_module_version": "1.2.0",
      "_view_name": "LayoutView",
      "align_content": null,
      "align_items": null,
      "align_self": null,
      "border": null,
      "bottom": null,
      "display": null,
      "flex": null,
      "flex_flow": null,
      "grid_area": null,
      "grid_auto_columns": null,
      "grid_auto_flow": null,
      "grid_auto_rows": null,
      "grid_column": null,
      "grid_gap": null,
      "grid_row": null,
      "grid_template_areas": null,
      "grid_template_columns": null,
      "grid_template_rows": null,
      "height": null,
      "justify_content": null,
      "justify_items": null,
      "left": null,
      "margin": null,
      "max_height": null,
      "max_width": null,
      "min_height": null,
      "min_width": null,
      "object_fit": null,
      "object_position": null,
      "order": null,
      "overflow": null,
      "overflow_x": null,
      "overflow_y": null,
      "padding": null,
      "right": null,
      "top": null,
      "visibility": null,
      "width": null
     }
    },
    "4eb63c62bdfc4a0187cb15fe735bf7a9": {
     "model_module": "@jupyter-widgets/controls",
     "model_module_version": "1.5.0",
     "model_name": "HTMLModel",
     "state": {
      "_dom_classes": [],
      "_model_module": "@jupyter-widgets/controls",
      "_model_module_version": "1.5.0",
      "_model_name": "HTMLModel",
      "_view_count": null,
      "_view_module": "@jupyter-widgets/controls",
      "_view_module_version": "1.5.0",
      "_view_name": "HTMLView",
      "description": "",
      "description_tooltip": null,
      "layout": "IPY_MODEL_d27361677e1643d3b9b7713f9e8033a7",
      "placeholder": "​",
      "style": "IPY_MODEL_0ac4ffa2eb644fc08b55b6c624aba10f",
      "value": "100%"
     }
    },
    "630ccf49bc7045afbb6fd75aa773cc9c": {
     "model_module": "@jupyter-widgets/controls",
     "model_module_version": "1.5.0",
     "model_name": "FloatProgressModel",
     "state": {
      "_dom_classes": [],
      "_model_module": "@jupyter-widgets/controls",
      "_model_module_version": "1.5.0",
      "_model_name": "FloatProgressModel",
      "_view_count": null,
      "_view_module": "@jupyter-widgets/controls",
      "_view_module_version": "1.5.0",
      "_view_name": "ProgressView",
      "bar_style": "success",
      "description": "",
      "description_tooltip": null,
      "layout": "IPY_MODEL_d4f9b65743064b0c80e573523aaafb19",
      "max": 50000,
      "min": 0,
      "orientation": "horizontal",
      "style": "IPY_MODEL_2c1b137e0a7f45dbaf3e0e2fb4c9f065",
      "value": 50000
     }
    },
    "634647540302493ba3ba760e7abe817c": {
     "model_module": "@jupyter-widgets/base",
     "model_module_version": "1.2.0",
     "model_name": "LayoutModel",
     "state": {
      "_model_module": "@jupyter-widgets/base",
      "_model_module_version": "1.2.0",
      "_model_name": "LayoutModel",
      "_view_count": null,
      "_view_module": "@jupyter-widgets/base",
      "_view_module_version": "1.2.0",
      "_view_name": "LayoutView",
      "align_content": null,
      "align_items": null,
      "align_self": null,
      "border": null,
      "bottom": null,
      "display": null,
      "flex": null,
      "flex_flow": null,
      "grid_area": null,
      "grid_auto_columns": null,
      "grid_auto_flow": null,
      "grid_auto_rows": null,
      "grid_column": null,
      "grid_gap": null,
      "grid_row": null,
      "grid_template_areas": null,
      "grid_template_columns": null,
      "grid_template_rows": null,
      "height": null,
      "justify_content": null,
      "justify_items": null,
      "left": null,
      "margin": null,
      "max_height": null,
      "max_width": null,
      "min_height": null,
      "min_width": null,
      "object_fit": null,
      "object_position": null,
      "order": null,
      "overflow": null,
      "overflow_x": null,
      "overflow_y": null,
      "padding": null,
      "right": null,
      "top": null,
      "visibility": null,
      "width": null
     }
    },
    "7f2a9c443f8941d0b18d6d7f42c76ede": {
     "model_module": "@jupyter-widgets/controls",
     "model_module_version": "1.5.0",
     "model_name": "ProgressStyleModel",
     "state": {
      "_model_module": "@jupyter-widgets/controls",
      "_model_module_version": "1.5.0",
      "_model_name": "ProgressStyleModel",
      "_view_count": null,
      "_view_module": "@jupyter-widgets/base",
      "_view_module_version": "1.2.0",
      "_view_name": "StyleView",
      "bar_color": null,
      "description_width": ""
     }
    },
    "89d601dd731e4538b524baa03b67dd34": {
     "model_module": "@jupyter-widgets/base",
     "model_module_version": "1.2.0",
     "model_name": "LayoutModel",
     "state": {
      "_model_module": "@jupyter-widgets/base",
      "_model_module_version": "1.2.0",
      "_model_name": "LayoutModel",
      "_view_count": null,
      "_view_module": "@jupyter-widgets/base",
      "_view_module_version": "1.2.0",
      "_view_name": "LayoutView",
      "align_content": null,
      "align_items": null,
      "align_self": null,
      "border": null,
      "bottom": null,
      "display": null,
      "flex": null,
      "flex_flow": null,
      "grid_area": null,
      "grid_auto_columns": null,
      "grid_auto_flow": null,
      "grid_auto_rows": null,
      "grid_column": null,
      "grid_gap": null,
      "grid_row": null,
      "grid_template_areas": null,
      "grid_template_columns": null,
      "grid_template_rows": null,
      "height": null,
      "justify_content": null,
      "justify_items": null,
      "left": null,
      "margin": null,
      "max_height": null,
      "max_width": null,
      "min_height": null,
      "min_width": null,
      "object_fit": null,
      "object_position": null,
      "order": null,
      "overflow": null,
      "overflow_x": null,
      "overflow_y": null,
      "padding": null,
      "right": null,
      "top": null,
      "visibility": null,
      "width": null
     }
    },
    "99784348358c41e599f210f16b9fc648": {
     "model_module": "@jupyter-widgets/controls",
     "model_module_version": "1.5.0",
     "model_name": "HTMLModel",
     "state": {
      "_dom_classes": [],
      "_model_module": "@jupyter-widgets/controls",
      "_model_module_version": "1.5.0",
      "_model_name": "HTMLModel",
      "_view_count": null,
      "_view_module": "@jupyter-widgets/controls",
      "_view_module_version": "1.5.0",
      "_view_name": "HTMLView",
      "description": "",
      "description_tooltip": null,
      "layout": "IPY_MODEL_486a4927595a48debdc1ece1951e85c0",
      "placeholder": "​",
      "style": "IPY_MODEL_be568628a84b4ad6a06c68de278d851e",
      "value": " 1000/1000 [00:02&lt;00:00, 742.43it/s]"
     }
    },
    "a5eaf9ef6e764f5793d6ee51885d5094": {
     "model_module": "@jupyter-widgets/controls",
     "model_module_version": "1.5.0",
     "model_name": "HBoxModel",
     "state": {
      "_dom_classes": [],
      "_model_module": "@jupyter-widgets/controls",
      "_model_module_version": "1.5.0",
      "_model_name": "HBoxModel",
      "_view_count": null,
      "_view_module": "@jupyter-widgets/controls",
      "_view_module_version": "1.5.0",
      "_view_name": "HBoxView",
      "box_style": "",
      "children": [
       "IPY_MODEL_4eb63c62bdfc4a0187cb15fe735bf7a9",
       "IPY_MODEL_630ccf49bc7045afbb6fd75aa773cc9c",
       "IPY_MODEL_47f0b35c36bb498fb47f98f7609e7187"
      ],
      "layout": "IPY_MODEL_c0183ca6bd2042f28e6460bb81ee56f3"
     }
    },
    "a76c5a69f9184c0bb0763101e7fcc0ae": {
     "model_module": "@jupyter-widgets/base",
     "model_module_version": "1.2.0",
     "model_name": "LayoutModel",
     "state": {
      "_model_module": "@jupyter-widgets/base",
      "_model_module_version": "1.2.0",
      "_model_name": "LayoutModel",
      "_view_count": null,
      "_view_module": "@jupyter-widgets/base",
      "_view_module_version": "1.2.0",
      "_view_name": "LayoutView",
      "align_content": null,
      "align_items": null,
      "align_self": null,
      "border": null,
      "bottom": null,
      "display": null,
      "flex": null,
      "flex_flow": null,
      "grid_area": null,
      "grid_auto_columns": null,
      "grid_auto_flow": null,
      "grid_auto_rows": null,
      "grid_column": null,
      "grid_gap": null,
      "grid_row": null,
      "grid_template_areas": null,
      "grid_template_columns": null,
      "grid_template_rows": null,
      "height": null,
      "justify_content": null,
      "justify_items": null,
      "left": null,
      "margin": null,
      "max_height": null,
      "max_width": null,
      "min_height": null,
      "min_width": null,
      "object_fit": null,
      "object_position": null,
      "order": null,
      "overflow": null,
      "overflow_x": null,
      "overflow_y": null,
      "padding": null,
      "right": null,
      "top": null,
      "visibility": null,
      "width": null
     }
    },
    "ab04550a80ec4914937d16903ea5cc73": {
     "model_module": "@jupyter-widgets/controls",
     "model_module_version": "1.5.0",
     "model_name": "DescriptionStyleModel",
     "state": {
      "_model_module": "@jupyter-widgets/controls",
      "_model_module_version": "1.5.0",
      "_model_name": "DescriptionStyleModel",
      "_view_count": null,
      "_view_module": "@jupyter-widgets/base",
      "_view_module_version": "1.2.0",
      "_view_name": "StyleView",
      "description_width": ""
     }
    },
    "ae0db86ec61e411a821fbf186123bb1c": {
     "model_module": "@jupyter-widgets/controls",
     "model_module_version": "1.5.0",
     "model_name": "HTMLModel",
     "state": {
      "_dom_classes": [],
      "_model_module": "@jupyter-widgets/controls",
      "_model_module_version": "1.5.0",
      "_model_name": "HTMLModel",
      "_view_count": null,
      "_view_module": "@jupyter-widgets/controls",
      "_view_module_version": "1.5.0",
      "_view_name": "HTMLView",
      "description": "",
      "description_tooltip": null,
      "layout": "IPY_MODEL_89d601dd731e4538b524baa03b67dd34",
      "placeholder": "​",
      "style": "IPY_MODEL_ab04550a80ec4914937d16903ea5cc73",
      "value": "100%"
     }
    },
    "ba7d003efb8b4ba791043bf0e0af7df1": {
     "model_module": "@jupyter-widgets/controls",
     "model_module_version": "1.5.0",
     "model_name": "FloatProgressModel",
     "state": {
      "_dom_classes": [],
      "_model_module": "@jupyter-widgets/controls",
      "_model_module_version": "1.5.0",
      "_model_name": "FloatProgressModel",
      "_view_count": null,
      "_view_module": "@jupyter-widgets/controls",
      "_view_module_version": "1.5.0",
      "_view_name": "ProgressView",
      "bar_style": "success",
      "description": "",
      "description_tooltip": null,
      "layout": "IPY_MODEL_126b68c9ed524c6d983398434fec7750",
      "max": 20000,
      "min": 0,
      "orientation": "horizontal",
      "style": "IPY_MODEL_de7fb2d7dd1b4edf8dc5df8711361ab1",
      "value": 20000
     }
    },
    "be568628a84b4ad6a06c68de278d851e": {
     "model_module": "@jupyter-widgets/controls",
     "model_module_version": "1.5.0",
     "model_name": "DescriptionStyleModel",
     "state": {
      "_model_module": "@jupyter-widgets/controls",
      "_model_module_version": "1.5.0",
      "_model_name": "DescriptionStyleModel",
      "_view_count": null,
      "_view_module": "@jupyter-widgets/base",
      "_view_module_version": "1.2.0",
      "_view_name": "StyleView",
      "description_width": ""
     }
    },
    "c00a5b8d82d54c30803e7f6a26ba0322": {
     "model_module": "@jupyter-widgets/controls",
     "model_module_version": "1.5.0",
     "model_name": "FloatProgressModel",
     "state": {
      "_dom_classes": [],
      "_model_module": "@jupyter-widgets/controls",
      "_model_module_version": "1.5.0",
      "_model_name": "FloatProgressModel",
      "_view_count": null,
      "_view_module": "@jupyter-widgets/controls",
      "_view_module_version": "1.5.0",
      "_view_name": "ProgressView",
      "bar_style": "success",
      "description": "",
      "description_tooltip": null,
      "layout": "IPY_MODEL_a76c5a69f9184c0bb0763101e7fcc0ae",
      "max": 1000,
      "min": 0,
      "orientation": "horizontal",
      "style": "IPY_MODEL_7f2a9c443f8941d0b18d6d7f42c76ede",
      "value": 1000
     }
    },
    "c0183ca6bd2042f28e6460bb81ee56f3": {
     "model_module": "@jupyter-widgets/base",
     "model_module_version": "1.2.0",
     "model_name": "LayoutModel",
     "state": {
      "_model_module": "@jupyter-widgets/base",
      "_model_module_version": "1.2.0",
      "_model_name": "LayoutModel",
      "_view_count": null,
      "_view_module": "@jupyter-widgets/base",
      "_view_module_version": "1.2.0",
      "_view_name": "LayoutView",
      "align_content": null,
      "align_items": null,
      "align_self": null,
      "border": null,
      "bottom": null,
      "display": null,
      "flex": null,
      "flex_flow": null,
      "grid_area": null,
      "grid_auto_columns": null,
      "grid_auto_flow": null,
      "grid_auto_rows": null,
      "grid_column": null,
      "grid_gap": null,
      "grid_row": null,
      "grid_template_areas": null,
      "grid_template_columns": null,
      "grid_template_rows": null,
      "height": null,
      "justify_content": null,
      "justify_items": null,
      "left": null,
      "margin": null,
      "max_height": null,
      "max_width": null,
      "min_height": null,
      "min_width": null,
      "object_fit": null,
      "object_position": null,
      "order": null,
      "overflow": null,
      "overflow_x": null,
      "overflow_y": null,
      "padding": null,
      "right": null,
      "top": null,
      "visibility": null,
      "width": null
     }
    },
    "c9533715f3b645a2aedff135a9bdc733": {
     "model_module": "@jupyter-widgets/controls",
     "model_module_version": "1.5.0",
     "model_name": "DescriptionStyleModel",
     "state": {
      "_model_module": "@jupyter-widgets/controls",
      "_model_module_version": "1.5.0",
      "_model_name": "DescriptionStyleModel",
      "_view_count": null,
      "_view_module": "@jupyter-widgets/base",
      "_view_module_version": "1.2.0",
      "_view_name": "StyleView",
      "description_width": ""
     }
    },
    "d27361677e1643d3b9b7713f9e8033a7": {
     "model_module": "@jupyter-widgets/base",
     "model_module_version": "1.2.0",
     "model_name": "LayoutModel",
     "state": {
      "_model_module": "@jupyter-widgets/base",
      "_model_module_version": "1.2.0",
      "_model_name": "LayoutModel",
      "_view_count": null,
      "_view_module": "@jupyter-widgets/base",
      "_view_module_version": "1.2.0",
      "_view_name": "LayoutView",
      "align_content": null,
      "align_items": null,
      "align_self": null,
      "border": null,
      "bottom": null,
      "display": null,
      "flex": null,
      "flex_flow": null,
      "grid_area": null,
      "grid_auto_columns": null,
      "grid_auto_flow": null,
      "grid_auto_rows": null,
      "grid_column": null,
      "grid_gap": null,
      "grid_row": null,
      "grid_template_areas": null,
      "grid_template_columns": null,
      "grid_template_rows": null,
      "height": null,
      "justify_content": null,
      "justify_items": null,
      "left": null,
      "margin": null,
      "max_height": null,
      "max_width": null,
      "min_height": null,
      "min_width": null,
      "object_fit": null,
      "object_position": null,
      "order": null,
      "overflow": null,
      "overflow_x": null,
      "overflow_y": null,
      "padding": null,
      "right": null,
      "top": null,
      "visibility": null,
      "width": null
     }
    },
    "d4f9b65743064b0c80e573523aaafb19": {
     "model_module": "@jupyter-widgets/base",
     "model_module_version": "1.2.0",
     "model_name": "LayoutModel",
     "state": {
      "_model_module": "@jupyter-widgets/base",
      "_model_module_version": "1.2.0",
      "_model_name": "LayoutModel",
      "_view_count": null,
      "_view_module": "@jupyter-widgets/base",
      "_view_module_version": "1.2.0",
      "_view_name": "LayoutView",
      "align_content": null,
      "align_items": null,
      "align_self": null,
      "border": null,
      "bottom": null,
      "display": null,
      "flex": null,
      "flex_flow": null,
      "grid_area": null,
      "grid_auto_columns": null,
      "grid_auto_flow": null,
      "grid_auto_rows": null,
      "grid_column": null,
      "grid_gap": null,
      "grid_row": null,
      "grid_template_areas": null,
      "grid_template_columns": null,
      "grid_template_rows": null,
      "height": null,
      "justify_content": null,
      "justify_items": null,
      "left": null,
      "margin": null,
      "max_height": null,
      "max_width": null,
      "min_height": null,
      "min_width": null,
      "object_fit": null,
      "object_position": null,
      "order": null,
      "overflow": null,
      "overflow_x": null,
      "overflow_y": null,
      "padding": null,
      "right": null,
      "top": null,
      "visibility": null,
      "width": null
     }
    },
    "d65d74349ea8401584fcfae30b785a1a": {
     "model_module": "@jupyter-widgets/controls",
     "model_module_version": "1.5.0",
     "model_name": "DescriptionStyleModel",
     "state": {
      "_model_module": "@jupyter-widgets/controls",
      "_model_module_version": "1.5.0",
      "_model_name": "DescriptionStyleModel",
      "_view_count": null,
      "_view_module": "@jupyter-widgets/base",
      "_view_module_version": "1.2.0",
      "_view_name": "StyleView",
      "description_width": ""
     }
    },
    "d7ccda985a374d65a64f7c3ad8dc8feb": {
     "model_module": "@jupyter-widgets/controls",
     "model_module_version": "1.5.0",
     "model_name": "HBoxModel",
     "state": {
      "_dom_classes": [],
      "_model_module": "@jupyter-widgets/controls",
      "_model_module_version": "1.5.0",
      "_model_name": "HBoxModel",
      "_view_count": null,
      "_view_module": "@jupyter-widgets/controls",
      "_view_module_version": "1.5.0",
      "_view_name": "HBoxView",
      "box_style": "",
      "children": [
       "IPY_MODEL_ae0db86ec61e411a821fbf186123bb1c",
       "IPY_MODEL_ba7d003efb8b4ba791043bf0e0af7df1",
       "IPY_MODEL_365e1e153fd2492eb2a159722dfd4192"
      ],
      "layout": "IPY_MODEL_634647540302493ba3ba760e7abe817c"
     }
    },
    "dcd218f9711b4e9890d75883d017e3e4": {
     "model_module": "@jupyter-widgets/controls",
     "model_module_version": "1.5.0",
     "model_name": "HBoxModel",
     "state": {
      "_dom_classes": [],
      "_model_module": "@jupyter-widgets/controls",
      "_model_module_version": "1.5.0",
      "_model_name": "HBoxModel",
      "_view_count": null,
      "_view_module": "@jupyter-widgets/controls",
      "_view_module_version": "1.5.0",
      "_view_name": "HBoxView",
      "box_style": "",
      "children": [
       "IPY_MODEL_102cecdfcc5d47ada76435d97ac573ed",
       "IPY_MODEL_c00a5b8d82d54c30803e7f6a26ba0322",
       "IPY_MODEL_99784348358c41e599f210f16b9fc648"
      ],
      "layout": "IPY_MODEL_108c385f845c4b09a8486aac1d0a4589"
     }
    },
    "de7fb2d7dd1b4edf8dc5df8711361ab1": {
     "model_module": "@jupyter-widgets/controls",
     "model_module_version": "1.5.0",
     "model_name": "ProgressStyleModel",
     "state": {
      "_model_module": "@jupyter-widgets/controls",
      "_model_module_version": "1.5.0",
      "_model_name": "ProgressStyleModel",
      "_view_count": null,
      "_view_module": "@jupyter-widgets/base",
      "_view_module_version": "1.2.0",
      "_view_name": "StyleView",
      "bar_color": null,
      "description_width": ""
     }
    },
    "fa684dfe7f9d4e78b2f966a02ac64911": {
     "model_module": "@jupyter-widgets/base",
     "model_module_version": "1.2.0",
     "model_name": "LayoutModel",
     "state": {
      "_model_module": "@jupyter-widgets/base",
      "_model_module_version": "1.2.0",
      "_model_name": "LayoutModel",
      "_view_count": null,
      "_view_module": "@jupyter-widgets/base",
      "_view_module_version": "1.2.0",
      "_view_name": "LayoutView",
      "align_content": null,
      "align_items": null,
      "align_self": null,
      "border": null,
      "bottom": null,
      "display": null,
      "flex": null,
      "flex_flow": null,
      "grid_area": null,
      "grid_auto_columns": null,
      "grid_auto_flow": null,
      "grid_auto_rows": null,
      "grid_column": null,
      "grid_gap": null,
      "grid_row": null,
      "grid_template_areas": null,
      "grid_template_columns": null,
      "grid_template_rows": null,
      "height": null,
      "justify_content": null,
      "justify_items": null,
      "left": null,
      "margin": null,
      "max_height": null,
      "max_width": null,
      "min_height": null,
      "min_width": null,
      "object_fit": null,
      "object_position": null,
      "order": null,
      "overflow": null,
      "overflow_x": null,
      "overflow_y": null,
      "padding": null,
      "right": null,
      "top": null,
      "visibility": null,
      "width": null
     }
    },
    "fd39de5b77054f8d8a2263f3519bc476": {
     "model_module": "@jupyter-widgets/base",
     "model_module_version": "1.2.0",
     "model_name": "LayoutModel",
     "state": {
      "_model_module": "@jupyter-widgets/base",
      "_model_module_version": "1.2.0",
      "_model_name": "LayoutModel",
      "_view_count": null,
      "_view_module": "@jupyter-widgets/base",
      "_view_module_version": "1.2.0",
      "_view_name": "LayoutView",
      "align_content": null,
      "align_items": null,
      "align_self": null,
      "border": null,
      "bottom": null,
      "display": null,
      "flex": null,
      "flex_flow": null,
      "grid_area": null,
      "grid_auto_columns": null,
      "grid_auto_flow": null,
      "grid_auto_rows": null,
      "grid_column": null,
      "grid_gap": null,
      "grid_row": null,
      "grid_template_areas": null,
      "grid_template_columns": null,
      "grid_template_rows": null,
      "height": null,
      "justify_content": null,
      "justify_items": null,
      "left": null,
      "margin": null,
      "max_height": null,
      "max_width": null,
      "min_height": null,
      "min_width": null,
      "object_fit": null,
      "object_position": null,
      "order": null,
      "overflow": null,
      "overflow_x": null,
      "overflow_y": null,
      "padding": null,
      "right": null,
      "top": null,
      "visibility": null,
      "width": null
     }
    }
   }
  }
 },
 "nbformat": 4,
 "nbformat_minor": 4
}
