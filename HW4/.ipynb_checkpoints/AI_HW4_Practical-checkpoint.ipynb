{
 "cells": [
  {
   "cell_type": "markdown",
   "metadata": {
    "id": "0MJtQYNJx6Ex"
   },
   "source": [
    "<div align=center>\n",
    "\t\t\n",
    "<font size=5>\n",
    "In the Name of God\n",
    "<font/>\n",
    "<p></p>\n",
    "<br/>\n",
    "<br/>\n",
    "<font color=#FF7500>\n",
    "Sharif University of Technology - Departmenet of Computer Engineering\n",
    "</font>\n",
    "<p></p>\n",
    "<font color=blue>\n",
    "Artifical Intelligence - Dr. Mahdieh Soleimani\n",
    "</font>\n",
    "<br/>\n",
    "<br/>\n",
    "Fall 2022\n",
    "\n",
    "<hr/>\n",
    "<font color=red>\n",
    "Reinforcment Learning Practical Assignment (50 + 10 points)\n",
    "</font>\n",
    "</div>\n",
    "\n",
    "<ul>\n",
    "  <li>Some cell's outputs have not been deleted. you can use these to make sure your implementation is correct.</li>\n",
    "</ul>"
   ]
  },
  {
   "cell_type": "markdown",
   "metadata": {
    "id": "rgA9_usLx6Ey"
   },
   "source": [
    "In this notebook you will use the [openai gym](https://www.gymlibrary.dev/) library to train agents in two different reinforcment learning environments. the first environment is a very simple grid-world with discrete states. The second environment however, has continous states.  \n",
    "make sure to upload your model performance video alongside this notebook. We suggest running this notebook on google colab so that you wont face any package errors."
   ]
  },
  {
   "cell_type": "markdown",
   "metadata": {
    "id": "4uzpGHXRx6Ey"
   },
   "source": [
    "we will first install the necessary packages."
   ]
  },
  {
   "cell_type": "code",
   "execution_count": 1,
   "metadata": {
    "colab": {
     "base_uri": "https://localhost:8080/"
    },
    "id": "XO-JzYynx6Ez",
    "outputId": "dbaaa555-ea82-4082-c965-f65c179364ab"
   },
   "outputs": [
    {
     "name": "stdout",
     "output_type": "stream",
     "text": [
      "Requirement already satisfied: tqdm in c:\\users\\parham\\appdata\\local\\programs\\python\\python311\\lib\\site-packages (4.64.1)\n",
      "Requirement already satisfied: colorama in c:\\users\\parham\\appdata\\local\\programs\\python\\python311\\lib\\site-packages (from tqdm) (0.4.6)\n",
      "Requirement already satisfied: gym==0.26 in c:\\users\\parham\\appdata\\local\\programs\\python\\python311\\lib\\site-packages (0.26.0)\n",
      "Requirement already satisfied: numpy>=1.18.0 in c:\\users\\parham\\appdata\\local\\programs\\python\\python311\\lib\\site-packages (from gym==0.26) (1.23.5)\n",
      "Requirement already satisfied: cloudpickle>=1.2.0 in c:\\users\\parham\\appdata\\local\\programs\\python\\python311\\lib\\site-packages (from gym==0.26) (2.2.0)\n",
      "Requirement already satisfied: gym-notices>=0.0.4 in c:\\users\\parham\\appdata\\local\\programs\\python\\python311\\lib\\site-packages (from gym==0.26) (0.0.8)\n",
      "Requirement already satisfied: imageio in c:\\users\\parham\\appdata\\local\\programs\\python\\python311\\lib\\site-packages (2.22.4)\n",
      "Requirement already satisfied: imageio_ffmpeg in c:\\users\\parham\\appdata\\local\\programs\\python\\python311\\lib\\site-packages (0.4.7)\n",
      "Requirement already satisfied: numpy in c:\\users\\parham\\appdata\\local\\programs\\python\\python311\\lib\\site-packages (from imageio) (1.23.5)\n",
      "Requirement already satisfied: pillow>=8.3.2 in c:\\users\\parham\\appdata\\local\\programs\\python\\python311\\lib\\site-packages (from imageio) (9.3.0)\n",
      "Requirement already satisfied: pygame in c:\\users\\parham\\appdata\\local\\programs\\python\\python311\\lib\\site-packages (2.1.3.dev8)\n",
      "Requirement already satisfied: pyglet==1.5.1 in c:\\users\\parham\\appdata\\local\\programs\\python\\python311\\lib\\site-packages (1.5.1)\n"
     ]
    },
    {
     "name": "stderr",
     "output_type": "stream",
     "text": [
      "'apt' is not recognized as an internal or external command,\n",
      "operable program or batch file.\n",
      "'apt' is not recognized as an internal or external command,\n",
      "operable program or batch file.\n",
      "'apt' is not recognized as an internal or external command,\n",
      "operable program or batch file.\n"
     ]
    },
    {
     "name": "stdout",
     "output_type": "stream",
     "text": [
      "Requirement already satisfied: pyvirtualdisplay in c:\\users\\parham\\appdata\\local\\programs\\python\\python311\\lib\\site-packages (3.0)\n"
     ]
    }
   ],
   "source": [
    "!pip install tqdm\n",
    "!pip install gym==0.26\n",
    "!pip install imageio imageio_ffmpeg\n",
    "!pip install pygame --pre\n",
    "!pip install pyglet==1.5.1 \n",
    "!apt install python-opengl\n",
    "!apt install ffmpeg\n",
    "!apt install xvfb\n",
    "!pip3 install pyvirtualdisplay\n"
   ]
  },
  {
   "cell_type": "markdown",
   "metadata": {
    "id": "vjYtp6cyyXi-"
   },
   "source": [
    "the functions below will be used to make a video of the model performance. It will start the environment and choose the best action based on the given Qtable."
   ]
  },
  {
   "cell_type": "code",
   "execution_count": 1,
   "metadata": {
    "id": "-uB9baAkykMs"
   },
   "outputs": [],
   "source": [
    "from IPython.display import HTML\n",
    "from base64 import b64encode\n",
    "import imageio\n",
    "\n",
    "## comment this part if your not using google colab\n",
    "# from pyvirtualdisplay import Display\n",
    "# virtual_display = Display(visible=0, size=(1400, 900))\n",
    "# virtual_display.start()\n",
    "######################\n",
    "\n",
    "def record_video_frozen_lake_env(env, Qtable, out_directory, fps=1, random_action=False):\n",
    "    images = []  \n",
    "    done = False\n",
    "    state, info = env.reset(seed=random.randint(0,500))\n",
    "    img = env.render()\n",
    "    images.append(img)\n",
    "    while not done:\n",
    "        # Take the action (index) that have the maximum expected future reward given that state\n",
    "        action = np.random.randint(4)  if random_action else np.argmax(Qtable[state][:])\n",
    "        state, reward, done, truncated, info = env.step(action)\n",
    "        img = env.render()\n",
    "        images.append(img)\n",
    "    imageio.mimsave(out_directory, [np.array(img) for i, img in enumerate(images)], fps=fps)\n",
    "\n",
    "def show_video(video_path, video_width = 600):\n",
    "    video_file = open(video_path, \"r+b\").read()\n",
    "    video_url = f\"data:video/mp4;base64,{b64encode(video_file).decode()}\"\n",
    "    return HTML(f\"\"\"<video width={video_width} controls><source src=\"{video_url}\"></video>\"\"\")"
   ]
  },
  {
   "cell_type": "markdown",
   "metadata": {
    "id": "281QULrBtRtK"
   },
   "source": [
    "## Part I: FrozenLake Environment (35 + 10 Points)"
   ]
  },
  {
   "cell_type": "code",
   "execution_count": 2,
   "metadata": {
    "id": "k2zC-9XIoYEL"
   },
   "outputs": [],
   "source": [
    "import numpy as np\n",
    "import gym\n",
    "import random\n",
    "from tqdm.notebook import tqdm"
   ]
  },
  {
   "cell_type": "markdown",
   "metadata": {
    "id": "clVAINP0xO17"
   },
   "source": [
    "In this exercise, we want to solve the FrozenLake environment. It is a simple grid-world environment where we have to reach a goal state while avoiding holes.  \n",
    "You can read more about this environment [here](https://www.gymlibrary.dev/environments/toy_text/frozen_lake/)"
   ]
  },
  {
   "cell_type": "markdown",
   "metadata": {
    "id": "YpWqhWmdy0rp"
   },
   "source": [
    "**[Question 1 (1 Points)]**  \n",
    "Create a <u>slippery</u> FrozenLake environment of size <u>4x4</u>"
   ]
  },
  {
   "cell_type": "code",
   "execution_count": 10,
   "metadata": {
    "id": "VcYInB5gzszF"
   },
   "outputs": [],
   "source": [
    "env = gym.make(\"FrozenLake-v1\", map_name='4x4', is_slippery=True, render_mode='rgb_array')"
   ]
  },
  {
   "cell_type": "markdown",
   "metadata": {
    "id": "EfnH3pYryxwf"
   },
   "source": [
    "Let's run a random policy in this environement to get a better understanding of it."
   ]
  },
  {
   "cell_type": "code",
   "execution_count": 11,
   "metadata": {
    "colab": {
     "base_uri": "https://localhost:8080/",
     "height": 621
    },
    "id": "dzYhV3GSyxGq",
    "outputId": "5f5e5dee-4010-4a77-e49f-b2047c7ff516"
   },
   "outputs": [
    {
     "data": {
      "text/html": [
       "<video width=600 controls><source src=\"data:video/mp4;base64,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\"></video>"
      ],
      "text/plain": [
       "<IPython.core.display.HTML object>"
      ]
     },
     "execution_count": 11,
     "metadata": {},
     "output_type": "execute_result"
    }
   ],
   "source": [
    "record_video_frozen_lake_env(env, None, 'frozenlake_random.mp4', fps=1, random_action=True)\n",
    "show_video('frozenlake_random.mp4', video_width = 600)"
   ]
  },
  {
   "cell_type": "markdown",
   "metadata": {
    "id": "wze5Ukspx1G0"
   },
   "source": [
    "**[Question 2 (1 Points)]**  \n",
    "Briefly describe the state space, action space, and reward function of this environment.\n",
    "\n",
    "**Answer:**  \n",
    "The state space is all the places this human could be so it has size of 16 and we encode it by just a number by using the following formula if the person is on (i,j) meaning in ith row and jth column:\n",
    "$$state=i\\times(number\\_of\\_rows)+j$$\n",
    "<br>\n",
    "Agent has 4 choices in each step (right, left, down, up) and this action is encoded by a single number (0: Left, 1:Down, 2:Right, 3:Up) and since the map is slippery the actions are not deterministic and the move in intended direction has probability of 1/3 or else it will move in either perpendicular direction with equal probability of 1/3 in both directions.\n",
    "<br>\n",
    "Reward function for getting to goal is +1 and for all other states is 0.\n"
   ]
  },
  {
   "cell_type": "markdown",
   "metadata": {
    "id": "JmelLdEG0Pjr"
   },
   "source": [
    "**[Question 3 (2 Points)]**  \n",
    "Complete the code for `initialize_q_table` function. It should create a Q-table of size (state_space, action_space) and initializes it. You are free to use whichever initialization you want (a good starting point is to initialize it with all zeros)"
   ]
  },
  {
   "cell_type": "code",
   "execution_count": 14,
   "metadata": {
    "id": "_BKgfgqI0XWW"
   },
   "outputs": [],
   "source": [
    "def initialize_q_table(state_space, action_space):\n",
    "    Qtable = np.zeros((state_space,action_space))\n",
    "    return Qtable"
   ]
  },
  {
   "cell_type": "code",
   "execution_count": 15,
   "metadata": {
    "id": "lWeutJTb0qUX"
   },
   "outputs": [
    {
     "data": {
      "text/plain": [
       "array([[0., 0., 0., 0.],\n",
       "       [0., 0., 0., 0.],\n",
       "       [0., 0., 0., 0.],\n",
       "       [0., 0., 0., 0.],\n",
       "       [0., 0., 0., 0.],\n",
       "       [0., 0., 0., 0.],\n",
       "       [0., 0., 0., 0.],\n",
       "       [0., 0., 0., 0.],\n",
       "       [0., 0., 0., 0.],\n",
       "       [0., 0., 0., 0.],\n",
       "       [0., 0., 0., 0.],\n",
       "       [0., 0., 0., 0.],\n",
       "       [0., 0., 0., 0.],\n",
       "       [0., 0., 0., 0.],\n",
       "       [0., 0., 0., 0.],\n",
       "       [0., 0., 0., 0.]])"
      ]
     },
     "execution_count": 15,
     "metadata": {},
     "output_type": "execute_result"
    }
   ],
   "source": [
    "Qtable = initialize_q_table(state_space=16,action_space=4)\n",
    "Qtable"
   ]
  },
  {
   "cell_type": "markdown",
   "metadata": {
    "id": "9NHYE1Q2rMSU"
   },
   "source": [
    "**[Question 4 (2 Points)]**  \n",
    "Complete the code for `epsilon_greedy_policy` function. It should select the best action according to the current Q-function with probability $1-\\varepsilon$ and select a random action with probability $\\varepsilon$."
   ]
  },
  {
   "cell_type": "code",
   "execution_count": 28,
   "metadata": {
    "id": "YbOjqoTRrAqw"
   },
   "outputs": [],
   "source": [
    "def epsilon_greedy_policy(Qtable, state, epsilon):\n",
    "    action = np.argmax(Qtable[state]) if np.random.random()>epsilon else np.random.randint(4)\n",
    "    return action"
   ]
  },
  {
   "cell_type": "markdown",
   "metadata": {
    "id": "Cgdt3n_ftE9E"
   },
   "source": [
    "**[Question 5 (4 Points)]**  \n",
    "You need to choose appropriate hyperparameters for the agent to learn.\n",
    "\n",
    "In particular, you must find a suitable learning rate and exploration parameters. To facilitate exploration, a common practice is to start with a high exploration rate ($\\varepsilon$) and gradually decrease it as the agent gets better. To implement this, you need to specify the starting exploration rate (`max_epsilon`), the final exploration rate (`min_epsilon`) and a decay rate which reduces the exploration rate after each update (see the `train` function below)."
   ]
  },
  {
   "cell_type": "code",
   "execution_count": 178,
   "metadata": {
    "id": "SrbwYgKZtFWc"
   },
   "outputs": [],
   "source": [
    "# Training parameters\n",
    "n_training_episodes = 50_000  # Total training episodes\n",
    "n_eval_episodes = 10_000\n",
    "learning_rate = 0.1          # Learning rate\n",
    "\n",
    "# Environment parameters\n",
    "max_steps = 99               # Max steps per episode\n",
    "gamma = 0.95                 # Discounting rate\n",
    "\n",
    "# Exploration parameters\n",
    "max_epsilon = 1             # Exploration probability at start\n",
    "min_epsilon = 0.01            # Minimum exploration probability \n",
    "decay_rate = 0.01           # Exponential decay rate for exploration prob"
   ]
  },
  {
   "cell_type": "markdown",
   "metadata": {
    "id": "y2hySBMAvmPk"
   },
   "source": [
    "**[Question 6 (10 Points)]**  \n",
    "Complete the `train` function which updates `Qtable` using the Q-learning update rule."
   ]
  },
  {
   "cell_type": "code",
   "execution_count": 179,
   "metadata": {
    "id": "FCqTlP-7vnxs"
   },
   "outputs": [],
   "source": [
    "def train(n_training_episodes, min_epsilon, max_epsilon, decay_rate, env, max_steps, Qtable):\n",
    "    for episode in tqdm(range(n_training_episodes)):\n",
    "        # Adjust epsilon\n",
    "        epsilon = min_epsilon + (max_epsilon - min_epsilon)*np.exp(-decay_rate*episode)\n",
    "        # Reset the environment\n",
    "        state, info = env.reset()\n",
    "        step = 0\n",
    "        done = False\n",
    "        # repeat\n",
    "        for step in range(max_steps):\n",
    "            # You must:# Take action A_t and observe R_{t+1}, S_{t+1}\n",
    "            # Update the Qtable with (S_t, A_t, R_{t+1}, S_{t+1})\n",
    "            # Be careful about episode termination and truncation\n",
    "            action=epsilon_greedy_policy(Qtable,state,epsilon)\n",
    "            next_state,reward,done,truncated,info=env.step(action)\n",
    "            Qtable[state,action]=Qtable[state,action]+learning_rate*(reward+gamma*np.max(Qtable[next_state][:])-Qtable[state,action])\n",
    "            if done:break\n",
    "            state=next_state\n",
    "    return Qtable"
   ]
  },
  {
   "cell_type": "markdown",
   "metadata": {
    "id": "_sFV4Kn6zO8G"
   },
   "source": [
    "We are now ready to train our agent."
   ]
  },
  {
   "cell_type": "code",
   "execution_count": 180,
   "metadata": {
    "colab": {
     "base_uri": "https://localhost:8080/",
     "height": 49,
     "referenced_widgets": [
      "a5eaf9ef6e764f5793d6ee51885d5094",
      "4eb63c62bdfc4a0187cb15fe735bf7a9",
      "630ccf49bc7045afbb6fd75aa773cc9c",
      "47f0b35c36bb498fb47f98f7609e7187",
      "c0183ca6bd2042f28e6460bb81ee56f3",
      "d27361677e1643d3b9b7713f9e8033a7",
      "0ac4ffa2eb644fc08b55b6c624aba10f",
      "d4f9b65743064b0c80e573523aaafb19",
      "2c1b137e0a7f45dbaf3e0e2fb4c9f065",
      "fa684dfe7f9d4e78b2f966a02ac64911",
      "0df16b501be443acb42de61e37070b75"
     ]
    },
    "id": "jduZzTMvzLBx",
    "outputId": "83da81ff-732e-4ea3-83bf-b3e61ac41d77"
   },
   "outputs": [
    {
     "data": {
      "application/vnd.jupyter.widget-view+json": {
       "model_id": "ace5190b54b64b50b23cd58f3eba1a64",
       "version_major": 2,
       "version_minor": 0
      },
      "text/plain": [
       "  0%|          | 0/50000 [00:00<?, ?it/s]"
      ]
     },
     "metadata": {},
     "output_type": "display_data"
    }
   ],
   "source": [
    "Qtable_trained = train(n_training_episodes, min_epsilon, max_epsilon, decay_rate, env, max_steps, Qtable)"
   ]
  },
  {
   "cell_type": "markdown",
   "metadata": {
    "id": "OUlpdnRx75g9"
   },
   "source": [
    "Now, we will evaluate our agent. You don't need to write any code, just run the following cells as they are."
   ]
  },
  {
   "cell_type": "code",
   "execution_count": 144,
   "metadata": {
    "id": "BbQRzYEb8C3u"
   },
   "outputs": [],
   "source": [
    "def evaluate_agent(env, max_steps, n_eval_episodes, Q):\n",
    "    \"\"\"\n",
    "    Evaluate the agent for ``n_eval_episodes`` episodes and returns average reward and std of reward.\n",
    "    :param env: The evaluation environment\n",
    "    :param n_eval_episodes: Number of episode to evaluate the agent\n",
    "    :param Q: The Q-table\n",
    "    \"\"\"\n",
    "    episode_rewards = []\n",
    "    for episode in tqdm(range(n_eval_episodes)):\n",
    "        state, info = env.reset()\n",
    "        step = 0\n",
    "        terminated = False\n",
    "        total_rewards_ep = 0\n",
    "\n",
    "        for step in range(max_steps):\n",
    "            action = np.argmax(Q[state][:])\n",
    "            new_state, reward, terminated, truncated, info = env.step(action)\n",
    "            total_rewards_ep += reward\n",
    "            if terminated:\n",
    "                break\n",
    "            state = new_state\n",
    "        episode_rewards.append(total_rewards_ep)\n",
    "    mean_reward = np.mean(episode_rewards)\n",
    "    std_reward = np.std(episode_rewards)\n",
    "\n",
    "    return mean_reward, std_reward"
   ]
  },
  {
   "cell_type": "code",
   "execution_count": 181,
   "metadata": {
    "colab": {
     "base_uri": "https://localhost:8080/",
     "height": 67,
     "referenced_widgets": [
      "dcd218f9711b4e9890d75883d017e3e4",
      "102cecdfcc5d47ada76435d97ac573ed",
      "c00a5b8d82d54c30803e7f6a26ba0322",
      "99784348358c41e599f210f16b9fc648",
      "108c385f845c4b09a8486aac1d0a4589",
      "4a0b04007e204de287035d2e7fe67c95",
      "c9533715f3b645a2aedff135a9bdc733",
      "a76c5a69f9184c0bb0763101e7fcc0ae",
      "7f2a9c443f8941d0b18d6d7f42c76ede",
      "486a4927595a48debdc1ece1951e85c0",
      "be568628a84b4ad6a06c68de278d851e"
     ]
    },
    "id": "61-viEdx8vbC",
    "outputId": "9acea518-c5da-4253-de69-2d1f64545b4b"
   },
   "outputs": [
    {
     "data": {
      "application/vnd.jupyter.widget-view+json": {
       "model_id": "0abd2372c1394e288ac9a92d0b8babe7",
       "version_major": 2,
       "version_minor": 0
      },
      "text/plain": [
       "  0%|          | 0/10000 [00:00<?, ?it/s]"
      ]
     },
     "metadata": {},
     "output_type": "display_data"
    },
    {
     "name": "stdout",
     "output_type": "stream",
     "text": [
      "Mean_reward=0.73 +/- 0.45\n"
     ]
    }
   ],
   "source": [
    "mean_reward, std_reward = evaluate_agent(env, max_steps, n_eval_episodes, Qtable_trained)\n",
    "print(f\"Mean_reward={mean_reward:.2f} +/- {std_reward:.2f}\") # should be around 0.65"
   ]
  },
  {
   "cell_type": "markdown",
   "metadata": {
    "id": "8Oj-u9bi7Vct"
   },
   "source": [
    "Now let's see how well our model is doing."
   ]
  },
  {
   "cell_type": "code",
   "execution_count": 215,
   "metadata": {
    "colab": {
     "base_uri": "https://localhost:8080/",
     "height": 621
    },
    "id": "NqP2b15M7U6Y",
    "outputId": "4a3714fa-7a56-40ec-b99d-cef30a6edf00"
   },
   "outputs": [
    {
     "data": {
      "text/html": [
       "<video width=600 controls><source src=\"data:video/mp4;base64,AAAAIGZ0eXBpc29tAAACAGlzb21pc28yYXZjMW1wNDEAAAAIZnJlZQAAfDhtZGF0AAACnwYF//+b3EXpvebZSLeWLNgg2SPu73gyNjQgLSBjb3JlIDE1OSAtIEguMjY0L01QRUctNCBBVkMgY29kZWMgLSBDb3B5bGVmdCAyMDAzLTIwMTkgLSBodHRwOi8vd3d3LnZpZGVvbGFuLm9yZy94MjY0Lmh0bWwgLSBvcHRpb25zOiBjYWJhYz0xIHJlZj0zIGRlYmxvY2s9MTowOjAgYW5hbHlzZT0weDM6MHgxMTMgbWU9aGV4IHN1Ym1lPTcgcHN5PTEgcHN5X3JkPTEuMDA6MC4wMCBtaXhlZF9yZWY9MSBtZV9yYW5nZT0xNiBjaHJvbWFfbWU9MSB0cmVsbGlzPTEgOHg4ZGN0PTEgY3FtPTAgZGVhZHpvbmU9MjEsMTEgZmFzdF9wc2tpcD0xIGNocm9tYV9xcF9vZmZzZXQ9LTIgdGhyZWFkcz04IGxvb2thaGVhZF90aHJlYWRzPTEgc2xpY2VkX3RocmVhZHM9MCBucj0wIGRlY2ltYXRlPTEgaW50ZXJsYWNlZD0wIGJsdXJheV9jb21wYXQ9MCBjb25zdHJhaW5lZF9pbnRyYT0wIGJmcmFtZXM9MyBiX3B5cmFtaWQ9MiBiX2FkYXB0PTEgYl9iaWFzPTAgZGlyZWN0PTEgd2VpZ2h0Yj0xIG9wZW5fZ29wPTAgd2VpZ2h0cD0yIGtleWludD0yNTAga2V5aW50X21pbj0xIHNjZW5lY3V0PTQwIGludHJhX3JlZnJlc2g9MCByY19sb29rYWhlYWQ9NDAgcmM9Y3JmIG1idHJlZT0xIGNyZj0yMy4wIHFjb21wPTAuNjAgcXBtaW49MCBxcG1heD02OSBxcHN0ZXA9NCBpcF9yYXRpbz0xLjQwIGFxPTE6MS4wMACAAABonGWIhAAr/6N3kR/nJxptLpG+8DqTvFFrqG77qMBm1tPdT+5xJQ66A/ZPwNAPV4AASXxOXUwbmxWhe7RRwfuevG8eakmA4Ldn9dibbyZnLlgE2JVhRv0RZq55OSvHjpojxFlydLVJlHM7yDZSStSsHvykFfo6qTc/2CgP0u7PpVKbDE6a8CxoDCo5cwlMDtw5gYoedcHNVC5HT3hzO1Waya4/sqA7uH16ZU6UJAmMxSZjssIOQjZkwcRggd6e963oa1iKwI6nhZR4J+PhiILpNyhjySmIhN0qRZCLPohxo2fy7+XktXYKhtVE7r6xQs7EJQvEMZH0LaE5GYuDuDxyxnC3XTJn0d26hkdpWLYl5H7j8WXcgT/Pt0eEhVrLVBLqwk8lI68lZQzoglW3V64TmDJmsqkbTVazXrfNYKBPqzw1eYAR7dXMgujjM7jqKirwIT98bmXsHLAaab2nxGR9jCbFNIzKOz3LyhVs5sg0QhXkUL5jLJKqDTgrjlJ4etmnSCwC4gjHYyw/3qYgEOUxMMmbdvMwfKgFeTziSUGPlBX9H2dOylPH5VCxhzkSAseD2/6AlVITLEHUS0GrMjLFleOboI6Qzsjnmz2RseGY0xWUZthBZobzyqviD9pirRnQaqubF5hg4iUEhOPRunv+WzEivbyduS2s8SsWIz83vbKN14HkrdC8MG0U1xkEf7OYx9cx/Aa8SyhsuJMdw+OCPJAwBtG9Atp9uwqVxg9W8XCivQ2KTCjf1F4Oe5jalefTqMBIvD68l9Lhwmp8IRevk+GiySEdOPav2/2Ln1OJQ+PPGHPLn1Q176Z82b/NLLIRRH3dsZo+bqwWKhl4UEAzZY8eq8oONJ0MtsSO45vqK+SGpu9HoOnU5xrDnHj1sECDR0LUOGFXw79DcP8coZBG5EAKqo5ZA6l8IT5rn5QSdXYz02ZAn90bDn0G6/KyAbb7dnq0NOsZxQg14nW7HZIxEsEqHseGAuwxp0yhebXnqzDbG0bz8dt5wJX/xUG+yt4YHoSUVKRVkpqSjDBYll5B0//P9hxWUevtQK99MKWgBDfo/0mTyg0v6Uz26bAgN7HMREsR97CFFRe3zOwxOrSYDBWkb3mw2yAZWpWbGNaQjnBuwatCuSDq57ElAiZVITsI8rz754GzDJUPCWRAj6qqwOqd0p57FU7AUWWoBF4kH2bE0X1cCPkLYe/eMn9TlB4XChJqECH6H9oLnSFae+Ps3JmMQT4tLlsOP9ObEIEGYROdkWMYBPUZC0LqMcG8S+Wsmxhzy25Lwj75JJz5llPZCKWV/O/5XJrhBZurSTMIBmyx5O4XwT1+yy22uAjm+RCwgz4iI/xIJOca+hEE2tggaEhkLjJowPNT8smoBZGNtwQM+zJxtDeO9hUcs1Fur27MO6uFdl+bFhz6DdflYRLjQENn2PhpexFB1rSHTO6BdvIt+lFjwv9yGNOmULTa882dYMOWTMLOROBGUVT80yk5She3xZfVOyUEj0SDhHO3CU3TAI4bx3vcN7j9xG83Bwbf3EwDk/oNL+lM9DJVnazI7zI2I+9hC0xvGMwXvM4aNVHqc6zt42swZWpWdONZWQus1Me6x56Grtdv4TMDc1VCuADW4jZBFY1Q7MCQ8/VVWOxhBgPzxd6wFFlqANM+W8GxhEJkFma5gPgImT+pygnLhQlEiBD+T+0GvdjU5YS7ZdGg7NbgqYp/H5TbniyiptVpgjOOWctd0/56Ut6b6V1k2MOeWifdUsREhiT6kG8vyijiOo79G24SwR8iydaeqmTpKEtOKfaQJpRgKQkzBSl9N3x3RcxIpik4Lk7+1Qr0LTd3DPo4TYZzsmoEHCp9wPrJT2LmfG8iV1y5rYneM7xMCzacCNMm+cek6u4LT32MXSDgADep5frkARxoUMa7/FryC2WTbopFLMhTr3h6iA/syztbVCLLcViihwu7MyEn1/Csq2BtAuao0SQD/MYH1Xe3wzs7uoadCpIMvfEiqujthx65k1Su7aZ8sR78dYgjTrMZokMn+BlaXBv9dr3rK/wtrazGcQGgmsnuI5C/tbqO9jkvQjSHsvoKA4OwAgq5Yn7bVmWGvTdRFOqtwBnjO7Yg5lN9kjsKwTDfz0LBA26vXHINZ+lgBEL+usxxRReH2RSVC2e+HajQ6Pjdfi/RxGuNb/JofNCQink8ZYpC0NYArQib7voZjkzbaMv+vuoz3pJNM3zdlInCwehmz8qXeHKjl+NT9IQ1rUxlP0b1HeohKjlZLrzCnjxAGK3V2PJyfeEK8d9HX2OKgcPb/XiQvsMCe6J7RHWtOD8m8G9xlT76QwWzQhljFifFon+zrKHFrSXHo3GwYRWpnzvGmD2NQg9icSTyEIBXR0vOer3iuChOz88H0jCBLacn0yMa+ZGxvwAZPLSe5TmUjBeCqaEeMkplmMb6H/EJHyiPiqEljfVvo+62PBYASja++Ah1bBbEbp6p0+STB/ajyeMetLH1+T6sfGPDJU7qKmBD2N9RyxhlGrL73wdga+dQZ/LQenHp6ovyGIYGAzLcwCECRfqWoxB9AbQGeWFKN3yRhGbj4r8mfoJYsMFDaH4LZ8CrivnbIEkax53oik4MutnABFcW6HY+nJ7rQUtzVIx1JDBDMP0yRd75BkXz3vj9N3Kg/jSXFeBYc0eCRKrcqKLDHUcNO8vat1m2N1uwJR9N1LbbJ4znTiNwByF6EUuHuzCfB+63BOBKb93kJ1YqVQh5DX6noZKYk+yHA2V6ViUXxKYep9HcUR+HzfSyrCNltWAM6TtPzNbmxmiTG8ihOFGQUfIAQ8U6vSls7Q2WEBzczytfZN1/pgBDNx1mVoVYsuUPa9WA6EayNApWZExS8lM22zQsHOw20VaC+73FXrbQQlZp+4MuwRV/62YRPb3VNs0YMwduOh7UBZ2Nes+17wCbyiVgYQwCvVKynygvQKdQwbqjx0qdxwt5pKz9SmE27NZnvcs2CyPLIjkUdkzRhBsJ0R9vqmO0UYF9M8SbqOv2ZRHoDk/L/lBWOFwAcV78/kClfgp0WnpC0MNIyUVpp9I/omiCKzPTYu1+neAl2+cnEOmUOixIsfWMolRvxIsvv2CPfTP/qyqj2TBY3EkAQACk5W/xT/RC1Y5FhaUSVWpTs3WzoA5O48D+4MWc93a6AMS3NvE4p4+twib9dS7xbNWQY6llWCtFIpOpxZYAmgPCAD6M44FtlwCg5raS8UPklL7cvmLfoCUJz5WS+BvZLQyCGi58i2wb3HwlxkA1B4qqX4qBkBABuG/Xh8yBxh0X1BKf/J2bsspYQ+C6PFaAJidaDI/VP+LcwtrSLhfXYYjDCiJmni6kf9XQI9UB3orQPEQcQ06UVKCOatgR8VPvh94WQiRPVossNWqECv2CsZPqb+HEtRaAUqNYkya/UzU0AHcydHMyvvTKCiIw3MUIt3WjdBLSdOX57p8zJAd2AOFs92cTnIZxcG/E+Yr6pyRm9th92G5pkE2uMSKdm77BsQWc0TNo9bf8skS/g3gTnSUZmzSZwE3XDvH4O85aOkeWgZWK2Yha26YodCpuv5H7x7c38SeVrjkWnY6QYzNTlK2h7OFQj80r5Fg6nj+rt6XFEFtyeBAc+Gk8+81uzjydE+MxCri7TBE+gZzrw+enk6CRIe4PEiIaPs8xfP1F5FSxKV19emi8NXGiBqkIl96svzokM+Stuac8pecbxQesXGEOqwfUAx6GA3hsFBT9K0up9WJMqOYUFQ/WdCDSglBAIB1GXa8ruKe8U03gmU15xLQxWNFz4b7JxNsNwuDNQeKtW0VAyB60/jEO6dETxpWSseaadPnts2RYBNoybM9rJjZJhthBP+XJFAKZOQPEMGA9REzS9frIUF7pog/vzDU0AL7cGMRk3unrYIhLjDTfXjIMgIrMmeCQEBmI4EUQG51Q7iWosJVsGO/jYF1Zy2/+PmjmoNn0c8wAHl9mpXvTzDQwNt22EN2eD/YA38rnEBsOQcF3zkaqvivb6C9EkvbYfiC6aZBNQrB/E7XfohhSzmS2eYLNg66NP4N4SjEY6ZOwgSP4/5ZRZyK/I99msdNX/zMp4ha28D49N9av8f9diL0LHYzvjInuGm+lZlj2RSA7Lu1+/gaSvjoFGCpv4Yz6BOl+8zuvNeizrR7ZY9QRR7/IRpI0mLlL7BeEnMfWfaqaSVrKw7araRdtSq8a2mPIS2/7URqC3+2dM5l6I+sTzdND0H4F3MTJ33Byf6WKHpTgnMtRqYxRyOtB2+SwUFdCWzstZlACSDQezyMcTYJdx9LcCsEw03EUnGJ6u7TifwjMe4gLGmCASQZ21S9EhI8qkYk9JQj6v/072bgtR6T8IzfP77Incu6wg4cvPX83VJk+w4q02PCV5XRTX6BPFxQKF5twlTiBkoLeJNsqSLmYlqAkm6wk+Qq3Ig9gT+Owk9UCYieLIui2lW7+gkEFEqCgMIzTHLVWgn8Coa1uWnyH5GBr8cZB3rxoliJ3pVWoRKanirs6ZlRB7AWyz3NNhUrbguhrYB9eA87qFWIdup+mEZt5rD3HsbJVrV39GLHZt42j/msl8XoANPJ94+K6yedx7ptYNbXycny0xVdiOpbmFsR/StYh3dDfnbhkohLzt2Qw5oAtHfIPYqfKWwbb5MSwq/IG1S4q6QzDrWySUcEoiSiHkqgYuwtSZpG6SIdV0+beADnTZ6fefURjKHteQUMPl3yL2glAfu/2yx/ZhHcxp7cU56bOHUo/FOW+YwxTr6O6eKJIZzmxXU2P6wZO4OHt/Wko1te99dOtSPeCAp4qxxdJLzEzzNDXsWeZ+jGtoggFQnKHaWAakbkVTAUn1tluOrLtyL96uuinZbT/1ZW8tk67Qe/lD1bd4TYcoVB8mL3ySsGqXb6a3TJoqiMtPk0YEMjMBg2hfBL+1/hOaq1YKpOMth3jPkveLvCele/Qy2nvijRDk9hsONN+tRlxgxg6gBVIyjWtsQ3ms+PLRIJ+3IA2hYkzku6wuKyk+a5aJWtMasT05kQaS1pO1LtKKsg+efiGXhiitj+ar9O0STXifO6R9XMuX4V9EaG6yX15phRrYcFl7ivGUzWhIYblxSLEEyei3szB22ANubqy0a5RUUzG9fK7FJqrB5ZXuuvdVBudsDCJOSUezs/XXqytFjSgJarvAslQzrpnbGSVGx2aMt9seOogLCyQ84em2MMe9n5M17JGVUH8eNN7N4g+ZAmEYoS53CAfgEB2zqwWnygcD8x1d3xKTPx3MBT4T4O/Z2Tas5sUg2gNImw4RBDAdJTj60JfAR7PegJRomS+4cEJbzp6akS2bmBzMRUJiwGRUaCCIewbYO4cQ034DJ/Xo1s4HwgdRiqIHhk3opJeXUk0Y8+F50C83mI1Tg1I12veEXIReVb1MRxxfKZZPF95v5QMLjAHGcJWZGAY04NcHSxAFsgEdY635DteF/Ru4hf4ewcircPlN4l9ZXrb8AsTH/PCVs0ixIxcVk/i0hURFzNsmZ0LL9ZoJ+nzhevzX4jLqFS56ufutzSE84fnZAHbprV+VYgECESWG7EYpBGIRyxe99J+huEOHp/k76r00cErfdj1D0n5A2HvMRqPrBuNza8AjHVJqYmSIT/XXuqQ4v8Xrzh7APsuFhwO89P0sAtaiUmE+W4pYf5vJ9W5gnC2vTB8E+jLbb+mI3iKXCMXALVKOXkyGOPy1n/UHgNKqqdWiVcgP87UDQsK8vX9r4OoIU0PONHPjiH36uIJN8SnV3qs5TuN0gFkoZIYYXoGp3QmDWcxmqj/oC39pmZFzGNtpTvkDxp6MYHMwdiQbfRVhOE+hLykimsyJ9cynfbls5tC5yAY/c+O6sjkz+gRsyfCgUECRCLN4jTljUjbwDNfuM5qsvrhGpRQq0K/M8g/tGabh8V2I7MkRfCu64OliAKhYf56L13+TAzfvOu77q3m7idgvzGCE6yYaE7NIjdfpjIsho5mmXLDkYKv3MUmZbI2Z3QVoecDvvr/6r3NThJda4r8q+x16S4YbSTsgDxza+TOCvuP79ff5h+4faaXZIIur5ShYumMJ/j/xA+2BHhBsRK4JwG+srh4i46es6HLy6jNDZwk8Xo37hc7io/XV+HmUtGf99jOdNFCFpXYqDaWwKFFNAgOfeT7lxeBwv4t7qBYpXgj3+au72Tcy4ooGz2SYTmcA4qy9JRaZ8S1v6oBwtY3Jf/al3/qRaoHf4mzoKrELzxaIn2+M/YyYazX43KWCOe7gsyf6IuKToWUr8NyM/Va2WFof37XPejSKacQ6wfOQwkaK9n12sLB4xmBhTMYu5g7tqrP/CE+mYoa87kIHETIbBIvHMvat0KIzfR4vpBL7gly7RoKCG93UZiJ8ffys2EJnBgeeKObF9GsqmdPUw03NsVz/UGe3tvHqFnn4XmawBiX+1/3oZLj/E5H1Lwgtnw9F/z0ccoW2bkaxy9zgcol65JCO5XmK3hhbBp1aOo/2zb61+FzWNjIzzwUMHlzU61ip+/BM9MF4g2iOWQgw7pC2RJMEDMZySho/d5WO3VUkYr0J7gdIU7i1BfIF+i1vuCmh2v7QdTi4ZPt1xtQ9ZrHfefAqNqwjO6fd1vznCszKnpueUff7cYsb6ObbMBMG8jg63ySJrhrV72BAF9cHehHruwofIpU35M8suRfkx67z19i6DE6Zoe3OmRUaK3eKT68gKJ28+iPOsDfYzqFCCUU0wOpir9RXLxl+gu7iP+V6mNquhkUgzgESG9/LitqXJLbjraSvdSEN/0qkmlq+yfh9ENxqjAiWDgWCFdY59ZNZOTx/av94UTwIbihzNmNCrosDkV4neY7TBLKuadUUq64+PMlhucP4Uvmb0J8gSZErxI9T76HsWCaicXbcLVyO5JuP7UJZHSjhRnWWmOpjcTqmhRyzXe0QHG9s20rnm75aQwO6o1ViyG2qg0hCrc90Xae+eSGxS44rno+XA3O2wc3NFPISPo7fnBwtPSJ3Y25V2CLJkPVCk5ApdmLVQP8UANxJm8wOcpU2o9UkoR349PsUskecSou80piNbwsu1jaFWPpxQi7qw1566RbYL/48lv0KEcW2m6D0OD4YoCFb2SaGRJtn0fCycaJqlgydxRichpF8StFRkZC5rrZxTBVhTFv5+lzXVXB26CzkvQmWt30pfTUFJrVyS0PfxxQMtchfAWuhfmM6hQgk/wqaxsShWMGD8pMLM6i4yC+OXba2EOrH+r4nVADkb3sPPaiXzr7fpRR0oWwfFji22iDDKsyNioLeoGzMEJLbq3pC4sHj+zEBMqTPxec3jaRdJecjJRMpjep2tBjQM06ne1E4BAcXM6Lp6I7irtI+F1YubSsPhyhoQmefcVt5nXalGR3JNx/a2sHqwID866st4pWvtvSz2W40JaEqNt1GldFxveSK+5UGqsKw21HmkIVbnLH0F4rsRqO0i/Uc7AaDExGY2d5qAbkmOwW+v01nqSwPlwO2GpixN/SAbm3qYu+YcFMcWVcSaEKXXD7ARjo2OZDu2skecS4u80q1SDisvZ+7vNs5pjJIVWi8+aVprLefApy5X4ra6tWInr7zgHsWj0Li4uo2eCiPgkjQSj4MXasJZTjVDHQ3VPA1Fp4JO5GCrCmLgOdOnsB72zryk6zCZa3fIl8ZQUllXJLREfHNAw1yF8BGWCrYzqFCCT/Cpq+lKFYwYPyuo1Subgc+oE4+Wb/Ll1uwqmglaeoh1mADo87ok42Vdhs90f+nRaAJR+sJNirSBxEEuCCzr/nssmTezItVx4uS0rfOarIrCMzjcHOTkBc3+vYAUOadTkC4JVqLKuq7AMjoBzhmKqNDJggxgStMjacRwYWERtnfCPmQmJAKIiqyOmCAHOz/LeKVneutDzncmXnXpG3ijSui5IvJPfarDVV3wbajnSEKt0DSyV578RcT2GIaq/EY6OHUuhwfdUfYBdBGDWdBlBN5zf4Pi1Etqjf0gG5uWjUH+J63OLKyJNCFJ0mGqSUIZ8Mx2KWRoi8VHWKVupBxWX8/d3m2c0xkjmtS+fNK01lvPgU5YImcrM4IGRVvxvmDxkLERbDZaoj5MUB18uCX/+zoT0YMo/ulNdOyZrSfudZGQRc6ZGl/GOZxYR2RIftoNHSr1ftJQJWW4/sDDKuTzJRwG7ASHn827badbH/2WVF77mgjrrjy5s05Y9C69n/N7y+0bnIJySS384jGrC3AOHt1oaL/Ouu7RFBIKOyRBOndtyylvWFAl9uDvIg2a/5ptEGZZ4L2Dgim5hMAH6ssiec4u0PA3pn7NaH5N3VDP9vo0lEdomuKKh3OrhbrflH2gjE3B7g0wpaMfHLmAVhHsc/Wf/j3u2bDY7d4jhIKvHbJ8kMhHYusoG9P6TPKIvj5TzxmXRMon6u3iAnBEmfE9fMmS7WiNiP4enufjafRyaOBRk1nkDlbzuIlQHpLErhStAJhQbKTqAQFopvupXxWv2WMTtlSNNWJ0yVLjSqAzZdzW5r2/1oxGE5ifVggYo12wiyuAXo+runTP0WIGRT8tERXd//dgaGrW7FrCPG0FHIgvLwVzuDCdK+V1vLpPpcwP7UYqWmbIxEs2T9LDzGmzhGa6Mo+S2NSNwKWQsZjMYq+ZOUyhQV7Rb/2NLqswVnGesU8lEH6Dm7JQSOFx/KIdk3QGSZDG4wY3Xsg558mgAunw96sQomLpMBBA2d7QvEPc7xooLO5/TY6zcxoRWP2WnP+OEzQSifOljiPW5PUL54GYMc783kiYkTTGUJ4H1j07SNNz04PrGUVjs706X2gMAUPx2P2b+t2VHlSVS74X3lkxO0IhWOOHPpE9IIkroqlh7WB63r2X2QsOqhUP+Zcud6voO4M+t7PXFqEtSChIK98efGkhgn9UY/5mFyO+XWf5H59yDs1Lms6oVIUB02lBLnBeklgbilQJlSTVD3Vc0WlAIQy1nmJ2o3+X7lSKUVVmXes6HErA0O+1e/mC9ca+tNn8cWXgxUQW+LHpTM74JuaebHExj/ptBqacUBIsvKnfPwVI20BB1Ekp0mQjqchdWEytbssVNRlpNbfic5+2k255ZBEEe5NVYymGVlDbsiipJxPQUmt49mi+HPwtG568hO2HBP9ECIq8EfGeVvIP6+3tEHy7xhhyXJkFWK/9/x/TShksRoAVo+XL1J+tsqMi4TD7/CA7oVXkry5znrEfA+g5JelIbpIK+iwnXqoEAFQHmHDoCtCMFghEwIYbNxOXf64KV1YOpLt/pWkU/4bYbDp6/1/PogqyC2oNFeiXixaRgG+H5sdR5ms+kg4dr+Cenovbxg4TccuMWC20XDSrpqDTGsY4rcKD050HXQUZO62nU6mpBUCx2QhmPuiaar/0WXcfATE6CbAShiTysHJTE9dan4vctcxI5FvKpqeF65vUjfHf39oIT84W2Sp/ZdH6H+7ezWS1rK3xWe9F/m3AHi8sziycE64utSb05fjZrS78uCP9vaA/Gcok0y7rK+URM0lfDwba1AWVX03LRcTOZ36U/KpBqLa8uYB3yZwSk+qS9TYNZ6pswHiRLrgFlTd3eUt60TiKrkqmFxoMSWRfo/zoOtxwsyLFvANyjlM9J5u/2TJhM3DnE4RDgIeS2UiFjhJkm74RfkGPqzPTk4cTYg2zfGMsdnby6iS3Ers9cfSemjIcHqwPsZtIQYXKUEmBlzCpPiznwbLomCpgdTcTU58ZV6jNkeTRuUJ8jC+j3sO7qUn6x1/IBpS42vDxq6gVGspLh4y3aTlp1VeGGtkrmGPm1deleB3ZtfR+J1dL7bQe7DcCGOaesXryrTpOa56bDkaA9o9QLgg/zADclA6dYL1VcQ0363cAwcrOPdyVA2U2vY445Pvkt7i2Kl5jcmiYKzP/XjR9YrbLKASIbJwYxdeaJcjrkQtz+weHE6MkZVvUzrQOTibKdo/3btzOFfoq4B9Boixv0SmHUSZF1nTHupMgUaZ79LjQxefhhft2lEKC/I8bTVkpfD4Xab+VIx/wQ82sjTFJzp5BhIqIi6IaM8wxzZIYHiFWcfF2M11iK0Yb6CgF+oM5YOjbRqKQWIdzbnpyfF7thtv6+v1HDjwa3oK0NTxok2P63u+aijInZT4fzzLMy/g1Wzlx65gO0pUmvyViQEjSt45KMyxMxpOl+tuuE5AoGvaHHrSbahM2v+Ehf1DVQNMFcUVkmP8iX/FRyh5/+dP2Hgub/nGyVGSKO/wV8B+6SatD/X4tDg2gBcNlRgABLDwNzNJJFjEF/r9fyNfY0ccc9DAHr8mioN0ZwCsr+4qdtMayfXymdnZJ2ILoxs/mpQYBl8vSyGZOSyhHg1PM3DLYLLcvL2T8vCqTRFR11RXInEL3gwxV+5xb6ZguCONeVrWxMfYe9SsoAl6mf+ifn0eP3dX2x+c7QFoeMqUHbxrd7G2TUMjI8m/20RpPs6fc9s49UuRu3e/y/f7T27oiySomVuZb/rYYgWsFYiYSWkrXs1JsCJ5WgJF1hh9KPtbO5YmIzxJNQlNzbZURz08vz3a7Kb5NoeW1JDLvCEwLPST/y6TlSod2QMhvaGyUnenLBiais3gxDwN/KaEBgw+N2kZkKxu3BkSpqJChbFLPK2YGe2eQhV+nu+n4tfJUT/WujZrvKmRBNVdzmPUZxyFc/sW6GXZ0vszdkarKYTcbqvHL6dqWXGqGJjLCY4Nlpfc/jH+Wnse2VtDA7DZeAabc5Oz6fWQYJ1syc+AL/qRJbJR2J8d0/l6KhVaK4+BQAvQ21TEOkbowdfpd/8QnHV/EGToAAy+9X3iJcPeEq2IhPc0bEYSzIzfIPDUzT6l8OcyahzISdMiFCUv3ZAyaDx3obGLScQoBQRhAjRKcMPk5VNKJtSBczDsLQR5CBvinxsyhIMRF2kRCFOJ/kST1yvqNtLkzQNov8v4HoZBCk2KbdvuGmPCGXGm4gVh1fn8wCWzVjtXiGp+JW+f4glg444OpqUki2UNfqLJhT/NCidKcutRH0ZiH3+M/C8/H8DKf3IVs7oxTidGiJBFg9oUBo2dtwUDyhjzlfKMeT29qtrPaBAhKNCgzU9NmqRGoi19bNgPieYVlU3Tcjs9lr6Rm9jVcd5bI3ffplER4NR2412FIC4aCo49lnXs4wkmTZ/PY7WHRqcH9MMMh85Ze0lvXiISMktncyif7cIpMMdybgf1opP6/gmr9LQaQCca6qgXut0n9gcVhPO8KyIR1ryj0irq3Dit/BLtzwJU9c0msnn7UyAfJ7ZGnZG9qEsAtlf0Sgk/n5FgUFNOnCW9FlM+eqTykTOg0d0UthAMwgRWQ3LU1apNvlEYEMeTlRedVBCU0x+eGurovre++g/VgjpvrMMPWsPyBT+EM9+tYQoLYdXErBy/dpplvgGsQ3qVoid3qyxqfNoffrGlo6mSx1yYTT/sYeluQWElWDQs+aJpa/QXcmtwE7uNcSswDEuqGRcHeYXhTj/fSRpR0U6RoiKAlajYpETzgiLwa9qgP3ikvWMsxI6pyeZZDnC+LcoPZi+DZtRH3poSC/1DYO4j5FQN3c9jBMJBL8xxIfYrSGP1B7F+PgDoStWYE8+NVi5vxc8UK1jgkjricLPjO8qGvrMj0Jp/+Ru+Hb9xKf4FNpbOjDVoeExIEDjVO1p6wxtnyNUW5HfNFctXgfFBfAcgWKv+SHpfPYaoJzY0HZ2L8w4qb3tFmd0DX008muci3bYAF5MsQTCqmH+qv1OyXUoBR5r03uwWY1h/xsjG1wRAGuwccC6p4h/TwL/+GCjQnzXpUn2v92wrO/4o+UjdLUuwo6/tveONDTgxJniUzalK3BsxlGMxN96jXi3yR+JuH9NcPp3f6hzUAa7LagAPr3ZZfPlZGK4MwecUSz7AhBOuSQt3ikNNcYWPhFxG7ZiN2FdvVaYyCpGZCEiH4kexJJvLlwGZ5WzA/uvJNbun53N9G4dXi6fmw+3QMdEuUfjk+dGcu+kzQv9+73kC18Wq7f+yc78M4MtU4M/YunZpS3nzWEyS5ytWEYTjhKB8AO27jioOrldy3jJFOttylbHNo5rZ4LCy3GlzXtyeMOv4KnjNV8vkLRM1mV6QERzMv0vCpoXGws1Nv0k9K+R1hUrXQQI8qUUkoHjnEDc37al2dRAeTTvRH4njiMLzgZqYKAIu/NRg03/Hgs8aEQ06EbA724EEUGZv8RvU0Pbr3oX/4glDma0bsJLmMFNG0V7GmwJBoSJAXDgrg0c7wpARN0EW4uoXmkXa/UrihNf7FJJMPqiRi0qNkYS5iooRSI5gvqhkp9dkfaadJEcRujuqIZFDnKpNnVGCoFBmbozJFWs5L+ZX79lakemTS5tZsF9+zlrLk+/7lYmWff7tDmGw67+y5Ny6F7NiCouu/1qpEanB83gFIp5DsYxwTnaBCmo4cPVK6uO7R7GOnK9JlPzD7k9ZVffB0B8x7VROIimntmLdhRW4DemM91ze0Yafxa2PU4+Cgb8wW5lFR7ZZiOuXSGCBZ2YU9C8mk/KJysoFXUcHs6gVAK7T2bT1oYBZbwpYDqSAKoQmfO/8r+pbHjaYCEf02uAd+TyPd82jiTBrdm8SVfvtp83iDdOuPQqC1x0fhJrLxuOhjf70N9Dyg/rP6ZSXvBVXyML+0ee/1HKIDDT100P4a6ui+96LGy73q+M8xQ99fdbpx5+ENJGNphwNGdXErCa/dpoFvgGrg3qVoip2j1jU0U+E/WNLR3MEn/n7Co07CMgAA1k+bL84K2Cvqw8cQO7l3LDCdwK5yEy6IvuL/8dW+HQSQ3rBTQuWtxFAStRsW6abq7PfNu/PMe8rkGJL0YK5oiaPTH7GH5pK9zzQhtlwflc6Jn7DcOl/ZxG1kNtSKlxoUh+LCJETfhGLZf1m4uT9C1Uv61KMZiXG7eyFUIYw/mSMTsWCKXyq1XuFCpKtAJDqmu6IyPTfThlcrM0f8E1V7zgoQMEharOaVwqfyHXZuxTw5zviXKRG/PISUa2HHRRmfDKO/n7kKNfj0EjEZDxNRe/HVrDsl2/syoOOYQqouRSdaRqMc2//6sEpIa++vbn6U8TfGYtBEHX2j8G3nS3WxrcHG7SjsU5Mmb98ZBKQg2by8EqR9fYTHnl/IeSyvrjyA/N9k+GB2tz31/mOf8EhfH94JiOv5+Hs4MmIOPjLX+h7RS0fL54hIae4WuN1nlUCqnLaG9Lc4LttSUsgBOuReOgd4Y1huHzH66iv7WkijyvIAnxgYLTzbr6vDn0sn7l/MS6FDIKx5/KWLslvA0RlNy6YyZx9zRALddMllS5PAazbxiVrKy+9CgmJ94RRU/VfJHZM7YNFsRsOP3iXGEOIzBXQKahjsUtqre9eksxLPOUKSejYnnBN0iOzQiqu5atxglJ53ZpSc6ep2cHT9C8MPAlSk8BNUUeKlDYIbB7ym8/1a5oU5cRvT/wpm0XcJYvxqhmICmW8mwDdG8KWYh95lUSOnfSZsU/MAZraAGcCCd6Q4CuBr5/X7gdG4BPU9j/mWwhTws+6yJw2pvD+ltmFt1gdodoZfRWYdLG51XVTPZf7V0V3J++rfyEvFHa6UhzafBIs7GYSSzU8ZArCwhZb+WIwOlodzdRunk5/iIr1yGYPbrNAdKY+mtlcdPGG5H3RBl2AQPTfDTxkkJP3jzf181Th040yMdPd65A13nSjFbi5GBWFcEXfQwUluxbRHZidNJbmO+fRp5rj3yM/hJQaRyFmgSYN+85Iox20RLbQ+ITtvNo6BUzq6cgkmRGIFLuZVCcZsublo5BTGEg428+rfO7Ce4WVqc8dI+6dnwBC4gggVigRQMHBc+gepqoa/Oks9McXwUlyhrGFg5ZzRYxTno9dWAcGNMRRR8N+HrCi8RABdgzw0OmNZyvsURF70+j8PefP1ir/IvS1WmbKmH4q7Fcx8CS+CYO0uqbGgQgPe/ym+gGvW2amsFWD6XGvC2LtSn0LQTlvZLZlnmjUh9u9UiOzXqZDgogyxVomlHz5CxcMpQ3m6bUPac/ibiY4IIItTZQ4BfZD5cnFcgZ/x9S4KVBvYW0I8KqnqfeMFhirMCbMkBM3u3l1vIPuPrC0/pusBuep2UkYB9hlKROARrEoot15fxGOvwJ7JWoqz6Zdnmi9jTWshOkZvlFddS9+f12MN79isjYi0WwA9MpPOIqL07zR2AK/u541EScZpCNRlPUmz7gSwKwp00xv+bGgSodwMSi+XxyYIkBl3o7Pide7np5XT+aZrVR01hgJPgoLVJskVJnEwljMlxgcsd6scq2zmf+wHeSvft3PmYrB84h4MMkQ44IbHJxekUzg+Or1kqnVsKWww2bjt2vcEYQWBfhCgeBhKdp4msBY3vgmbWyoyCagehSw0KfkIjKQcefuFipR2+qwL4T/aq5qij/Pg4boECxMNfpyWmbXf/QwtLduVeyChOgqVJxXLagL1vU029ieJHThdLdH5pnuXwyQQzp8/FToqBybB7zi/JJV/dpATDoaTbH8sOOOA+Ut5emjgZVvrWSORzX6ZDp/ToRtCTrSM0Pxy8P3FneQ93qxC/UZwWg3Eg9wgNnXCbpYxLeTrDoq4wul7YALUVcDSGC5koT7cKkiY5LN6mnsqUIPt7PnH9XV5oRVXZ9aYwSjlGbQiatfays9FT/Db5oaiVGi2ks7Tnw+ylWL9DALwEa2tRYWItA5ARZ6ANg4Hq/mzkr6lowcuDrO9lvrnCC+5agQsUWR8XXzxOJUaqmpIU0GOIiT2rsGd6G5aXzzIW5GIY5M0xvAlC68U4XFGxA9af0fMvqodiKxuoMtuT2X+hTdFSon5gmhtEb3V1MQ5tFkkWgKeT/wk/98Vf2IFe/mkr77aGxTd3QBjrfPwAdyDv0gCIjWmHSqZcqyiKJX7ogZ1CvMqzhp4bM3hrHm/r5qsxKkuPaqN71yBVNfU7Fbi5GFF6mFnMcAP3gkHMjj0JcqUuxG1lhSxj21e4GBpvqvw0CTBysm3wSwfbEulHxAkEq5TQpr0A5ndCdpsCqHMcUl44DMJyogPn0QEw4CL2aNKaeeZCjbKSPunZ8BRmDLmKxU/m4DgufQOQjxZtxSWemB5nylgR2Ik6JE5osYp01Xor/BlWmNGiOjKVl3LYJt1+O+SvztzwjmbO6Re9R8fNUJN8pSSdh17r0P/dTJfy81zHvgXsJN/+HkFVeyA7T9J+G+ktOyoP2vqDpTI7+YvURXe1NmTJF6K44gwRLD7lSI7Nep08CiDLFWiaV79CGqOtp/8yqqkZLZP+jPYMEMmpso6r4krVdmrSnRm5dNDbNRcI+dLiBdvNF1EhcfoJblfWoilWEMXrUA9GIF/AvPUcoyjf4jBqS4gLxkPgi0dq7vDDJtM1NJriaaV5VUSZT9RwzCIseAieLsGnFtqmrjtXG/6CA8Q0CgwjJZk02HSAJpo848zDzLqgoxzOV1QW6/I99lAiKvV92bxpL9M5CIjxn4z5qW3ylicP6DfdawfwLA23K83fwt0e0BKFvM7/RltWfFJpbAnn+diW2YWLLVqd1tg6XVpOWmDRYD3ZRgwOkGGXMlDJ1xNzOUCtixoNjgyp4jAd/TU4Ds4P8NtoLNzQiQkKltCRJHxlgSV7AtWevJ7pA+dy8XuN2xMRqrIDDBa0SKVtyN/3wwF6+Uhc9Z/pb9AMin3J9Yr5hxWhyemRJ6A9p4h9LjHR+FZHp1lBAYzTaR8L+UpxFzzxZWtvGmbEI5EOtxqOVDcDvx5LjXj/di1ThNcex60Bw4MQSQ+JduC2MnZmcaNaBnPT0ewNKxf3I+5knq+4exdb5BZU3UnWkwk9PGcW/yzrmh+k/YvU4I2uVLBczi0ktkKdUcUSFaGs/BMUWYh7IZUj1nvVGCfEtZ0tFFeCgI5ifDAh8SDEgF8Ai7gIRRS+iTkIjyY4ra7xstqt2U5YN8Pm+JgamreLmxP+31skQje9tCvjGiuLK2EmmfyaR0Z2tS5CoAVy5WWmi2PQW2L5tLQtKlx+VzWTHNJjDRrEtbtsdNULfLjSbm/RQhoX23BZVXworKfqbXNU2aQx5mGLgVwmdzo1lBvKPKSSSez+CY4NSA2vkUMo0nQLXx4xw9ZnTvPrmGRihDFTuNfb16QJos9iwyA3rgpTdrVohzcOxuELngoDohYO0ZZVGS278UOw/tDvJWgHkm/r1VOWwb0f7ar0nnVEexephtY6hzrk+4JiFDlub1tAX1ZV1vCXsByyao4Vob6x2nobqlWnmCC3fQgf6kQLleaVmyasDuZ3UxmLCkbkF5qc8f3DQmDtsf5qR6xWYgMZGMESjft0CCFBwcFVGCTyh2nYOKcyNRH0OqYW6+TVeJb0HLvXmzyra0KAAKM+a803hVCh4bz64YD2ILdSSfA2USVzPXQ97tfkgdORsOxa6VrXZfDxHoSXyoROEiAtUFd8wXQCQu+f/EPZyZ22Uxb2piJDTJwRPY+mg3ert5+9bBtfbKoW1Yx8TAXQ2hUN7+OgbbY6nE0zq6NVwupYqnnK+tllNt0ID2/dgJDn9bLIPHPbojibZ+9xXMnBgNkCHrsmJ2EgJAzA4lUndNARdZgppiLfuK8E+zIB8Sq+GDIlXgVCk3cE3Hja+tw7LVoxrynFcyL0s33Rx17StpMrU8zqevoTbVzZ9U9fCzPQCP3mfgopZvvov/0lTc+bK6rO91/Qo9RUcbWmopmoqADTeLoynbgxK17Cc2VuOeuxnf/sXaV5CJEbLnw1hCR6Jq6pvG+pht+tVXD3oO/XO6k/rO9PdtVm8pUzNzoX3DDvhtNdKHwvWBMPjBiz4xCr1MlQfH31kt4Hmo6HV73JTwTSuqrhB99hi0JBoj73hmBYByQ28m3ANHc8RuEU4CwAh/B77y3nRmhLkwb4HmITTKOZMC/esXjeh6FFVuUf1ZQibnm7k72vk4qoP8TcocWYXgHNRbJTeqSUIGj7HFQ6XLkU0dYpYBp3hWM1QzKKshJ62sYJBVrgcBo0jDXY2/JltTFIwYNL7EMEmLSJF8zhGNbRVJ+2HeoOglAXuRcmgaPrlE4wGhzDa+aaCPOO4tHjPZM4o18nLXfTITgCa7TSZu0KsbqDKWXBXrPZHVG3pcnihQKcNmsNYrd1terJkv4jKOv5AvREMxHQmRLiYdpzW4CXF8ke3vOH459ErrGk4A6By+BXqnMCh9lf8PqeXAoNJLsxa7deL81nrWUg519SXie+5su+wYAEOma4ttyit4EwqsLTru3PBdn5WyuUB4eZxGtdmm9CKVpHNXpEZTiky9xvyqR1f0xuoly8qPY8YcSCg4pOWWzhhRGDGUDIjqA8jQyENH1DY3DYWbjp8OYfgbkZhxLhY87+as52ig94M1Z/GAZdnOIgRS8DfB4yuCSDn1wUpu1q8SoLwFwSnosmWBCwdoyxRpzKLooZvsbXHzmj+Ft/XrVs3iiowcOnfr6jUDa3r8qnRE1x1uxjEjqeEJPZt+/OX4ngoJLB9biYb0GJGl0ykbT1LFicAnk+7jnU8g214wyUOQ49ZVUxXACYHVpEqzOXxKeIEOnrGNhbNoalG/l9ECQDcTKqMEkHH8r6RvR/jFSqvYif3fdD55enCYwpf01FlG9Bb76zdghJ7IUtMHiI4+RHKfm2TpRQswve4Km6/Fbq/StzRU1HZgcsEjY4lChangmgakG3297yJ5sEvtQWV9pS8fccbH/cZjbXDzjhhl8lZ0xH3/MKSX7FoQ59HwWEjPhQtBICt00NA22x0jnKea6NVwurJwUVKgImnRRiwHt+7AQoFAuRWpsfSf/FqYazEug08AzZhk9p0BVMZD+9wy6lgHjrjUpkNvrq/wng8AbWBqtSTZxYTXDLXhdYG3pKNrp/F68tEatfc6143/M0EhwgeDDzLS5abvi1UIXb28/6pNrYJB5FlcUPKYQZryJ1v53wkiQXExlXALan52TmdNDVxMzewgrBB5YdfYzJdpHVY2JTmYAZdQo+JcmnmXYA1iTRUZtnJEFz+bRWZuMyDbj/ppPlBc2M0WEUnwktcgC7/JSJIB75JUMYjsPmkevJ6nG+Aen6aslP3B5Gj4nskCKlQO6lAOpy9qlxkSKvnG8bToomYKxqQ+SSWzrRYNnj4Bx3kF5gRW8EKPGCFTVqWzgWNaHdWOYOl5vOBK4UrPEqswKQ4YECe+mD7qYbhRvQpJwSfwU2QA4/xbsXBmy68SHyVPUOqds93uuN0bZ6lLdTaUXo+xTW7Hc3E7uJLqlZJNNrQSY6GR/F3ccA0Qw8TGYSH03evpkSIcjzAZvuu5C4RY4DMZqlGIlmyfqJ0QrtocHGWbucNZfbAnCVFDSlUiLwB6mUz5a2a7kk70cNDDcPnKn5rrMdyQB3suReJyFEUNjNRmxcLT6JmKLLr5Ps0MkPpIcrtDOEbAYxNwIXK6dDs9K5JQe4b4FtjGnQ0lzxPKEcRGO8kgALPKSj0k7WZXcVpc22lshKSw5WX8wY8KO1aUwjiaJixeI5zdNH3peMU9iMh2DrBAh1exw7Tx2eofInb/yULz+otlUxFPE4DR1J6y4NBr5hpzlE+iX1mgYJdqbemEh9xNqw4DYd+7u8horgRQkroloXfc3NAQpzG4WwHP2m3EPVPfNiR6C7UGBkR0B5+sVO6z6MvYrvlaQSBxsq4G9i33gnZ9ViU8bmFrBGl8yIGtA5U/IjFnhRG4hQxLvjzHlPVtm7a9hQUTNqz63wVl2XdqnOrOgQgNlLygdwA5uD8cffkCbB/knApFcmkOk6EECE+zNiM3JQiVxbdDWHAxJPI9KS2U/g6gkeiQS2tkcBKkMdqN63VadT863xYo0MnCFuzbqQcz5r28ss2yMHElG47EcUajXrUFN1MoK+9VwVjRIX+bjG1JIV1mkp97CHAVG07svW+RFk11Ge92NX/Al2ZxywdaiJnpIeS++4T6T4UTldUbqeqfp6zmom41MM6077v/L792ywGhxq1FWQrUjmD6h+onLJZMHsKyEIqSCObgE4HNIRJVepfCamwxDNsGE5YaByOmYVnHhmkEbmDC9YM+OKMTdYeEKPSjo1qPGjMi3WZuinJCVNY++bEjzp2oMDIpID0fQ3cdRKyKv32RcgT77Pjc6q637DOFIXCfJ6FAlLVh6kGg3Icc6GQxZAmGiwyk7F5lwITdRBjOQW8Hp1J5ghOtrdBe9U17AEWeNeQ2WUc9mmSggTnRsi9ph6Q2hHLqY8KEU5nGLb14Hz6KyqlKZ+fX6KUPrKn9yDjowoNSjaSylqTIwpDD2kZs5lhcnTB+QKR4ZRdk3jikEGPnNCEBzUUOr9UyiKMc3BhyWR9jgcfQrGLgl8CmCE8Fs3G11UHik9G4br89mfAJ4giQweHcmY0UkqMtGphpbAcupFXUkoV1Y6DJ6nEfy4d4qksDNhRrFUcqDZuhC9JQHmGco5pXtBTiTJjTXe8m0fm5eOjM0s9h4++A2U+xulDkjhiI9vKqBU/9egYNWnbJta+o1qQp9EZRPpNW3b99rK1uZGxzromL0f+Tp2RgacnEc47Of7mxXm31XwlTDVgHEi7YwjHsDVpbJKqbYbIIrIioKs3+paeNB9uzgBJwcawVrK9GaXyu+q1R/4A/u8FO3ovSUsKqRHI9HZmm+Lb5Bk11Iencu6VH/IeCRO19BbxgltuApq1BulWiz9/WNUQ7mxI5KiozHT/q/hX4nrC591y6p87hGUHCq8sXI8AHiQSUO3VubL1fj6dlDnFuPZ/4vDAz3NlvSWe+E/Zhyql+umLM6bCeOfvvhWFWJJk6NeQ0/2HaTfLbJQ7hiK2C4ogLWs/yYpMjQZdYsmK4z8cSDIEogJ3LjNch5qzKuxZxIZT6FuhJ00uLexrOCVTRcUeiQM3IxdIwihlbIgiDiySwohhASpgD3OPJBQ6ST6j+pu9lW232A7dBQxgCbtkCEPATHsPNjGaU/vn3Yv66YKOfWAgfBFDEAuUaEt1U++f5MMQbmYlMkN0jFX3+qcTycnS2AGSwdJnsvuc/sYhpFZWA5ngC5JMAqK3Fc0LMsThY7C7lwfvSkiO4Y3Nln2eUHy61CUCCsxx4TJSsr/2o5TI+G7LhPEiKGVoBr02yFfzZgUKLpOwbXvRE9j5Zyd+AJUQfjClO5GTz7eKX99zq2ZYpLgaA7bQDgSkQdjAwkYtTd7UG+qx8qYP+fzikq9gzyymIHx9gdCN06TLI9DEFwIkXl6SIO8NEWtLFpDYBKMvEonVJiyonmho7r79iasDsy1tARqyceHfMmUtNmtk9JhPhab06BKtnCJTnEayfjJroXXklzhh50GZjiIn3dOPvQ9OETfYHEhXm+Dw4fLjTgp+CMMCouthRYibs9vKCevdziMr/0+mJCeF2//iAtpDm+rfEFTI+tsS1aZJmUIl6sK3IhIRicQF0cefqeqjGD7qXy7bK4xZDqba7t2nrFBfAcgWKvVYkuF3nhVTdVQOze/VNhJy1qcDUlmS04akok2xBMDSv+J5Rd0bs5FoBd4wV0YhK7QJymxG0IRv6yvNca7++c4d5DC6gZJAuuXnBUF3+9LsIOlhUyjxtgaFNGaD1FE+KRwIEOGtHuL0+3AIh3kHYPlVh7Z1FrE33dQ8EWdIVb0aXZ86rFZEj6SnDAgOrmVd9uN1DYBkjcU5QR9UZ+ifkWzuAYbzdAfZYAeoeo2MNebL4xw3YXtQwZa+mGx0FkZmDAVLdzxuTl741TaPHotzN9ijspCLG33ZWuPsYpxr0BUGleR9KcCOOoD+iYLZfk6lmWOp7Jzl+An+OVtvNvzPK8uUIWrTmaB3w13rH0hgK9Q1g9m9YkX16JmYlthdpDz4JRPkQPycQslRYTGUD520/9JzaRocFebSjSY4CLUqqsAS+KZI/SV6Y+kxjDZyhm6bxmZrjFf2eKn4YZkmHSSgUjfv/yfoh2rB1FXW07pVG64lu5CmBaRyAIYCqZZeGRmSkSpeycUKU/hISoy5GlnU8B+SZj+FqMsG+VDtr+gHW4BjaDRLT3KoByE0UOejOYxwN9PWVcE5LR93rLY5g13UexjBhqXdfp3QsCSP2tPB2j6jpmCMf2ZWyp2uui5SvF8lNiQQRDwnw77hIk0kDrpBWp67/5Mxx2f2N7+BE82CHThEzqNElr4wXc0RWZF6sxKyCyUUsxfZyvyh66NqSQLBD4yjvQ9dRa2nX/UahFJ/90nenWQEb5hzjKKyY0AwYJiGGx0FjDWgdmW7mCa8Uc0A5Zytx5JsD2vO3m23CpcWKWmH2ki3QSbHtLFcmoKBuc+LEFMpM9b0TWqrXaLQser6ZZPOfeRJgACU0ie1LJbxFmes/5F0Bjo4rh0VlHLRNogb9sIOKenIJNWWPy6KwTMy9uSX6CHvFuwiQOuhaJmsyvR/+/Vyz/p+vhcbCxqRgHdYBZHVyyeLnfGXQy15QPHOIHdv21O0aKA8lswiPxPFtm+R8As2LXc/l5+6Pg/GD3aye7PUltMPEGhNKEp4kAfD23fATAuYqnDBdH3i/CKcN+woYUcJY29VK1Q5JLlJR9exWIlsUe3JHF2ZbW+L3bXXXVkyJJe5gGYrcFGyMJMBSUTWXgJBxtwp1y/T4yvdPx8GtrtLg+MT6mWIGEGpiV5c58VQ7rOS/GV+++3eSw48I5m/tKNWwdqy57oWxLMvLRLNZTQUe3tVwpFUoEJRoUXnvps1SI1GHh+zYD4qncYxxcHv2bYbP6MGO1XHd1XQsQRr3qGMQ+5PWVX3wdAfMeysTiIKh/p4/8ArbubHYD+maW0fruU6t0mffaokqZBKIodssxFnLpDA+/T2f5C/5vGLeHalyV1SkLolrUBObOfsG1ReR1U/5b63O1IUbBT8GuAKAMrFHcbqnf34LBr+G/YgR2okSBQebg4+dbogwAUqqj+efI2ClvjBdLxuOhjf70N9Dyg/rfphRUPXh/Dy3u0eeA9HKIDDCiamfhYLrenO33Fy73n+M8w6SVoSfkCn8IaUMbTDgbs6uJWFV+7TSrfANXxvUrRE7zNrGps2h9+saWjqcpP/O78gZQ8Z4iT8dtDYoSy0aryqRn+BwNIf049BuF9CFVREgucnek4qcquaiSmNWzQiKAlajYp8R/Ihz+bdtwz7yuQZcDoiVa0Zo9Mft679R/Kjl7v3PSvyeApDvrW2vjVEbWQ21NIjkefz4sIuBGJ9y6KkV17B3wGp1RONMbMGxtxCNucbohIHAl6yAZ97IWATmrHZLnmQdUlEZl46Js/a94fIMViDbnHqNmCaRlBKi/y8//Z+F7tQ770WgEuUrOJonXo1AZ2ijNigdHLioftbgrq2q8TRXhhSiS8Pi5GZ1SZEgjKExF71Rltu9ZHW8CdBZoMbM2UTEC8Sq2fuRmZEAIjDiT5bqI0QOIlL/bZNCX1Lh/+fzyxFwk66EzxqQgqC7HZQV0C4i5WGU4bfDTYa8ti4oMM1rsFKcMwr0PSHKiM+dgBocVvFdnuYcha88+jr8M4b3HXrYjStSLV0K+Xg/UIg2OMcDmK3a9XDJFE/lIDLydwR9bWeJ8YSoYNdWsLJKIS5sNO4+/A2eo4TcwLk/jzLIub1uZ/mylJGnzAprqxcaqP+2xD7GoarO1vxk+RhCDdL+HCW+2cvT3DFpbWwRrvqjsMU2VcR+rhBw+sCf2+9ROngJM8QCC6+fhBAqr+B6l23PTG7K38kK3FnpvU55sdY508GFg1XJh0fFMLvOnj2upe+YHM3ihscBrSo20Rjut88U1qgZ4fd71gePzMtKx1ivS6eOoiIprstz3+MBOrzC7hbItwn9J8RWhAQSAu/tvOJtyDJoXW/LNJPnqXAOAyUF4wm3s8ECrz5ocnBfglWQGObeBtXA1Qx1uVqAcyt4RJxqYZavzrQe5m2ECYE7yoj/H3h1emLrZwnXClT5ynABrCKQgEfJ3MAanX/xthK2d5PjC03mQ82L17whY0YVpIoDJTrC9SCviZ9xPu4u15ZIJdS3+Q6ivbpGlhuIBDYdLvtg2zJnmU2fDWcNM91kutR5UjWFEzkAk+MCuwryU2XL05S21XOC+BNpUxIY/TRai/N0OxUsAbgtycu1c49IMo328E3lyukJZJoNS389beGCncPZZvVfRMrVyJOaS6X0m6oDk4M/UuJ1HbiMXZReP/YKNAYCLlh7annWmfMXjN4FsV6NsdGsBiHZ9bSnfIIah3IwOZRwe9Lf91DktNrHh+IprUIDtQk89AGbQsOQdhNSU/Bc7wkcw7rCszXrJVhLGPIu38Buk7SmceI9K1CiKY0g1bP3a8nNtneKXVrwSxMVN1Zd+SeLWQoUV/CkRmWQfvbe4KoouUoXmat7rg7yET2bHqk81lA9tsXqLFgEBoRQTz4hKdpomr7k7A5qY0hPqb3w4v4a866Gbym5RolHrkFtDGBJmC+PRpdiN+Mwd1CteacOkvdqqZC25omSvS6asRbUcwghIv/CSFyW9QR1Ssgbsp+ntTw0tL4CWK/Vu6h3+j4L7FwvXTSRQ1OHTvSoRztqfbJi4p6AqgirR7AC9bwQcgZBA+lL5A8cIL1S/BBQ/bujt1TrH7EVCtYqvsxCi0G4igb36mA57KBnF4IHpUo/gExizSsbirgV0Cm2WbBltZaPE6ZYwuxK9Rw9tD6mytOlPDTEU9ilpjBKWsZtCJqhuqgQaCeSpZm8TJgLr8Yp27ML5xhMF2UX/aWDRvnX+0phVK0iy3mE+rCaGEYFdGgVz4XZjEEBM6G9Rq2PFM6WYEjdbIa2tRDPUc6vc+YNYO/01FUqjqXTmdbs8ixbzwYTbtdcXfPFOCjw2IHrT4Zj788g+IrG6if2Ggsl0j/D2Con41JEBOLgFdxoogqTItBU8n9jyezSdmj3Fe/lNo2FxBIOoGRmt/ur7sbUkO/R/6rWumTIIqgDFBYgJ4QN3PSvWPBLhJ6gsJ9NvU/1kKuobkD1qDe9gAQbfgs6W63IxHQEgOeJP4zrWN8iIeP0+2zLCXWsumF0E8vdklBhFlxhVBd+QZIwSwdf8s45a3w2H1m3vZ1vNYBEbdrJLcSQSZfV6xLeEryfrs400Tv/W317uFnInUrEuPOz38FJ0XMm9SeZz/IufQNcw63Wiks9MH0fGumhrGE5aQTLvsU7usyGE6jHQVuo3MdsUNFoLNuvhgGoqP61h1TZ3SL3pJ6NJoU3ylJY+HXuvQ/9RptaG/cx74Fg8Tf/hrlVXsgM7md2krdfp2VB+XmkbRTwCE89x68jSQp9j2vmdsO1efhpQRHZr0+htgsRkeomc0VGoTPHc+nBR77GJjsk3ExvUh19LqBwC+yH2rXBiKrv7U0vBLZyfP26HueJnvm2Zh8dFJba1EUpLYjyr3uKq2jEgaLA44rxmjdBUS3jRoZ60mS/K7vDDJNV1NI44x8EYQIWdEwq5o0RYxB/oCaC9q+rsgo7Th/7CA4c0mW+qr+asDHR/qMw1D4j62XU+yrXti6C2zZIyeK0KvV9xO6gS/pICYKR56dTdhROlixrqDfd/oSOabO+ZbjVo+CgqKhfY43nDqGftRmlsCcuhjR3iOjh8OxNTEdhMMjzAAQeLU3Zxy4hG2rOXjExI29knTp3yNy7Jf5yHxarKuF9AWexS82r2aJiJCpGWzyAkfGWBdZTkQUwBmRXlXTl3143a99Wj7RoJGCt0kuiEyIBoKeuMiGJQRHZslG9sjDHmxxfxPgnyelRJ5+6jOw6XGOkKTb/TrKCAxmm0j4XnHjiLnvXLaXMn3m+50yU9BvnGH5558CnPH0yjOE+vIPlckFnOh2uchZ9MKbu+Ql04WazwxFi61Qs0opo3P8koBW4MxaXltv2oUnZ+797EEf06CzkrbPVzn22DwRoYnhDDUk3JobwHA/Im52vzGdQoQSf5BKu9pQFjsCXKNcCIoY6tRoILkRnvNeyf8hmq6fhpdW/8mlvJZAjdYYSDVAsV2sjLz2BHoePV7g7AMMMEJs7q3nOjm9mR9chJnZu2mcxxF96HIVGSYrnG9TtFh5Lg4Np9gQOgzIQSehUgOzj0V6JGlsCI4NWy2S9aZ4sHpxr2ZiJ8Wm7OOuam7I6Tg6DUlTL6vGiTj8Yssfgr5A0qmevxuyhQbR/P/eLKr4lgr5PSEKtztVIU6QNAnSOEsA6+xbx6r4mPLXEqswaVzDUkZlDAfZWf0ODHy9FjDlv2JbIwqU+d2x4I04s0Dg0IFQXQ9UkoQz99bsUsjRF4yOsUqUNbwsvFTPNbeNBxDJHNaiz8J0kwX/x5LmrLuMZ6NkvOdZf3Vb/nXfT2kFP6sQGa8MP4or37Xv7rU5lgfPyoBZFHe4aJ2iVa9tclXbVqj2BkYX0FnJgldLwPTMJGyYlCfkhsDjmBLwxnjdA4XHmM6hQglFlq+xwuvQVzFYfE8l9N7cLzu1geKqyiOyltNrSYg05zl8sRF3PS1iM/V9PLZgMXP5B3fpnmOgI7jIQuF9edi5+FNW1x/krB1stSlwefkEIujPxRkuu+Bc3+NIL5xisi8ohMFZ7o740l5HAtMCuKBjy991/P0khgTkJtOUeYNm5ygis67qzEDd5z+jkgvyLV1ELQ4MMRU5Zc64KZb3e3esUfxg/hS+1PLUapNccN0Qfi3Qabybk7RMwL9vB62JaynPpB2YGpIksoA7v1wdqJIDiJ852EHjYlrZO9r+S/zu2PAprFmz0Gg0m2gxqklBys9hdOsnrKAXF1ilbeQcVYxMSWZt7qjD3NK2yDDpx+uNmY8VRokuEfNeAdoERCD+zkGoXRfyzuC3oA4mK/y3tManIYSJV7F4QkX1JCaLG2KUN34rFGKGuJbpnG/IJGhT3FUdbXQD1/wAdceGr5qO4MoeZzlYif6DETBhQ2bBzHrv18NKLC6gcxXaZOfE94eSJnN1LraWYgKlOHRViqvwqfw5EiiVyyE61c+B+8qekfSjwmyuRimreLmw1LjRfn+kuBrowjdcs0j8FTl1Px8AEOma5pNvXLRtqfRUi6e8mMUhaVLkO1NMnRIpPHEGgvsdjRkYuWODfeX/sKk90j9w5u74UVb9Z1/VpTRd5WZhi4FcJnsSNZQbyj2xdqBMtz4hvJm7x534nQwVLq7+xcVkyvAqqeqCu5oGXZziYX/DSRYPF1aEb+GuClN2tVYZNw7GmynhIAfsLB2jLVl0couig/fRoBpK0A8k39ekUJjBvSCzu2Foa83RACYbWOoc65PuCL3o2TlHqIV+wMGbQu0XN8mqOFTnAgSC072pVp72o7T2a7cGIIivNIFyG6UsrdqmuZ64Lic/qc6z/IWeSK4vgLph09YqVXxh00b9Mc2woODgqowSLXKnmhinMjRFjtQlRivk1hCTPHJAthTIy8BCgACjOqkyddiiHqPL3YvGOxS2aM6ErBA21FIq7g/q8L2wqgzyh9MNINSsssnx5T4hE4SIWIa37fUfdYHK83NWPpeaNWVO+S13Ir++eO8PEO2Cqguy5FF64N6KaUitYx8TAXQ3LP8/lTnNtsYU8nAPlDS7yif7wyI9Q/LptuhAe37sApLf1ssg8c9udkKNn73FcybzsUS47XZMQb2XuRuKxyn+o3wJdyqtV0k6++Hc4yu9JsupE7oSYUOJOrXN0EWpPsorBzs2L5RIa75plt8nC2MNG3/rxbKLMUqDrmefQTph8F+Ow5NGyJ+vO+mvkVI+KZzO9Idv/zJ1wTdI8rwC3qKQ549tkBoG9Mf+jfyQVvqoKX4SSTyLp2KS9W9XaqQMyrBcRuWiJO/WKT9XlkVVza/Gcpe7DOcY/7jnCiQyKrTHivwQOeLmDr/KlT2ZwSGX18EvpmjFDcOiUF58I6WaOY5gD9w++FhO8/095Wpcmb5/ED5vY0A+qlPYZivyhy6pfo66ORwUeiLvyZqSKOLSdAasnPRoewpYn3lhXpaQTIoLHxXHL76DXhAtmQlw6HgWJzOkIfc/IiVlvMA5byOp0INzE0O+rMk2/3s7ASIAdh5FxOMd+Tj7d7HEI3ag1EtKPnIpP895dVaygy/4HIJEqyRXAgHd/FRD3tZWjXhmQ+2IH8vAKYUdbZ1tcl6hzBdqnnfSlAZ95iY0B4TYGlFefkma5ZFnpod6z/0eWlx3c3Nflv/UYWFJWm6GLlA4BHP3LvRL5qEgLcXrrjk+Ack8MeyFVl1W0v/FkRR23XgJVq3KOgG1ABlHLHK0oI6i2+2NNpldBcNtkyNjPcK7Ho1QGz/HC8Ev7d1aPZO/e8Qz1X+73OuCWXv533BewEBrNV7uIMmWPjWNsITnSfyqhRlFqvGQNooTP5sJLZwU5ki6fNZlKjN5EJceSJE4JSvTTEwHrSnsy2YMuWW7N9Lp4GUJcA749sSfIuw2Wdhx7MCWGTFE0xG3iMsR5CbVcpwv+E7smTFwkxvleej6CtXPXLNLdl74nr32vApUqAC+/Ue1z5vIXSR2CimUf2QcLqwUU2JBR2Q5m6KeNVa4VyYXCS6yP+TNDiQ54HSQKlFen/VhcnkakCffZxeQt8wESUin7snzE5JWURD7bQQk7lXSGWcmFQDSGOHTs0AEKql/4VXN2aUBJM6a1+lQNjhhIJ5vrYZAzQDT7a4i8o/ofLYB9h9vuXnELY254QJTKHEBpzW/krLyY9ETJ+8fFiJIWmiEGATiaCqefXTzY7Xl4xlWS3qYAByUyTZghIotCB38NMCXgIkzuYv4CXdigRJMsufXcSBC5fHHbBHH6U/fvsGNbgQ1mR3odxdsl6JK2l0cDO9U2pauwg5WSASvnZl6mc2D3XXo/HKtA6IZgagQsd96uScrblWSgfmYd2lBGKKoUhKkmNunTfhgakSfZlI7DiVadnXZLFj1OyGcShwHZJHRYvFGmCJY/3klH/AUNQc10nJwqwlxV8j0bWsHyc8nVR4qNR0Rcrgg0YDkeDIb7v98nF3EcByS5bjIcaS+U/VjHYZSNo/oYkPvTOylJEJmZQ33WEhF3b2VldILFpW+48oeZa7wiXIxtYQI308hABioICILVJ8QZEHw0Z8kYjPaCnE/oJOFAEqFXy5mzLBs+8h2PWqO9RHlfuTQv3bsWbaDpBQmw8Sr+dYXa2zkOXUx4UIpzBXJnryCuqVlcQExOgfl0CjO6zuIolp3l4SittNZG/KtVXMGTr+8lFm53AAjVpDvWelfUQ9D/GOuzfBtWKnZ3pOodb5S6m7zziaHnxCP7oA0eTRwG9jmFbF14b4GsNePRTceQ3JtXX5LSzADYHsy1xIQEY5vBOhtfoNG4Rk7+lxKAp1xRGp3mnK8KXp5kwf7G3VSJyY5Y7UG/D2LqOhkjTKRMLXDSmivR+d7deLCBcMJNPbdK+FWPNBvbyn1p8vJnS7z7iJReRh8sK0TdLHtAfYHyRL8FbSiRn8H+bcPBlH76bcAEITiJFXGDBIT0Q7qbOOARUBIJF/PGgJzp4KEPMEFVULJ/BuWn7Ka9dn9M+dSseP0pdazqZr648LFFncGWL0eEIHBnx6PGRBJllGrpjDhxbS6Bc/nNXr41X3jQuq6SLKLIclVd5apxvJb4EeJHCQbjR2sYsViSqteD9wl+SB1I+8orNRjOB+UfJcpfbCdqA1Ecc8uJLTfOblR5jnhc40O+FHAckRV5GiLHNOJ/23v+GJ+lsv0EDu/d+TNYdzyi8ulDvA9orCGOXbCoi7xSmCO1mFiyAk9tyo7kdusGTVgvKaW9bmZ0GxClu3CzuEIFPMdFGFQ18r1q11iSIPn+JhjcbTEePvNyV/qiZlRK3EgbdBP5LqPc7JpRpOfSV8AuRBDLLBUqfBFx6CZm00FktPj+CjHiOzqknVnaUYONF0C4kMr9dc8RhXQ0GghpCfsoKE+Erfo9G3bxWWNGqVETGwtjumopH/WScrhmtGSQeCtK+tbouQXuY+olAjwkuEz0KJ0t1ufj0Z4/H5inpxef2l9r9/GMgJM9EfbLNQ7yh892vzhF4gdFYvigeoT0qFaPOkL7lAhmcly+WB5hs1SI2hN3INYpFMN94YIzS9OzbAv3Y68rq47zJ1LsJ1iK8wRxZznTtmaVAutIQtQriH4D14NLWRG+TnPOe6gu0Xr7xiyWo/jnYQZV/ozW2YxmI5pqOqoxm9hQjv9VUUXxSBONdT4usjzHUX9bV+Nqi7mQdXiX/eg4tgCeqY7sVWo7V3XrCJSFCmsCHDG80jz8kSlhWwKPtSHQ/emEziHafC/p04Vsf4SSS8bjoY3+9DfQ8oP8xm5a5HdSdYZ7faIrgai86qDBiaPxKy7Kc/jB7rK0PMavdmXemNDLdOPPwhtDrWEKDO4ymihMHx7a2zorJgZ3zSjzvhIWJFr0EYpF2qzALQn+PvNaguQlM8vs7sFTIpoUnjsO79lWzA1Qf9EGUfXJkfpJYecnek4GVNcRZT9eGRoiKAlajYoKyQP2e9re+JxXZx6jMyzVUZq+vOReSlcoPZi/a21LFkN35BgPg+3OP6BZ1Lrcf3xZCIXV5IsF1unX4D+/JMCa0mh8ZwEOBoHwPSWfp6s/2GplS7zCvs9/8/tyX04QYnMgG36vjqli6a1NEhNKa6Gkxv1OvAAu0tthXTeYPH5YO1g7mVajVdC413Er9+/1+gThqgnTsI13p4mmwPWoIg+Wpa61ZomucjH6roVf67W0vZhztlyyzuNzUyJOXq9inmWEy8AOPxgne81fbwQLZQQYrV+Gj7pRdKdE5B0sKnEL+2SZq0wMyAGnsS7OFLZz0hGiFFK4FjCUxEFYKtEnlGaJnUZ/yzjOThtLOSEGfFIFBtQpnOeVE11dBVK9wj+9hxJsp9GO1r/XpKXX2eyUHqsTbY3UtOjdxR/0aM/tsFkcw2OhALaG+SbJJ9EyvQ+XweYK+XkmtXT87iHwSvxCP1DhZIGD+i31q6Ax7oYQYIxoeCdCq8fWSJoa0//ie//Wbid1RVLH2FBUo31OypKrQJivq3hpSDoreiexkZ6nOupbYXaokJhheUKo8viRQEBNPGNb6nb4x5UYiYFqxHdItW21CymKJBLzuwpzVD3W9TxZMwYeCiRpSWRwpwShVygjykIQ5ocLexTnKZzkJv6xz2kqqF4Y7SbFKa2hEb1YHBcJUbxw+/cjXSKcVpbMx/gHRWWQGohrPuE+WqjTHJIvQu92zkNbiqRhmHKfmrWk0hOlsAM0vjI4NPg9/Tp5V5DwiN6Hj2dxfkguPLjXQOioWvVf+k8/U5TUD117wJx2aVBUuwg6WFTBSa2KIho+65tkyHLEOS+uJo859WklR495Cx+wVT+u8Pxww+itHM+KO4jZR0RboiWayu2tc0EvRn3yMg1aU+o1KdFbfWenD07GGvc2rl2WAHqHqNjDXmy+HuismDAMGCYBhsdBodeB8hqLePDLSB8vg8wEtxzD8iYsplPBKoLi0vgcG0le6DDNXI9OB9ontEsklBAPdfOZ+GNcR/veTDpU30R3UE9uX2GUSevnKKbO3CdbXEwjuHP9C5fd2yrtBdqvHvA40PFxNebqM3Z5c/aX14grfvxboX8vO5K+AFzbP5DwQvO/usUdzZ/Yg7hJsVqGdy7E+UPJZw3OC5Cmar15p3oLdyeJ188pmvEMCvbaR2KRoqqsoqOcQLjI//rnCyg3lf16DQMdyyVvSKClX3ujSqEVOLSxGX16drmYS3fsdFt2BoWgXJCwQ5ZEjzfhaM4Xr02kn7LEoVY+fXS/lMdk1gHQVhgOHVGSxRf1v3PTpNQDxHcOLWSAOT3NdiKgZrYaI0CJHoqaB+jF6OQjQ51IZ67yCMlaVjO/FzLNOh1Y0xe/9dtQe+8lRJOKIXifBQJD5kGPb4Zgoge6MmC16WM1VHbya4080OKi+tGqFxIa8WXAv5Z3sITA7BCJJQb0tztcLTNKBKPZMCUvNJg+h/CylHNhe2uXiTL7jAU82IoJqxnlTuM49/7CXl1+jKRRvQG/rhFhpHllvu+G+YEjNGte+QSIqKIpUCQE7C3MDRkfFuau4qZ/lcvzXrlj+pl9+E/D+jiy3rH9VY5JVlvM3nyS00fQE6ED0xGUszrT0dLpXMRmKxXEevDDxrP8W1Y9kE0JWKeQz2OIwUh4ydEulUoR5CEId0eeHQko9DCrm/hqjod48R6B/9vOEFuy6aoa/FiQoX9noPdhtWXVA7CUsUQS2DkpKYz6wIOITAlmas+aQpkJYeb9cuD8uVwJ3+EKQUUBExH734uusi4DtWU5RzvjCngvG95QizXVzGuwHZc4x6JzmG8LVwBOPAZYH2veCZuR+G9jC8IMvtcvC+LzbwMoQIuib47y7dxo/LL3et8zN/1vdofJ1t/MuRwIczwcaxF0HHeYSyN3ctachn1ylLaSpzaT8/s0iaoDGJars3/ZLxHGu9PiPwdcdhh9JsCm/1uixXfSswLPrT0GVnzpEHmncSNh/xVLH07psWEAU3AMf1Nrl8hcY8AoG86diey/y8Zjt3P0J1YjSpPRZLcPNKSvOVwPh+NPROSGxTobN/CsPce0R7OzKL1uYDNIX4b1MYE4SpuoDUeA0uxifTPUGYKeCAxWBQONwfP7KUP3duzLwf0RHOv9In0Dvkvqm01eLqL8cBPW7kxDHWN1Jl+h3Wfht3n0ZAlWPzo+j+Phx3EKnRTqsxZxJ9jQUiNxy10YKkdLwgi+98nXSiFLAUU5rlTL4fQBdHKxY7HDT1dc552o57hiOT/omu/7iYDCHS2b21N3oUcFz6ENrMjX50lnppmUeEuUNYw2dHlaOw20lyHZ4nBjTFxpwTxramnVdIHuBlxefKMYyHLa2FaVeJ7PEQnp78E6HzA9nPdS/bmZYL4+BJqKRUbezCqtbxSX+qpAn2HW2amsND30uZ+FsXrOXxEGIe6I07oK0fjUd9PjIsm4kMGngsRkeomzJaKhtgBOX9NfLY1I/4m4mLwgwt9zzbGdeJGEeTOnYuzeueHQmB/3hXGac3ybIScW+0dAa88hix8FDdbyL/46wtP9NFwdtqnls182K/+lgguzwlFHutLx8x1+BP5O1FWFJb+QbbidWTwurNm/plx0cyr23Yl02ZUo2dvdwvAil/LAN3kKc363I74vnR3GAtz960Jc4e1u+8sGR3PTOSjSDbqtiTnAxKI9KSGjsPHjdsY7+QmVqs9kw9fvdS2FhFAePgrctpdKd8/7uCwIAVd3T/V42CZAMb6h9e1YQakD3jHoH0qPnib3JtaFHHoZ3+Tu0MYWzHdop0oy7YftVpKXkuGANscSkTMgrtySBo8bGrOmC6BBEwCeLdecA+v/kSmPJe9BoODGyyPaACunld39AUX9/c1CdCApjGtEL6NyIuBNHI9c1U49woa43jiaWBWt2hSyuI2ABjcubiBq19Zuv8OJmbIjWXRQcdhRn5Ni9FjL0aK44Z2xC9h9A1dW1SdJaBbZK+rsY30m9YRPCEXmkVXnD+LZSigM6U5/vlHbMLK2+9b4VOcu4OtRXHXCt80jJZgt1Z79UQTLRBY9cSYZLSTQFLub9XAXbkG7XF+DB3e4t4A5+DO39bq2grBaU+jJlV9hJhwlBP4qaMz07liehzabB1pBrntog9/FjjOp0FEL83RK+/Z1iaqcra7vMEGftjrYci7nI0XTGs0hvcjWH0zWCQCYmg1G1qq8K8E3Y0uoRYCoodmQNEYw3UQiTmQ88OGPQk6/R6pCPHw3gFLCrGZNXjGiq+ReFZ0yAds3g7fJA8cBD12CyHGptqcbGPnChcEEN3b8/xy8XwJoBmXH4YfaYCihPse6V4/kvfC7NRRcWCbnTrC6FGC5FyE/KJdV1hx62GqtHIGSyNUuPNEAsknHsRr3zIO8XRw1Rxg3sdKc3wWvzEiFeizUn9kv7VLmoPLxCRZa+TDkNgn9iBQYETwfv6yeUpMtN+afB6UYnNyMtkiBMEb9iCJwPxkyqqfIIpoeYragTYxquDQDGiBkRHhwnbPOr59wVFEuuoLJsKO5bD1RYtlNckyRxfdLrCh9+vphWW4dT9bOjHeubNdiljVJurT14M6AGfbcDfXyttEECB7u3eBOl/R0DY1q6EBZY8pIxDKAY2kHD8u6j/sPWxMvW3yUVSfoCn4SM/OIM9l0jJf3TqwhZfExRYPBf7u+jrzYe3B7mjHvmLgOOWJc+DBiZQvGBaaMbbvJOE8cdzP952dN8IAwSwB4zmuVoOebI72VCQrC0Kt6Az+vYvG96Bw29UEnxwB7S+1Z9nS0u/cae1hRv0RJYIZvW6RG/QFTnFC99puChDWjbdXawruOR+CB4M4e/B1PqU5Yq4Gr3+OA09VrbK5ynuQa8q9u5xmFFgHVSfbAMAOkBLaNS/F5snCCBhEs/eAD6SYAuMI0igXhXVGLTAqrMWl1G3v8LqgPWAXbcfYisUNJFsTfheRx22/iXLxK4ff18mmp4GmNZa4APHFfcIhB7clIP5dr2h6R0U0LtsM5m5KQ0STSCmCQ3NGDNVVd0rsDspptb6KTHnOtW1tNb23XVjbsb1uqSmSjV36UbnLRcM2Fq226iDEzCppRV2ZyqNzqB2KqC6yaV6JaYNjG8eh/FgVtiBbouGlJ4d+XKxOTu4EQ5S28YOlBpG3lHbYjtJIwZCMPbRy3JADqAn0GzZTK3lafTNrR9kWqGKgKe7VioBuspFPbIP1MmqtUsG+LBZwRdcuHRNZwCOeFC65tCmSMSZckl5YKNuWF2G+T2XbnLF6uRaEGKNQK/odXxN3Xd1tndSqhsO/zJFbf1EJIcXWoHsVoSo7XPxihg1EOkMcu6PJC7VhBo6vrSztJgchMyuzubIMg9lMz973aSUZjeWA9eqgrwm6TgpUR+2UG8o+cQHQDt3nSOlhQ3bwpYvGhuRP2mfT7xEmSmgjZ+syjTwR++URjzcCHTGum+qUSbMqagpKwSuqRq676Qyns6XHJuGoqPyyvEZMupHNH8Lb+vRmpHQyw7LnnFloO8Gv35miHoKm4U6rpVvC21kPVEwKyuVmsY6Bf7hEYhTn5/q38u1SBhee3zx0Td8uoEw+RImksrdpy+Xv9Ql9JYibueMJvbIRIv3KJEz88eDf8FgdNWzgjwA+9TD1lPQ3vF4EaxH4q4D8HeI4x3Ya4GjBcGKk5bnscbFG0PvEDzY20FxmCksNMGos+R8S0t2mdX7UItp28/x0d9Nh2LXStau2JsyK9XenEInCRAulAlNAZ8yD93wvBYm8Os9tiMgxlo9QvdoWHiPcUkPjNHVEZ8e64Sp70qdf3FrJY+3PVUHYswq7eWAOXLsANESJ2lUBIbkNjLPZfuwFCUWtlkHjnt0UBELHWYl0GsrA1byQIgxG8ibVFpWJTwJuECBAs3gRgkWc7YcKdm+iVjBOQl+mJRgCEnC6LfwF+eE8N3SPuY8ow51rOQUk9LS7KwRRBOxaL1Bux9WOqbPjWEfbI96vrI6paonrFj3TQtdFpNNT+XJNrja01OEvPfkMBWCEdfVzEtIVHvN2tyvojzJTYu8ax96SHTiGo4ZxrjImgHG+phtt+xorpeb11vj3EGjKnxsSGmdIezIX/s8Ib2Fl8PE2M9Nbp3Hrqoq/iiJBx0bQ7f0JzeMh+wy5Kg6G8xVbrvbt/uW5hMMS8GxoAIKG3sDpX1bcWlnacBjFC9LuejNBkb4mw28sfo6n242eJyLJIW1WOhUWjos5pY8In/aeb2yMMrLKD/Ey0HFl6YBzgXeyHqklCampDp1k9ZQqKOsUpM7fTj80450vNtNcEhgO0+HT7AaNIw12Nv1qoostgQiceveZ1wThEbrKIE7jYb3vjcdRtSG4EBjc8BYW2Mrdz1VRjuX/Opzt+1ClEiqS/T/4GawSXQPOVsFpPzjGJMlY83xrXIUIrAFyK5JDUZ3tHgTNyaVl2hBAjQjys9iKf9ixJLY2jUIMNSOaTqbXLTBfnibXE0LaRFVvdBdrxsJmFO0Rotykeh49BIceQrkg1mhhG1S1hFwf9QpCJSjWT81muwHLCBEumTmE0sMLiBir5LqFJljdcMeASmDnaEAZ7EXj1NbQzFfskEOdyQApueuYdcbqj2ndnHU9072V3/CZbZ6DpP4uWe9scsvlT1vp3UuHWT9lVuSzfKCWPPm0Nuohl3bU0uM5j2KtyuzWReqV7yazez01UKCvq2FmFrpXzLbnd8qxGv9JcAf28zN5gSiB+vllQ/xOpHxZkZJoM9Oqka4sVdURWdilkaIqeR1ilSWreFYu+q2J5zaPwaxgkSmh35R3Wqz1+xJr3OwFMDRRUeyvR3BVsESbrFMLBrSSJZ3Im+DYT8PrzK0eVA1wef4URhWuNpOYkclXTrApO7isXZR1vEsytNZnoyiEDy7tqRQxbn6O09rCEHbYLeAurYIyUYc8bAuU0vKp+zY60yR2Yxz23su27e467Tpi7n+K81A/sonnSa0rScKm4G1xajejTCKO4gs2XJwfTo9zv1fTKO+hO7tsmGuP/g9Di9MWF4kf7rX6pHOMN5cvK/BTw4xNoTNk/QIpZ2iMZdDJzsB6yXs1UKkfPhx0jCOvs5ssUwJ1qFZ0431zsiGJjCNqhdZmqPNbw65/THh94fiarpXnL3o7C7qeMhdj6+m4j9/DCJjKZsX737Ajke5gc3G3dfdlLcHpnptwGqqN7GfLhtsCtRQlKYtWB5Q4Ns4kEUppY7uVwzoepWVMq4EfPjkQAUN1MqjCyqiMoBWmhqAnXfiqWb7BHDApXMr2tGBsoQt7o0iCriJw5+NQ+S2B33GPakwmr3H47aD/Dbk268EyGpZfwIP47YfrENY0cK7hd63xAAADz0GaJGxCf9jXrbaGaAv3ugn+bmNbjgAo/UUSWchA+/lRNpfeWxE8PODtTa/V15E7u0FVRuSG3OvIwb63531TPxwxVry/vQdiPYn0FAOa8aCz3mWR2vODluv6NZ/cZyPhOmlXO5QfAdHdj0/6GJbkEw4qtceYLA9gf1SC3uqk33oAVxOi+YnF0Kfj5vTzFNn0MVUfMYEmMrey2Vx6GEKO0F/ooee7uEkh5qCkb4NhMqHsRvXA8OqRanheQzDVMQanrmh9S9EkPk4ZYDNPxEeyUyKVB1uRGPVmRyrpx812sgOtBZmNFOQB53WURre8q/Jn+qEYzzOokCjV1k5IrBwMC8X3puUa/67Dd+y0bdAHDZgSzEeY/9zeNNs34bUQtwEi9FUSmoabdpcSt8jZbqKBc5aKEfs8i/ERctbvRLh4b9OzT3yZt85umpJQ3DcYjOHxAvRdLDUyhGQhv6O2PYnxQJTl2IhYAWAvfUHo/LYGsqvuENxej4FRfaH/Oc5Uosw8FWT6NWghbxE8PMA90aHIDPF9W3muMX0B8It7lOoobVGJCBwNNm7mC0SOjNnS4nS+SjcN+1EPYfN6K37uksyezLdkRVvO8RvguM+B7E6mSFKrwb2SwqpzAfAXDQaL6h3CD2eObZg+hBdT9Oz3F2Cjoc6JL4ybSbwrt8/zXEmCk/k2JC2p38/xJ7FU+x0YNzuRwh8Y7XvhvdlwfHko6J1ZIAXaUkRtyLlK2Uj06qRz9HJ+qR3xImSXX+CIjgFknEBJ6s6fxeLQa/UV6K2HZc6tKdqMbKitSlFxVGzRvOrapcvEMEwL5jDsg16h7DEa+2dlNyHowTdA6o2JPylzwi7E2rSkB7/yUzu3vE7I+ZoI7ex1Xz66JKSRMHkWflr2s2IaoaLaq7u8f8LB0e0Ah31s/BY2V80VomlTADOTCyZT5xjHwe8Obum+DzOcJFz4FtSQS/TYvZWZuUqaNi0IrXYCB4VAQaTBBhs/a32Zg/qQTRD1ExmSpPkqeblTaDBQgREo2p46j7I/0lfZA97AebsByc3rFW7+duAV/wSzWE0XINngvqh211nHOw8VXs46g9xUcaRuH0SVO112SIBHjMjz2Wuv4nzb8nmxxCyFIHD0P+chxPuJz3bPqxRoT7CR/tLekcVjHZIO/oG8jjntlEwQKmlOE/J/8P3uSw+s/q5Ja5fKDKt6wgutlHD1eiMf+UnFbvFbzBJE5iPa2VPR8tGSoDJswkNebZiEZlmRS7SrTKqmc2XurON6lIRml6d6bauOwqS8i3mWDWlKzh4i2Lj7qAAAAgxBnkJ4jf/M0pEhsCm8F1qXfVlr5Gnts///hQpEMpQCMD70F+wDHguKsZhl7o8CbIg2BLV4wB1crSYmBT65vIa6XjzCnzAU4oFJLDMC64IoyQg+fdRyk6hXtoT2FW4V1PKMXiFGuujbyKgwR5N9kPaq9bNToXEg+Y3D+kpOKVLB6/oEG3Ki1azfPpBpKHsWeILCuG1T/L1aJivMG+RYKygUCsN5MS0iCe2VKf7VPoLH/OHUMzeSyVSsScKNDPNavpLQREYFFoKv1NlW07KAmxDqugB+akWsQ1pRuupdaq6ZXSdoKkYWBN73G3bVTYNkIOl/s/v2jFKdBwUBvjperfZM3w0L95fCXiRIoFqmwBrDZcgruB4HqFmuQafSDzH6vtTaxePXoFQ1QfM5kT/Yr3BxBnvoTP4FU75dhYhGqxa99wf21CUED4xh7XOGasG2TnaMpQnu+/pm7zpsR+c6ur5UmwoW41x7qDXumLeoZACSHUKOfZhptx8w4hUfSYJFSMrbp0tfNz82mjTTfJNkAi1dJXyWZwEEHez3Is+pd/KDFtVRrhZFYAocLJFcV34Q2fr7bdLi5LuVv4syEyJ53u5HG5tFH6OzTQUWGWVVi+xvMGoeIoRXRzIHCKSE6tydpx2EtB4/iVsKfTm98/CYsWwzZCcbJEqUVggo21caKDeov9T+NqFE2PL8RiwEBQAAAA4BnmF0RP+rVKk4RLVBmQAAAgsBnmNqRP/NIAfTpflI6xAhyxQLyIxICKIoQYy81sOX/54wwudUiWdwWN6zwy7vRxu7OZmIpFZb+VvR7J4Lk7aCpTn97CcSCYRiaFNBIK1HumAGBo4P5zenY7yMvUvVkNGqxdOWsTiGybD0C4Z5LfxRDVq8p+cpB3it0yQcASaGQDG4JffwL6bHGsXz/8/qjd0byeZI6sCU3i4M/6FUdcj5pk7rQjibIG1CvsAeUWOQV0jdWBhpxRNpi1o7uYVypyNF7AGfg42qxBmvejbxW/rXk2i26EGBUFlG9HJLZuVfObqWLWXDz+v1XEl+6zE3NDXNj8PoA+gb9IrHER81Av7NPTYCokT7JCZ3+37aiXrp5j3rrXJZfEv0wRVLPOsT+s97NSiQT4wLsGPxMOkRU8XaSbQYKECIgOXP+tAY6N2A73e8uQzOVt9rCnOTotKjfLl4MkSY5YQGAN349OzoxVP2K/+akaZ2+bJpvLgDzfoDQpMm3trIqrFvPYEhEvu+HYVTvYtmuFChfDXPsFvaoA7ic920ZKln7fVcR7he9ZyrlUdaOpMgfp+FyUQreTQqmHCewAWzFityy+/zjktcvlBgAbc2NEmd4D9WoHUyqD23YROfK3Wes4nmKrWnnkchQjF6xq0dXxcrQ9chGBJigepCiHlW9ouKdFHyXkW8ywajMBklZSLxgtXHbG9BAAACcEGaaEmoQWiZTAif8yABLUzhHpvXV9uxmnUQ3JxGWL0G8m3MI83bHXPwScDM9McbBy+VNjP0TjbDDcJs2GBOFef7J3ezqi91ugEAYWNsN36cKjZrtK//ESl35EBNL/c6ZlHCoH4AoiSsdBSaiBGFbXrC6dO/EXAIrlw+woP+XVNKBpjP+0vCuvu5C/+Xpf/0IX6TyRLpWvP+mD2aXJorBHu9Peb099Bv3EAQNSsEfxdUOJcIEZeazaRy8fqJukm/NCs+ctHGH6dAZlzNwW4MO9mucBVL/FS/owIgc+o1Lyg+5b0cVeGGwfITPi1eJx59wFxSwg00+FX2putASD1YJk8qWiTUacGpQpO/h0h/m67VJ73m0t/i/hwfuXqkwo3EAWxPcKhMGB64hg4/NPJWkgOI2+Fptcn4y/SBXmOkNIdvEZfTJX1VcMxWWQpTnh+chaT9lpNjDjEALaamPQzI+mQV3FSHjL3xrTgdM2GZWJ60vrqei1pmyBdgy2dMdmgWEKYR+FPh+VqLtOGysq0FJbbMxtEY7NEeY6ygmfJlmooZDlJl3LE3SnuUqfq8VY1N72YGkUR7E2EAbrojMLzpsoqec/DbvBniP9wFQWaglSJ377fI4vOUZHb77siASfU4Jjt3YFb/3CSHlfBDLbvlm2dAgMf8ufq0Rwd87hRxvkme/SikXj8q7fhjymWTlCqW/hRvOQwcBuEouE8Mj5vG1Q+474x080JQf/yeWP03w+ZP7Femk5XoD9OsyS0tlNvxUhdZBxlJ+h05uarE3SU2n9iiVQoNimou5BzSytowK7uxGDoF9A96JaoJso3qSvdrgQAAAjZBnoZFESxvALEVhr26Uo18EZWNsLBYaBQRy4Fm8qH47jej9DDg2nG1qS/Y0ewQtYnobUL6kK9yVeWgg9xUCqXVgAhMD0pKYetbdAyvUfdQ1Ckjnq7Pnp3a3Bar7IESfWq3//0GMYPKBUlfG5zxQ7JmzP3llYRX2J/6uRhe0attCaEAzwK6O4AZPR4ABgMrl79nyN9FUxDcy/kRN6mFnc2WyRjl4QNQ93J7cHeh/qqMUTX1/K1TQX8h2A2IB66pl3Cv4EEg+o3pi+1/72QPUfhIQMlBwt0B8onMdayQCDbImU1FPVhJtUBivZWr3LNJkmFR0tPfj85pdn6++LKZJX55JRUgUtMe5oWR5FwlnMwyFYhJxyGynDaEEpJs81rkLCOKS84qdj/FaZkms/4p3EwvOxKHG6i/D0bMaj8I1QJ1kUi0RtRiHhT0tYHTYxI60/7fmPfWcCha0Wy8IafDzuCMuUtGgSZTC0rsF5U7O/zxNUYjhn3wgc9FB3IF91Q85n6cJEDeCybPcsS7zdLd1ukEvBSslWoxxaFuRImIgiRnSagLtmGAvXx0odfk7+qgVH6HxnxlKy19RkIbgP7mvUySW6c7/aHPJtdRQ7mqn+g8aVoJ6yH0ujxmrd2eEA2hKSeCiGsrDaLVPEQHsk7BSLaaFq0EfrWx8KhPAZ6IEGmmCfH6j1MZdlTPnZ8JlJI9/gGdz1lr0mv07gpQJO52FGaX6qcrH54Z9v8uh1ExSZKoQMTGtgs3OQAAAjoBnqV0RP8A8/VfExiTiMtligXkRiQEURQg07T6Tgjt9j7JBFPzsRcNo+XT5HLxg7Z7t6GMIVr7yMNXePr/lCENihL61fQMr1HsmSWUICJx0874osb4CJnuQaUL6//4MYweUj9rtW2kKghtxqeS7USqbyOEPzLXM3YiKjJZSMrCgS9XpXzH8F7+G5HFtdxmxSwSsvfz3UzdlmzUthg9QfD7EaLbRCl/qOZ4hUR5z5GXiqOed22PlN3jE41Fb3i+iiQr5ZCV+C5LJmtKWJ+FSfMM+b0higutHZgEj2/Uvy9kG3nLjX1R+i0oYeuP4hiGWPoKARIDoz+XO3sH25KFIwVqBQXW9K+dcLii79RPSmAcv1dcYEJyhe6CM3ABqiWPz4yvTTGETeqRLIwXk8cI96HUq5S//PlI4/ZMO79ACOLEP4DGx73Ppm3P9u6BjWufK5vfL6K/mDVr4Hcm6dcW4tiDZB8LOmQeeElkmPQnDPdmQwP04boma3bYp8sWRNi7MFKNSipwYaXmKD/lsrMy7hB0lXuqJI3Wwv0bKmnIMer+rDYQ/1ZfOrI6aUMwblw0kbsCEd7mDStNjJRr58cjHos3U4Qn2djfoqmQO3tgr61UQvWqAkj8cjxF7/VdJQ/xei3gZDwjV+zowWfATiunsMJma1oUCtX5dMw5X6zEzrvHtnVwCS2f2ygIRWX3M+NEAKCuUJQ3vWIK7bjFMTHX3UzW832qpdMWbYVYYWyaHW3FZ1nZACbDxfSXzj8AAAH5AZ6nakT/ACt/nZ67/2K3f/7/gT/SFtGjx8ay5R4Cv2fS6xm7xXCJ8pLOLz4o88Uy6EQ7FVm+3d5OZlJm1qUyqjY0hCq9UIW9dhScaDN7p2+rHUS8di5vh8Pt5ZD8iyLCI7HgfxXT9QbWJWDl08wAwO5qCKjkKjBfZ2kZOozUutT63INOW2beQsSRorH1qO56KWcvRk1AQgyYiWP+HlkIsFkFm3z7carNx4RGUc6gnviY7daS18dJJlGNY2NBVep7neSXPyxZwZgPIQpXSH2e87IFGcklnFjZqxATirTs3zwjOx/PbOd2T8fgZ4YlynWdHEF8pH9XDBKxB/WV7QXqKICiuzGleoL4UM7OSGbdgIAIsRtPUGnVqWDnrvxzBC5kDzxA2f8ITkCEeugf6jRYpZ/OVTrE4ee2AWvCbd2uU23+q2+8JFogvqkxn73/Wy4f8Ye+gvKu88ueyH10F7DPFrLl7eOwstJBC6rtnC9H5NZ5vYrumQHp7IITsPsljP23uw23+E0BL13XXxrFV/GPvf7avfEwxQb7jj7lW5ruLWyBI/qIjQYVs7ejVytVFANXt9+Uz3I1cy47XCzdu0lrmLyEVrzvocHckkQDFlP+pOTJF8sKAAFhbnRuAgEigOCHzD81VU4G5yF+bHwOZN+FYJKIUEyY28DJgAAAA35tb292AAAAbG12aGQAAAAAAAAAAAAAAAAAAAPoAAAjKAABAAABAAAAAAAAAAAAAAAAAQAAAAAAAAAAAAAAAAAAAAEAAAAAAAAAAAAAAAAAAEAAAAAAAAAAAAAAAAAAAAAAAAAAAAAAAAAAAAAAAAACAAACqHRyYWsAAABcdGtoZAAAAAMAAAAAAAAAAAAAAAEAAAAAAAAjKAAAAAAAAAAAAAAAAAAAAAAAAQAAAAAAAAAAAAAAAAAAAAEAAAAAAAAAAAAAAAAAAEAAAAABAAAAAQAAAAAAACRlZHRzAAAAHGVsc3QAAAAAAAAAAQAAIygAAIAAAAEAAAAAAiBtZGlhAAAAIG1kaGQAAAAAAAAAAAAAAAAAAEAAAAJAAFXEAAAAAAAtaGRscgAAAAAAAAAAdmlkZQAAAAAAAAAAAAAAAFZpZGVvSGFuZGxlcgAAAAHLbWluZgAAABR2bWhkAAAAAQAAAAAAAAAAAAAAJGRpbmYAAAAcZHJlZgAAAAAAAAABAAAADHVybCAAAAABAAABi3N0YmwAAACXc3RzZAAAAAAAAAABAAAAh2F2YzEAAAAAAAAAAQAAAAAAAAAAAAAAAAAAAAABAAEAAEgAAABIAAAAAAAAAAEAAAAAAAAAAAAAAAAAAAAAAAAAAAAAAAAAAAAAAAAAAAAY//8AAAAxYXZjQwFkAAz/4QAYZ2QADKzZQQCGhAAAAwAEAAADAAg8UKZYAQAGaOvjyyLAAAAAGHN0dHMAAAAAAAAAAQAAAAkAAEAAAAAAFHN0c3MAAAAAAAAAAQAAAAEAAABYY3R0cwAAAAAAAAAJAAAAAQAAgAAAAAABAAFAAAAAAAEAAIAAAAAAAQAAAAAAAAABAABAAAAAAAEAAUAAAAAAAQAAgAAAAAABAAAAAAAAAAEAAEAAAAAAHHN0c2MAAAAAAAAAAQAAAAEAAAAJAAAAAQAAADhzdHN6AAAAAAAAAAAAAAAJAABrQwAAA9MAAAIQAAAAEgAAAg8AAAJ0AAACOgAAAj4AAAH9AAAAFHN0Y28AAAAAAAAAAQAAADAAAABidWR0YQAAAFptZXRhAAAAAAAAACFoZGxyAAAAAAAAAABtZGlyYXBwbAAAAAAAAAAAAAAAAC1pbHN0AAAAJal0b28AAAAdZGF0YQAAAAEAAAAATGF2ZjU4LjI5LjEwMA==\"></video>"
      ],
      "text/plain": [
       "<IPython.core.display.HTML object>"
      ]
     },
     "execution_count": 215,
     "metadata": {},
     "output_type": "execute_result"
    }
   ],
   "source": [
    "record_video_frozen_lake_env(env, Qtable_trained, 'frozenlake_trained.mp4', fps=1)\n",
    "show_video('frozenlake_trained.mp4', video_width = 600)"
   ]
  },
  {
   "cell_type": "markdown",
   "metadata": {
    "id": "nWvKPz_0zlhR"
   },
   "source": [
    "Next, we will take a look at the Q-function that was learned."
   ]
  },
  {
   "cell_type": "code",
   "execution_count": 216,
   "metadata": {
    "colab": {
     "base_uri": "https://localhost:8080/"
    },
    "id": "X8yC8f4Mzc-h",
    "outputId": "f43f7e36-155d-42fe-ea4d-cae17797b208"
   },
   "outputs": [
    {
     "name": "stdout",
     "output_type": "stream",
     "text": [
      "[[0.18101031 0.14763338 0.13875621 0.14343349]\n",
      " [0.10107304 0.10201946 0.10758413 0.14775736]\n",
      " [0.13293129 0.0953878  0.09629555 0.09675655]\n",
      " [0.07452603 0.06471145 0.06482754 0.09001082]\n",
      " [0.22631659 0.12233627 0.17651754 0.12977487]\n",
      " [0.         0.         0.         0.        ]\n",
      " [0.08836105 0.06269871 0.18947341 0.04119957]\n",
      " [0.         0.         0.         0.        ]\n",
      " [0.13243902 0.19036881 0.1987681  0.32651039]\n",
      " [0.18172051 0.4541643  0.22881398 0.2142616 ]\n",
      " [0.47733098 0.19356385 0.21284947 0.15740667]\n",
      " [0.         0.         0.         0.        ]\n",
      " [0.         0.         0.         0.        ]\n",
      " [0.20363609 0.31652347 0.62092653 0.40898212]\n",
      " [0.46147076 0.80087053 0.47377443 0.52981351]\n",
      " [0.         0.         0.         0.        ]]\n"
     ]
    }
   ],
   "source": [
    "print(Qtable_trained)"
   ]
  },
  {
   "cell_type": "markdown",
   "metadata": {
    "id": "W_uLOGVo0mCv"
   },
   "source": [
    "**[Question 7 (5 Points)]**  \n",
    "Assume that `Qtable_trained` is the correct Q-function for the final epsilon-greedy policy that was used in training. What is the value function that corresponds to this policy? Write down the relation between $V_\\pi$ and $Q_\\pi$ and use it to complete the following code block."
   ]
  },
  {
   "cell_type": "markdown",
   "metadata": {
    "id": "QV1yNSlX4Xhn"
   },
   "source": [
    "**Answer:**\n",
    "$$V_\\pi (s) = \\max_a Q_\\pi (s,a)$$"
   ]
  },
  {
   "cell_type": "code",
   "execution_count": 217,
   "metadata": {
    "id": "tgvG3JPb4q4o"
   },
   "outputs": [],
   "source": [
    "Vtable_trained = np.max(Qtable,axis=1)"
   ]
  },
  {
   "cell_type": "markdown",
   "metadata": {
    "id": "hrBSciQw4wBD"
   },
   "source": [
    "Take a look at the value function (For a better visualization we reshape the Vtable into a 4x4 matrix just like the game map)"
   ]
  },
  {
   "cell_type": "code",
   "execution_count": 218,
   "metadata": {
    "id": "ZZ7aWMbOpAwZ"
   },
   "outputs": [
    {
     "name": "stdout",
     "output_type": "stream",
     "text": [
      "[[0.18101031 0.14775736 0.13293129 0.09001082]\n",
      " [0.22631659 0.         0.18947341 0.        ]\n",
      " [0.32651039 0.4541643  0.47733098 0.        ]\n",
      " [0.         0.62092653 0.80087053 0.        ]]\n"
     ]
    }
   ],
   "source": [
    "print(Vtable_trained.reshape(4,4))"
   ]
  },
  {
   "cell_type": "markdown",
   "metadata": {
    "id": "JI8bzC7azyAq"
   },
   "source": [
    "**[Question 8 (5 Points)]**  \n",
    "Write a function to generate a visualization for the value function using a heatmap. In a few words, explain what you see."
   ]
  },
  {
   "cell_type": "code",
   "execution_count": 219,
   "metadata": {
    "id": "LUnArCcV0VMp"
   },
   "outputs": [],
   "source": [
    "import matplotlib.pyplot as plt\n",
    "def visualize(Vtable):\n",
    "    plt.yticks(np.arange(0,4))\n",
    "    plt.xticks(np.arange(0,4))\n",
    "    plt.imshow(Vtable.reshape(4,4),cmap='cool',interpolation='nearest')"
   ]
  },
  {
   "cell_type": "code",
   "execution_count": 220,
   "metadata": {
    "id": "N51kKbFFpGFh"
   },
   "outputs": [
    {
     "data": {
      "image/png": "[encoded data removed]",
      "text/plain": [
       "<Figure size 432x288 with 1 Axes>"
      ]
     },
     "metadata": {
      "needs_background": "light"
     },
     "output_type": "display_data"
    }
   ],
   "source": [
    "visualize(Vtable_trained)"
   ]
  },
  {
   "cell_type": "markdown",
   "metadata": {
    "id": "HyNca-10ruQm"
   },
   "source": [
    "**[Question 9 (5 Points)]**  \n",
    "Can we use a pure greedy policy for Q-learning? Explain."
   ]
  },
  {
   "cell_type": "markdown",
   "metadata": {
    "id": "JqX18Ic-siGm"
   },
   "source": [
    "**Answer:**\n",
    "No there is always a tradeoff between explotation and exploration in the Reinforcement learning questions and we should note that while increasing explotation chooses next actions more wisely this could lead to a decrease in exploration and hence there could be forexample some far state that has the best reward value to get to there. So when tackling a Q-learning problem we can't just use a pure greedy policy and hence we should have some randomness in exploration too. "
   ]
  },
  {
   "cell_type": "markdown",
   "metadata": {
    "id": "EVUwDSzC_YP8"
   },
   "source": [
    "**[Bonus Question (10 Points)]**  \n",
    "Think about the role of the discount factor in this environment and experiment.  \n",
    "1. Explain why it is not the best idea to set $\\gamma = 1$ for a navigation task. You might find it easier to reason about a deterministic (i.e., non-slippery) environment. (5 Points)\n",
    "2. If we had used $\\gamma = 1$, the value of states could be interpreted in a meaningful way. Think about what $V^*(s)$ would be if we had set $\\gamma = 1$ and trained until we got the optimal value function. (5 Points)"
   ]
  },
  {
   "cell_type": "markdown",
   "metadata": {
    "id": "GttKYjfu_cvg"
   },
   "source": [
    "**Answer:**\n",
    "\n",
    "1.Setting $\\gamma=1$ is a terrible idea in this task specificly because $\\gamma \\lt 1$ indicates the importance of seeing a reward as soon as possible. In this task the actions all have 0 rewards except the action which takes the person to the goal and hence if we set $\\gamma=1$ we are somehow giving the reward in a far future the same amount of value as the reward we might get in the next action, so the model could easily choose a terible policy forexample to just go from one state to another and then come back to the first and since there are a limited max_steps the model most probably won't learn the optimal policy.\n",
    "\n",
    "2.If we use $\\gamma=1$ the Bellman equation would turn into following:\n",
    "$$V^{*}(s)=\\max_{a}\\sum_{s'}T(s,a,s')(R(s,a,s')+V^{*}(s'))$$\n",
    "Moreover since all the rewards except the reward of the actions taking the agent to goal are zero, we can\n",
    "simplify the Bellman equation as following:\n",
    "$$V^{*}(s)=\\max_{a}\\sum_{s'}T(s,a,s')V^{*}(s')\\space \\space \\space \\space \\space for \\space s' \\neq goal$$\n",
    "and if $s'= goal$ we would have:\n",
    "$$V^{*}(s)=\\max_{a}\\sum_{s'}T(s,a,s')\\times 1 \\space \\space \\space \\space \\space for \\space s' = goal$$\n",
    "\n",
    "It can be deduced from the previous equations that $V^{*}(s)$ would simply hold the probability of ending up in the goal \n",
    "state starting from state s because just the transition functions which end up in the goal are considered in the equations and they end up getting multiplied in each other so the final result is the probability of reaching the goal state from state of s.\n",
    "<br>\n",
    "It also worths the mention that since Q learning algorithm is an off policy algorithm if we iterate a lot of episodes with a big max_steps the final Q values would converge to their true value, but this demands a lot of training process since the  policy is almost random in the case of $\\gamma=1$."
   ]
  },
  {
   "cell_type": "markdown",
   "metadata": {
    "id": "WLiFCIek6s8v"
   },
   "source": [
    "# Part II: Mountain Car Environment (15 point)"
   ]
  },
  {
   "cell_type": "markdown",
   "metadata": {
    "id": "7R36a4nH7MuZ"
   },
   "source": [
    "The [Mountain Car MDP](https://mgoulao.github.io/gym-docs/environments/classic_control/mountain_car/) is a deterministic MDP that consists of a car placed stochastically at the bottom of a sinusoidal valley, with the only possible actions being the accelerations that can be applied to the car in either direction. The goal of the MDP is to strategically accelerate the car to reach the goal state on top of the right hill."
   ]
  },
  {
   "cell_type": "markdown",
   "metadata": {
    "id": "VlyLlwIG8qjw"
   },
   "source": [
    "lets create the environment."
   ]
  },
  {
   "cell_type": "code",
   "execution_count": 4,
   "metadata": {
    "id": "eBMSm62o8qBs"
   },
   "outputs": [],
   "source": [
    "env = gym.make(\"MountainCar-v0\", render_mode='rgb_array')"
   ]
  },
  {
   "cell_type": "markdown",
   "metadata": {
    "id": "CUOtuKcv8_Qw"
   },
   "source": [
    "The state of the car is represented by its velocity and position along the x axis. the velocity is a number between -0.07, 0.07 and the position is a number between -1.3, 0.6. There are 3 discrete deterministic actions: (0:Accelerate to the left, 1:Don’t accelerate, 2:Accelerate to the right)\n",
    "The starting position of the car is different each time we run the environment."
   ]
  },
  {
   "cell_type": "markdown",
   "metadata": {
    "id": "3exMYOjN9oza"
   },
   "source": [
    "In order to use the same Q learning algorithm on this environment we need to somehow discretize the states. We can easily do this by dividing the range of the observation into smaller range.   \n",
    "its important how small we divide these range. if the step size is too big we might not achieve a good accuracy and if the step size is too small we will have a bigger observation space.  "
   ]
  },
  {
   "cell_type": "markdown",
   "metadata": {
    "id": "dK9XEjBb-jTB"
   },
   "source": [
    "**[Question 10 (5 Points)]**  \n",
    "implement the next  discretization function."
   ]
  },
  {
   "cell_type": "code",
   "execution_count": 5,
   "metadata": {
    "id": "VwdauAFa8-yi"
   },
   "outputs": [],
   "source": [
    "def discretize(x, min_value, step_size):\n",
    "#     print(f'x is {x} and min_value is {min_value} and step_size is {step_size}')\n",
    "    return int((x-min_value)//step_size)\n",
    "\n",
    "assert(discretize(0.222, 0.1, 0.1)==1)\n",
    "assert(discretize(0.134, 0.1, 0.1)==0) "
   ]
  },
  {
   "cell_type": "markdown",
   "metadata": {
    "id": "XeSrhR6t_b4-"
   },
   "source": [
    "we will use step size 0.1 for the position and the step size 0.01 for the velocity. the following function will discretize a state using the function you implemented above."
   ]
  },
  {
   "cell_type": "code",
   "execution_count": 6,
   "metadata": {
    "id": "KltzG8ay7QUO"
   },
   "outputs": [],
   "source": [
    "def discretize_state(state, step_velocity=0.01, step_position=0.1):\n",
    "    position , velocity = state\n",
    "    position = discretize(position, -1.3, step_position)\n",
    "    velocity = discretize(velocity, -0.07, step_velocity)\n",
    "    if position==19:\n",
    "        position = 18\n",
    "    if velocity==14:\n",
    "        velocity = 13\n",
    "    return (position, velocity)"
   ]
  },
  {
   "cell_type": "markdown",
   "metadata": {
    "id": "pyBvbk-iAgbj"
   },
   "source": [
    "the function below will run the mountain car experiment and output a video. We will use it to run an agent with a random policy."
   ]
  },
  {
   "cell_type": "code",
   "execution_count": 7,
   "metadata": {
    "colab": {
     "base_uri": "https://localhost:8080/",
     "height": 453
    },
    "id": "sjZNzcBrAf4t",
    "outputId": "e97d8edb-0179-4a9c-b675-c558886c475f"
   },
   "outputs": [
    {
     "name": "stderr",
     "output_type": "stream",
     "text": [
      "IMAGEIO FFMPEG_WRITER WARNING: input image is not divisible by macro_block_size=16, resizing from (600, 400) to (608, 400) to ensure video compatibility with most codecs and players. To prevent resizing, make your input image divisible by the macro_block_size or set the macro_block_size to 1 (risking incompatibility).\n"
     ]
    },
    {
     "data": {
      "text/html": [
       "<video width=600 controls><source src=\"data:video/mp4;base64,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\"></video>"
      ],
      "text/plain": [
       "<IPython.core.display.HTML object>"
      ]
     },
     "execution_count": 7,
     "metadata": {},
     "output_type": "execute_result"
    }
   ],
   "source": [
    "def record_video_mountain_car_env(env, Qtable, out_directory, fps=1, random_action=False, max_episode=500):\n",
    "    images = []  \n",
    "    truncated, done = False, False\n",
    "    state, info = env.reset(seed=random.randint(0,500))\n",
    "    state = discretize_state(state)\n",
    "    img = env.render()\n",
    "    images.append(img)\n",
    "    episode = 0\n",
    "    while episode < max_episode and not done:\n",
    "        # Take the action (index) that have the maximum expected future reward given that state\n",
    "        action = np.random.randint(3)  if random_action else np.argmax(Qtable[state[0]][state[1]][:])\n",
    "        state, reward, done, truncated, info = env.step(action)\n",
    "        state = discretize_state(state)\n",
    "        img = env.render()\n",
    "        images.append(img)\n",
    "        episode += 1\n",
    "    imageio.mimsave(out_directory, [np.array(img) for i, img in enumerate(images)], fps=fps)\n",
    "\n",
    "def show_video(video_path, video_width = 600):\n",
    "    video_file = open(video_path, \"r+b\").read()\n",
    "    video_url = f\"data:video/mp4;base64,{b64encode(video_file).decode()}\"\n",
    "    return HTML(f\"\"\"<video width={video_width} controls><source src=\"{video_url}\"></video>\"\"\")\n",
    "\n",
    "record_video_mountain_car_env(env, None, 'mountaincar_random.mp4', fps=15, random_action=True)\n",
    "show_video('mountaincar_random.mp4', video_width = 600)"
   ]
  },
  {
   "cell_type": "markdown",
   "metadata": {
    "id": "WIETFj_sDR5s"
   },
   "source": [
    "**[Question 11 (2 Points)]**  \n",
    "Implement the next functions like you did the previous part. "
   ]
  },
  {
   "cell_type": "code",
   "execution_count": 8,
   "metadata": {
    "id": "2w7fNw4NC2mj"
   },
   "outputs": [
    {
     "data": {
      "text/plain": [
       "(19, 15, 3)"
      ]
     },
     "execution_count": 8,
     "metadata": {},
     "output_type": "execute_result"
    }
   ],
   "source": [
    "from math import ceil\n",
    "def initialize_q_table(step_size_velocity, step_size_pos, action_space):\n",
    "    # Qtable should be of the shape (discrete position value, discrete velocity value, action_no)\n",
    "    return np.zeros((ceil(1.9/step_size_pos),ceil(0.14/step_size_velocity),action_space))\n",
    "\n",
    "def epsilon_greedy_policy(Qtable, state, epsilon):\n",
    "    return np.argmax(Qtable[state[0],state[1]][:]) if np.random.random()>epsilon else np.random.randint(3)\n",
    "\n",
    "Qtable = initialize_q_table(0.01, 0.1, 3)\n",
    "Qtable.shape"
   ]
  },
  {
   "cell_type": "markdown",
   "metadata": {
    "id": "RWSMO5cIE6NE"
   },
   "source": [
    "**[Question 12 (8 Points)]**  \n",
    "Change the previous train function so it works in this environment."
   ]
  },
  {
   "cell_type": "code",
   "execution_count": 9,
   "metadata": {
    "id": "zAHvbfxpC9XR"
   },
   "outputs": [],
   "source": [
    "def train(n_training_episodes, min_epsilon, max_epsilon, decay_rate, env, max_steps, Qtable):\n",
    "    for episode in tqdm(range(n_training_episodes)):\n",
    "        # Adjust epsilon\n",
    "        epsilon = min_epsilon + (max_epsilon - min_epsilon)*np.exp(-decay_rate*episode)\n",
    "        # Reset the environment\n",
    "        state, info = env.reset()\n",
    "        state = discretize_state(state)\n",
    "        step = 0\n",
    "        done = False\n",
    "\n",
    "        # repeat\n",
    "        for step in range(max_steps):\n",
    "            action=epsilon_greedy_policy(Qtable,state,epsilon)\n",
    "            next_state,reward,done,truncated,info=env.step(action)\n",
    "#             print(next_state)\n",
    "            next_state=discretize_state(next_state)\n",
    "#             print(state,next_state,action)\n",
    "            Qtable[state[0],state[1],action]=Qtable[state[0],state[1],action]+learning_rate\\\n",
    "            *(reward+gamma*np.max(Qtable[next_state[0],next_state[1]])-Qtable[state[0],state[1],action])\n",
    "            if done:break\n",
    "            state=next_state\n",
    "    return Qtable"
   ]
  },
  {
   "cell_type": "markdown",
   "metadata": {
    "id": "3CHmdB4BFYow"
   },
   "source": [
    "Now lets train our model. You can change the hyperparameters if you want."
   ]
  },
  {
   "cell_type": "code",
   "execution_count": 10,
   "metadata": {
    "id": "tBoHqoLhEnJt"
   },
   "outputs": [],
   "source": [
    "# Training parameters\n",
    "n_training_episodes = 20_000  # Total training episodes\n",
    "learning_rate = 0.1           # Learning rate\n",
    "\n",
    "# Environment parameters\n",
    "max_steps = 200               # Max steps per episode\n",
    "gamma = 0.95                 # Discounting rate\n",
    "\n",
    "# Exploration parameters\n",
    "max_epsilon = 1.0             # Exploration probability at start\n",
    "min_epsilon = 0.01            # Minimum exploration probability \n",
    "decay_rate = 2e-3            # Exponential decay rate for exploration prob"
   ]
  },
  {
   "cell_type": "code",
   "execution_count": 11,
   "metadata": {
    "colab": {
     "base_uri": "https://localhost:8080/",
     "height": 49,
     "referenced_widgets": [
      "d7ccda985a374d65a64f7c3ad8dc8feb",
      "ae0db86ec61e411a821fbf186123bb1c",
      "ba7d003efb8b4ba791043bf0e0af7df1",
      "365e1e153fd2492eb2a159722dfd4192",
      "634647540302493ba3ba760e7abe817c",
      "89d601dd731e4538b524baa03b67dd34",
      "ab04550a80ec4914937d16903ea5cc73",
      "126b68c9ed524c6d983398434fec7750",
      "de7fb2d7dd1b4edf8dc5df8711361ab1",
      "fd39de5b77054f8d8a2263f3519bc476",
      "d65d74349ea8401584fcfae30b785a1a"
     ]
    },
    "id": "6emQyg3JFg1n",
    "outputId": "8be668f9-6de1-4e99-afc5-272f009b00d4"
   },
   "outputs": [
    {
     "data": {
      "application/vnd.jupyter.widget-view+json": {
       "model_id": "317addf9c84441ab86decbaa16b51270",
       "version_major": 2,
       "version_minor": 0
      },
      "text/plain": [
       "  0%|          | 0/20000 [00:00<?, ?it/s]"
      ]
     },
     "metadata": {},
     "output_type": "display_data"
    }
   ],
   "source": [
    "Qtable_trained = train(n_training_episodes, min_epsilon, max_epsilon, decay_rate, env, max_steps, Qtable)"
   ]
  },
  {
   "cell_type": "markdown",
   "metadata": {
    "id": "wlH7J3jQg5Ra"
   },
   "source": [
    "Now let us inspect how well our model is doing. In order to pass the assignment, the car must reach the goal."
   ]
  },
  {
   "cell_type": "code",
   "execution_count": 15,
   "metadata": {
    "colab": {
     "base_uri": "https://localhost:8080/",
     "height": 453
    },
    "id": "TKkzIikqHOXw",
    "outputId": "410c05c2-d384-45d7-f634-385772bca979"
   },
   "outputs": [
    {
     "name": "stderr",
     "output_type": "stream",
     "text": [
      "IMAGEIO FFMPEG_WRITER WARNING: input image is not divisible by macro_block_size=16, resizing from (600, 400) to (608, 400) to ensure video compatibility with most codecs and players. To prevent resizing, make your input image divisible by the macro_block_size or set the macro_block_size to 1 (risking incompatibility).\n"
     ]
    },
    {
     "data": {
      "text/html": [
       "<video width=600 controls><source src=\"data:video/mp4;base64,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\"></video>"
      ],
      "text/plain": [
       "<IPython.core.display.HTML object>"
      ]
     },
     "execution_count": 15,
     "metadata": {},
     "output_type": "execute_result"
    }
   ],
   "source": [
    "record_video_mountain_car_env(env, Qtable_trained, 'mountaincar_trained.mp4', fps=15)\n",
    "show_video('mountaincar_trained.mp4', video_width = 600)"
   ]
  },
  {
   "cell_type": "code",
   "execution_count": null,
   "metadata": {},
   "outputs": [],
   "source": []
  }
 ],
 "metadata": {
  "colab": {
   "collapsed_sections": [],
   "provenance": []
  },
  "kernelspec": {
   "display_name": "Python 3 (ipykernel)",
   "language": "python",
   "name": "python3"
  },
  "language_info": {
   "codemirror_mode": {
    "name": "ipython",
    "version": 3
   },
   "file_extension": ".py",
   "mimetype": "text/x-python",
   "name": "python",
   "nbconvert_exporter": "python",
   "pygments_lexer": "ipython3",
   "version": "3.11.1"
  },
  "widgets": {
   "application/vnd.jupyter.widget-state+json": {
    "0ac4ffa2eb644fc08b55b6c624aba10f": {
     "model_module": "@jupyter-widgets/controls",
     "model_module_version": "1.5.0",
     "model_name": "DescriptionStyleModel",
     "state": {
      "_model_module": "@jupyter-widgets/controls",
      "_model_module_version": "1.5.0",
      "_model_name": "DescriptionStyleModel",
      "_view_count": null,
      "_view_module": "@jupyter-widgets/base",
      "_view_module_version": "1.2.0",
      "_view_name": "StyleView",
      "description_width": ""
     }
    },
    "0df16b501be443acb42de61e37070b75": {
     "model_module": "@jupyter-widgets/controls",
     "model_module_version": "1.5.0",
     "model_name": "DescriptionStyleModel",
     "state": {
      "_model_module": "@jupyter-widgets/controls",
      "_model_module_version": "1.5.0",
      "_model_name": "DescriptionStyleModel",
      "_view_count": null,
      "_view_module": "@jupyter-widgets/base",
      "_view_module_version": "1.2.0",
      "_view_name": "StyleView",
      "description_width": ""
     }
    },
    "102cecdfcc5d47ada76435d97ac573ed": {
     "model_module": "@jupyter-widgets/controls",
     "model_module_version": "1.5.0",
     "model_name": "HTMLModel",
     "state": {
      "_dom_classes": [],
      "_model_module": "@jupyter-widgets/controls",
      "_model_module_version": "1.5.0",
      "_model_name": "HTMLModel",
      "_view_count": null,
      "_view_module": "@jupyter-widgets/controls",
      "_view_module_version": "1.5.0",
      "_view_name": "HTMLView",
      "description": "",
      "description_tooltip": null,
      "layout": "IPY_MODEL_4a0b04007e204de287035d2e7fe67c95",
      "placeholder": "​",
      "style": "IPY_MODEL_c9533715f3b645a2aedff135a9bdc733",
      "value": "100%"
     }
    },
    "108c385f845c4b09a8486aac1d0a4589": {
     "model_module": "@jupyter-widgets/base",
     "model_module_version": "1.2.0",
     "model_name": "LayoutModel",
     "state": {
      "_model_module": "@jupyter-widgets/base",
      "_model_module_version": "1.2.0",
      "_model_name": "LayoutModel",
      "_view_count": null,
      "_view_module": "@jupyter-widgets/base",
      "_view_module_version": "1.2.0",
      "_view_name": "LayoutView",
      "align_content": null,
      "align_items": null,
      "align_self": null,
      "border": null,
      "bottom": null,
      "display": null,
      "flex": null,
      "flex_flow": null,
      "grid_area": null,
      "grid_auto_columns": null,
      "grid_auto_flow": null,
      "grid_auto_rows": null,
      "grid_column": null,
      "grid_gap": null,
      "grid_row": null,
      "grid_template_areas": null,
      "grid_template_columns": null,
      "grid_template_rows": null,
      "height": null,
      "justify_content": null,
      "justify_items": null,
      "left": null,
      "margin": null,
      "max_height": null,
      "max_width": null,
      "min_height": null,
      "min_width": null,
      "object_fit": null,
      "object_position": null,
      "order": null,
      "overflow": null,
      "overflow_x": null,
      "overflow_y": null,
      "padding": null,
      "right": null,
      "top": null,
      "visibility": null,
      "width": null
     }
    },
    "126b68c9ed524c6d983398434fec7750": {
     "model_module": "@jupyter-widgets/base",
     "model_module_version": "1.2.0",
     "model_name": "LayoutModel",
     "state": {
      "_model_module": "@jupyter-widgets/base",
      "_model_module_version": "1.2.0",
      "_model_name": "LayoutModel",
      "_view_count": null,
      "_view_module": "@jupyter-widgets/base",
      "_view_module_version": "1.2.0",
      "_view_name": "LayoutView",
      "align_content": null,
      "align_items": null,
      "align_self": null,
      "border": null,
      "bottom": null,
      "display": null,
      "flex": null,
      "flex_flow": null,
      "grid_area": null,
      "grid_auto_columns": null,
      "grid_auto_flow": null,
      "grid_auto_rows": null,
      "grid_column": null,
      "grid_gap": null,
      "grid_row": null,
      "grid_template_areas": null,
      "grid_template_columns": null,
      "grid_template_rows": null,
      "height": null,
      "justify_content": null,
      "justify_items": null,
      "left": null,
      "margin": null,
      "max_height": null,
      "max_width": null,
      "min_height": null,
      "min_width": null,
      "object_fit": null,
      "object_position": null,
      "order": null,
      "overflow": null,
      "overflow_x": null,
      "overflow_y": null,
      "padding": null,
      "right": null,
      "top": null,
      "visibility": null,
      "width": null
     }
    },
    "2c1b137e0a7f45dbaf3e0e2fb4c9f065": {
     "model_module": "@jupyter-widgets/controls",
     "model_module_version": "1.5.0",
     "model_name": "ProgressStyleModel",
     "state": {
      "_model_module": "@jupyter-widgets/controls",
      "_model_module_version": "1.5.0",
      "_model_name": "ProgressStyleModel",
      "_view_count": null,
      "_view_module": "@jupyter-widgets/base",
      "_view_module_version": "1.2.0",
      "_view_name": "StyleView",
      "bar_color": null,
      "description_width": ""
     }
    },
    "365e1e153fd2492eb2a159722dfd4192": {
     "model_module": "@jupyter-widgets/controls",
     "model_module_version": "1.5.0",
     "model_name": "HTMLModel",
     "state": {
      "_dom_classes": [],
      "_model_module": "@jupyter-widgets/controls",
      "_model_module_version": "1.5.0",
      "_model_name": "HTMLModel",
      "_view_count": null,
      "_view_module": "@jupyter-widgets/controls",
      "_view_module_version": "1.5.0",
      "_view_name": "HTMLView",
      "description": "",
      "description_tooltip": null,
      "layout": "IPY_MODEL_fd39de5b77054f8d8a2263f3519bc476",
      "placeholder": "​",
      "style": "IPY_MODEL_d65d74349ea8401584fcfae30b785a1a",
      "value": " 20000/20000 [07:36&lt;00:00, 41.86it/s]"
     }
    },
    "47f0b35c36bb498fb47f98f7609e7187": {
     "model_module": "@jupyter-widgets/controls",
     "model_module_version": "1.5.0",
     "model_name": "HTMLModel",
     "state": {
      "_dom_classes": [],
      "_model_module": "@jupyter-widgets/controls",
      "_model_module_version": "1.5.0",
      "_model_name": "HTMLModel",
      "_view_count": null,
      "_view_module": "@jupyter-widgets/controls",
      "_view_module_version": "1.5.0",
      "_view_name": "HTMLView",
      "description": "",
      "description_tooltip": null,
      "layout": "IPY_MODEL_fa684dfe7f9d4e78b2f966a02ac64911",
      "placeholder": "​",
      "style": "IPY_MODEL_0df16b501be443acb42de61e37070b75",
      "value": " 50000/50000 [01:05&lt;00:00, 842.63it/s]"
     }
    },
    "486a4927595a48debdc1ece1951e85c0": {
     "model_module": "@jupyter-widgets/base",
     "model_module_version": "1.2.0",
     "model_name": "LayoutModel",
     "state": {
      "_model_module": "@jupyter-widgets/base",
      "_model_module_version": "1.2.0",
      "_model_name": "LayoutModel",
      "_view_count": null,
      "_view_module": "@jupyter-widgets/base",
      "_view_module_version": "1.2.0",
      "_view_name": "LayoutView",
      "align_content": null,
      "align_items": null,
      "align_self": null,
      "border": null,
      "bottom": null,
      "display": null,
      "flex": null,
      "flex_flow": null,
      "grid_area": null,
      "grid_auto_columns": null,
      "grid_auto_flow": null,
      "grid_auto_rows": null,
      "grid_column": null,
      "grid_gap": null,
      "grid_row": null,
      "grid_template_areas": null,
      "grid_template_columns": null,
      "grid_template_rows": null,
      "height": null,
      "justify_content": null,
      "justify_items": null,
      "left": null,
      "margin": null,
      "max_height": null,
      "max_width": null,
      "min_height": null,
      "min_width": null,
      "object_fit": null,
      "object_position": null,
      "order": null,
      "overflow": null,
      "overflow_x": null,
      "overflow_y": null,
      "padding": null,
      "right": null,
      "top": null,
      "visibility": null,
      "width": null
     }
    },
    "4a0b04007e204de287035d2e7fe67c95": {
     "model_module": "@jupyter-widgets/base",
     "model_module_version": "1.2.0",
     "model_name": "LayoutModel",
     "state": {
      "_model_module": "@jupyter-widgets/base",
      "_model_module_version": "1.2.0",
      "_model_name": "LayoutModel",
      "_view_count": null,
      "_view_module": "@jupyter-widgets/base",
      "_view_module_version": "1.2.0",
      "_view_name": "LayoutView",
      "align_content": null,
      "align_items": null,
      "align_self": null,
      "border": null,
      "bottom": null,
      "display": null,
      "flex": null,
      "flex_flow": null,
      "grid_area": null,
      "grid_auto_columns": null,
      "grid_auto_flow": null,
      "grid_auto_rows": null,
      "grid_column": null,
      "grid_gap": null,
      "grid_row": null,
      "grid_template_areas": null,
      "grid_template_columns": null,
      "grid_template_rows": null,
      "height": null,
      "justify_content": null,
      "justify_items": null,
      "left": null,
      "margin": null,
      "max_height": null,
      "max_width": null,
      "min_height": null,
      "min_width": null,
      "object_fit": null,
      "object_position": null,
      "order": null,
      "overflow": null,
      "overflow_x": null,
      "overflow_y": null,
      "padding": null,
      "right": null,
      "top": null,
      "visibility": null,
      "width": null
     }
    },
    "4eb63c62bdfc4a0187cb15fe735bf7a9": {
     "model_module": "@jupyter-widgets/controls",
     "model_module_version": "1.5.0",
     "model_name": "HTMLModel",
     "state": {
      "_dom_classes": [],
      "_model_module": "@jupyter-widgets/controls",
      "_model_module_version": "1.5.0",
      "_model_name": "HTMLModel",
      "_view_count": null,
      "_view_module": "@jupyter-widgets/controls",
      "_view_module_version": "1.5.0",
      "_view_name": "HTMLView",
      "description": "",
      "description_tooltip": null,
      "layout": "IPY_MODEL_d27361677e1643d3b9b7713f9e8033a7",
      "placeholder": "​",
      "style": "IPY_MODEL_0ac4ffa2eb644fc08b55b6c624aba10f",
      "value": "100%"
     }
    },
    "630ccf49bc7045afbb6fd75aa773cc9c": {
     "model_module": "@jupyter-widgets/controls",
     "model_module_version": "1.5.0",
     "model_name": "FloatProgressModel",
     "state": {
      "_dom_classes": [],
      "_model_module": "@jupyter-widgets/controls",
      "_model_module_version": "1.5.0",
      "_model_name": "FloatProgressModel",
      "_view_count": null,
      "_view_module": "@jupyter-widgets/controls",
      "_view_module_version": "1.5.0",
      "_view_name": "ProgressView",
      "bar_style": "success",
      "description": "",
      "description_tooltip": null,
      "layout": "IPY_MODEL_d4f9b65743064b0c80e573523aaafb19",
      "max": 50000,
      "min": 0,
      "orientation": "horizontal",
      "style": "IPY_MODEL_2c1b137e0a7f45dbaf3e0e2fb4c9f065",
      "value": 50000
     }
    },
    "634647540302493ba3ba760e7abe817c": {
     "model_module": "@jupyter-widgets/base",
     "model_module_version": "1.2.0",
     "model_name": "LayoutModel",
     "state": {
      "_model_module": "@jupyter-widgets/base",
      "_model_module_version": "1.2.0",
      "_model_name": "LayoutModel",
      "_view_count": null,
      "_view_module": "@jupyter-widgets/base",
      "_view_module_version": "1.2.0",
      "_view_name": "LayoutView",
      "align_content": null,
      "align_items": null,
      "align_self": null,
      "border": null,
      "bottom": null,
      "display": null,
      "flex": null,
      "flex_flow": null,
      "grid_area": null,
      "grid_auto_columns": null,
      "grid_auto_flow": null,
      "grid_auto_rows": null,
      "grid_column": null,
      "grid_gap": null,
      "grid_row": null,
      "grid_template_areas": null,
      "grid_template_columns": null,
      "grid_template_rows": null,
      "height": null,
      "justify_content": null,
      "justify_items": null,
      "left": null,
      "margin": null,
      "max_height": null,
      "max_width": null,
      "min_height": null,
      "min_width": null,
      "object_fit": null,
      "object_position": null,
      "order": null,
      "overflow": null,
      "overflow_x": null,
      "overflow_y": null,
      "padding": null,
      "right": null,
      "top": null,
      "visibility": null,
      "width": null
     }
    },
    "7f2a9c443f8941d0b18d6d7f42c76ede": {
     "model_module": "@jupyter-widgets/controls",
     "model_module_version": "1.5.0",
     "model_name": "ProgressStyleModel",
     "state": {
      "_model_module": "@jupyter-widgets/controls",
      "_model_module_version": "1.5.0",
      "_model_name": "ProgressStyleModel",
      "_view_count": null,
      "_view_module": "@jupyter-widgets/base",
      "_view_module_version": "1.2.0",
      "_view_name": "StyleView",
      "bar_color": null,
      "description_width": ""
     }
    },
    "89d601dd731e4538b524baa03b67dd34": {
     "model_module": "@jupyter-widgets/base",
     "model_module_version": "1.2.0",
     "model_name": "LayoutModel",
     "state": {
      "_model_module": "@jupyter-widgets/base",
      "_model_module_version": "1.2.0",
      "_model_name": "LayoutModel",
      "_view_count": null,
      "_view_module": "@jupyter-widgets/base",
      "_view_module_version": "1.2.0",
      "_view_name": "LayoutView",
      "align_content": null,
      "align_items": null,
      "align_self": null,
      "border": null,
      "bottom": null,
      "display": null,
      "flex": null,
      "flex_flow": null,
      "grid_area": null,
      "grid_auto_columns": null,
      "grid_auto_flow": null,
      "grid_auto_rows": null,
      "grid_column": null,
      "grid_gap": null,
      "grid_row": null,
      "grid_template_areas": null,
      "grid_template_columns": null,
      "grid_template_rows": null,
      "height": null,
      "justify_content": null,
      "justify_items": null,
      "left": null,
      "margin": null,
      "max_height": null,
      "max_width": null,
      "min_height": null,
      "min_width": null,
      "object_fit": null,
      "object_position": null,
      "order": null,
      "overflow": null,
      "overflow_x": null,
      "overflow_y": null,
      "padding": null,
      "right": null,
      "top": null,
      "visibility": null,
      "width": null
     }
    },
    "99784348358c41e599f210f16b9fc648": {
     "model_module": "@jupyter-widgets/controls",
     "model_module_version": "1.5.0",
     "model_name": "HTMLModel",
     "state": {
      "_dom_classes": [],
      "_model_module": "@jupyter-widgets/controls",
      "_model_module_version": "1.5.0",
      "_model_name": "HTMLModel",
      "_view_count": null,
      "_view_module": "@jupyter-widgets/controls",
      "_view_module_version": "1.5.0",
      "_view_name": "HTMLView",
      "description": "",
      "description_tooltip": null,
      "layout": "IPY_MODEL_486a4927595a48debdc1ece1951e85c0",
      "placeholder": "​",
      "style": "IPY_MODEL_be568628a84b4ad6a06c68de278d851e",
      "value": " 1000/1000 [00:02&lt;00:00, 742.43it/s]"
     }
    },
    "a5eaf9ef6e764f5793d6ee51885d5094": {
     "model_module": "@jupyter-widgets/controls",
     "model_module_version": "1.5.0",
     "model_name": "HBoxModel",
     "state": {
      "_dom_classes": [],
      "_model_module": "@jupyter-widgets/controls",
      "_model_module_version": "1.5.0",
      "_model_name": "HBoxModel",
      "_view_count": null,
      "_view_module": "@jupyter-widgets/controls",
      "_view_module_version": "1.5.0",
      "_view_name": "HBoxView",
      "box_style": "",
      "children": [
       "IPY_MODEL_4eb63c62bdfc4a0187cb15fe735bf7a9",
       "IPY_MODEL_630ccf49bc7045afbb6fd75aa773cc9c",
       "IPY_MODEL_47f0b35c36bb498fb47f98f7609e7187"
      ],
      "layout": "IPY_MODEL_c0183ca6bd2042f28e6460bb81ee56f3"
     }
    },
    "a76c5a69f9184c0bb0763101e7fcc0ae": {
     "model_module": "@jupyter-widgets/base",
     "model_module_version": "1.2.0",
     "model_name": "LayoutModel",
     "state": {
      "_model_module": "@jupyter-widgets/base",
      "_model_module_version": "1.2.0",
      "_model_name": "LayoutModel",
      "_view_count": null,
      "_view_module": "@jupyter-widgets/base",
      "_view_module_version": "1.2.0",
      "_view_name": "LayoutView",
      "align_content": null,
      "align_items": null,
      "align_self": null,
      "border": null,
      "bottom": null,
      "display": null,
      "flex": null,
      "flex_flow": null,
      "grid_area": null,
      "grid_auto_columns": null,
      "grid_auto_flow": null,
      "grid_auto_rows": null,
      "grid_column": null,
      "grid_gap": null,
      "grid_row": null,
      "grid_template_areas": null,
      "grid_template_columns": null,
      "grid_template_rows": null,
      "height": null,
      "justify_content": null,
      "justify_items": null,
      "left": null,
      "margin": null,
      "max_height": null,
      "max_width": null,
      "min_height": null,
      "min_width": null,
      "object_fit": null,
      "object_position": null,
      "order": null,
      "overflow": null,
      "overflow_x": null,
      "overflow_y": null,
      "padding": null,
      "right": null,
      "top": null,
      "visibility": null,
      "width": null
     }
    },
    "ab04550a80ec4914937d16903ea5cc73": {
     "model_module": "@jupyter-widgets/controls",
     "model_module_version": "1.5.0",
     "model_name": "DescriptionStyleModel",
     "state": {
      "_model_module": "@jupyter-widgets/controls",
      "_model_module_version": "1.5.0",
      "_model_name": "DescriptionStyleModel",
      "_view_count": null,
      "_view_module": "@jupyter-widgets/base",
      "_view_module_version": "1.2.0",
      "_view_name": "StyleView",
      "description_width": ""
     }
    },
    "ae0db86ec61e411a821fbf186123bb1c": {
     "model_module": "@jupyter-widgets/controls",
     "model_module_version": "1.5.0",
     "model_name": "HTMLModel",
     "state": {
      "_dom_classes": [],
      "_model_module": "@jupyter-widgets/controls",
      "_model_module_version": "1.5.0",
      "_model_name": "HTMLModel",
      "_view_count": null,
      "_view_module": "@jupyter-widgets/controls",
      "_view_module_version": "1.5.0",
      "_view_name": "HTMLView",
      "description": "",
      "description_tooltip": null,
      "layout": "IPY_MODEL_89d601dd731e4538b524baa03b67dd34",
      "placeholder": "​",
      "style": "IPY_MODEL_ab04550a80ec4914937d16903ea5cc73",
      "value": "100%"
     }
    },
    "ba7d003efb8b4ba791043bf0e0af7df1": {
     "model_module": "@jupyter-widgets/controls",
     "model_module_version": "1.5.0",
     "model_name": "FloatProgressModel",
     "state": {
      "_dom_classes": [],
      "_model_module": "@jupyter-widgets/controls",
      "_model_module_version": "1.5.0",
      "_model_name": "FloatProgressModel",
      "_view_count": null,
      "_view_module": "@jupyter-widgets/controls",
      "_view_module_version": "1.5.0",
      "_view_name": "ProgressView",
      "bar_style": "success",
      "description": "",
      "description_tooltip": null,
      "layout": "IPY_MODEL_126b68c9ed524c6d983398434fec7750",
      "max": 20000,
      "min": 0,
      "orientation": "horizontal",
      "style": "IPY_MODEL_de7fb2d7dd1b4edf8dc5df8711361ab1",
      "value": 20000
     }
    },
    "be568628a84b4ad6a06c68de278d851e": {
     "model_module": "@jupyter-widgets/controls",
     "model_module_version": "1.5.0",
     "model_name": "DescriptionStyleModel",
     "state": {
      "_model_module": "@jupyter-widgets/controls",
      "_model_module_version": "1.5.0",
      "_model_name": "DescriptionStyleModel",
      "_view_count": null,
      "_view_module": "@jupyter-widgets/base",
      "_view_module_version": "1.2.0",
      "_view_name": "StyleView",
      "description_width": ""
     }
    },
    "c00a5b8d82d54c30803e7f6a26ba0322": {
     "model_module": "@jupyter-widgets/controls",
     "model_module_version": "1.5.0",
     "model_name": "FloatProgressModel",
     "state": {
      "_dom_classes": [],
      "_model_module": "@jupyter-widgets/controls",
      "_model_module_version": "1.5.0",
      "_model_name": "FloatProgressModel",
      "_view_count": null,
      "_view_module": "@jupyter-widgets/controls",
      "_view_module_version": "1.5.0",
      "_view_name": "ProgressView",
      "bar_style": "success",
      "description": "",
      "description_tooltip": null,
      "layout": "IPY_MODEL_a76c5a69f9184c0bb0763101e7fcc0ae",
      "max": 1000,
      "min": 0,
      "orientation": "horizontal",
      "style": "IPY_MODEL_7f2a9c443f8941d0b18d6d7f42c76ede",
      "value": 1000
     }
    },
    "c0183ca6bd2042f28e6460bb81ee56f3": {
     "model_module": "@jupyter-widgets/base",
     "model_module_version": "1.2.0",
     "model_name": "LayoutModel",
     "state": {
      "_model_module": "@jupyter-widgets/base",
      "_model_module_version": "1.2.0",
      "_model_name": "LayoutModel",
      "_view_count": null,
      "_view_module": "@jupyter-widgets/base",
      "_view_module_version": "1.2.0",
      "_view_name": "LayoutView",
      "align_content": null,
      "align_items": null,
      "align_self": null,
      "border": null,
      "bottom": null,
      "display": null,
      "flex": null,
      "flex_flow": null,
      "grid_area": null,
      "grid_auto_columns": null,
      "grid_auto_flow": null,
      "grid_auto_rows": null,
      "grid_column": null,
      "grid_gap": null,
      "grid_row": null,
      "grid_template_areas": null,
      "grid_template_columns": null,
      "grid_template_rows": null,
      "height": null,
      "justify_content": null,
      "justify_items": null,
      "left": null,
      "margin": null,
      "max_height": null,
      "max_width": null,
      "min_height": null,
      "min_width": null,
      "object_fit": null,
      "object_position": null,
      "order": null,
      "overflow": null,
      "overflow_x": null,
      "overflow_y": null,
      "padding": null,
      "right": null,
      "top": null,
      "visibility": null,
      "width": null
     }
    },
    "c9533715f3b645a2aedff135a9bdc733": {
     "model_module": "@jupyter-widgets/controls",
     "model_module_version": "1.5.0",
     "model_name": "DescriptionStyleModel",
     "state": {
      "_model_module": "@jupyter-widgets/controls",
      "_model_module_version": "1.5.0",
      "_model_name": "DescriptionStyleModel",
      "_view_count": null,
      "_view_module": "@jupyter-widgets/base",
      "_view_module_version": "1.2.0",
      "_view_name": "StyleView",
      "description_width": ""
     }
    },
    "d27361677e1643d3b9b7713f9e8033a7": {
     "model_module": "@jupyter-widgets/base",
     "model_module_version": "1.2.0",
     "model_name": "LayoutModel",
     "state": {
      "_model_module": "@jupyter-widgets/base",
      "_model_module_version": "1.2.0",
      "_model_name": "LayoutModel",
      "_view_count": null,
      "_view_module": "@jupyter-widgets/base",
      "_view_module_version": "1.2.0",
      "_view_name": "LayoutView",
      "align_content": null,
      "align_items": null,
      "align_self": null,
      "border": null,
      "bottom": null,
      "display": null,
      "flex": null,
      "flex_flow": null,
      "grid_area": null,
      "grid_auto_columns": null,
      "grid_auto_flow": null,
      "grid_auto_rows": null,
      "grid_column": null,
      "grid_gap": null,
      "grid_row": null,
      "grid_template_areas": null,
      "grid_template_columns": null,
      "grid_template_rows": null,
      "height": null,
      "justify_content": null,
      "justify_items": null,
      "left": null,
      "margin": null,
      "max_height": null,
      "max_width": null,
      "min_height": null,
      "min_width": null,
      "object_fit": null,
      "object_position": null,
      "order": null,
      "overflow": null,
      "overflow_x": null,
      "overflow_y": null,
      "padding": null,
      "right": null,
      "top": null,
      "visibility": null,
      "width": null
     }
    },
    "d4f9b65743064b0c80e573523aaafb19": {
     "model_module": "@jupyter-widgets/base",
     "model_module_version": "1.2.0",
     "model_name": "LayoutModel",
     "state": {
      "_model_module": "@jupyter-widgets/base",
      "_model_module_version": "1.2.0",
      "_model_name": "LayoutModel",
      "_view_count": null,
      "_view_module": "@jupyter-widgets/base",
      "_view_module_version": "1.2.0",
      "_view_name": "LayoutView",
      "align_content": null,
      "align_items": null,
      "align_self": null,
      "border": null,
      "bottom": null,
      "display": null,
      "flex": null,
      "flex_flow": null,
      "grid_area": null,
      "grid_auto_columns": null,
      "grid_auto_flow": null,
      "grid_auto_rows": null,
      "grid_column": null,
      "grid_gap": null,
      "grid_row": null,
      "grid_template_areas": null,
      "grid_template_columns": null,
      "grid_template_rows": null,
      "height": null,
      "justify_content": null,
      "justify_items": null,
      "left": null,
      "margin": null,
      "max_height": null,
      "max_width": null,
      "min_height": null,
      "min_width": null,
      "object_fit": null,
      "object_position": null,
      "order": null,
      "overflow": null,
      "overflow_x": null,
      "overflow_y": null,
      "padding": null,
      "right": null,
      "top": null,
      "visibility": null,
      "width": null
     }
    },
    "d65d74349ea8401584fcfae30b785a1a": {
     "model_module": "@jupyter-widgets/controls",
     "model_module_version": "1.5.0",
     "model_name": "DescriptionStyleModel",
     "state": {
      "_model_module": "@jupyter-widgets/controls",
      "_model_module_version": "1.5.0",
      "_model_name": "DescriptionStyleModel",
      "_view_count": null,
      "_view_module": "@jupyter-widgets/base",
      "_view_module_version": "1.2.0",
      "_view_name": "StyleView",
      "description_width": ""
     }
    },
    "d7ccda985a374d65a64f7c3ad8dc8feb": {
     "model_module": "@jupyter-widgets/controls",
     "model_module_version": "1.5.0",
     "model_name": "HBoxModel",
     "state": {
      "_dom_classes": [],
      "_model_module": "@jupyter-widgets/controls",
      "_model_module_version": "1.5.0",
      "_model_name": "HBoxModel",
      "_view_count": null,
      "_view_module": "@jupyter-widgets/controls",
      "_view_module_version": "1.5.0",
      "_view_name": "HBoxView",
      "box_style": "",
      "children": [
       "IPY_MODEL_ae0db86ec61e411a821fbf186123bb1c",
       "IPY_MODEL_ba7d003efb8b4ba791043bf0e0af7df1",
       "IPY_MODEL_365e1e153fd2492eb2a159722dfd4192"
      ],
      "layout": "IPY_MODEL_634647540302493ba3ba760e7abe817c"
     }
    },
    "dcd218f9711b4e9890d75883d017e3e4": {
     "model_module": "@jupyter-widgets/controls",
     "model_module_version": "1.5.0",
     "model_name": "HBoxModel",
     "state": {
      "_dom_classes": [],
      "_model_module": "@jupyter-widgets/controls",
      "_model_module_version": "1.5.0",
      "_model_name": "HBoxModel",
      "_view_count": null,
      "_view_module": "@jupyter-widgets/controls",
      "_view_module_version": "1.5.0",
      "_view_name": "HBoxView",
      "box_style": "",
      "children": [
       "IPY_MODEL_102cecdfcc5d47ada76435d97ac573ed",
       "IPY_MODEL_c00a5b8d82d54c30803e7f6a26ba0322",
       "IPY_MODEL_99784348358c41e599f210f16b9fc648"
      ],
      "layout": "IPY_MODEL_108c385f845c4b09a8486aac1d0a4589"
     }
    },
    "de7fb2d7dd1b4edf8dc5df8711361ab1": {
     "model_module": "@jupyter-widgets/controls",
     "model_module_version": "1.5.0",
     "model_name": "ProgressStyleModel",
     "state": {
      "_model_module": "@jupyter-widgets/controls",
      "_model_module_version": "1.5.0",
      "_model_name": "ProgressStyleModel",
      "_view_count": null,
      "_view_module": "@jupyter-widgets/base",
      "_view_module_version": "1.2.0",
      "_view_name": "StyleView",
      "bar_color": null,
      "description_width": ""
     }
    },
    "fa684dfe7f9d4e78b2f966a02ac64911": {
     "model_module": "@jupyter-widgets/base",
     "model_module_version": "1.2.0",
     "model_name": "LayoutModel",
     "state": {
      "_model_module": "@jupyter-widgets/base",
      "_model_module_version": "1.2.0",
      "_model_name": "LayoutModel",
      "_view_count": null,
      "_view_module": "@jupyter-widgets/base",
      "_view_module_version": "1.2.0",
      "_view_name": "LayoutView",
      "align_content": null,
      "align_items": null,
      "align_self": null,
      "border": null,
      "bottom": null,
      "display": null,
      "flex": null,
      "flex_flow": null,
      "grid_area": null,
      "grid_auto_columns": null,
      "grid_auto_flow": null,
      "grid_auto_rows": null,
      "grid_column": null,
      "grid_gap": null,
      "grid_row": null,
      "grid_template_areas": null,
      "grid_template_columns": null,
      "grid_template_rows": null,
      "height": null,
      "justify_content": null,
      "justify_items": null,
      "left": null,
      "margin": null,
      "max_height": null,
      "max_width": null,
      "min_height": null,
      "min_width": null,
      "object_fit": null,
      "object_position": null,
      "order": null,
      "overflow": null,
      "overflow_x": null,
      "overflow_y": null,
      "padding": null,
      "right": null,
      "top": null,
      "visibility": null,
      "width": null
     }
    },
    "fd39de5b77054f8d8a2263f3519bc476": {
     "model_module": "@jupyter-widgets/base",
     "model_module_version": "1.2.0",
     "model_name": "LayoutModel",
     "state": {
      "_model_module": "@jupyter-widgets/base",
      "_model_module_version": "1.2.0",
      "_model_name": "LayoutModel",
      "_view_count": null,
      "_view_module": "@jupyter-widgets/base",
      "_view_module_version": "1.2.0",
      "_view_name": "LayoutView",
      "align_content": null,
      "align_items": null,
      "align_self": null,
      "border": null,
      "bottom": null,
      "display": null,
      "flex": null,
      "flex_flow": null,
      "grid_area": null,
      "grid_auto_columns": null,
      "grid_auto_flow": null,
      "grid_auto_rows": null,
      "grid_column": null,
      "grid_gap": null,
      "grid_row": null,
      "grid_template_areas": null,
      "grid_template_columns": null,
      "grid_template_rows": null,
      "height": null,
      "justify_content": null,
      "justify_items": null,
      "left": null,
      "margin": null,
      "max_height": null,
      "max_width": null,
      "min_height": null,
      "min_width": null,
      "object_fit": null,
      "object_position": null,
      "order": null,
      "overflow": null,
      "overflow_x": null,
      "overflow_y": null,
      "padding": null,
      "right": null,
      "top": null,
      "visibility": null,
      "width": null
     }
    }
   }
  }
 },
 "nbformat": 4,
 "nbformat_minor": 4
}
