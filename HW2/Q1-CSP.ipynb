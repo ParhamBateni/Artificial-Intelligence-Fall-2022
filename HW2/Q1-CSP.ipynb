{
 "cells": [
  {
   "cell_type": "markdown",
   "id": "2127cb62-b50d-4a6c-bcd8-ba3c36a38c2c",
   "metadata": {},
   "source": [
    "<div align=center>\n",
    "\t\t\n",
    "<font size=5>\n",
    "In the Name of God\n",
    "<font/>\n",
    "<p></p>\n",
    "<br/>\n",
    "<br/>\n",
    "<font color=#FF7500>\n",
    "Sharif University of Technology - Departmenet of Computer Engineering\n",
    "</font>\n",
    "<p></p>\n",
    "<font color=blue>\n",
    "Artifical Intelligence - Dr. Mahdieh Soleimani\n",
    "</font>\n",
    "<br/>\n",
    "<br/>\n",
    "Fall 2022\n",
    "\n",
    "<hr/>\n",
    "<font color=red>\n",
    "CSP Assignment (20 points)\n",
    "</font>\n",
    "</div>"
   ]
  },
  {
   "cell_type": "markdown",
   "id": "0efe3d56-5d24-4136-9e78-b996b8874bbc",
   "metadata": {},
   "source": [
    "In this assignment you will solve a CSP."
   ]
  },
  {
   "cell_type": "code",
   "execution_count": 1,
   "id": "3c615b32-d11f-404d-8869-4aa1f68beaee",
   "metadata": {},
   "outputs": [],
   "source": [
    "# do not import other packages for this assignment\n",
    "import numpy as np"
   ]
  },
  {
   "cell_type": "markdown",
   "id": "0aead2b5-4b87-4838-b3ba-72e4237885ef",
   "metadata": {},
   "source": [
    "In this problem, you're gonna be in role of a party host and your task is to manage the dinner table setup. You have to fill the dishes and determine the guests' seats. You can see the table schema in the following picture. "
   ]
  },
  {
   "cell_type": "markdown",
   "id": "97194564",
   "metadata": {},
   "source": [
    "<img src=\"CSP.jpg\" width=\"800\"/>\n",
    "  - There will be $n$ dishes and $2n$ guests. <br/>\n",
    "  - Each dish will be filled with a specific kind of food. <br/>"
   ]
  },
  {
   "cell_type": "markdown",
   "id": "c62edb7d",
   "metadata": {},
   "source": [
    "<h1> Constraints </h1>\n",
    "- Each dish will be filled with a specific kind of food. <br/>\n",
    "- Each guest likes certain foods and won't eat other foods. <br/>\n",
    "- The guests won't be able to move the dishes but they can pass food to each other (Seat j can pass food to seat j-1 and seat j+1. e.g: seat 3 can pass food to seat 2 and seat 4 so if seat 5 wants the food in dish 3, first, the food should be passed to seat 4 and then to seat 5). <br/>\n",
    "<h2>The big problem is ... </h2>\n",
    "- Some of the guests have conflicts with others (direction is important). If they sit next to these guests, they won't pass food to them (In previous example, if person in seat 4 had conflict with person in seat 5, person in seat 4 would't pass food to him). <br/>"
   ]
  },
  {
   "cell_type": "markdown",
   "id": "c4364779-f542-48d1-aa2b-34d5971feec4",
   "metadata": {},
   "source": [
    "<h1> Goal </h1>\n",
    "Yout goal is to determine the guests' seats in a way that no one leaves your party, hungry.\n",
    " <h1>Note</h1>\n",
    "  - You must implement and use AC-3 algorithm. <br/>\n",
    "  - You will probably need to utilize the heuristic algorithms you have learned (e.g. MRV and LCV) or consider nearly tree-structured graphs approach in order to pass all tests in an appropriate time."
   ]
  },
  {
   "cell_type": "markdown",
   "id": "bc8880c3",
   "metadata": {},
   "source": [
    "## Input\n",
    "  - The first line consists of $N$ (count of dishes)\n",
    "  - In the following $2N$ lines, the $i$ th line ($1 \\le i \\le 2N$) is a list of preferred foods for the $i$ th guest (separated by space).\n",
    "  - In the next line, $M$, the total number of exit constraints (conflicts between 2 guest) are given.\n",
    "  - in each of the following $M$ lines, a pair of numbers (separated by space) is given (direction is important e.g: \"1 4\" means that guest 1 has conflict with guest 4 but the reverse is not necessarily true).\n",
    "$$1 \\le N \\le 50$$\n",
    "\n",
    "## Output\n",
    "In the only line, print:\n",
    "  - list of one appropriate assignment ordered by guest number (separated by space).\n",
    "  - `NO` if there is no solution."
   ]
  },
  {
   "cell_type": "code",
   "execution_count": 3,
   "id": "20d07086-c235-4fc0-ab4f-32b2cc54a113",
   "metadata": {},
   "outputs": [
    {
     "name": "stdout",
     "output_type": "stream",
     "text": [
      "2\n",
      "1 2\n",
      "2\n",
      "1\n",
      "1 2\n",
      "1\n",
      "1 4\n"
     ]
    }
   ],
   "source": [
    "N=int(input())\n",
    "prefered_foods=[]\n",
    "for _ in range(2*N):\n",
    "    prefered_foods.append(list(map(int,input().split())))\n",
    "M=int(input())\n",
    "conflicts={}\n",
    "for _ in range(M):\n",
    "    c0,c1=list(map(int,input().split()))\n",
    "    if conflicts.get(c0) is None:\n",
    "        conflicts[c0]=[c1]\n",
    "    else:\n",
    "        conflicts[c0].append(c1)"
   ]
  },
  {
   "cell_type": "code",
   "execution_count": 4,
   "id": "9df776c5",
   "metadata": {},
   "outputs": [
    {
     "name": "stdout",
     "output_type": "stream",
     "text": [
      "[[1, 2], [2], [1], [1, 2]]\n"
     ]
    }
   ],
   "source": [
    "print(prefered_foods)"
   ]
  },
  {
   "cell_type": "code",
   "execution_count": 5,
   "id": "778c7d82",
   "metadata": {},
   "outputs": [
    {
     "name": "stdout",
     "output_type": "stream",
     "text": [
      "{1: [4]}\n"
     ]
    }
   ],
   "source": [
    "print(conflicts)"
   ]
  },
  {
   "cell_type": "code",
   "execution_count": null,
   "id": "786d5bcd",
   "metadata": {},
   "outputs": [],
   "source": []
  }
 ],
 "metadata": {
  "kernelspec": {
   "display_name": "Python 3 (ipykernel)",
   "language": "python",
   "name": "python3"
  },
  "language_info": {
   "codemirror_mode": {
    "name": "ipython",
    "version": 3
   },
   "file_extension": ".py",
   "mimetype": "text/x-python",
   "name": "python",
   "nbconvert_exporter": "python",
   "pygments_lexer": "ipython3",
   "version": "3.8.5"
  }
 },
 "nbformat": 4,
 "nbformat_minor": 5
}
