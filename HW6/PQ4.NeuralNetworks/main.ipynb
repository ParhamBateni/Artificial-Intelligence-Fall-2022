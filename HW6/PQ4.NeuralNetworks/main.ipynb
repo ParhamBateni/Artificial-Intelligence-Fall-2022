{
 "cells": [
  {
   "cell_type": "markdown",
   "id": "fb374666",
   "metadata": {},
   "source": [
    "<center>\n",
    "In God We Trust\n",
    "</center>"
   ]
  },
  {
   "cell_type": "markdown",
   "id": "0370e29f",
   "metadata": {},
   "source": [
    "# CE417: Artificial Intelligence\n",
    "\n",
    "Dr. Mahdiyeh Soleymani Baghshah, Associate Professor\n",
    "\n",
    "Computer Engineering Department,\n",
    "Sharif University of Technology,\n",
    "Tehran, Tehran, Iran\n"
   ]
  },
  {
   "cell_type": "markdown",
   "id": "0ae94a10",
   "metadata": {},
   "source": [
    "### Name: Parham Bateni\n",
    "### Student number: 99105294"
   ]
  },
  {
   "cell_type": "markdown",
   "id": "74463d06-3320-48b6-b189-c1eb3819ef06",
   "metadata": {},
   "source": [
    "# MLP MNIST CLassifier (20 Points)\n",
    "\n",
    "Corresponding TA: Parham Saremi, Aryan Ahadinia\n",
    "\n",
    "In this question we aim to implement dense neural network from base and train a model for MNIST classification with that. MNIST is a set of 28 by 28 pixels images of handwritten digits. In this problem, you are going to implement neural network using NumPy. You are NOT PERMITTED to use any libraries except NumPy.\n",
    "\n",
    "**Required features of the model**:\n",
    "Your implementation should be parametrized and dynamic meaning that your MLP must be instantiated with any number of layers and dimension size for the layers. \n",
    "\n",
    "**NOTE**: Most of your score is for your implementation and the existence and the quality of your results (Final numbers doesn't matter that much but your model's ability to learn is important).\n",
    "\n",
    "**NOTE**: your module's logic must be implemented in NumPy without any python's for loops (or while loops :)). However, you can use for loops for iterating on different layers.\n"
   ]
  },
  {
   "cell_type": "code",
   "execution_count": 1,
   "id": "0f28c2e6",
   "metadata": {},
   "outputs": [],
   "source": [
    "# You are denied to add any other packages.\n",
    "\n",
    "from abc import abstractmethod\n",
    "import numpy as np\n",
    "from tqdm import tqdm\n"
   ]
  },
  {
   "cell_type": "markdown",
   "id": "52df87d8",
   "metadata": {},
   "source": [
    "## Loss Function (3 Points)\n",
    "\n",
    "Loss function is one of the most important part of most of the ML methods. In this part, we want to implement loss function. We implemented an abstract class for loss function `LossFunction`. In following cells, you have to implement Mean Squared Error, Mean Absolute Error and Cross Entropy Loss. You have to implement `forward` and `backward` methods.\n",
    "\n",
    "Hint: You must save some variables as a field in the class instance in `forward` call. You are going to need them in ‍`backward` call to calculate gradient.\n"
   ]
  },
  {
   "cell_type": "code",
   "execution_count": 2,
   "id": "a553f79d",
   "metadata": {},
   "outputs": [],
   "source": [
    "class LossFunction:\n",
    "    @abstractmethod\n",
    "    def forward(self, y_hat, y):\n",
    "        raise NotImplementedError\n",
    "\n",
    "    @abstractmethod\n",
    "    def backward(self,upstream):\n",
    "        raise NotImplementedError\n"
   ]
  },
  {
   "cell_type": "code",
   "execution_count": 5,
   "id": "5d6405e3",
   "metadata": {},
   "outputs": [],
   "source": [
    "class MeanSquaredError(LossFunction):\n",
    "    def forward(self, y_hat, y):\n",
    "        # Hint: Saving some fields for backward\n",
    "        # y and y_hat are batch matrices each row corresponding to one sample\n",
    "        self.m = y.shape[1]\n",
    "        self.y_hat = y_hat\n",
    "        self.y = y\n",
    "        ###################################\n",
    "        ############ CODE HERE ############\n",
    "        ###################################\n",
    "        return sum(np.mean(np.power(y-y_hat,2),axis=1))\n",
    "\n",
    "    def backward(self,upstream):\n",
    "        ###################################\n",
    "        ############ CODE HERE ############\n",
    "        ###################################\n",
    "        # y and y_hat are batch matrices each row corresponding to one sample\n",
    "        # upstream : gradient of loss w.r.t model output\n",
    "        return 2/self.m*(self.y_hat-self.y)*upstream\n",
    "\n",
    "    def __repr__(self):\n",
    "        return \"Mean Squared Error\"\n",
    "\n",
    "    def __str__(self):\n",
    "        return self.__repr__()\n"
   ]
  },
  {
   "cell_type": "code",
   "execution_count": 10,
   "id": "8e4ba1b1",
   "metadata": {},
   "outputs": [
    {
     "name": "stdout",
     "output_type": "stream",
     "text": [
      "7.5\n",
      "[[ 0. -1.]\n",
      " [ 3.  0.]\n",
      " [-1.  2.]]\n"
     ]
    }
   ],
   "source": [
    "# Test MeanSquaredError\n",
    "test=MeanSquaredError()\n",
    "y=np.array([[0,2],[-1,1],[1,0]])\n",
    "y_hat=np.array([[0,1],[2,1],[0,2]])\n",
    "print(test.forward(y_hat,y))\n",
    "print(test.backward(1))"
   ]
  },
  {
   "cell_type": "code",
   "execution_count": 11,
   "id": "fda0f3b1",
   "metadata": {},
   "outputs": [],
   "source": [
    "class MeanAbsoluteError(LossFunction):\n",
    "    def forward(self, y_hat, y):\n",
    "        self.m = y.shape[1]\n",
    "        self.y_hat = y_hat\n",
    "        self.y = y\n",
    "        ###################################\n",
    "        ############ CODE HERE ############\n",
    "        ###################################\n",
    "        # y and y_hat are batch matrices each row corresponding to one sample\n",
    "        return sum(np.mean(np.abs(y_hat-y),axis=1))\n",
    "\n",
    "    def backward(self,upstream):\n",
    "        ###################################\n",
    "        ############ CODE HERE ############\n",
    "        ###################################\n",
    "        # y and y_hat are batch matrices each row corresponding to one sample\n",
    "        return -np.sign(self.y-self.y_hat)/self.m*upstream\n",
    "\n",
    "    def __repr__(self):\n",
    "        return \"Mean Absolute Error\"\n",
    "\n",
    "    def __str__(self):\n",
    "        return self.__repr__()\n"
   ]
  },
  {
   "cell_type": "code",
   "execution_count": 12,
   "id": "4e8d27a7",
   "metadata": {},
   "outputs": [
    {
     "name": "stdout",
     "output_type": "stream",
     "text": [
      "3.5\n",
      "[[ 0.  -0.5]\n",
      " [ 0.5  0. ]\n",
      " [-0.5  0.5]]\n"
     ]
    }
   ],
   "source": [
    "# Test MeanAbsoluteError\n",
    "test=MeanAbsoluteError()\n",
    "y=np.array([[0,2],[-1,1],[1,0]])\n",
    "y_hat=np.array([[0,1],[2,1],[0,2]])\n",
    "print(test.forward(y_hat,y))\n",
    "print(test.backward(np.array(1)))"
   ]
  },
  {
   "cell_type": "code",
   "execution_count": 337,
   "id": "38afe418",
   "metadata": {},
   "outputs": [],
   "source": [
    "# class CrossEntropyLoss(LossFunction):\n",
    "#     def forward(self, y_hat, y):\n",
    "#         self.y_hat = y_hat\n",
    "#         self.y = y\n",
    "#         ###################################\n",
    "#         ############ CODE HERE ############\n",
    "#         ###################################\n",
    "#         # y and y_hat are batch matrices each row corresponding to one sample\n",
    "#         # We add epsilon in case x is zero in the log(x)\n",
    "#         targets_matrix=np.zeros_like(y_hat)\n",
    "#         for i in range(len(y)):\n",
    "#             targets_matrix[i][y[i]]=1\n",
    "#         self.targets_matrix=targets_matrix\n",
    "#         epsilon=10e-10\n",
    "#         return -sum(np.diag(np.dot(np.log(y_hat+epsilon),targets_matrix.T)))\n",
    "\n",
    "#     def backward(self,upstream):\n",
    "#         ###################################\n",
    "#         ############ CODE HERE ############\n",
    "#         ###################################\n",
    "#         # y and y_hat are batch matrices each row corresponding to one sample\n",
    "#         epsilon=10e-10\n",
    "# #         return -self.y*upstream\n",
    "#         return -self.targets_matrix/(self.y_hat+epsilon)*upstream\n",
    "\n",
    "\n"
   ]
  },
  {
   "cell_type": "code",
   "execution_count": 392,
   "id": "9189bfff",
   "metadata": {},
   "outputs": [],
   "source": [
    "class CrossEntropyLoss(LossFunction):\n",
    "    def forward(self, logprobs, targets):\n",
    "        \"\"\"\n",
    "        Calculate cross entropy of inputs.\n",
    "\n",
    "        Args:\n",
    "            probs : matrix of probabilities with shape (b,n)\n",
    "            targets : list of samples classes with shape (b,)\n",
    "\n",
    "        Returns:\n",
    "            y : cross entropy loss\n",
    "        \"\"\"\n",
    "        targets_matrix=np.zeros_like(logprobs)\n",
    "        for i in range(len(targets)):\n",
    "            targets_matrix[i][targets[i]]=1\n",
    "        self.targets_matrix=targets_matrix\n",
    "        y=-logprobs.dot(targets_matrix.T).diagonal()\n",
    "        \n",
    "        return np.sum(y)\n",
    "\n",
    "    def backward(self, upstream):\n",
    "        \"\"\"\n",
    "        Calculate gradient of loss w.r.t module input and save them in grads.\n",
    "\n",
    "        Args:\n",
    "            upstream : gradient of loss w.r.t module output (loss)\n",
    "        \"\"\"\n",
    "        self.grad_x = -self.targets_matrix*upstream\n",
    "        return self.grad_x\n",
    "    def __repr__(self):\n",
    "        return \"Cross Entropy Loss\"\n",
    "\n",
    "    def __str__(self):\n",
    "        return self.__repr__()"
   ]
  },
  {
   "cell_type": "code",
   "execution_count": 376,
   "id": "0f9fc71c",
   "metadata": {},
   "outputs": [],
   "source": [
    "# def check_gradient_ce(ce, h=0.0001):\n",
    "#     np.random.seed(123123)\n",
    "#     target = np.random.randint(5, size=10)\n",
    "#     probs = np.random.random(size=(10, 5))\n",
    "#     upstream = 1\n",
    "\n",
    "#     new_probs = probs + h\n",
    "#     new_val = ce.forward(new_probs, target)\n",
    "#     old_val = ce.forward(probs, target)\n",
    "#     delta_output = new_val - old_val\n",
    "#     delta_loss_indirect = np.sum(delta_output * upstream)\n",
    "#     grad_x=ce.backward(upstream)\n",
    "#     delta_loss_direct = np.sum(h * grad_x)\n",
    "\n",
    "#     print(f'Gradient of loss w.r.t output:\\n{upstream}')\n",
    "#     print(f\"Gradient of loss w.r.t input:\\n{grad_x}\")\n",
    "#     print(f'Relative error of delta-loss:\\n{rel_error(delta_loss_indirect, delta_loss_direct)}')"
   ]
  },
  {
   "cell_type": "code",
   "execution_count": 377,
   "id": "743bd624",
   "metadata": {},
   "outputs": [],
   "source": [
    "# ce = CrossEntropyLoss()\n",
    "# check_gradient_ce(ce, h=0.0001)"
   ]
  },
  {
   "cell_type": "code",
   "execution_count": 379,
   "id": "298c3e31",
   "metadata": {},
   "outputs": [
    {
     "name": "stdout",
     "output_type": "stream",
     "text": [
      "-2.6\n",
      "[[-0. -0. -1.]\n",
      " [-0. -1. -0.]\n",
      " [-1. -0. -0.]]\n"
     ]
    }
   ],
   "source": [
    "test=CrossEntropyLoss()\n",
    "y=np.array([2,1,0])\n",
    "y_hat=np.array([[0.1,0.2,0.7],[0.1,0.9,0],[1,0,0]])\n",
    "print(test.forward(y_hat,y))\n",
    "print(test.backward(np.array(1)))"
   ]
  },
  {
   "cell_type": "markdown",
   "id": "5ab75c2f",
   "metadata": {},
   "source": [
    "## Activation Functions (3 Points)\n",
    "\n",
    "Now we are going to implement some activation functions. We will implement the following activation functions: Sigmoid, Leaky ReLU, and Softmax. You have to implement both forward and backward methods for this class.\n"
   ]
  },
  {
   "cell_type": "code",
   "execution_count": 17,
   "id": "50305a98",
   "metadata": {},
   "outputs": [],
   "source": [
    "class ActivationFunction:\n",
    "    @abstractmethod\n",
    "    def forward(self, x):\n",
    "        raise NotImplementedError\n",
    "\n",
    "    @abstractmethod\n",
    "    def backward(self,upstream):\n",
    "        raise NotImplementedError\n"
   ]
  },
  {
   "cell_type": "code",
   "execution_count": 380,
   "id": "abbed3c8",
   "metadata": {},
   "outputs": [],
   "source": [
    "class Sigmoid(ActivationFunction):\n",
    "    def forward(self, x):\n",
    "        self.x = x\n",
    "        ###################################\n",
    "        ############ CODE HERE ############\n",
    "        ###################################\n",
    "        # x is a batch of data and is in shape (batch_size*784)\n",
    "        self.sig=1/(1+np.exp(-x))\n",
    "        return self.sig\n",
    "\n",
    "    def backward(self,upstream):\n",
    "        ###################################\n",
    "        ############ CODE HERE ############\n",
    "        ###################################\n",
    "        # x is a batch of data and is in shape (batch_size*784)\n",
    "        # upstream: [[d_L/d_y11, d_L,d_y12, ..., d_L/d_y1m], ...]\n",
    "        return self.sig*(1-self.sig)*upstream\n",
    "\n",
    "    def __repr__(self) -> str:\n",
    "        return \"Sigmoid\"\n",
    "\n",
    "    def __str__(self) -> str:\n",
    "        return self.__repr__()\n"
   ]
  },
  {
   "cell_type": "code",
   "execution_count": 381,
   "id": "c420da52",
   "metadata": {},
   "outputs": [
    {
     "name": "stdout",
     "output_type": "stream",
     "text": [
      "[[0.5        0.73105858]\n",
      " [0.88079708 0.73105858]\n",
      " [0.5        0.88079708]]\n",
      "[[ 0.         -0.09830597]\n",
      " [ 0.05249679  0.        ]\n",
      " [-0.125       0.05249679]]\n"
     ]
    }
   ],
   "source": [
    "# Test Sigmoid\n",
    "test=Sigmoid()\n",
    "y=np.array([[0,1],[2,1],[0,2]])\n",
    "print(test.forward(y))\n",
    "upstream=np.array([[ 0.,-0.5],[ 0.5,0. ],[-0.5,0.5]])\n",
    "print(test.backward(upstream))"
   ]
  },
  {
   "cell_type": "code",
   "execution_count": 382,
   "id": "a1d9f11f",
   "metadata": {},
   "outputs": [],
   "source": [
    "class LeakyReLU(ActivationFunction):\n",
    "    def __init__(self, alpha=0.01):\n",
    "        self.alpha = alpha\n",
    "\n",
    "    def forward(self, x):\n",
    "        self.x = x\n",
    "        ###################################\n",
    "        ############ CODE HERE ############\n",
    "        ###################################\n",
    "        # x is a batch of data and is in shape (batch_size*784)\n",
    "        return np.maximum(x,self.alpha*x)\n",
    "\n",
    "    def backward(self,upstream):\n",
    "        ###################################\n",
    "        ############ CODE HERE ############\n",
    "        ###################################\n",
    "        # x is a batch of data and is in shape (batch_size*784)\n",
    "        # upstream: [[d_L/d_y11, d_L,d_y12, ..., d_L/d_y1m], ...]\n",
    "        grad_x=upstream.copy()\n",
    "        grad_x[self.x<0]=self.alpha*grad_x[self.x<0]\n",
    "        return grad_x\n",
    "\n",
    "    def __repr__(self) -> str:\n",
    "        return \"Leaky ReLU\"\n",
    "\n",
    "    def __str__(self) -> str:\n",
    "        return self.__repr__()\n"
   ]
  },
  {
   "cell_type": "code",
   "execution_count": 383,
   "id": "09e04c11",
   "metadata": {},
   "outputs": [
    {
     "name": "stdout",
     "output_type": "stream",
     "text": [
      "[[ 0.    2.  ]\n",
      " [-0.01  1.  ]\n",
      " [ 1.   -0.02]]\n",
      "[[ 0.    -0.5  ]\n",
      " [ 0.005  0.   ]\n",
      " [-0.5    0.005]]\n"
     ]
    }
   ],
   "source": [
    "# Test LeakyReLU\n",
    "test=LeakyReLU()\n",
    "y=np.array([[0,2],[-1,1],[1,-2]])\n",
    "print(test.forward(y))\n",
    "upstream=np.array([[ 0.,-0.5],[ 0.5,0. ],[-0.5,0.5]])\n",
    "print(test.backward(upstream))\n"
   ]
  },
  {
   "cell_type": "code",
   "execution_count": 384,
   "id": "9b5578de",
   "metadata": {},
   "outputs": [
    {
     "name": "stdout",
     "output_type": "stream",
     "text": [
      "[[1 2 3]\n",
      " [4 5 6]]\n",
      "[[-2.40760596 -1.40760596 -0.40760596]\n",
      " [-2.40760596 -1.40760596 -0.40760596]]\n"
     ]
    }
   ],
   "source": [
    "def logsumexp(array, axis=1):\n",
    "    \"\"\"\n",
    "    calculate log(sum(exp(array))) using np.logaddexp\n",
    "\n",
    "    Args:\n",
    "        array : input array\n",
    "        axis : reduce axis, 1 means columns and 0 means rows\n",
    "    \"\"\"\n",
    "    if len(array)==1:\n",
    "        return array\n",
    "    t_array=array.copy() if axis==1 else array.T.copy()\n",
    "    sums=[]\n",
    "    for row in t_array:\n",
    "        s=float('-inf')\n",
    "        for num in row:\n",
    "            s=np.logaddexp(s,num)\n",
    "        sums.append(s)\n",
    "    t_array=t_array-np.array(sums).reshape(-1,1).dot(np.ones((1,t_array.shape[1])))\n",
    "    return t_array if axis==1 else t_array.T\n",
    "test=np.array([[1,2,3],[4,5,6]])\n",
    "print(test)\n",
    "print(logsumexp(test,axis=1))"
   ]
  },
  {
   "cell_type": "code",
   "execution_count": 385,
   "id": "63300eb3",
   "metadata": {},
   "outputs": [],
   "source": [
    "class LogSoftMax(ActivationFunction):\n",
    "    def __init__(self):\n",
    "        self.cache = dict()\n",
    "        self.grads = dict()\n",
    "\n",
    "    def forward(self, x):\n",
    "        \"\"\"\n",
    "        get x and calculate softmax of that.\n",
    "\n",
    "        Args:\n",
    "            x : batch of data with shape (b,m)\n",
    "\n",
    "        Returns:\n",
    "            y : log softmax of x with shape (b,m)\n",
    "        \"\"\"\n",
    "        y = logsumexp(x,axis=1)\n",
    "        self.cache['y']=y\n",
    "        return y\n",
    "\n",
    "    def backward(self, upstream):\n",
    "        \"\"\"\n",
    "        calculate gradient of loss w.r.t module input and save that in grads.\n",
    "\n",
    "        Args:\n",
    "            upstream : gradient of loss w.r.t module output with sahpe (b,m)\n",
    "        \"\"\"\n",
    "        # grad_x: [[d_L/d_x11, d_L/d_x12, ..., d_L/d_x1m], ...]\n",
    "        # upstream: [[d_L/d_y11, d_L,d_y12, ..., d_L/d_y1m], ...]\n",
    "        # z1=log(sum(exp(x11),exp(x12),...,exp(x1m))), ..., zm=log(sum(xb1,xb2,...,xbm))\n",
    "        # y=[[x11-z1,x12-z1,...,x1m-z1],..., [xb1-zb,xb2-zb,...,xbm-zb]] = [[y11,y12,...y1m],...,[yb1,yb2,...,ybm]]\n",
    "        # -> d_L/d_x11=d_L/d_y11 * d_y11/d_x11 + d_L/d_y12 * d_y12/d_x11 + ...\n",
    "        # -> d_L/d_x11=d_L/d_y11 * (1-exp(x11)/sum(exp(x11),...,exp(x1m))) - d_L/d_y12 * exp(x11)/sum(exp(x11),...,exp(x1m)) - ...\n",
    "        # -> d_L/d_x11=-(exp(x11)/sum(exp(x11),...,exp(x1m)))*(d_L/d_y11+...d_L/d_y1m) + d_L/d_y11\n",
    "        # -> d_L/d_x11=-(exp(x11-z1))*(d_L/d_y11+...+d_L/d_y1m) + d_L/d_y11\n",
    "#         print('upstream in logsoftmax is:\\n', upstream)\n",
    "        self.grad_x = -np.exp(self.cache['y'])*np.sum(upstream,axis=1).reshape(-1,1)+upstream\n",
    "        return self.grad_x\n",
    "\n",
    "    def __repr__(self) -> str:\n",
    "        return \"LogSoftMax\"\n",
    "    def __str__(self) -> str:\n",
    "        return self.__repr__()\n"
   ]
  },
  {
   "cell_type": "code",
   "execution_count": 350,
   "id": "ca98ec03",
   "metadata": {},
   "outputs": [],
   "source": [
    "# class Softmax(ActivationFunction):\n",
    "#     def forward(self, x):\n",
    "#         self.x = x\n",
    "#         ###################################\n",
    "#         ############ CODE HERE ############\n",
    "#         ###################################\n",
    "#         # x is a batch of data and is in shape (batch_size*784)\n",
    "#         self.sof=np.exp(x)/(np.dot(np.sum(np.exp(x),axis=1).reshape((-1,1)),np.ones((1,x.shape[1]))))\n",
    "#         return self.sof\n",
    "\n",
    "#     def backward(self,upstream):\n",
    "#         ###################################\n",
    "#         ############ CODE HERE ############\n",
    "#         ###################################\n",
    "#         # x is a batch of data and is in shape (batch_size*784)\n",
    "#         # upstream: [[d_L/d_y11, d_L,d_y12, ..., d_L/d_y1m], ...]\n",
    "#         # y=[[y11,y12,...y1m],...,[yb1,yb2,...,ybm]]\n",
    "#         # -> d_L/d_x11=d_L/d_y11 * d_y11/d_x11 + d_L/d_y12 * d_y12/d_x11 + ...\n",
    "#         # -> d_L/d_x11=d_L/d_y11 * (1-exp(x11)/sum(exp(x11),...,exp(x1m))) - d_L/d_y12 * exp(x11)/sum(exp(x11),...,exp(x1m)) - ...\n",
    "#         # -> d_L/d_x11=-(exp(x11)/sum(exp(x11),...,exp(x1m)))*(d_L/d_y11+...d_L/d_y1m) + d_L/d_y11\n",
    "#         grad_x = -self.sof*np.sum(upstream,axis=1).reshape(-1,1)+upstream\n",
    "#         return grad_x\n",
    "#     def __repr__(self) -> str:\n",
    "#         return \"Softmax\"\n",
    "\n",
    "#     def __str__(self) -> str:\n",
    "#         return self.__repr__()\n"
   ]
  },
  {
   "cell_type": "code",
   "execution_count": 354,
   "id": "835d9e53",
   "metadata": {},
   "outputs": [],
   "source": [
    "# def rel_error(x, y):\n",
    "#     return np.max(np.abs(x - y) / (np.maximum(1e-8, np.abs(x) + np.abs(y))))\n",
    "# def check_gradient_softmax(sm, h=0.0001):\n",
    "#     np.random.seed(321321)\n",
    "#     x = np.random.random(size=(10, 5))\n",
    "#     upstream = np.random.random(size=(10, 5))\n",
    "\n",
    "#     new_x = x + h\n",
    "#     new_val = sm.forward(new_x)\n",
    "#     old_val = sm.forward(x)\n",
    "#     delta_output = new_val - old_val\n",
    "#     delta_loss_indirect = np.sum(delta_output * upstream)\n",
    "#     grad_x=sm.backward(upstream)\n",
    "#     delta_loss_direct = np.sum(h * grad_x)\n",
    "#     print(f'Gradient of loss w.r.t output:\\n{upstream}')\n",
    "#     print(f\"Gradient of loss w.r.t input:\\n{grad_x}\")\n",
    "#     print(f'Relative error of delta-loss:\\n{rel_error(delta_loss_indirect, delta_loss_direct)}')\n",
    "    "
   ]
  },
  {
   "cell_type": "code",
   "execution_count": 355,
   "id": "ce5ae230",
   "metadata": {},
   "outputs": [],
   "source": [
    "# sm=LogSoftMax()\n",
    "# check_gradient_softmax(sm)"
   ]
  },
  {
   "cell_type": "code",
   "execution_count": 24,
   "id": "55d90ba4",
   "metadata": {},
   "outputs": [
    {
     "name": "stdout",
     "output_type": "stream",
     "text": [
      "[[0.11920292 0.88079708]\n",
      " [0.11920292 0.88079708]\n",
      " [0.73105858 0.26894142]]\n",
      "[[ 0.05960146 -0.05960146]\n",
      " [ 0.44039854 -0.44039854]\n",
      " [-0.5         0.5       ]]\n"
     ]
    }
   ],
   "source": [
    "# Test Softmax\n",
    "test=Softmax()\n",
    "y=np.array([[0,2],[-1,1],[1,0]])\n",
    "print(test.forward(y))\n",
    "upstream=np.array([[ 0.,-0.5],[ 0.5,0. ],[-0.5,0.5]])\n",
    "print(test.backward(upstream))"
   ]
  },
  {
   "cell_type": "markdown",
   "id": "c5c87086",
   "metadata": {},
   "source": [
    "## Dense Layer (4 Points)\n",
    "\n",
    "Now it's the time to implement a single dense layer. Each dense layer has an an input vector and output vector size and an activation function. You have to implement two methods: `forward` and `backward`.\n",
    "\n",
    "Hint: `backward` method get gradient of previous backward step as input, it has to calculate gradient of weights and biases and save them in the class instance and return gradient of this step as output.\n"
   ]
  },
  {
   "cell_type": "code",
   "execution_count": 386,
   "id": "f6cecf1a",
   "metadata": {},
   "outputs": [],
   "source": [
    "class Layer:\n",
    "    def __init__(self, input_size, output_size, activation):\n",
    "        self.input_size = input_size\n",
    "        self.output_size = output_size\n",
    "        self.activation = activation\n",
    "\n",
    "        self.w = np.random.randn(output_size, input_size) * np.sqrt(2 / input_size)\n",
    "        self.b = np.zeros((output_size, 1))\n",
    "\n",
    "        # Leave these fields unchanged, Use them in forward and backward\n",
    "        self.z = None  # Output of transformation\n",
    "        self.a = None  # Output of activation\n",
    "        self.dw = None  # Gradient of weights\n",
    "        self.db = None  # Gradient of biases\n",
    "\n",
    "    def forward(self, x):\n",
    "        ###################################\n",
    "        ############ CODE HERE ############\n",
    "        ###################################\n",
    "        self.x=x\n",
    "        self.z=x@self.w.T+np.ones((x.shape[0],1)).dot(self.b.T)\n",
    "        self.a=self.activation.forward(self.z)\n",
    "        return self.a\n",
    "\n",
    "    def backward(self, upstream):\n",
    "        ###################################\n",
    "        ############ CODE HERE ############\n",
    "        ###################################\n",
    "        upstream=self.activation.backward(upstream)\n",
    "        self.dw = upstream.T.dot(self.x)\n",
    "        self.db= upstream.T.dot(np.ones((upstream.shape[0],1)))\n",
    "        self.dx = upstream.dot(self.w)\n",
    "        return self.dx\n",
    "\n",
    "    def update(self, lr):\n",
    "        self.w -= lr * self.dw\n",
    "        self.b -= lr * self.db\n",
    "\n",
    "    def __repr__(self) -> str:\n",
    "        return f\"Dense {self.input_size} -> {self.output_size} with {self.activation}\"\n",
    "\n",
    "    def __str__(self) -> str:\n",
    "        return self.__repr__()\n"
   ]
  },
  {
   "cell_type": "code",
   "execution_count": 387,
   "id": "e91ade6e",
   "metadata": {},
   "outputs": [],
   "source": [
    "# import copy\n",
    "# def check_gradient_linear(linear, h=0.00001):\n",
    "#     np.random.seed(121212)\n",
    "#     x = np.random.normal(size=(10, linear.input_size))\n",
    "#     upstream = np.random.random(size=(10, linear.output_size))\n",
    "\n",
    "#     new_x = x + h\n",
    "#     new_w = linear.w + h\n",
    "#     new_b = linear.b + h\n",
    "#     new_linear = copy.deepcopy(linear)\n",
    "#     new_linear.w = new_w\n",
    "#     new_linear.b = new_b\n",
    "#     new_val = new_linear.forward(new_x)\n",
    "#     old_val = linear.forward(x)\n",
    "#     delta_output = new_val - old_val\n",
    "#     delta_loss_indirect = np.sum(delta_output * upstream)\n",
    "\n",
    "#     linear.backward(upstream)\n",
    "#     delta_loss_direct = np.sum(h * linear.dx)\n",
    "#     delta_loss_direct += np.sum(h * linear.dw)\n",
    "#     delta_loss_direct += np.sum(h * linear.db)\n",
    "\n",
    "#     print(f'Gradient of loss w.r.t output:\\n{upstream}')\n",
    "#     print(f\"Gradient of loss w.r.t input:\\n{linear.dx}\")\n",
    "#     print(f\"Gradient of loss w.r.t W:\\n{linear.dw}\")\n",
    "#     print(f\"Gradient of loss w.r.t b:\\n{linear.db}\")\n",
    "#     print(f'Relative error of delta-loss (for linear unit):\\n{rel_error(delta_loss_indirect, delta_loss_direct)}')"
   ]
  },
  {
   "cell_type": "code",
   "execution_count": 273,
   "id": "14179531",
   "metadata": {},
   "outputs": [],
   "source": [
    "# linear = Layer(5, 10, LeakyReLU())\n",
    "# check_gradient_linear(linear, h=0.00001)"
   ]
  },
  {
   "cell_type": "markdown",
   "id": "e7767b08",
   "metadata": {},
   "source": [
    "## Data (2 Points)\n",
    "\n",
    "In cells below, we have implemented `Data` and `DataLoader` classes. Now you have to use these classes and load MNIST dataset on them. You have to normalize value of each pixel in way that it goes to interval of [0-1] and after that, shift the data in way that it get zero mean. You have to download MNIST data and you are not permitted to use libraries to load that data. You have to create two datasets: Train and Test.\n"
   ]
  },
  {
   "cell_type": "code",
   "execution_count": 366,
   "id": "9256fd93",
   "metadata": {},
   "outputs": [],
   "source": [
    "class Data:\n",
    "    def __init__(self, x, y):\n",
    "        self.x = x\n",
    "        self.y = y\n",
    "\n",
    "    def __len__(self):\n",
    "        return len(self.x)\n",
    "\n",
    "    def __getitem__(self, index):\n",
    "        return self.x[index], self.y[index]\n",
    "\n",
    "    def __iter__(self):\n",
    "        return iter(zip(self.x, self.y))\n"
   ]
  },
  {
   "cell_type": "code",
   "execution_count": 371,
   "id": "dafa1aa3",
   "metadata": {},
   "outputs": [],
   "source": [
    "class DataLoader:\n",
    "    def __init__(self, data, batch_size):\n",
    "        self.data = data\n",
    "        self.batch_size = batch_size\n",
    "\n",
    "    def __iter__(self):\n",
    "        for i in range(0, len(self.data), self.batch_size):\n",
    "            yield self.data[i : i + self.batch_size]\n"
   ]
  },
  {
   "cell_type": "code",
   "execution_count": 27,
   "id": "957ba5dc",
   "metadata": {},
   "outputs": [],
   "source": [
    "# A piece of code for converting the files into csv\n",
    "# def convert(imgf, labelf, outf, n):\n",
    "#     f = open(imgf, \"rb\")\n",
    "#     o = open(outf, \"w\")\n",
    "#     l = open(labelf, \"rb\")\n",
    "\n",
    "#     f.read(16)\n",
    "#     l.read(8)\n",
    "#     images = []\n",
    "\n",
    "#     for i in range(n):\n",
    "#         image = [ord(l.read(1))]\n",
    "#         for j in range(28*28):\n",
    "#             image.append(ord(f.read(1)))\n",
    "#         images.append(image)\n",
    "\n",
    "#     for image in images:\n",
    "#         o.write(\",\".join(str(pix) for pix in image)+\"\\n\")\n",
    "#     f.close()\n",
    "#     o.close()\n",
    "#     l.close()\n",
    "\n",
    "# convert(\"train-images.idx3-ubyte\", \"train-labels.idx1-ubyte\",\n",
    "#         \"mnist_train.csv\", 60000)\n",
    "# convert(\"t10k-images.idx3-ubyte\", \"t10k-labels.idx1-ubyte\",\n",
    "#         \"mnist_test.csv\", 10000)"
   ]
  },
  {
   "cell_type": "code",
   "execution_count": 28,
   "id": "8f2d9392",
   "metadata": {},
   "outputs": [
    {
     "name": "stdout",
     "output_type": "stream",
     "text": [
      "train_x shape is (60000, 784)\n",
      "Mean each train image pixels is zero\n",
      "test_x shape is (10000, 784)\n",
      "Mean each test image pixels is zero\n"
     ]
    }
   ],
   "source": [
    "###################################################\n",
    "########## Load MNIST Dataset, CODE HERE ##########\n",
    "###################################################\n",
    "#The MNIST data is now in csv format\n",
    "import pandas as pd\n",
    "train_df=pd.read_csv('mnist_train.csv',header=None)\n",
    "train_y=train_df[0].to_numpy()\n",
    "train_df.drop(0,axis=1,inplace=True)\n",
    "train_x=train_df.to_numpy().reshape((-1,28*28))\n",
    "print(f'train_x shape is {train_x.shape}')\n",
    "\n",
    "#Normalize\n",
    "train_x=np.divide(train_x,np.max(train_x,axis=1).reshape(-1,1)*np.ones((train_x.shape[0],train_x.shape[1])),casting='safe')\n",
    "train_x-=np.mean(train_x,axis=1).reshape(-1,1)*np.ones((train_x.shape[0],train_x.shape[1]))\n",
    "\n",
    "assert np.allclose(np.mean(train_x,axis=1),np.zeros(train_x.shape[0]))\n",
    "print('Mean each train image pixels is zero')\n",
    "\n",
    "test_df=pd.read_csv('mnist_test.csv',header=None)\n",
    "test_y=test_df[0].to_numpy()\n",
    "test_df.drop(0,axis=1,inplace=True)\n",
    "test_x=test_df.to_numpy().reshape((-1,28*28))\n",
    "print(f'test_x shape is {test_x.shape}')\n",
    "\n",
    "#Normalize\n",
    "test_x=np.divide(test_x,np.max(test_x,axis=1).reshape(-1,1)*np.ones((test_x.shape[0],test_x.shape[1])),casting='safe')\n",
    "test_x-=np.mean(test_x,axis=1).reshape(-1,1)*np.ones((test_x.shape[0],test_x.shape[1]))\n",
    "\n",
    "assert np.allclose(np.mean(test_x,axis=1),np.zeros(test_x.shape[0]))\n",
    "print('Mean each test image pixels is zero')\n",
    "\n",
    "train_data=Data(train_x,train_y)\n",
    "test_data=Data(test_x,test_y)\n",
    "batch_size=60\n",
    "train_data_loader=DataLoader(train_data,batch_size)\n",
    "test_data_loader=DataLoader(test_data,batch_size)"
   ]
  },
  {
   "cell_type": "code",
   "execution_count": 29,
   "id": "1e39819f",
   "metadata": {},
   "outputs": [
    {
     "name": "stdout",
     "output_type": "stream",
     "text": [
      "(60, 784)\n",
      "(60,)\n"
     ]
    }
   ],
   "source": [
    "for x in train_data_loader:\n",
    "    print(x[0].shape)\n",
    "    print(x[1].shape)\n",
    "    break"
   ]
  },
  {
   "cell_type": "markdown",
   "id": "e3198552",
   "metadata": {},
   "source": [
    "## Neural Network (4 Points)\n",
    "\n",
    "Now we are going to implement a neural network. You have to implement `forward`, `backward`, and `fit` functions.\n"
   ]
  },
  {
   "cell_type": "code",
   "execution_count": 388,
   "id": "386c2dc9",
   "metadata": {},
   "outputs": [],
   "source": [
    "class NeuralNetwork:\n",
    "    def __init__(self, layers, loss):\n",
    "        self.layers = layers\n",
    "        self.loss = loss\n",
    "\n",
    "    def forward(self, x):\n",
    "        ###################################\n",
    "        ############ CODE HERE ############\n",
    "        ###################################\n",
    "        out=None\n",
    "        self.x_shape=x.shape\n",
    "        for layer in self.layers:\n",
    "            if out is None:out=layer.forward(x)\n",
    "            else:out=layer.forward(out)\n",
    "        return out\n",
    "\n",
    "    def backward(self,upstream):\n",
    "        ###################################\n",
    "        ############ CODE HERE ############\n",
    "        ###################################\n",
    "        copy_layers=self.layers.copy()\n",
    "        copy_layers.reverse()\n",
    "        for layer in copy_layers:\n",
    "            upstream=layer.backward(upstream)\n",
    "        \n",
    "\n",
    "    def update(self, lr):\n",
    "        for layer in self.layers:\n",
    "            layer.update(lr)\n",
    "\n",
    "    def fit(self, data_loader, epochs, lr, batch_size=1):\n",
    "        ###################################\n",
    "        ############ CODE HERE ############\n",
    "        ###################################\n",
    "        data_loader.batch_size=batch_size\n",
    "        train_losses=[]\n",
    "        for epoch in range(epochs):\n",
    "            for i,batch in enumerate(data_loader):\n",
    "                x_batch=batch[0]\n",
    "                y_batch=batch[1]\n",
    "\n",
    "                y_pred=self.predict(x_batch)\n",
    "                loss_train=self.loss.forward(y_pred,y_batch)\n",
    "                train_losses.append(loss_train)\n",
    "                self.backward(self.loss.backward(np.ones((batch_size,1))))\n",
    "                self.update(lr)\n",
    "                if i%100==0:\n",
    "                    print(f'Batch: {i}/{len(data_loader.data)/data_loader.batch_size}, Loss: {loss_train}')\n",
    "        return train_losses\n",
    "                \n",
    "\n",
    "    def predict(self, x):\n",
    "        return self.forward(x)\n",
    "\n",
    "    def __repr__(self) -> str:\n",
    "        return \"\\n\".join([str(layer) for layer in self.layers])\n",
    "\n",
    "    def __str__(self) -> str:\n",
    "        return self.__repr__()\n"
   ]
  },
  {
   "cell_type": "markdown",
   "id": "5c086c4a",
   "metadata": {},
   "source": [
    "## Training Model (2 Points)\n",
    "\n",
    "Now, use your neural network to train a model to predict class of MNIST images."
   ]
  },
  {
   "cell_type": "code",
   "execution_count": 393,
   "id": "2f71ef53",
   "metadata": {},
   "outputs": [
    {
     "name": "stdout",
     "output_type": "stream",
     "text": [
      "Dense 784 -> 256 with Leaky ReLU\n",
      "Dense 256 -> 64 with Sigmoid\n",
      "Dense 64 -> 64 with Sigmoid\n",
      "Dense 64 -> 10 with LogSoftMax\n"
     ]
    }
   ],
   "source": [
    "########################################\n",
    "########## Train the Model #############\n",
    "########################################\n",
    "layers=[Layer(784,256,LeakyReLU()),\n",
    "        Layer(256,64,Sigmoid()),\n",
    "        Layer(64,64,Sigmoid()),\n",
    "        Layer(64,10,LogSoftMax())]\n",
    "loss=CrossEntropyLoss()\n",
    "nn=NeuralNetwork(layers,loss)\n",
    "print(nn)"
   ]
  },
  {
   "cell_type": "code",
   "execution_count": 394,
   "id": "28981937",
   "metadata": {},
   "outputs": [
    {
     "name": "stdout",
     "output_type": "stream",
     "text": [
      "Batch: 0/600.0, Loss: 260.6513868015703\n",
      "Batch: 100/600.0, Loss: 52.06486016149007\n",
      "Batch: 200/600.0, Loss: 75.40647879367525\n",
      "Batch: 300/600.0, Loss: 23.229322025001853\n",
      "Batch: 400/600.0, Loss: 29.223361181116992\n",
      "Batch: 500/600.0, Loss: 15.566231136156322\n",
      "Batch: 0/600.0, Loss: 15.680390443702349\n",
      "Batch: 100/600.0, Loss: 16.038926726550297\n",
      "Batch: 200/600.0, Loss: 15.320095018658426\n",
      "Batch: 300/600.0, Loss: 17.484458716373787\n",
      "Batch: 400/600.0, Loss: 11.483690618802038\n",
      "Batch: 500/600.0, Loss: 8.722614332666517\n",
      "Batch: 0/600.0, Loss: 8.923702280879628\n",
      "Batch: 100/600.0, Loss: 11.581962503794033\n",
      "Batch: 200/600.0, Loss: 9.87294230673329\n",
      "Batch: 300/600.0, Loss: 10.580531159062716\n",
      "Batch: 400/600.0, Loss: 7.637475199915145\n",
      "Batch: 500/600.0, Loss: 5.589312761638139\n"
     ]
    }
   ],
   "source": [
    "epochs=3\n",
    "lr=0.01\n",
    "train_losses=nn.fit(train_data_loader,epochs,lr,batch_size=100)"
   ]
  },
  {
   "cell_type": "markdown",
   "id": "1b236c25",
   "metadata": {},
   "source": [
    "## Loss Curve (1 Points)\n",
    "\n",
    "Plot curve of loss in each epoch. It should be an smooth descending function.\n"
   ]
  },
  {
   "cell_type": "code",
   "execution_count": 395,
   "id": "4408799a",
   "metadata": {},
   "outputs": [
    {
     "data": {
      "text/plain": [
       "[<matplotlib.lines.Line2D at 0x1ac108388d0>]"
      ]
     },
     "execution_count": 395,
     "metadata": {},
     "output_type": "execute_result"
    },
    {
     "data": {
      "image/png": "[encoded data removed]",
      "text/plain": [
       "<Figure size 640x480 with 1 Axes>"
      ]
     },
     "metadata": {},
     "output_type": "display_data"
    }
   ],
   "source": [
    "########################################\n",
    "########## Plot loss curve #############\n",
    "########################################\n",
    "import matplotlib.pyplot as plt\n",
    "plt.title('Loss curve')\n",
    "plt.ylabel('Loss')\n",
    "plt.xlabel('Epoch/Batch')\n",
    "plt.plot(np.arange(0,len(train_losses)),train_losses)"
   ]
  },
  {
   "cell_type": "markdown",
   "id": "524cc034",
   "metadata": {},
   "source": [
    "## Evaluation (1 Points)\n",
    "\n",
    "Now evaluate your model and measure how accurate is your model on both train and test datasets.\n"
   ]
  },
  {
   "cell_type": "code",
   "execution_count": 396,
   "id": "8720070c",
   "metadata": {},
   "outputs": [
    {
     "name": "stdout",
     "output_type": "stream",
     "text": [
      "Accuracy train is: 0.9819\n",
      "Accuracy test is: 0.9722\n"
     ]
    }
   ],
   "source": [
    "def accuracy(y_hat, y):\n",
    "    ###################################\n",
    "    ############ CODE HERE ############\n",
    "    ###################################\n",
    "    return np.mean(np.argmax(y_hat,axis=1)==y)\n",
    "# y_hat=np.array([[0.2,0.5,0.3],[0.6,0.1,0.3]])\n",
    "# y=np.array([1,0])\n",
    "# accuracy(y_hat,y)\n",
    "\n",
    "\n",
    "########################################\n",
    "########## Calculate accuracy ##########\n",
    "########################################\n",
    "print(f'Accuracy train is: {accuracy(nn.predict(train_x),train_y)}')\n",
    "print(f'Accuracy test is: {accuracy(nn.predict(test_x),test_y)}')   "
   ]
  },
  {
   "cell_type": "code",
   "execution_count": null,
   "id": "46381811",
   "metadata": {},
   "outputs": [],
   "source": []
  }
 ],
 "metadata": {
  "kernelspec": {
   "display_name": "Python 3 (ipykernel)",
   "language": "python",
   "name": "python3"
  },
  "language_info": {
   "codemirror_mode": {
    "name": "ipython",
    "version": 3
   },
   "file_extension": ".py",
   "mimetype": "text/x-python",
   "name": "python",
   "nbconvert_exporter": "python",
   "pygments_lexer": "ipython3",
   "version": "3.11.1"
  },
  "vscode": {
   "interpreter": {
    "hash": "aee8b7b246df8f9039afb4144a1f6fd8d2ca17a180786b69acc140d282b71a49"
   }
  }
 },
 "nbformat": 4,
 "nbformat_minor": 5
}
