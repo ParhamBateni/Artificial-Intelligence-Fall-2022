{
 "cells": [
  {
   "cell_type": "markdown",
   "metadata": {},
   "source": [
    "<center>\n",
    "In God We Trust\n",
    "</center>"
   ]
  },
  {
   "cell_type": "markdown",
   "metadata": {},
   "source": [
    "# CE417: Artificial Intelligence\n",
    "\n",
    "Dr. Mahdiyeh Soleymani Baghshah\n",
    "\n",
    "Computer Engineering Department,\n",
    "Sharif University of Technology,\n",
    "Tehran, Tehran, Iran\n"
   ]
  },
  {
   "cell_type": "markdown",
   "metadata": {},
   "source": [
    "## Adversarial Search (25 Points)\n",
    "\n",
    "HW3 :: Practical Question 1\n",
    "\n",
    "<br>\n",
    "\n",
    "Corresponding TA: Aryan Ahadinia, Saeed Hedayatiyan\n"
   ]
  },
  {
   "cell_type": "markdown",
   "metadata": {},
   "source": [
    "Consider the given $8\\times8$ board game. There are two players in this game and they try to block each other and limit their valid moves by making walls. Their moves are limited to the 8 cells (or less when they are around the edges) beside them and the walls will start to appear only when a player steps into a random generated yellow cell and the wall will continue to be built until the player reaches the next yellow cell. The players start the game at $(0, 0)$ and $(7, 7)$ and they keep playing until one of them loses. There are multiple ways for a player to win the match:\n",
    "\n",
    "- If a player steps into a wall or out of the board, the player loses the match!\n",
    "- If the players reach the maximum moves the game finishes and the winner would be chosen based on the maximum valid move they have left plus the number of walls they have made and \"No more moves\" massege will appear on terminal.\n",
    "- If the getMove() function does not return any value after 2 seconds, the player loses the match and \"Time limit exceeded\" massage will appear on terminal.\n",
    "\n",
    "<center>\n",
    "<img src=\"assets/Q3.png\" style=\"width: 50%\"/>\n",
    "</center>\n"
   ]
  },
  {
   "cell_type": "markdown",
   "metadata": {},
   "source": [
    "In this question, the codes for starting the game were provided for you in Helper-codes folder. You are expected to implement the MinimaxPlayer class (which inherit the Player class) with alpha-beta pruning."
   ]
  },
  {
   "cell_type": "code",
   "execution_count": 1,
   "metadata": {},
   "outputs": [
    {
     "name": "stdout",
     "output_type": "stream",
     "text": [
      "Collecting tk\n",
      "  Downloading tk-0.1.0-py3-none-any.whl (3.9 kB)\n",
      "Installing collected packages: tk\n",
      "Successfully installed tk-0.1.0\n",
      "Note: you may need to restart the kernel to use updated packages.\n"
     ]
    },
    {
     "name": "stderr",
     "output_type": "stream",
     "text": [
      "\n",
      "[notice] A new release of pip available: 22.2.2 -> 22.3.1\n",
      "[notice] To update, run: python.exe -m pip install --upgrade pip\n"
     ]
    }
   ],
   "source": [
    "%pip install tk"
   ]
  },
  {
   "cell_type": "code",
   "execution_count": 1,
   "metadata": {},
   "outputs": [],
   "source": [
    "import numpy as np\n",
    "import random\n",
    "import time\n",
    "\n",
    "from Helper_codes.graphics import *\n",
    "from Helper_codes.question3 import Cell\n",
    "from Helper_codes.question3 import IntPair\n",
    "from Helper_codes.question3 import Player\n",
    "from Helper_codes.question3 import NaivePlayer\n",
    "from Helper_codes.question3 import Board\n",
    "from Helper_codes.question3 import Game\n"
   ]
  },
  {
   "cell_type": "markdown",
   "metadata": {},
   "source": [
    "You can run cell below and watch two naive players."
   ]
  },
  {
   "cell_type": "code",
   "execution_count": 2,
   "metadata": {},
   "outputs": [
    {
     "name": "stdout",
     "output_type": "stream",
     "text": [
      "Player 2 has exceeded the time limit\n",
      "Player 1 has won\n",
      "\n",
      "1.0\n"
     ]
    }
   ],
   "source": [
    "p1 = NaivePlayer(1, 0, 0)\n",
    "p2 = NaivePlayer(2, 7, 7)\n",
    "\n",
    "g = Game(p1, p2)\n",
    "\n",
    "numberOfMatches = 1\n",
    "score1, score2 = g.start(numberOfMatches)\n",
    "\n",
    "print(score1 / numberOfMatches)\n"
   ]
  },
  {
   "cell_type": "code",
   "execution_count": 39,
   "metadata": {},
   "outputs": [],
   "source": [
    "from copy import deepcopy\n",
    "import time\n",
    "class MinimaxPlayer(Player):\n",
    "    def __init__(self, col, x, y, max_depth=4):\n",
    "        super().__init__(col, x, y)\n",
    "        self.max_depth = max_depth\n",
    "        self.t0=None\n",
    "\n",
    "    def get_neighbours_coordinates(self,board,player_col):\n",
    "        x=board.getPlayerX(player_col)\n",
    "        y=board.getPlayerY(player_col)\n",
    "        rival_col=1 if player_col==2 else 1\n",
    "        neighbours_coordinates=[]\n",
    "        for i in [-1,0,1]:\n",
    "            for j in [-1,0,1]:\n",
    "                if i==j==0:continue\n",
    "                x_neighbour=x+i\n",
    "                y_neighbour=y+j\n",
    "                if 0<=x_neighbour<board.getSize() and 0<=y_neighbour<board.getSize() \\\n",
    "                and board.getCell(x_neighbour,y_neighbour).getColor() not in [1,2] \\\n",
    "                and not(x_neighbour == board.getPlayerX(rival_col) and y_neighbour==board.getPlayerY(rival_col)):\n",
    "                    neighbours_coordinates.append(IntPair(x_neighbour,y_neighbour))\n",
    "        return neighbours_coordinates\n",
    "    def min_value(self, board, alpha, beta, depth):\n",
    "        rival_col=1 if self.getCol()==2 else 2\n",
    "        neighbours=self.get_neighbours_coordinates(board,rival_col)\n",
    "        if depth>=self.max_depth or not neighbours:\n",
    "            return board.getScore(self.getCol())-board.getScore(rival_col),IntPair(board.getPlayerX(rival_col),board.getPlayerY(rival_col))\n",
    "        \n",
    "        if time.time()-self.t0>2:\n",
    "            raise Exception('maximum time reached!')\n",
    "        best_val=float('inf')\n",
    "        best_move=None\n",
    "        \n",
    "        neighbours=self.get_neighbours_coordinates(board,rival_col)\n",
    "        for coordinate in neighbours:\n",
    "            copied_board=deepcopy(board)\n",
    "            copied_board.move(coordinate,rival_col)\n",
    "            val=self.max_value(copied_board,alpha,beta,depth+1)[0]\n",
    "            if val<best_val:\n",
    "                best_val=val\n",
    "                best_move=coordinate\n",
    "            beta=min(beta,val)\n",
    "            if beta<=alpha:\n",
    "                break\n",
    "        return best_val,best_move\n",
    "\n",
    "    def max_value(self, board, alpha, beta, depth):\n",
    "        temp_x,temp_y=self.getX(),self.getY()\n",
    "        neighbours=self.get_neighbours_coordinates(board,self.getCol())\n",
    "        rival_col=1 if self.getCol()==2 else 2\n",
    "        if depth>=self.max_depth or not neighbours:\n",
    "            return board.getScore(self.getCol())-board.getScore(rival_col),IntPair(self.getX(),self.getY())\n",
    "        \n",
    "        if time.time()-self.t0>2:\n",
    "            raise Exception('maximum time reached!')\n",
    "        best_val=float('-inf')\n",
    "        best_move=None\n",
    "        neighbours=self.get_neighbours_coordinates(board,self.getCol())\n",
    "        for coordinate in neighbours:\n",
    "            copied_board=deepcopy(board)\n",
    "            copied_board.move(coordinate,self.getCol())\n",
    "            self.setX(coordinate.x)\n",
    "            self.setY(coordinate.y)\n",
    "            val=self.min_value(copied_board,alpha,beta,depth+1)[0]\n",
    "            self.setX(temp_x)\n",
    "            self.setY(temp_y)\n",
    "            if val>best_val:\n",
    "                best_val=val\n",
    "                best_move=coordinate\n",
    "            alpha=max(alpha,val)\n",
    "            if beta<=alpha:\n",
    "                break\n",
    "        return best_val,best_move\n",
    "\n",
    "    def getMove(self, board):\n",
    "        self.t0=time.time()\n",
    "        if board.getNumberOfMoves() > board.maxNumberOfMoves:\n",
    "            return IntPair(20, 20)\n",
    "        if not self.get_neighbours_coordinates(board,self.getCol()):\n",
    "            return IntPair(-10, -10)\n",
    "        try:\n",
    "            neighbour = self.max_value(board, float('-inf'),float('inf'), 0)[1]\n",
    "            return neighbour\n",
    "        except:\n",
    "            return IntPair(-10, -10)\n",
    "        \n"
   ]
  },
  {
   "cell_type": "code",
   "execution_count": 40,
   "metadata": {},
   "outputs": [
    {
     "name": "stdout",
     "output_type": "stream",
     "text": [
      "No more moves!\n",
      "Player 1 has won\n",
      "score player 1: 36\n",
      "score player 2: 19\n",
      "\n",
      "1.0\n"
     ]
    }
   ],
   "source": [
    "p1 = MinimaxPlayer(1, 0, 0)\n",
    "p2 = NaivePlayer(2, 7, 7)\n",
    "\n",
    "g = Game(p1, p2)\n",
    "\n",
    "number_of_matches = 1\n",
    "score1, score2 = g.start(number_of_matches)\n",
    "\n",
    "print(score1 / number_of_matches)\n"
   ]
  },
  {
   "cell_type": "code",
   "execution_count": null,
   "metadata": {},
   "outputs": [],
   "source": []
  }
 ],
 "metadata": {
  "kernelspec": {
   "display_name": "Python 3 (ipykernel)",
   "language": "python",
   "name": "python3"
  },
  "language_info": {
   "codemirror_mode": {
    "name": "ipython",
    "version": 3
   },
   "file_extension": ".py",
   "mimetype": "text/x-python",
   "name": "python",
   "nbconvert_exporter": "python",
   "pygments_lexer": "ipython3",
   "version": "3.8.5"
  },
  "vscode": {
   "interpreter": {
    "hash": "aee8b7b246df8f9039afb4144a1f6fd8d2ca17a180786b69acc140d282b71a49"
   }
  }
 },
 "nbformat": 4,
 "nbformat_minor": 2
}
