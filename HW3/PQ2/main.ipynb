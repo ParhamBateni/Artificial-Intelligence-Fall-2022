{
 "cells": [
  {
   "cell_type": "markdown",
   "metadata": {},
   "source": [
    "<center>\n",
    "In God We Trust\n",
    "</center>"
   ]
  },
  {
   "cell_type": "markdown",
   "metadata": {},
   "source": [
    "# CE417: Artificial Intelligence\n",
    "\n",
    "Dr. Mahdiyeh Soleymani Baghshah\n",
    "\n",
    "Computer Engineering Department,\n",
    "Sharif University of Technology,\n",
    "Tehran, Tehran, Iran\n"
   ]
  },
  {
   "cell_type": "markdown",
   "metadata": {},
   "source": [
    "## Markov Decision Process (30 Points)\n",
    "\n",
    "HW3 :: Practical Question 2\n",
    "\n",
    "<br>\n",
    "\n",
    "Corresponding TA: Aryan Ahadinia, Saeed Hedayatiyan\n"
   ]
  },
  {
   "cell_type": "markdown",
   "metadata": {},
   "source": [
    "In this question, We're going to implement a generic MDP solver, so we can solve every question by passing transition and reward functions. We use an example to test our implementation but it's important to write MDP solver functions in a generic form. So it's important to maintain notebook structure and only write codes and comment in annotated areas."
   ]
  },
  {
   "cell_type": "markdown",
   "metadata": {},
   "source": [
    "### Modeling a Problem (5 Points)\n",
    "\n",
    "In a TV quiz show, there are several levels. At each level, if the participant answers the question correctly, they will receive some prize. If the participant's answer is wrong, they leave the competition empty-handed. Before each stage begins, the participant can decide whether to continue or withdraw and leave the game with the reward which they already earned.\n",
    "\n",
    "Beside states representing each level, There are three terminal states of Win, Lost and Quit in the game. Actions in each state are quit and play. The player will go to the quit state with probability of 1 if they decide to take action quit. otherwise they will pass the level i by probability of win_ratio[i] and go to the state which represents the next level.\n",
    "\n",
    "So the play / quit decision problem can be modeled as an MDP as below.\n",
    "\n",
    "<p align=\"center\">\n",
    "<image src=\"./assets/quiz_problem.png\">\n",
    "</p>\n",
    "\n",
    "Considering $100, $200, $300, $400 and $500 as rewards and 0.9, 0.7, 0.6, 0.3, 0.1 as win ratio for levels 0 to 4 respectively.\n",
    "\n",
    "Complete two cells below to model the problem as an MDP. Write levels and actions as an str.\n"
   ]
  },
  {
   "cell_type": "code",
   "execution_count": 1,
   "metadata": {},
   "outputs": [],
   "source": [
    "quiz_levels = ['Level0','Level1','Level2','Level3','Level4']\n",
    "quiz_terminals = ['Win','Lost','Quit']\n",
    "\n",
    "quiz_states = quiz_levels + quiz_terminals\n",
    "quiz_actions = ['Play','Quit']\n"
   ]
  },
  {
   "cell_type": "code",
   "execution_count": 2,
   "metadata": {},
   "outputs": [],
   "source": [
    "from typing import Callable\n",
    "from typing import List\n",
    "from typing import Tuple\n",
    "from typing import Union\n"
   ]
  },
  {
   "cell_type": "code",
   "execution_count": 28,
   "metadata": {},
   "outputs": [],
   "source": [
    "def quiz_transition(state: str, action: str, next_state: str) -> float:\n",
    "    # This function computes the probability of ending up at 'next_state' if we take 'action' from 'state'\n",
    "    # T(state,action,next_state)\n",
    "    condition=(state,action,next_state)\n",
    "    win_ratio=[0.9,0.7,0.6,0.3,0.1]\n",
    "    if action=='Play':\n",
    "        for i in range(5):\n",
    "            if condition==(f'Level{i}','Play',f'Level{i+1}'):\n",
    "                return win_ratio[i]\n",
    "            elif condition==(f'Level{i}','Play','Lost'):\n",
    "                return 1-win_ratio[i]\n",
    "        if condition==('Level4','Play','Win'):\n",
    "            return win_ratio[4]\n",
    "        return 0.0\n",
    "    elif action=='Quit':\n",
    "        for i in range(5):\n",
    "            if condition==(f'Level{i}','Quit','Quit'):\n",
    "                return 1.0\n",
    "        return 0.0\n",
    "    else:\n",
    "        return 0.0\n",
    "\n",
    "def quiz_reward(state: str, action: str, next_state: str) -> Union[float, int]:\n",
    "    # This function calculates the immediate reward for going from 'state' to 'next_state' using 'action'\n",
    "    # R(state,action,next_state)\n",
    "    condition=(state,action,next_state)\n",
    "    rewards=[100,200,300,400,500]\n",
    "    if action=='Play':\n",
    "        for i in range(5):\n",
    "            if condition==(f'Level{i}','Play','Lost'):\n",
    "                return -sum(rewards[:i])\n",
    "            elif condition==(f'Level{i}','Play',f'Level{i+1}'):\n",
    "                return 0\n",
    "        if condition==(f'Level4','Play','Win'):\n",
    "            return sum(rewards)\n",
    "    elif action=='Quit':\n",
    "        for i in range(5):\n",
    "            if condition==(f'Level{i}','Quit','Quit'):\n",
    "                return sum(rewards[:i])\n",
    "    return -99999\n"
   ]
  },
  {
   "cell_type": "markdown",
   "metadata": {},
   "source": [
    "### Value Iteration (10 Points)\n",
    "\n",
    "Now we want to implement a function which does the value iteration process. Consider that this function must be a generic function to all MDP problems. So any internal reference to global variables is forbidden.\n",
    "\n",
    "This function gets transition function, reward function, discounting factor (gamma), list of states, list of terminal states, list of all possible actions and current value of each state as input and must return two lists: (1) updated values of each state and (2) list of best action which can be taken in each state regarding current values.\n"
   ]
  },
  {
   "cell_type": "markdown",
   "metadata": {},
   "source": [
    "Bellman value iteration:\n",
    "$$V_{i+1}(state)=\\max_{action}\\sum_{next\\_state} {T(state,action,next\\_state)\\times (R(state,action,next\\_state)+\\gamma V_{i}(next\\_state))}\n",
    "$$\n",
    "\n",
    "Convergence condition:\n",
    "$$ \\max_{state}|V_{i+1}(state)-V_{i}(state)|<\\epsilon$$"
   ]
  },
  {
   "cell_type": "code",
   "execution_count": 29,
   "metadata": {},
   "outputs": [],
   "source": [
    "def mdp_iterate(\n",
    "    transition_function: Callable[[str, str, str], float],\n",
    "    reward_function: Callable[[str, str, str], float],\n",
    "    gamma: float,\n",
    "    states: List[str],\n",
    "    terminals: List[str],\n",
    "    actions: List[str],\n",
    "    current_values: List[Union[float, int]],\n",
    ") -> Tuple[List[Union[float, int]]]:\n",
    "    new_values = []\n",
    "    best_actions = []\n",
    "    for state in states:\n",
    "        if state in terminals:\n",
    "            new_values.append(0)\n",
    "            best_actions.append(None)\n",
    "            continue\n",
    "        best_action=None\n",
    "        best_value=float('-inf')\n",
    "        for action in actions:\n",
    "            V_new=0\n",
    "            V_new=sum(transition_function(state,action,next_state)*\\\n",
    "                        (reward_function(state,action,next_state)+gamma*current_values[states.index(next_state)])for next_state in states)\n",
    "            if V_new>best_value:\n",
    "                best_action=action\n",
    "                best_value=V_new\n",
    "        new_values.append(best_value)\n",
    "        best_actions.append(best_action)\n",
    "    return new_values, best_actions\n"
   ]
  },
  {
   "cell_type": "markdown",
   "metadata": {},
   "source": [
    "### MDP Solving (5 Points)\n",
    "\n",
    "Now write a function to use the iterative approach to calculate values of each state and solve the MDP problem.\n",
    "\n",
    "This function gets transition function, reward function, discounting factor (gamma), list of states, list of terminal states, list of all possible actions and number of iterations as input and must return a dictionary which maps states to best action can be taken. For example:\n",
    "\n",
    "```Python\n",
    "{\n",
    "    'S1': 'A1',\n",
    "    'S2': 'A2',\n",
    "    ...\n",
    "}\n",
    "```\n"
   ]
  },
  {
   "cell_type": "code",
   "execution_count": 46,
   "metadata": {},
   "outputs": [],
   "source": [
    "from typing import Dict\n",
    "\n",
    "\n",
    "def mdp_solve(\n",
    "    transition_function: Callable[[str, str, str], float],\n",
    "    reward_function: Callable[[str, str, str], float],\n",
    "    gamma: float,\n",
    "    states: List[str],\n",
    "    terminals: List[str],\n",
    "    actions: List[str],\n",
    "    iter: int,\n",
    ") -> Dict['str', 'str']:\n",
    "    current_values=[0]*len(states)\n",
    "    for _ in range(iter):\n",
    "        current_values,best_actions=mdp_iterate(transition_function,reward_function,gamma,states,terminals,actions,current_values)\n",
    "#         print(current_values)\n",
    "    return {state:action for (state,action) in zip(states,best_actions)}\n"
   ]
  },
  {
   "cell_type": "markdown",
   "metadata": {},
   "source": [
    "By now, running this code must solve the problem described above.\n"
   ]
  },
  {
   "cell_type": "code",
   "execution_count": 47,
   "metadata": {},
   "outputs": [
    {
     "data": {
      "text/plain": [
       "{'Level0': 'Play',\n",
       " 'Level1': 'Play',\n",
       " 'Level2': 'Quit',\n",
       " 'Level3': 'Quit',\n",
       " 'Level4': 'Quit',\n",
       " 'Win': None,\n",
       " 'Lost': None,\n",
       " 'Quit': None}"
      ]
     },
     "execution_count": 47,
     "metadata": {},
     "output_type": "execute_result"
    }
   ],
   "source": [
    "mdp_solve(\n",
    "    quiz_transition,\n",
    "    quiz_reward,\n",
    "    1,\n",
    "    quiz_states,\n",
    "    quiz_terminals,\n",
    "    quiz_actions,\n",
    "    1000,\n",
    ")\n"
   ]
  },
  {
   "cell_type": "markdown",
   "metadata": {},
   "source": [
    "### Analyzing effect of discounting factor (10 Points)"
   ]
  },
  {
   "cell_type": "markdown",
   "metadata": {},
   "source": [
    "Now, solve the problem for different values of discounting factor. Then draw a plot to show how increasing discounting factor effect on best decision that should be take. Then write a paragraph about the result."
   ]
  },
  {
   "cell_type": "code",
   "execution_count": 43,
   "metadata": {},
   "outputs": [
    {
     "data": {
      "image/png": "[encoded data removed]",
      "text/plain": [
       "<Figure size 1440x1440 with 5 Axes>"
      ]
     },
     "metadata": {
      "needs_background": "light"
     },
     "output_type": "display_data"
    }
   ],
   "source": [
    "import matplotlib.pyplot as plt\n",
    "import numpy as np\n",
    "count_factors=100\n",
    "discounting_factors=np.arange(4*count_factors)/count_factors\n",
    "Level0_actions=[]\n",
    "Level1_actions=[]\n",
    "Level2_actions=[]\n",
    "Level3_actions=[]\n",
    "Level4_actions=[]\n",
    "for gamma in discounting_factors:\n",
    "    ans=mdp_solve(quiz_transition,quiz_reward,gamma,quiz_states,quiz_terminals,quiz_actions,5)\n",
    "    Level0_actions.append(ans['Level0'])\n",
    "    Level1_actions.append(ans['Level1'])\n",
    "    Level2_actions.append(ans['Level2'])\n",
    "    Level3_actions.append(ans['Level3'])\n",
    "    Level4_actions.append(ans['Level4'])\n",
    "Levels_actions=[Level0_actions,Level1_actions,Level2_actions,Level3_actions,Level4_actions]\n",
    "plt.figure(figsize=(20,20))\n",
    "for i in range(5):\n",
    "    plt.subplot(2,3,i+1)\n",
    "    plt.plot(discounting_factors,Levels_actions[i],color='red',linestyle='--')\n",
    "    plt.xlabel('Discounting factor')\n",
    "    plt.ylabel('Action')\n",
    "    plt.title(f'Level {i} Action vs Discounting factor')\n",
    "    \n"
   ]
  },
  {
   "cell_type": "markdown",
   "metadata": {},
   "source": [
    "Generally speaking discounting factor defines the importance of rewards which are going to be seen in the future.\n",
    "The more gamma is the more it is important to get the results in the future and if gamma is too low then it means\n",
    "we prefer near rewards to rewards in the future.\n",
    "A glance at the provided plots reveals this fact too. With discounting factors being almost less than 0.6, the best policy is to just play to Level 1 and then quit because we would prefer rewards now.\n",
    "When the discounting factor increases to 1.3 we somehow prefer rewards in the future so we play in Level 2 too and then \n",
    "in Level 3 we quit. And Finally when the discounting factor reaches 3.4 we play until Level 3 and the we quit.\n",
    "Note that no matter how big is the discounting factor we quit in Level 4 because it leads to a terminal state anyway\n",
    "and gamma doesn't effect the action at all since the value for the next state which is terminal is zero and because the\n",
    "expectation of the prize we get if quit is bigger than the expectation if we play we decide to quit in this level.\n",
    "\n",
    "### Note 1\n",
    "Normally we have the following statement for $\\gamma$:\n",
    "$$0\\leq \\gamma \\leq 1$$\n",
    "But in this part we assumed that it could be more than 1 meaning that the future rewards have more value than the near\n",
    "rewards, so we can better see the effect of this parameter on the final policy.\n",
    "\n",
    "### Note 2\n",
    "Value iteration algorithm for this particular game converges really quickly (after 3 iterations)\n",
    "The reason is that there are no cycles in the states diagram.\n",
    "So in line 11 we set the iter input of the mdp_solve function equal to 5."
   ]
  },
  {
   "cell_type": "code",
   "execution_count": null,
   "metadata": {},
   "outputs": [],
   "source": []
  }
 ],
 "metadata": {
  "kernelspec": {
   "display_name": "Python 3 (ipykernel)",
   "language": "python",
   "name": "python3"
  },
  "language_info": {
   "codemirror_mode": {
    "name": "ipython",
    "version": 3
   },
   "file_extension": ".py",
   "mimetype": "text/x-python",
   "name": "python",
   "nbconvert_exporter": "python",
   "pygments_lexer": "ipython3",
   "version": "3.8.5"
  },
  "vscode": {
   "interpreter": {
    "hash": "aee8b7b246df8f9039afb4144a1f6fd8d2ca17a180786b69acc140d282b71a49"
   }
  }
 },
 "nbformat": 4,
 "nbformat_minor": 2
}
